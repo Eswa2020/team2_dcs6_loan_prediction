{
  "nbformat": 4,
  "nbformat_minor": 0,
  "metadata": {
    "colab": {
      "name": "Copy of Loans.ipynb",
      "provenance": [],
      "collapsed_sections": [
        "L4TO2AKGGRd2"
      ],
      "toc_visible": true,
      "include_colab_link": true
    },
    "kernelspec": {
      "display_name": "Python 3",
      "name": "python3"
    }
  },
  "cells": [
    {
      "cell_type": "markdown",
      "metadata": {
        "id": "view-in-github",
        "colab_type": "text"
      },
      "source": [
        "<a href=\"https://colab.research.google.com/github/draglar/team2_dcs6_loan_prediction/blob/main/Copy_of_Loans.ipynb\" target=\"_parent\"><img src=\"https://colab.research.google.com/assets/colab-badge.svg\" alt=\"Open In Colab\"/></a>"
      ]
    },
    {
      "cell_type": "markdown",
      "metadata": {
        "id": "BbUg6Gqi1bHg"
      },
      "source": [
        "## <font color=”green”> Importing libraries </font>"
      ]
    },
    {
      "cell_type": "code",
      "metadata": {
        "colab": {
          "background_save": true
        },
        "id": "GSBXXCRrXTPE"
      },
      "source": [
        "import pandas as pd\n",
        "import numpy as np\n",
        "import matplotlib.pyplot as plt\n",
        "import seaborn as sns\n",
        "import plotly.express as px\n",
        "from sklearn.preprocessing import LabelEncoder\n",
        "le = LabelEncoder()\n",
        "import matplotlib.pyplot as plt\n",
        "from mpl_toolkits.mplot3d import Axes3D\n",
        "\n",
        "import warnings\n",
        "from pandas.core.common import SettingWithCopyWarning\n",
        "warnings.simplefilter(action=\"ignore\", category=SettingWithCopyWarning)"
      ],
      "execution_count": null,
      "outputs": []
    },
    {
      "cell_type": "markdown",
      "metadata": {
        "id": "4VCxQC8RYgps"
      },
      "source": [
        "## <font color=”green”> Loading dataset </font>"
      ]
    },
    {
      "cell_type": "code",
      "metadata": {
        "colab": {
          "background_save": true
        },
        "id": "zGPKdLkLYjgd"
      },
      "source": [
        "loans = pd.read_csv('train_dataset.csv')\n",
        "# test = pd.read_csv('test_dataset.csv')"
      ],
      "execution_count": null,
      "outputs": []
    },
    {
      "cell_type": "markdown",
      "metadata": {
        "id": "cWyirEeSZSfk"
      },
      "source": [
        "## <font color=”green”>Exploring our Dataset  </font>"
      ]
    },
    {
      "cell_type": "code",
      "metadata": {
        "id": "UdIljPp4DRQQ"
      },
      "source": [
        ""
      ],
      "execution_count": null,
      "outputs": []
    },
    {
      "cell_type": "code",
      "metadata": {
        "colab": {
          "background_save": true,
          "base_uri": "https://localhost:8080/",
          "height": 291
        },
        "id": "_s-W2SYKZUEC",
        "outputId": "e190a7cb-569b-4708-84dc-2ecc2333937c"
      },
      "source": [
        "loans.head()"
      ],
      "execution_count": null,
      "outputs": [
        {
          "output_type": "execute_result",
          "data": {
            "text/html": [
              "<div>\n",
              "<style scoped>\n",
              "    .dataframe tbody tr th:only-of-type {\n",
              "        vertical-align: middle;\n",
              "    }\n",
              "\n",
              "    .dataframe tbody tr th {\n",
              "        vertical-align: top;\n",
              "    }\n",
              "\n",
              "    .dataframe thead th {\n",
              "        text-align: right;\n",
              "    }\n",
              "</style>\n",
              "<table border=\"1\" class=\"dataframe\">\n",
              "  <thead>\n",
              "    <tr style=\"text-align: right;\">\n",
              "      <th></th>\n",
              "      <th>Loan_ID</th>\n",
              "      <th>Loan_Amount_Requested</th>\n",
              "      <th>Length_Employed</th>\n",
              "      <th>Home_Owner</th>\n",
              "      <th>Annual_Income</th>\n",
              "      <th>Income_Verified</th>\n",
              "      <th>Purpose_Of_Loan</th>\n",
              "      <th>Debt_To_Income</th>\n",
              "      <th>Inquiries_Last_6Mo</th>\n",
              "      <th>Months_Since_Deliquency</th>\n",
              "      <th>Number_Open_Accounts</th>\n",
              "      <th>Total_Accounts</th>\n",
              "      <th>Gender</th>\n",
              "      <th>Interest_Rate</th>\n",
              "    </tr>\n",
              "  </thead>\n",
              "  <tbody>\n",
              "    <tr>\n",
              "      <th>0</th>\n",
              "      <td>10000001</td>\n",
              "      <td>7,000</td>\n",
              "      <td>&lt; 1 year</td>\n",
              "      <td>Rent</td>\n",
              "      <td>68000.0</td>\n",
              "      <td>not verified</td>\n",
              "      <td>car</td>\n",
              "      <td>18.37</td>\n",
              "      <td>0</td>\n",
              "      <td>NaN</td>\n",
              "      <td>9</td>\n",
              "      <td>14</td>\n",
              "      <td>Female</td>\n",
              "      <td>1</td>\n",
              "    </tr>\n",
              "    <tr>\n",
              "      <th>1</th>\n",
              "      <td>10000002</td>\n",
              "      <td>30,000</td>\n",
              "      <td>4 years</td>\n",
              "      <td>Mortgage</td>\n",
              "      <td>NaN</td>\n",
              "      <td>VERIFIED - income</td>\n",
              "      <td>debt_consolidation</td>\n",
              "      <td>14.93</td>\n",
              "      <td>0</td>\n",
              "      <td>17.0</td>\n",
              "      <td>12</td>\n",
              "      <td>24</td>\n",
              "      <td>Female</td>\n",
              "      <td>3</td>\n",
              "    </tr>\n",
              "    <tr>\n",
              "      <th>2</th>\n",
              "      <td>10000003</td>\n",
              "      <td>24,725</td>\n",
              "      <td>7 years</td>\n",
              "      <td>Mortgage</td>\n",
              "      <td>75566.4</td>\n",
              "      <td>VERIFIED - income source</td>\n",
              "      <td>debt_consolidation</td>\n",
              "      <td>15.88</td>\n",
              "      <td>0</td>\n",
              "      <td>NaN</td>\n",
              "      <td>12</td>\n",
              "      <td>16</td>\n",
              "      <td>Male</td>\n",
              "      <td>3</td>\n",
              "    </tr>\n",
              "    <tr>\n",
              "      <th>3</th>\n",
              "      <td>10000004</td>\n",
              "      <td>16,000</td>\n",
              "      <td>&lt; 1 year</td>\n",
              "      <td>NaN</td>\n",
              "      <td>56160.0</td>\n",
              "      <td>VERIFIED - income source</td>\n",
              "      <td>debt_consolidation</td>\n",
              "      <td>14.34</td>\n",
              "      <td>3</td>\n",
              "      <td>NaN</td>\n",
              "      <td>16</td>\n",
              "      <td>22</td>\n",
              "      <td>Male</td>\n",
              "      <td>3</td>\n",
              "    </tr>\n",
              "    <tr>\n",
              "      <th>4</th>\n",
              "      <td>10000005</td>\n",
              "      <td>17,000</td>\n",
              "      <td>8 years</td>\n",
              "      <td>Own</td>\n",
              "      <td>96000.0</td>\n",
              "      <td>VERIFIED - income source</td>\n",
              "      <td>debt_consolidation</td>\n",
              "      <td>22.17</td>\n",
              "      <td>1</td>\n",
              "      <td>NaN</td>\n",
              "      <td>19</td>\n",
              "      <td>30</td>\n",
              "      <td>Female</td>\n",
              "      <td>1</td>\n",
              "    </tr>\n",
              "  </tbody>\n",
              "</table>\n",
              "</div>"
            ],
            "text/plain": [
              "    Loan_ID Loan_Amount_Requested  ...  Gender Interest_Rate\n",
              "0  10000001                 7,000  ...  Female             1\n",
              "1  10000002                30,000  ...  Female             3\n",
              "2  10000003                24,725  ...    Male             3\n",
              "3  10000004                16,000  ...    Male             3\n",
              "4  10000005                17,000  ...  Female             1\n",
              "\n",
              "[5 rows x 14 columns]"
            ]
          },
          "metadata": {
            "tags": []
          },
          "execution_count": 0
        }
      ]
    },
    {
      "cell_type": "code",
      "metadata": {
        "colab": {
          "background_save": true,
          "base_uri": "https://localhost:8080/",
          "height": 291
        },
        "id": "43Eq4iCh3ZM_",
        "outputId": "5e5be220-528e-4f62-ef4a-3c0380f64bc8"
      },
      "source": [
        "loans.tail()"
      ],
      "execution_count": null,
      "outputs": [
        {
          "output_type": "execute_result",
          "data": {
            "text/html": [
              "<div>\n",
              "<style scoped>\n",
              "    .dataframe tbody tr th:only-of-type {\n",
              "        vertical-align: middle;\n",
              "    }\n",
              "\n",
              "    .dataframe tbody tr th {\n",
              "        vertical-align: top;\n",
              "    }\n",
              "\n",
              "    .dataframe thead th {\n",
              "        text-align: right;\n",
              "    }\n",
              "</style>\n",
              "<table border=\"1\" class=\"dataframe\">\n",
              "  <thead>\n",
              "    <tr style=\"text-align: right;\">\n",
              "      <th></th>\n",
              "      <th>Loan_ID</th>\n",
              "      <th>Loan_Amount_Requested</th>\n",
              "      <th>Length_Employed</th>\n",
              "      <th>Home_Owner</th>\n",
              "      <th>Annual_Income</th>\n",
              "      <th>Income_Verified</th>\n",
              "      <th>Purpose_Of_Loan</th>\n",
              "      <th>Debt_To_Income</th>\n",
              "      <th>Inquiries_Last_6Mo</th>\n",
              "      <th>Months_Since_Deliquency</th>\n",
              "      <th>Number_Open_Accounts</th>\n",
              "      <th>Total_Accounts</th>\n",
              "      <th>Gender</th>\n",
              "      <th>Interest_Rate</th>\n",
              "    </tr>\n",
              "  </thead>\n",
              "  <tbody>\n",
              "    <tr>\n",
              "      <th>164304</th>\n",
              "      <td>10164305</td>\n",
              "      <td>20,725</td>\n",
              "      <td>10+ years</td>\n",
              "      <td>Rent</td>\n",
              "      <td>NaN</td>\n",
              "      <td>VERIFIED - income source</td>\n",
              "      <td>credit_card</td>\n",
              "      <td>13.56</td>\n",
              "      <td>0</td>\n",
              "      <td>NaN</td>\n",
              "      <td>13</td>\n",
              "      <td>16</td>\n",
              "      <td>Male</td>\n",
              "      <td>2</td>\n",
              "    </tr>\n",
              "    <tr>\n",
              "      <th>164305</th>\n",
              "      <td>10164306</td>\n",
              "      <td>6,000</td>\n",
              "      <td>8 years</td>\n",
              "      <td>Own</td>\n",
              "      <td>NaN</td>\n",
              "      <td>VERIFIED - income source</td>\n",
              "      <td>small_business</td>\n",
              "      <td>9.12</td>\n",
              "      <td>0</td>\n",
              "      <td>36.0</td>\n",
              "      <td>13</td>\n",
              "      <td>30</td>\n",
              "      <td>Male</td>\n",
              "      <td>2</td>\n",
              "    </tr>\n",
              "    <tr>\n",
              "      <th>164306</th>\n",
              "      <td>10164307</td>\n",
              "      <td>20,250</td>\n",
              "      <td>10+ years</td>\n",
              "      <td>Mortgage</td>\n",
              "      <td>NaN</td>\n",
              "      <td>VERIFIED - income</td>\n",
              "      <td>credit_card</td>\n",
              "      <td>18.17</td>\n",
              "      <td>1</td>\n",
              "      <td>NaN</td>\n",
              "      <td>17</td>\n",
              "      <td>30</td>\n",
              "      <td>Male</td>\n",
              "      <td>1</td>\n",
              "    </tr>\n",
              "    <tr>\n",
              "      <th>164307</th>\n",
              "      <td>10164308</td>\n",
              "      <td>10,000</td>\n",
              "      <td>4 years</td>\n",
              "      <td>Rent</td>\n",
              "      <td>NaN</td>\n",
              "      <td>not verified</td>\n",
              "      <td>major_purchase</td>\n",
              "      <td>18.75</td>\n",
              "      <td>1</td>\n",
              "      <td>48.0</td>\n",
              "      <td>16</td>\n",
              "      <td>62</td>\n",
              "      <td>Female</td>\n",
              "      <td>3</td>\n",
              "    </tr>\n",
              "    <tr>\n",
              "      <th>164308</th>\n",
              "      <td>10164309</td>\n",
              "      <td>9,250</td>\n",
              "      <td>10+ years</td>\n",
              "      <td>Rent</td>\n",
              "      <td>NaN</td>\n",
              "      <td>VERIFIED - income</td>\n",
              "      <td>credit_card</td>\n",
              "      <td>19.44</td>\n",
              "      <td>1</td>\n",
              "      <td>NaN</td>\n",
              "      <td>5</td>\n",
              "      <td>9</td>\n",
              "      <td>Female</td>\n",
              "      <td>2</td>\n",
              "    </tr>\n",
              "  </tbody>\n",
              "</table>\n",
              "</div>"
            ],
            "text/plain": [
              "         Loan_ID Loan_Amount_Requested  ...  Gender Interest_Rate\n",
              "164304  10164305                20,725  ...    Male             2\n",
              "164305  10164306                 6,000  ...    Male             2\n",
              "164306  10164307                20,250  ...    Male             1\n",
              "164307  10164308                10,000  ...  Female             3\n",
              "164308  10164309                 9,250  ...  Female             2\n",
              "\n",
              "[5 rows x 14 columns]"
            ]
          },
          "metadata": {
            "tags": []
          },
          "execution_count": 0
        }
      ]
    },
    {
      "cell_type": "code",
      "metadata": {
        "colab": {
          "background_save": true,
          "base_uri": "https://localhost:8080/"
        },
        "id": "ihcfN7ZwZWnX",
        "outputId": "b5562231-660c-4b4e-cf1d-ac98bbca9f23"
      },
      "source": [
        "loans.shape"
      ],
      "execution_count": null,
      "outputs": [
        {
          "output_type": "execute_result",
          "data": {
            "text/plain": [
              "(164309, 14)"
            ]
          },
          "metadata": {
            "tags": []
          },
          "execution_count": 0
        }
      ]
    },
    {
      "cell_type": "code",
      "metadata": {
        "colab": {
          "background_save": true,
          "base_uri": "https://localhost:8080/"
        },
        "id": "a3TByIG664IG",
        "outputId": "4708937e-0bdf-453f-c3b4-639f48c401ed"
      },
      "source": [
        "loans.duplicated().sum()"
      ],
      "execution_count": null,
      "outputs": [
        {
          "output_type": "execute_result",
          "data": {
            "text/plain": [
              "0"
            ]
          },
          "metadata": {
            "tags": []
          },
          "execution_count": 0
        }
      ]
    },
    {
      "cell_type": "markdown",
      "metadata": {
        "id": "28c0UP6pisf3"
      },
      "source": [
        "> no duplicate values"
      ]
    },
    {
      "cell_type": "code",
      "metadata": {
        "colab": {
          "background_save": true,
          "base_uri": "https://localhost:8080/"
        },
        "id": "_DrSw7FOZjQP",
        "outputId": "efae6523-37f0-4ab7-e1c0-334784f20a6b"
      },
      "source": [
        "loans.isna().sum()"
      ],
      "execution_count": null,
      "outputs": [
        {
          "output_type": "execute_result",
          "data": {
            "text/plain": [
              "Loan_ID                        0\n",
              "Loan_Amount_Requested          0\n",
              "Length_Employed             7371\n",
              "Home_Owner                 25349\n",
              "Annual_Income              25102\n",
              "Income_Verified                0\n",
              "Purpose_Of_Loan                0\n",
              "Debt_To_Income                 0\n",
              "Inquiries_Last_6Mo             0\n",
              "Months_Since_Deliquency    88379\n",
              "Number_Open_Accounts           0\n",
              "Total_Accounts                 0\n",
              "Gender                         0\n",
              "Interest_Rate                  0\n",
              "dtype: int64"
            ]
          },
          "metadata": {
            "tags": []
          },
          "execution_count": 0
        }
      ]
    },
    {
      "cell_type": "markdown",
      "metadata": {
        "id": "vBXONyIMZ8gV"
      },
      "source": [
        "> There is a lot of null values in the dataset but cannot be dropped.\n",
        "\n",
        "* Length employed <- Some borrowers may have not been previously employed, thats why there are null values\n",
        "* Home owner <- Others can be living with family and friends.\n",
        "* Annual Income <- Some borrowers may have not been previously employed or some may not have a ligitimate source of income or 😅 they are politicians ... etc\n",
        "* Months since deliquency <-  In a financial sense, delinquency occurs as soon as a borrower misses a payment on a loan. In contrast, default occurs when a borrower fails to repay the loan as specified in the original contract"
      ]
    },
    {
      "cell_type": "code",
      "metadata": {
        "colab": {
          "background_save": true,
          "base_uri": "https://localhost:8080/"
        },
        "id": "YPMCNgBdD7ut",
        "outputId": "3e8b194e-ddea-4a7b-c7dd-2a4d891f2f57"
      },
      "source": [
        "loans.dtypes"
      ],
      "execution_count": null,
      "outputs": [
        {
          "output_type": "execute_result",
          "data": {
            "text/plain": [
              "Loan_ID                      int64\n",
              "Loan_Amount_Requested       object\n",
              "Length_Employed             object\n",
              "Home_Owner                  object\n",
              "Annual_Income              float64\n",
              "Income_Verified             object\n",
              "Purpose_Of_Loan             object\n",
              "Debt_To_Income             float64\n",
              "Inquiries_Last_6Mo           int64\n",
              "Months_Since_Deliquency    float64\n",
              "Number_Open_Accounts         int64\n",
              "Total_Accounts               int64\n",
              "Gender                      object\n",
              "Interest_Rate                int64\n",
              "dtype: object"
            ]
          },
          "metadata": {
            "tags": []
          },
          "execution_count": 0
        }
      ]
    },
    {
      "cell_type": "markdown",
      "metadata": {
        "id": "IBOBHQKfkMn7"
      },
      "source": [
        "> Our datatypes is comprised of both intergers and strings"
      ]
    },
    {
      "cell_type": "markdown",
      "metadata": {
        "id": "eviLdi907xIQ"
      },
      "source": [
        "#### <font color=”green”>Cleaning our Dataset  </font>"
      ]
    },
    {
      "cell_type": "markdown",
      "metadata": {
        "id": "rHX6MqGEkFI8"
      },
      "source": [
        "**Loan amount requested**"
      ]
    },
    {
      "cell_type": "code",
      "metadata": {
        "colab": {
          "background_save": true
        },
        "id": "YMRTWSqeGEZI"
      },
      "source": [
        "loans['Loan_Amount_Requested'] = loans['Loan_Amount_Requested'].str.replace(',', '')\n",
        "loans['Loan_Amount_Requested'] = loans['Loan_Amount_Requested'].astype('int')"
      ],
      "execution_count": null,
      "outputs": []
    },
    {
      "cell_type": "markdown",
      "metadata": {
        "id": "Q24ZPmFKlN55"
      },
      "source": [
        "> Loan_Amount_Requested had commas and had to be replaced"
      ]
    },
    {
      "cell_type": "markdown",
      "metadata": {
        "id": "zD4FuNbiuggI"
      },
      "source": [
        "**Lenght employed**"
      ]
    },
    {
      "cell_type": "code",
      "metadata": {
        "colab": {
          "background_save": true
        },
        "id": "bROg0yIx61aL"
      },
      "source": [
        "le = loans['Length_Employed']"
      ],
      "execution_count": null,
      "outputs": []
    },
    {
      "cell_type": "code",
      "metadata": {
        "colab": {
          "background_save": true,
          "base_uri": "https://localhost:8080/"
        },
        "id": "gMPKF3TEOYlM",
        "outputId": "ed8e62c0-a8f5-4c88-c476-69adb049e82f"
      },
      "source": [
        "le.unique()"
      ],
      "execution_count": null,
      "outputs": [
        {
          "output_type": "execute_result",
          "data": {
            "text/plain": [
              "array(['< 1 year', '4 years', '7 years', '8 years', '2 years',\n",
              "       '10+ years', '1 year', nan, '6 years', '9 years', '3 years',\n",
              "       '5 years'], dtype=object)"
            ]
          },
          "metadata": {
            "tags": []
          },
          "execution_count": 0
        }
      ]
    },
    {
      "cell_type": "code",
      "metadata": {
        "colab": {
          "background_save": true
        },
        "id": "JIsedNCwOnie"
      },
      "source": [
        "le[le=='< 1 year'] = '0 years'\n",
        "le.fillna('0 years', inplace=True)"
      ],
      "execution_count": null,
      "outputs": []
    },
    {
      "cell_type": "markdown",
      "metadata": {
        "id": "IhnIZ2SoIegl"
      },
      "source": [
        "> We combined those who did not give their time employed and those who had 0 to 1 year of employment time"
      ]
    },
    {
      "cell_type": "code",
      "metadata": {
        "colab": {
          "background_save": true
        },
        "id": "4HY9YjC__aLi"
      },
      "source": [
        "lef = le.str.replace('years','').str.replace('year','').str.replace('<','').str.replace('+','').str.replace(' ','')"
      ],
      "execution_count": null,
      "outputs": []
    },
    {
      "cell_type": "markdown",
      "metadata": {
        "id": "RtqP31yxnj1M"
      },
      "source": [
        "> We then removed the strings in the column leaving only the integers"
      ]
    },
    {
      "cell_type": "code",
      "metadata": {
        "colab": {
          "background_save": true
        },
        "id": "PJMTKQLzujjy"
      },
      "source": [
        "loans['Length_Employed']=lef.astype('int')"
      ],
      "execution_count": null,
      "outputs": []
    },
    {
      "cell_type": "markdown",
      "metadata": {
        "id": "Jsoa652V57bM"
      },
      "source": [
        "**Home owner**"
      ]
    },
    {
      "cell_type": "code",
      "metadata": {
        "colab": {
          "background_save": true,
          "base_uri": "https://localhost:8080/"
        },
        "id": "chB5Yy-o57bQ",
        "outputId": "a4351901-a906-4aa5-ab0c-4cc3398d0894"
      },
      "source": [
        "own = loans['Home_Owner']\n",
        "own.value_counts()"
      ],
      "execution_count": null,
      "outputs": [
        {
          "output_type": "execute_result",
          "data": {
            "text/plain": [
              "Mortgage    70345\n",
              "Rent        56031\n",
              "Own         12525\n",
              "Other          49\n",
              "None           10\n",
              "Name: Home_Owner, dtype: int64"
            ]
          },
          "metadata": {
            "tags": []
          },
          "execution_count": 0
        }
      ]
    },
    {
      "cell_type": "code",
      "metadata": {
        "colab": {
          "background_save": true
        },
        "id": "X3aAhHOAqkGr"
      },
      "source": [
        "loans['Home_Owner']=own.fillna('Other')"
      ],
      "execution_count": null,
      "outputs": []
    },
    {
      "cell_type": "markdown",
      "metadata": {
        "id": "V2C_6Ek357zA"
      },
      "source": [
        "**Annual_Income**"
      ]
    },
    {
      "cell_type": "code",
      "metadata": {
        "colab": {
          "background_save": true,
          "base_uri": "https://localhost:8080/"
        },
        "id": "B-JwTLLclaoX",
        "outputId": "5f278837-59df-487e-d637-758f4997a610"
      },
      "source": [
        "loans['Annual_Income'].mean()"
      ],
      "execution_count": null,
      "outputs": [
        {
          "output_type": "execute_result",
          "data": {
            "text/plain": [
              "73331.15943386468"
            ]
          },
          "metadata": {
            "tags": []
          },
          "execution_count": 0
        }
      ]
    },
    {
      "cell_type": "code",
      "metadata": {
        "colab": {
          "background_save": true,
          "base_uri": "https://localhost:8080/"
        },
        "id": "mD1Bg4XRa1xN",
        "outputId": "c5957052-f7da-4019-8132-c868dc54f474"
      },
      "source": [
        "import tqdm\n",
        "def fix(dfr):\n",
        "  na=dfr['Annual_Income'][dfr['Annual_Income'].isna()==True].index\n",
        "  # df=pd.concat([train,test])\n",
        "  for ind in tqdm.tqdm(na):\n",
        "    # ind=dfr['Age'].index\n",
        "    purpose     =dfr['Purpose_Of_Loan'].iloc[ind]\n",
        "    gender      =dfr['Gender'].iloc[ind]\n",
        "    debt_income =dfr['Debt_To_Income'].iloc[ind]\n",
        "    mn=(dfr['Annual_Income'][(dfr['Purpose_Of_Loan']==purpose) & \n",
        "                             (dfr['Gender']==gender) &\n",
        "                             ((dfr['Debt_To_Income'] <= (debt_income+1))& \n",
        "                              (dfr['Debt_To_Income'] >= (debt_income-1))\n",
        "                              )]).mean()\n",
        "    # print(mn)\n",
        "    dfr['Annual_Income'].iloc[ind]= mn\n",
        "    pass\n",
        "fix(loans)\n"
      ],
      "execution_count": null,
      "outputs": [
        {
          "output_type": "stream",
          "text": [
            "\n",
            "  0%|          | 0/10215 [00:00<?, ?it/s]\u001b[A\n",
            "  0%|          | 5/10215 [00:00<03:47, 44.97it/s]\u001b[A\n",
            "  0%|          | 9/10215 [00:00<03:59, 42.54it/s]\u001b[A\n",
            "  0%|          | 14/10215 [00:00<03:59, 42.64it/s]\u001b[A\n",
            "  0%|          | 19/10215 [00:00<03:58, 42.78it/s]\u001b[A\n",
            "  0%|          | 24/10215 [00:00<03:57, 42.91it/s]\u001b[A\n",
            "  0%|          | 29/10215 [00:00<03:57, 42.91it/s]\u001b[A\n",
            "  0%|          | 34/10215 [00:00<03:57, 42.79it/s]\u001b[A\n",
            "  0%|          | 39/10215 [00:00<03:56, 43.00it/s]\u001b[A\n",
            "  0%|          | 44/10215 [00:01<03:57, 42.87it/s]\u001b[A\n",
            "  0%|          | 49/10215 [00:01<03:58, 42.60it/s]\u001b[A\n",
            "  1%|          | 54/10215 [00:01<03:58, 42.56it/s]\u001b[A\n",
            "  1%|          | 59/10215 [00:01<04:07, 41.00it/s]\u001b[A\n",
            "  1%|          | 64/10215 [00:01<04:05, 41.32it/s]\u001b[A\n",
            "  1%|          | 69/10215 [00:01<04:03, 41.69it/s]\u001b[A\n",
            "  1%|          | 74/10215 [00:01<04:02, 41.77it/s]\u001b[A\n",
            "  1%|          | 79/10215 [00:01<03:59, 42.33it/s]\u001b[A\n",
            "  1%|          | 84/10215 [00:01<03:59, 42.37it/s]\u001b[A\n",
            "  1%|          | 89/10215 [00:02<03:58, 42.50it/s]\u001b[A\n",
            "  1%|          | 94/10215 [00:02<03:57, 42.68it/s]\u001b[A\n",
            "  1%|          | 99/10215 [00:02<03:56, 42.73it/s]\u001b[A\n",
            "  1%|          | 104/10215 [00:02<04:00, 42.05it/s]\u001b[A\n",
            "  1%|          | 109/10215 [00:02<03:58, 42.30it/s]\u001b[A\n",
            "  1%|          | 114/10215 [00:02<03:57, 42.60it/s]\u001b[A\n",
            "  1%|          | 119/10215 [00:02<03:56, 42.64it/s]\u001b[A\n",
            "  1%|          | 124/10215 [00:02<04:00, 41.96it/s]\u001b[A\n",
            "  1%|▏         | 129/10215 [00:03<03:59, 42.05it/s]\u001b[A\n",
            "  1%|▏         | 134/10215 [00:03<03:58, 42.34it/s]\u001b[A\n",
            "  1%|▏         | 139/10215 [00:03<03:57, 42.42it/s]\u001b[A\n",
            "  1%|▏         | 144/10215 [00:03<04:02, 41.52it/s]\u001b[A\n",
            "  1%|▏         | 149/10215 [00:03<03:59, 42.00it/s]\u001b[A\n",
            "  2%|▏         | 154/10215 [00:03<03:57, 42.38it/s]\u001b[A\n",
            "  2%|▏         | 159/10215 [00:03<03:56, 42.53it/s]\u001b[A\n",
            " 59%|█████▉    | 14887/25102 [05:50<03:51, 44.20it/s]\n",
            "  2%|▏         | 169/10215 [00:03<03:58, 42.13it/s]\u001b[A\n",
            "  2%|▏         | 174/10215 [00:04<03:59, 41.87it/s]\u001b[A\n",
            "  2%|▏         | 179/10215 [00:04<03:58, 41.99it/s]\u001b[A\n",
            "  2%|▏         | 184/10215 [00:04<03:58, 42.10it/s]\u001b[A\n",
            "  2%|▏         | 189/10215 [00:04<03:59, 41.92it/s]\u001b[A\n",
            "  2%|▏         | 194/10215 [00:04<03:57, 42.12it/s]\u001b[A\n",
            "  2%|▏         | 199/10215 [00:04<03:56, 42.31it/s]\u001b[A\n",
            "  2%|▏         | 204/10215 [00:04<03:56, 42.37it/s]\u001b[A\n",
            "  2%|▏         | 209/10215 [00:04<04:00, 41.54it/s]\u001b[A\n",
            "  2%|▏         | 214/10215 [00:05<04:02, 41.29it/s]\u001b[A\n",
            "  2%|▏         | 219/10215 [00:05<04:02, 41.27it/s]\u001b[A\n",
            "  2%|▏         | 224/10215 [00:05<04:01, 41.43it/s]\u001b[A\n",
            "  2%|▏         | 229/10215 [00:05<04:02, 41.18it/s]\u001b[A\n",
            "  2%|▏         | 234/10215 [00:05<04:01, 41.40it/s]\u001b[A\n",
            "  2%|▏         | 239/10215 [00:05<03:59, 41.61it/s]\u001b[A\n",
            "  2%|▏         | 244/10215 [00:05<03:57, 41.99it/s]\u001b[A\n",
            "  2%|▏         | 249/10215 [00:05<03:56, 42.08it/s]\u001b[A\n",
            "  2%|▏         | 254/10215 [00:06<03:56, 42.18it/s]\u001b[A\n",
            "  3%|▎         | 259/10215 [00:06<03:55, 42.28it/s]\u001b[A\n",
            "  3%|▎         | 264/10215 [00:06<03:55, 42.17it/s]\u001b[A\n",
            "  3%|▎         | 269/10215 [00:06<03:54, 42.37it/s]\u001b[A\n",
            "  3%|▎         | 274/10215 [00:06<04:00, 41.33it/s]\u001b[A\n",
            "  3%|▎         | 279/10215 [00:06<03:58, 41.59it/s]\u001b[A\n",
            "  3%|▎         | 284/10215 [00:06<03:57, 41.84it/s]\u001b[A\n",
            "  3%|▎         | 289/10215 [00:06<03:54, 42.38it/s]\u001b[A\n",
            "  3%|▎         | 294/10215 [00:06<03:58, 41.68it/s]\u001b[A\n",
            "  3%|▎         | 299/10215 [00:07<03:57, 41.77it/s]\u001b[A\n",
            "  3%|▎         | 304/10215 [00:07<03:55, 42.08it/s]\u001b[A\n",
            "  3%|▎         | 309/10215 [00:07<03:54, 42.17it/s]\u001b[A\n",
            "  3%|▎         | 314/10215 [00:07<03:59, 41.35it/s]\u001b[A\n",
            "  3%|▎         | 319/10215 [00:07<03:57, 41.62it/s]\u001b[A\n",
            "  3%|▎         | 324/10215 [00:07<03:55, 41.94it/s]\u001b[A\n",
            "  3%|▎         | 329/10215 [00:07<03:53, 42.32it/s]\u001b[A\n",
            "  3%|▎         | 334/10215 [00:07<03:53, 42.40it/s]\u001b[A\n",
            "  3%|▎         | 339/10215 [00:08<03:53, 42.35it/s]\u001b[A\n",
            "  3%|▎         | 344/10215 [00:08<03:54, 42.01it/s]\u001b[A\n",
            "  3%|▎         | 349/10215 [00:08<03:53, 42.20it/s]\u001b[A\n",
            "  3%|▎         | 354/10215 [00:08<03:53, 42.17it/s]\u001b[A\n",
            "  4%|▎         | 359/10215 [00:08<03:59, 41.21it/s]\u001b[A\n",
            "  4%|▎         | 364/10215 [00:08<03:59, 41.18it/s]\u001b[A\n",
            "  4%|▎         | 369/10215 [00:08<04:05, 40.11it/s]\u001b[A\n",
            "  4%|▎         | 374/10215 [00:08<04:00, 40.90it/s]\u001b[A\n",
            "  4%|▎         | 379/10215 [00:09<03:58, 41.30it/s]\u001b[A\n",
            "  4%|▍         | 384/10215 [00:09<03:56, 41.61it/s]\u001b[A\n",
            "  4%|▍         | 389/10215 [00:09<03:54, 41.87it/s]\u001b[A\n",
            "  4%|▍         | 394/10215 [00:09<03:53, 42.04it/s]\u001b[A\n",
            "  4%|▍         | 399/10215 [00:09<03:56, 41.55it/s]\u001b[A\n",
            "  4%|▍         | 404/10215 [00:09<03:55, 41.60it/s]\u001b[A\n",
            "  4%|▍         | 409/10215 [00:09<03:53, 42.05it/s]\u001b[A\n",
            "  4%|▍         | 414/10215 [00:09<03:53, 42.05it/s]\u001b[A\n",
            "  4%|▍         | 419/10215 [00:09<03:52, 42.14it/s]\u001b[A\n",
            "  4%|▍         | 424/10215 [00:10<03:52, 42.20it/s]\u001b[A\n",
            "  4%|▍         | 429/10215 [00:10<03:50, 42.49it/s]\u001b[A\n",
            "  4%|▍         | 434/10215 [00:10<03:49, 42.67it/s]\u001b[A\n",
            "  4%|▍         | 439/10215 [00:10<03:50, 42.33it/s]\u001b[A\n",
            "  4%|▍         | 444/10215 [00:10<03:57, 41.09it/s]\u001b[A\n",
            "  4%|▍         | 449/10215 [00:10<03:54, 41.57it/s]\u001b[A\n",
            "  4%|▍         | 454/10215 [00:10<03:52, 41.90it/s]\u001b[A\n",
            "  4%|▍         | 459/10215 [00:10<04:02, 40.31it/s]\u001b[A\n",
            "  5%|▍         | 464/10215 [00:11<03:59, 40.75it/s]\u001b[A\n",
            "  5%|▍         | 469/10215 [00:11<04:01, 40.41it/s]\u001b[A\n",
            "  5%|▍         | 474/10215 [00:11<04:00, 40.51it/s]\u001b[A\n",
            "  5%|▍         | 479/10215 [00:11<04:00, 40.42it/s]\u001b[A\n",
            "  5%|▍         | 484/10215 [00:11<04:02, 40.17it/s]\u001b[A\n",
            "  5%|▍         | 489/10215 [00:11<03:57, 41.04it/s]\u001b[A\n",
            "  5%|▍         | 494/10215 [00:11<03:55, 41.33it/s]\u001b[A\n",
            "  5%|▍         | 499/10215 [00:11<03:52, 41.72it/s]\u001b[A\n",
            "  5%|▍         | 504/10215 [00:12<03:54, 41.34it/s]\u001b[A\n",
            "  5%|▍         | 509/10215 [00:12<03:55, 41.26it/s]\u001b[A\n",
            "  5%|▌         | 514/10215 [00:12<03:52, 41.72it/s]\u001b[A\n",
            "  5%|▌         | 519/10215 [00:12<03:51, 41.80it/s]\u001b[A\n",
            "  5%|▌         | 524/10215 [00:12<03:56, 41.05it/s]\u001b[A\n",
            "  5%|▌         | 529/10215 [00:12<03:55, 41.05it/s]\u001b[A\n",
            "  5%|▌         | 534/10215 [00:12<03:54, 41.29it/s]\u001b[A\n",
            "  5%|▌         | 539/10215 [00:12<03:52, 41.70it/s]\u001b[A\n",
            "  5%|▌         | 544/10215 [00:13<03:49, 42.09it/s]\u001b[A\n",
            "  5%|▌         | 549/10215 [00:13<03:48, 42.36it/s]\u001b[A\n",
            "  5%|▌         | 554/10215 [00:13<03:47, 42.54it/s]\u001b[A\n",
            "  5%|▌         | 559/10215 [00:13<03:46, 42.63it/s]\u001b[A\n",
            "  6%|▌         | 564/10215 [00:13<03:49, 42.10it/s]\u001b[A\n",
            "  6%|▌         | 569/10215 [00:13<03:50, 41.76it/s]\u001b[A\n",
            "  6%|▌         | 574/10215 [00:13<03:50, 41.79it/s]\u001b[A\n",
            "  6%|▌         | 579/10215 [00:13<03:48, 42.18it/s]\u001b[A\n",
            "  6%|▌         | 584/10215 [00:13<03:47, 42.31it/s]\u001b[A\n",
            "  6%|▌         | 589/10215 [00:14<03:47, 42.27it/s]\u001b[A\n",
            "  6%|▌         | 594/10215 [00:14<03:49, 41.84it/s]\u001b[A\n",
            "  6%|▌         | 599/10215 [00:14<03:52, 41.37it/s]\u001b[A\n",
            "  6%|▌         | 604/10215 [00:14<03:51, 41.52it/s]\u001b[A\n",
            "  6%|▌         | 609/10215 [00:14<03:52, 41.29it/s]\u001b[A\n",
            "  6%|▌         | 614/10215 [00:14<03:51, 41.44it/s]\u001b[A\n",
            "  6%|▌         | 619/10215 [00:14<03:49, 41.88it/s]\u001b[A\n",
            "  6%|▌         | 624/10215 [00:14<03:48, 42.02it/s]\u001b[A\n",
            "  6%|▌         | 629/10215 [00:15<03:48, 41.86it/s]\u001b[A\n",
            "  6%|▌         | 634/10215 [00:15<03:49, 41.82it/s]\u001b[A\n",
            "  6%|▋         | 639/10215 [00:15<03:48, 41.87it/s]\u001b[A\n",
            "  6%|▋         | 644/10215 [00:15<03:50, 41.59it/s]\u001b[A\n",
            "  6%|▋         | 649/10215 [00:15<03:52, 41.19it/s]\u001b[A\n",
            "  6%|▋         | 654/10215 [00:15<03:53, 40.88it/s]\u001b[A\n",
            "  6%|▋         | 659/10215 [00:15<03:50, 41.54it/s]\u001b[A\n",
            "  7%|▋         | 664/10215 [00:15<03:47, 41.92it/s]\u001b[A\n",
            "  7%|▋         | 669/10215 [00:15<03:45, 42.24it/s]\u001b[A\n",
            "  7%|▋         | 674/10215 [00:16<03:44, 42.57it/s]\u001b[A\n",
            "  7%|▋         | 679/10215 [00:16<03:44, 42.48it/s]\u001b[A\n",
            "  7%|▋         | 684/10215 [00:16<03:45, 42.19it/s]\u001b[A\n",
            "  7%|▋         | 689/10215 [00:16<03:45, 42.30it/s]\u001b[A\n",
            "  7%|▋         | 694/10215 [00:16<03:48, 41.67it/s]\u001b[A\n",
            "  7%|▋         | 699/10215 [00:16<03:45, 42.16it/s]\u001b[A\n",
            "  7%|▋         | 704/10215 [00:16<03:45, 42.27it/s]\u001b[A\n",
            "  7%|▋         | 709/10215 [00:16<03:43, 42.50it/s]\u001b[A\n",
            "  7%|▋         | 714/10215 [00:17<03:41, 42.80it/s]\u001b[A\n",
            "  7%|▋         | 719/10215 [00:17<03:46, 42.00it/s]\u001b[A\n",
            "  7%|▋         | 724/10215 [00:17<03:45, 42.12it/s]\u001b[A\n",
            "  7%|▋         | 729/10215 [00:17<03:44, 42.28it/s]\u001b[A\n",
            "  7%|▋         | 734/10215 [00:17<03:46, 41.95it/s]\u001b[A\n",
            "  7%|▋         | 739/10215 [00:17<03:49, 41.29it/s]\u001b[A\n",
            "  7%|▋         | 744/10215 [00:17<03:47, 41.60it/s]\u001b[A\n",
            "  7%|▋         | 749/10215 [00:17<03:47, 41.66it/s]\u001b[A\n",
            "  7%|▋         | 754/10215 [00:18<03:50, 41.06it/s]\u001b[A\n",
            "  7%|▋         | 759/10215 [00:18<03:48, 41.37it/s]\u001b[A\n",
            "  7%|▋         | 764/10215 [00:18<03:46, 41.69it/s]\u001b[A\n",
            "  8%|▊         | 769/10215 [00:18<03:44, 42.00it/s]\u001b[A\n",
            "  8%|▊         | 774/10215 [00:18<03:43, 42.24it/s]\u001b[A\n",
            "  8%|▊         | 779/10215 [00:18<03:47, 41.55it/s]\u001b[A\n",
            "  8%|▊         | 784/10215 [00:18<03:47, 41.40it/s]\u001b[A\n",
            "  8%|▊         | 789/10215 [00:18<03:45, 41.74it/s]\u001b[A\n",
            "  8%|▊         | 794/10215 [00:18<03:44, 41.91it/s]\u001b[A\n",
            "  8%|▊         | 799/10215 [00:19<03:46, 41.63it/s]\u001b[A\n",
            "  8%|▊         | 804/10215 [00:19<03:50, 40.82it/s]\u001b[A\n",
            "  8%|▊         | 809/10215 [00:19<03:47, 41.42it/s]\u001b[A\n",
            "  8%|▊         | 814/10215 [00:19<03:46, 41.55it/s]\u001b[A\n",
            "  8%|▊         | 819/10215 [00:19<03:45, 41.60it/s]\u001b[A\n",
            "  8%|▊         | 824/10215 [00:19<03:49, 40.88it/s]\u001b[A\n",
            "  8%|▊         | 829/10215 [00:19<03:54, 40.05it/s]\u001b[A\n",
            "  8%|▊         | 834/10215 [00:19<03:51, 40.46it/s]\u001b[A\n",
            "  8%|▊         | 839/10215 [00:20<03:49, 40.84it/s]\u001b[A\n",
            "  8%|▊         | 844/10215 [00:20<03:47, 41.22it/s]\u001b[A\n",
            "  8%|▊         | 849/10215 [00:20<03:48, 40.96it/s]\u001b[A\n",
            "  8%|▊         | 854/10215 [00:20<03:46, 41.37it/s]\u001b[A\n",
            "  8%|▊         | 859/10215 [00:20<03:45, 41.49it/s]\u001b[A\n",
            "  8%|▊         | 864/10215 [00:20<03:48, 41.01it/s]\u001b[A\n",
            "  9%|▊         | 869/10215 [00:20<03:48, 40.91it/s]\u001b[A\n",
            "  9%|▊         | 874/10215 [00:20<03:45, 41.34it/s]\u001b[A\n",
            "  9%|▊         | 879/10215 [00:21<03:43, 41.77it/s]\u001b[A\n",
            "  9%|▊         | 884/10215 [00:21<03:45, 41.37it/s]\u001b[A\n",
            "  9%|▊         | 889/10215 [00:21<03:45, 41.34it/s]\u001b[A\n",
            "  9%|▉         | 894/10215 [00:21<03:45, 41.39it/s]\u001b[A\n",
            "  9%|▉         | 899/10215 [00:21<03:44, 41.56it/s]\u001b[A\n",
            "  9%|▉         | 904/10215 [00:21<03:47, 40.85it/s]\u001b[A\n",
            "  9%|▉         | 909/10215 [00:21<03:46, 41.07it/s]\u001b[A\n",
            "  9%|▉         | 914/10215 [00:21<03:46, 41.01it/s]\u001b[A\n",
            "  9%|▉         | 919/10215 [00:22<03:45, 41.20it/s]\u001b[A\n",
            "  9%|▉         | 924/10215 [00:22<03:45, 41.23it/s]\u001b[A\n",
            "  9%|▉         | 929/10215 [00:22<03:44, 41.37it/s]\u001b[A\n",
            "  9%|▉         | 934/10215 [00:22<03:43, 41.51it/s]\u001b[A\n",
            "  9%|▉         | 939/10215 [00:22<03:50, 40.16it/s]\u001b[A\n",
            "  9%|▉         | 944/10215 [00:22<03:50, 40.27it/s]\u001b[A\n",
            "  9%|▉         | 949/10215 [00:22<03:49, 40.45it/s]\u001b[A\n",
            "  9%|▉         | 954/10215 [00:22<03:51, 40.00it/s]\u001b[A\n",
            "  9%|▉         | 959/10215 [00:23<03:47, 40.72it/s]\u001b[A\n",
            "  9%|▉         | 964/10215 [00:23<03:48, 40.46it/s]\u001b[A\n",
            "  9%|▉         | 969/10215 [00:23<03:47, 40.65it/s]\u001b[A\n",
            " 10%|▉         | 974/10215 [00:23<03:46, 40.72it/s]\u001b[A\n",
            " 10%|▉         | 979/10215 [00:23<03:45, 41.02it/s]\u001b[A\n",
            " 10%|▉         | 984/10215 [00:23<03:44, 41.11it/s]\u001b[A\n",
            " 10%|▉         | 989/10215 [00:23<03:47, 40.57it/s]\u001b[A\n",
            " 10%|▉         | 994/10215 [00:23<03:43, 41.22it/s]\u001b[A\n",
            " 10%|▉         | 999/10215 [00:23<03:41, 41.54it/s]\u001b[A\n",
            " 10%|▉         | 1004/10215 [00:24<03:42, 41.45it/s]\u001b[A\n",
            " 10%|▉         | 1009/10215 [00:24<03:41, 41.65it/s]\u001b[A\n",
            " 10%|▉         | 1014/10215 [00:24<03:39, 41.83it/s]\u001b[A\n",
            " 10%|▉         | 1019/10215 [00:24<03:41, 41.43it/s]\u001b[A\n",
            " 10%|█         | 1024/10215 [00:24<03:40, 41.66it/s]\u001b[A\n",
            " 10%|█         | 1029/10215 [00:24<03:43, 41.18it/s]\u001b[A\n",
            " 10%|█         | 1034/10215 [00:24<03:40, 41.65it/s]\u001b[A\n",
            " 10%|█         | 1039/10215 [00:24<03:38, 41.91it/s]\u001b[A\n",
            " 10%|█         | 1044/10215 [00:25<03:37, 42.11it/s]\u001b[A\n",
            " 10%|█         | 1049/10215 [00:25<03:36, 42.38it/s]\u001b[A\n",
            " 10%|█         | 1054/10215 [00:25<03:36, 42.36it/s]\u001b[A\n",
            " 10%|█         | 1059/10215 [00:25<03:35, 42.43it/s]\u001b[A\n",
            " 10%|█         | 1064/10215 [00:25<03:35, 42.42it/s]\u001b[A\n",
            " 10%|█         | 1069/10215 [00:25<03:40, 41.52it/s]\u001b[A\n",
            " 11%|█         | 1074/10215 [00:25<03:41, 41.33it/s]\u001b[A\n",
            " 11%|█         | 1079/10215 [00:25<03:39, 41.53it/s]\u001b[A\n",
            " 11%|█         | 1084/10215 [00:26<03:38, 41.82it/s]\u001b[A\n",
            " 11%|█         | 1089/10215 [00:26<03:36, 42.07it/s]\u001b[A\n",
            " 11%|█         | 1094/10215 [00:26<03:36, 42.22it/s]\u001b[A\n",
            " 11%|█         | 1099/10215 [00:26<03:34, 42.41it/s]\u001b[A\n",
            " 11%|█         | 1104/10215 [00:26<03:34, 42.53it/s]\u001b[A\n",
            " 11%|█         | 1109/10215 [00:26<03:34, 42.41it/s]\u001b[A\n",
            " 11%|█         | 1114/10215 [00:26<03:37, 41.86it/s]\u001b[A\n",
            " 11%|█         | 1119/10215 [00:26<03:37, 41.81it/s]\u001b[A\n",
            " 11%|█         | 1124/10215 [00:26<03:42, 40.81it/s]\u001b[A\n",
            " 11%|█         | 1129/10215 [00:27<03:39, 41.38it/s]\u001b[A\n",
            " 11%|█         | 1134/10215 [00:27<03:37, 41.72it/s]\u001b[A\n",
            " 11%|█         | 1139/10215 [00:27<03:36, 41.94it/s]\u001b[A\n",
            " 11%|█         | 1144/10215 [00:27<03:35, 42.04it/s]\u001b[A\n",
            " 11%|█         | 1149/10215 [00:27<03:35, 42.05it/s]\u001b[A\n",
            " 11%|█▏        | 1154/10215 [00:27<03:36, 41.94it/s]\u001b[A\n",
            " 11%|█▏        | 1159/10215 [00:27<03:37, 41.63it/s]\u001b[A\n",
            " 11%|█▏        | 1164/10215 [00:27<03:36, 41.87it/s]\u001b[A\n",
            " 11%|█▏        | 1169/10215 [00:28<03:38, 41.48it/s]\u001b[A\n",
            " 11%|█▏        | 1174/10215 [00:28<03:38, 41.37it/s]\u001b[A\n",
            " 12%|█▏        | 1179/10215 [00:28<03:36, 41.81it/s]\u001b[A\n",
            " 12%|█▏        | 1184/10215 [00:28<03:34, 42.02it/s]\u001b[A\n",
            " 12%|█▏        | 1189/10215 [00:28<03:34, 42.13it/s]\u001b[A\n",
            " 12%|█▏        | 1194/10215 [00:28<03:34, 42.11it/s]\u001b[A\n",
            " 12%|█▏        | 1199/10215 [00:28<03:42, 40.55it/s]\u001b[A\n",
            " 12%|█▏        | 1204/10215 [00:28<03:40, 40.81it/s]\u001b[A\n",
            " 12%|█▏        | 1209/10215 [00:29<03:40, 40.91it/s]\u001b[A\n",
            " 12%|█▏        | 1214/10215 [00:29<03:44, 40.15it/s]\u001b[A\n",
            " 12%|█▏        | 1219/10215 [00:29<03:41, 40.70it/s]\u001b[A\n",
            " 12%|█▏        | 1224/10215 [00:29<03:39, 40.92it/s]\u001b[A\n",
            " 12%|█▏        | 1229/10215 [00:29<03:37, 41.40it/s]\u001b[A\n",
            " 12%|█▏        | 1234/10215 [00:29<03:35, 41.69it/s]\u001b[A\n",
            " 12%|█▏        | 1239/10215 [00:29<03:37, 41.21it/s]\u001b[A\n",
            " 12%|█▏        | 1244/10215 [00:29<03:35, 41.65it/s]\u001b[A\n",
            " 12%|█▏        | 1249/10215 [00:29<03:33, 41.95it/s]\u001b[A\n",
            " 12%|█▏        | 1254/10215 [00:30<03:31, 42.31it/s]\u001b[A\n",
            " 12%|█▏        | 1259/10215 [00:30<03:33, 41.88it/s]\u001b[A\n",
            " 12%|█▏        | 1264/10215 [00:30<03:33, 41.94it/s]\u001b[A\n",
            " 12%|█▏        | 1269/10215 [00:30<03:34, 41.78it/s]\u001b[A\n",
            " 12%|█▏        | 1274/10215 [00:30<03:33, 41.90it/s]\u001b[A\n",
            " 13%|█▎        | 1279/10215 [00:30<03:32, 42.07it/s]\u001b[A\n",
            " 13%|█▎        | 1284/10215 [00:30<03:34, 41.62it/s]\u001b[A\n",
            " 13%|█▎        | 1289/10215 [00:30<03:32, 42.10it/s]\u001b[A\n",
            " 13%|█▎        | 1294/10215 [00:31<03:33, 41.74it/s]\u001b[A\n",
            " 13%|█▎        | 1299/10215 [00:31<03:35, 41.36it/s]\u001b[A\n",
            " 13%|█▎        | 1304/10215 [00:31<03:35, 41.43it/s]\u001b[A\n",
            " 13%|█▎        | 1309/10215 [00:31<03:34, 41.54it/s]\u001b[A\n",
            " 13%|█▎        | 1314/10215 [00:31<03:34, 41.58it/s]\u001b[A\n",
            " 13%|█▎        | 1319/10215 [00:31<03:40, 40.38it/s]\u001b[A\n",
            " 13%|█▎        | 1324/10215 [00:31<03:41, 40.09it/s]\u001b[A\n",
            " 13%|█▎        | 1329/10215 [00:31<03:39, 40.51it/s]\u001b[A\n",
            " 13%|█▎        | 1334/10215 [00:32<03:38, 40.72it/s]\u001b[A\n",
            " 13%|█▎        | 1339/10215 [00:32<03:41, 40.13it/s]\u001b[A\n",
            " 13%|█▎        | 1344/10215 [00:32<03:38, 40.55it/s]\u001b[A\n",
            " 13%|█▎        | 1349/10215 [00:32<03:36, 41.03it/s]\u001b[A\n",
            " 13%|█▎        | 1354/10215 [00:32<03:34, 41.29it/s]\u001b[A\n",
            " 13%|█▎        | 1359/10215 [00:32<03:34, 41.36it/s]\u001b[A\n",
            " 13%|█▎        | 1364/10215 [00:32<03:34, 41.29it/s]\u001b[A\n",
            " 13%|█▎        | 1369/10215 [00:32<03:35, 40.99it/s]\u001b[A\n",
            " 13%|█▎        | 1374/10215 [00:33<03:38, 40.44it/s]\u001b[A\n",
            " 13%|█▎        | 1379/10215 [00:33<03:39, 40.24it/s]\u001b[A\n",
            " 14%|█▎        | 1384/10215 [00:33<03:37, 40.58it/s]\u001b[A\n",
            " 14%|█▎        | 1389/10215 [00:33<03:36, 40.74it/s]\u001b[A\n",
            " 14%|█▎        | 1394/10215 [00:33<03:32, 41.50it/s]\u001b[A\n",
            " 14%|█▎        | 1399/10215 [00:33<03:31, 41.67it/s]\u001b[A\n",
            " 14%|█▎        | 1404/10215 [00:33<03:28, 42.23it/s]\u001b[A\n",
            " 14%|█▍        | 1409/10215 [00:33<03:36, 40.68it/s]\u001b[A\n",
            " 14%|█▍        | 1414/10215 [00:33<03:36, 40.60it/s]\u001b[A\n",
            " 14%|█▍        | 1419/10215 [00:34<03:37, 40.50it/s]\u001b[A\n",
            " 14%|█▍        | 1424/10215 [00:34<03:37, 40.33it/s]\u001b[A\n",
            " 14%|█▍        | 1429/10215 [00:34<03:36, 40.52it/s]\u001b[A\n",
            " 14%|█▍        | 1434/10215 [00:34<03:34, 40.92it/s]\u001b[A\n",
            " 14%|█▍        | 1439/10215 [00:34<03:33, 41.07it/s]\u001b[A\n",
            " 14%|█▍        | 1444/10215 [00:34<03:31, 41.44it/s]\u001b[A\n",
            " 14%|█▍        | 1449/10215 [00:34<03:35, 40.70it/s]\u001b[A\n",
            " 14%|█▍        | 1454/10215 [00:34<03:33, 40.95it/s]\u001b[A\n",
            " 14%|█▍        | 1459/10215 [00:35<03:33, 40.97it/s]\u001b[A\n",
            " 14%|█▍        | 1464/10215 [00:35<03:31, 41.43it/s]\u001b[A\n",
            " 14%|█▍        | 1469/10215 [00:35<03:29, 41.74it/s]\u001b[A\n",
            " 14%|█▍        | 1474/10215 [00:35<03:30, 41.52it/s]\u001b[A\n",
            " 14%|█▍        | 1479/10215 [00:35<03:29, 41.66it/s]\u001b[A\n",
            " 15%|█▍        | 1484/10215 [00:35<03:32, 41.07it/s]\u001b[A\n",
            " 15%|█▍        | 1489/10215 [00:35<03:35, 40.50it/s]\u001b[A\n",
            " 15%|█▍        | 1494/10215 [00:35<03:33, 40.84it/s]\u001b[A\n",
            " 15%|█▍        | 1499/10215 [00:36<03:29, 41.60it/s]\u001b[A\n",
            " 15%|█▍        | 1504/10215 [00:36<03:28, 41.81it/s]\u001b[A\n",
            " 15%|█▍        | 1509/10215 [00:36<03:27, 42.01it/s]\u001b[A\n",
            " 15%|█▍        | 1514/10215 [00:36<03:26, 42.10it/s]\u001b[A\n",
            " 15%|█▍        | 1519/10215 [00:36<03:30, 41.36it/s]\u001b[A\n",
            " 15%|█▍        | 1524/10215 [00:36<03:30, 41.38it/s]\u001b[A\n",
            " 15%|█▍        | 1529/10215 [00:36<03:27, 41.89it/s]\u001b[A\n",
            " 15%|█▌        | 1534/10215 [00:36<03:28, 41.55it/s]\u001b[A\n",
            " 15%|█▌        | 1539/10215 [00:37<03:27, 41.85it/s]\u001b[A\n",
            " 15%|█▌        | 1544/10215 [00:37<03:27, 41.81it/s]\u001b[A\n",
            " 15%|█▌        | 1549/10215 [00:37<03:26, 41.98it/s]\u001b[A\n",
            " 15%|█▌        | 1554/10215 [00:37<03:27, 41.66it/s]\u001b[A\n",
            " 15%|█▌        | 1559/10215 [00:37<03:26, 41.95it/s]\u001b[A\n",
            " 15%|█▌        | 1564/10215 [00:37<03:25, 42.08it/s]\u001b[A\n",
            " 15%|█▌        | 1569/10215 [00:37<03:25, 42.02it/s]\u001b[A\n",
            " 15%|█▌        | 1574/10215 [00:37<03:28, 41.50it/s]\u001b[A\n",
            " 15%|█▌        | 1579/10215 [00:37<03:32, 40.72it/s]\u001b[A\n",
            " 16%|█▌        | 1584/10215 [00:38<03:31, 40.88it/s]\u001b[A\n",
            " 16%|█▌        | 1589/10215 [00:38<03:34, 40.21it/s]\u001b[A\n",
            " 16%|█▌        | 1594/10215 [00:38<03:31, 40.71it/s]\u001b[A\n",
            " 16%|█▌        | 1599/10215 [00:38<03:30, 40.96it/s]\u001b[A\n",
            " 16%|█▌        | 1604/10215 [00:38<03:28, 41.24it/s]\u001b[A\n",
            " 16%|█▌        | 1609/10215 [00:38<03:26, 41.58it/s]\u001b[A\n",
            " 16%|█▌        | 1614/10215 [00:38<03:27, 41.44it/s]\u001b[A\n",
            " 16%|█▌        | 1619/10215 [00:38<03:34, 40.13it/s]\u001b[A\n",
            " 16%|█▌        | 1624/10215 [00:39<03:32, 40.35it/s]\u001b[A\n",
            " 16%|█▌        | 1629/10215 [00:39<03:30, 40.82it/s]\u001b[A\n",
            " 16%|█▌        | 1634/10215 [00:39<03:27, 41.33it/s]\u001b[A\n",
            " 16%|█▌        | 1639/10215 [00:39<03:25, 41.68it/s]\u001b[A\n",
            " 16%|█▌        | 1644/10215 [00:39<03:25, 41.76it/s]\u001b[A\n",
            " 16%|█▌        | 1649/10215 [00:39<03:29, 40.87it/s]\u001b[A\n",
            " 16%|█▌        | 1654/10215 [00:39<03:30, 40.60it/s]\u001b[A\n",
            " 16%|█▌        | 1659/10215 [00:39<03:32, 40.30it/s]\u001b[A\n",
            " 16%|█▋        | 1664/10215 [00:40<03:29, 40.82it/s]\u001b[A\n",
            " 16%|█▋        | 1669/10215 [00:40<03:27, 41.12it/s]\u001b[A\n",
            " 16%|█▋        | 1674/10215 [00:40<03:26, 41.34it/s]\u001b[A\n",
            " 16%|█▋        | 1679/10215 [00:40<03:25, 41.51it/s]\u001b[A\n",
            " 16%|█▋        | 1684/10215 [00:40<03:27, 41.16it/s]\u001b[A\n",
            " 17%|█▋        | 1689/10215 [00:40<03:25, 41.45it/s]\u001b[A\n",
            " 17%|█▋        | 1694/10215 [00:40<03:26, 41.28it/s]\u001b[A\n",
            " 17%|█▋        | 1699/10215 [00:40<03:28, 40.87it/s]\u001b[A\n",
            " 17%|█▋        | 1704/10215 [00:41<03:25, 41.33it/s]\u001b[A\n",
            " 17%|█▋        | 1709/10215 [00:41<03:25, 41.45it/s]\u001b[A\n",
            " 17%|█▋        | 1714/10215 [00:41<03:27, 40.94it/s]\u001b[A\n",
            " 17%|█▋        | 1719/10215 [00:41<03:25, 41.33it/s]\u001b[A\n",
            " 17%|█▋        | 1724/10215 [00:41<03:25, 41.26it/s]\u001b[A\n",
            " 17%|█▋        | 1729/10215 [00:41<03:24, 41.44it/s]\u001b[A\n",
            " 17%|█▋        | 1734/10215 [00:41<03:23, 41.72it/s]\u001b[A\n",
            " 17%|█▋        | 1739/10215 [00:41<03:21, 42.01it/s]\u001b[A\n",
            " 17%|█▋        | 1744/10215 [00:41<03:25, 41.25it/s]\u001b[A\n",
            " 17%|█▋        | 1749/10215 [00:42<03:26, 40.92it/s]\u001b[A\n",
            " 17%|█▋        | 1754/10215 [00:42<03:25, 41.09it/s]\u001b[A\n",
            " 17%|█▋        | 1759/10215 [00:42<03:23, 41.46it/s]\u001b[A\n",
            " 17%|█▋        | 1764/10215 [00:42<03:23, 41.61it/s]\u001b[A\n",
            " 17%|█▋        | 1769/10215 [00:42<03:21, 41.93it/s]\u001b[A\n",
            " 17%|█▋        | 1774/10215 [00:42<03:25, 41.05it/s]\u001b[A\n",
            " 17%|█▋        | 1779/10215 [00:42<03:26, 40.87it/s]\u001b[A\n",
            " 17%|█▋        | 1784/10215 [00:42<03:28, 40.43it/s]\u001b[A\n",
            " 18%|█▊        | 1789/10215 [00:43<03:25, 41.03it/s]\u001b[A\n",
            " 18%|█▊        | 1794/10215 [00:43<03:23, 41.32it/s]\u001b[A\n",
            " 18%|█▊        | 1799/10215 [00:43<03:23, 41.36it/s]\u001b[A\n",
            " 18%|█▊        | 1804/10215 [00:43<03:27, 40.56it/s]\u001b[A\n",
            " 18%|█▊        | 1809/10215 [00:43<03:30, 39.97it/s]\u001b[A\n",
            " 18%|█▊        | 1814/10215 [00:43<03:28, 40.20it/s]\u001b[A\n",
            " 18%|█▊        | 1819/10215 [00:43<03:26, 40.74it/s]\u001b[A\n",
            " 18%|█▊        | 1824/10215 [00:43<03:27, 40.35it/s]\u001b[A\n",
            " 18%|█▊        | 1829/10215 [00:44<03:27, 40.47it/s]\u001b[A\n",
            " 18%|█▊        | 1834/10215 [00:44<03:28, 40.27it/s]\u001b[A\n",
            " 18%|█▊        | 1839/10215 [00:44<03:26, 40.47it/s]\u001b[A\n",
            " 18%|█▊        | 1844/10215 [00:44<03:24, 40.95it/s]\u001b[A\n",
            " 18%|█▊        | 1849/10215 [00:44<03:24, 40.97it/s]\u001b[A\n",
            " 18%|█▊        | 1854/10215 [00:44<03:27, 40.35it/s]\u001b[A\n",
            " 18%|█▊        | 1859/10215 [00:44<03:29, 39.97it/s]\u001b[A\n",
            " 18%|█▊        | 1864/10215 [00:44<03:30, 39.61it/s]\u001b[A\n",
            " 18%|█▊        | 1869/10215 [00:45<03:27, 40.26it/s]\u001b[A\n",
            " 18%|█▊        | 1874/10215 [00:45<03:25, 40.57it/s]\u001b[A\n",
            " 18%|█▊        | 1879/10215 [00:45<03:22, 41.22it/s]\u001b[A\n",
            " 18%|█▊        | 1884/10215 [00:45<03:21, 41.33it/s]\u001b[A\n",
            " 18%|█▊        | 1889/10215 [00:45<03:23, 40.87it/s]\u001b[A\n",
            " 19%|█▊        | 1894/10215 [00:45<03:23, 40.79it/s]\u001b[A\n",
            " 19%|█▊        | 1899/10215 [00:45<03:31, 39.34it/s]\u001b[A\n",
            " 19%|█▊        | 1903/10215 [00:45<03:30, 39.53it/s]\u001b[A\n",
            " 19%|█▊        | 1907/10215 [00:46<03:32, 39.19it/s]\u001b[A\n",
            " 19%|█▊        | 1911/10215 [00:46<03:32, 39.01it/s]\u001b[A\n",
            " 19%|█▉        | 1916/10215 [00:46<03:29, 39.69it/s]\u001b[A\n",
            " 19%|█▉        | 1921/10215 [00:46<03:24, 40.47it/s]\u001b[A\n",
            " 19%|█▉        | 1926/10215 [00:46<03:22, 41.02it/s]\u001b[A\n",
            " 19%|█▉        | 1931/10215 [00:46<03:21, 41.12it/s]\u001b[A\n",
            " 19%|█▉        | 1936/10215 [00:46<03:20, 41.27it/s]\u001b[A\n",
            " 19%|█▉        | 1941/10215 [00:46<03:22, 40.90it/s]\u001b[A\n",
            " 19%|█▉        | 1946/10215 [00:46<03:25, 40.29it/s]\u001b[A\n",
            " 19%|█▉        | 1951/10215 [00:47<03:23, 40.65it/s]\u001b[A\n",
            " 19%|█▉        | 1956/10215 [00:47<03:22, 40.82it/s]\u001b[A\n",
            " 19%|█▉        | 1961/10215 [00:47<03:19, 41.41it/s]\u001b[A\n",
            " 19%|█▉        | 1966/10215 [00:47<03:20, 41.21it/s]\u001b[A\n",
            " 19%|█▉        | 1971/10215 [00:47<03:23, 40.53it/s]\u001b[A\n",
            " 19%|█▉        | 1976/10215 [00:47<03:22, 40.63it/s]\u001b[A\n",
            " 19%|█▉        | 1981/10215 [00:47<03:20, 41.00it/s]\u001b[A\n",
            " 19%|█▉        | 1986/10215 [00:47<03:19, 41.16it/s]\u001b[A\n",
            " 19%|█▉        | 1991/10215 [00:48<03:24, 40.23it/s]\u001b[A\n",
            " 20%|█▉        | 1996/10215 [00:48<03:23, 40.34it/s]\u001b[A\n",
            " 20%|█▉        | 2001/10215 [00:48<03:23, 40.41it/s]\u001b[A\n",
            " 20%|█▉        | 2006/10215 [00:48<03:21, 40.73it/s]\u001b[A\n",
            " 20%|█▉        | 2011/10215 [00:48<03:19, 41.14it/s]\u001b[A\n",
            " 20%|█▉        | 2016/10215 [00:48<03:19, 41.05it/s]\u001b[A\n",
            " 20%|█▉        | 2021/10215 [00:48<03:22, 40.56it/s]\u001b[A\n",
            " 20%|█▉        | 2026/10215 [00:48<03:20, 40.86it/s]\u001b[A\n",
            " 20%|█▉        | 2031/10215 [00:49<03:20, 40.75it/s]\u001b[A\n",
            " 20%|█▉        | 2036/10215 [00:49<03:19, 40.95it/s]\u001b[A\n",
            " 20%|█▉        | 2041/10215 [00:49<03:17, 41.49it/s]\u001b[A\n",
            " 20%|██        | 2046/10215 [00:49<03:20, 40.82it/s]\u001b[A\n",
            " 20%|██        | 2051/10215 [00:49<03:22, 40.27it/s]\u001b[A\n",
            " 20%|██        | 2056/10215 [00:49<03:21, 40.43it/s]\u001b[A\n",
            " 20%|██        | 2061/10215 [00:49<03:18, 41.15it/s]\u001b[A\n",
            " 20%|██        | 2066/10215 [00:49<03:15, 41.62it/s]\u001b[A\n",
            " 20%|██        | 2071/10215 [00:50<03:19, 40.75it/s]\u001b[A\n",
            " 20%|██        | 2076/10215 [00:50<03:21, 40.43it/s]\u001b[A\n",
            " 20%|██        | 2081/10215 [00:50<03:21, 40.46it/s]\u001b[A\n",
            " 20%|██        | 2086/10215 [00:50<03:20, 40.61it/s]\u001b[A\n",
            " 20%|██        | 2091/10215 [00:50<03:18, 40.85it/s]\u001b[A\n",
            " 21%|██        | 2096/10215 [00:50<03:17, 41.11it/s]\u001b[A\n",
            " 21%|██        | 2101/10215 [00:50<03:17, 41.03it/s]\u001b[A\n",
            " 21%|██        | 2106/10215 [00:50<03:19, 40.64it/s]\u001b[A\n",
            " 21%|██        | 2111/10215 [00:51<03:20, 40.34it/s]\u001b[A\n",
            " 21%|██        | 2116/10215 [00:51<03:20, 40.38it/s]\u001b[A\n",
            " 21%|██        | 2121/10215 [00:51<03:17, 40.96it/s]\u001b[A\n",
            " 21%|██        | 2126/10215 [00:51<03:18, 40.65it/s]\u001b[A\n",
            " 21%|██        | 2131/10215 [00:51<03:18, 40.80it/s]\u001b[A\n",
            " 21%|██        | 2136/10215 [00:51<03:17, 40.98it/s]\u001b[A\n",
            " 21%|██        | 2141/10215 [00:51<03:16, 41.13it/s]\u001b[A\n",
            " 21%|██        | 2146/10215 [00:51<03:16, 41.04it/s]\u001b[A\n",
            " 21%|██        | 2151/10215 [00:51<03:18, 40.59it/s]\u001b[A\n",
            " 21%|██        | 2156/10215 [00:52<03:19, 40.42it/s]\u001b[A\n",
            " 21%|██        | 2161/10215 [00:52<03:16, 40.93it/s]\u001b[A\n",
            " 21%|██        | 2166/10215 [00:52<03:17, 40.83it/s]\u001b[A\n",
            " 21%|██▏       | 2171/10215 [00:52<03:16, 40.97it/s]\u001b[A\n",
            " 21%|██▏       | 2176/10215 [00:52<03:17, 40.65it/s]\u001b[A\n",
            " 21%|██▏       | 2181/10215 [00:52<03:16, 40.79it/s]\u001b[A\n",
            " 21%|██▏       | 2186/10215 [00:52<03:16, 40.88it/s]\u001b[A\n",
            " 21%|██▏       | 2191/10215 [00:52<03:17, 40.57it/s]\u001b[A\n",
            " 21%|██▏       | 2196/10215 [00:53<03:24, 39.24it/s]\u001b[A\n",
            " 22%|██▏       | 2201/10215 [00:53<03:22, 39.65it/s]\u001b[A\n",
            " 22%|██▏       | 2206/10215 [00:53<03:18, 40.26it/s]\u001b[A\n",
            " 22%|██▏       | 2211/10215 [00:53<03:16, 40.70it/s]\u001b[A\n",
            " 22%|██▏       | 2216/10215 [00:53<03:15, 40.83it/s]\u001b[A\n",
            " 22%|██▏       | 2221/10215 [00:53<03:18, 40.28it/s]\u001b[A\n",
            " 22%|██▏       | 2226/10215 [00:53<03:16, 40.71it/s]\u001b[A\n",
            " 22%|██▏       | 2231/10215 [00:53<03:15, 40.76it/s]\u001b[A\n",
            " 22%|██▏       | 2236/10215 [00:54<03:18, 40.29it/s]\u001b[A\n",
            " 22%|██▏       | 2241/10215 [00:54<03:16, 40.60it/s]\u001b[A\n",
            " 22%|██▏       | 2246/10215 [00:54<03:14, 40.91it/s]\u001b[A\n",
            " 22%|██▏       | 2251/10215 [00:54<03:16, 40.54it/s]\u001b[A\n",
            " 22%|██▏       | 2256/10215 [00:54<03:14, 40.94it/s]\u001b[A\n",
            " 22%|██▏       | 2261/10215 [00:54<03:15, 40.76it/s]\u001b[A\n",
            " 22%|██▏       | 2266/10215 [00:54<03:14, 40.85it/s]\u001b[A\n",
            " 22%|██▏       | 2271/10215 [00:54<03:18, 40.12it/s]\u001b[A\n",
            " 22%|██▏       | 2276/10215 [00:55<03:19, 39.75it/s]\u001b[A\n",
            " 22%|██▏       | 2281/10215 [00:55<03:17, 40.22it/s]\u001b[A\n",
            " 22%|██▏       | 2286/10215 [00:55<03:15, 40.63it/s]\u001b[A\n",
            " 22%|██▏       | 2291/10215 [00:55<03:17, 40.21it/s]\u001b[A\n",
            " 22%|██▏       | 2296/10215 [00:55<03:18, 39.81it/s]\u001b[A\n",
            " 23%|██▎       | 2300/10215 [00:55<03:19, 39.74it/s]\u001b[A\n",
            " 23%|██▎       | 2305/10215 [00:55<03:16, 40.29it/s]\u001b[A\n",
            " 23%|██▎       | 2310/10215 [00:55<03:14, 40.58it/s]\u001b[A\n",
            " 23%|██▎       | 2315/10215 [00:56<03:13, 40.73it/s]\u001b[A\n",
            " 23%|██▎       | 2320/10215 [00:56<03:19, 39.61it/s]\u001b[A\n",
            " 23%|██▎       | 2324/10215 [00:56<03:18, 39.66it/s]\u001b[A\n",
            " 23%|██▎       | 2329/10215 [00:56<03:16, 40.06it/s]\u001b[A\n",
            " 23%|██▎       | 2334/10215 [00:56<03:16, 40.18it/s]\u001b[A\n",
            " 23%|██▎       | 2339/10215 [00:56<03:16, 40.14it/s]\u001b[A\n",
            " 23%|██▎       | 2344/10215 [00:56<03:13, 40.58it/s]\u001b[A\n",
            " 23%|██▎       | 2349/10215 [00:56<03:11, 41.00it/s]\u001b[A\n",
            " 23%|██▎       | 2354/10215 [00:56<03:10, 41.29it/s]\u001b[A\n",
            " 23%|██▎       | 2359/10215 [00:57<03:17, 39.87it/s]\u001b[A\n",
            " 23%|██▎       | 2363/10215 [00:57<03:18, 39.61it/s]\u001b[A\n",
            " 23%|██▎       | 2368/10215 [00:57<03:15, 40.22it/s]\u001b[A\n",
            " 23%|██▎       | 2373/10215 [00:57<03:13, 40.62it/s]\u001b[A\n",
            " 23%|██▎       | 2378/10215 [00:57<03:12, 40.62it/s]\u001b[A\n",
            " 23%|██▎       | 2383/10215 [00:57<03:12, 40.77it/s]\u001b[A\n",
            " 23%|██▎       | 2388/10215 [00:57<03:13, 40.55it/s]\u001b[A\n",
            " 23%|██▎       | 2393/10215 [00:57<03:13, 40.47it/s]\u001b[A\n",
            " 23%|██▎       | 2398/10215 [00:58<03:13, 40.38it/s]\u001b[A\n",
            " 24%|██▎       | 2403/10215 [00:58<03:11, 40.81it/s]\u001b[A\n",
            " 24%|██▎       | 2408/10215 [00:58<03:18, 39.28it/s]\u001b[A\n",
            " 24%|██▎       | 2413/10215 [00:58<03:14, 40.21it/s]\u001b[A\n",
            " 24%|██▎       | 2418/10215 [00:58<03:12, 40.48it/s]\u001b[A\n",
            " 24%|██▎       | 2423/10215 [00:58<03:15, 39.91it/s]\u001b[A\n",
            " 24%|██▍       | 2428/10215 [00:58<03:15, 39.90it/s]\u001b[A\n",
            " 24%|██▍       | 2433/10215 [00:58<03:13, 40.30it/s]\u001b[A\n",
            " 24%|██▍       | 2438/10215 [00:59<03:11, 40.67it/s]\u001b[A\n",
            " 24%|██▍       | 2443/10215 [00:59<03:15, 39.66it/s]\u001b[A\n",
            " 24%|██▍       | 2447/10215 [00:59<03:17, 39.31it/s]\u001b[A\n",
            " 24%|██▍       | 2452/10215 [00:59<03:14, 39.88it/s]\u001b[A\n",
            " 24%|██▍       | 2457/10215 [00:59<03:11, 40.58it/s]\u001b[A\n",
            " 24%|██▍       | 2462/10215 [00:59<03:11, 40.57it/s]\u001b[A\n",
            " 24%|██▍       | 2467/10215 [00:59<03:10, 40.73it/s]\u001b[A\n",
            " 24%|██▍       | 2472/10215 [00:59<03:07, 41.30it/s]\u001b[A\n",
            " 24%|██▍       | 2477/10215 [01:00<03:06, 41.40it/s]\u001b[A\n",
            " 24%|██▍       | 2482/10215 [01:00<03:11, 40.39it/s]\u001b[A\n",
            " 24%|██▍       | 2487/10215 [01:00<03:11, 40.41it/s]\u001b[A\n",
            " 24%|██▍       | 2492/10215 [01:00<03:11, 40.23it/s]\u001b[A\n",
            " 24%|██▍       | 2497/10215 [01:00<03:09, 40.75it/s]\u001b[A\n",
            " 24%|██▍       | 2502/10215 [01:00<03:08, 40.89it/s]\u001b[A\n",
            " 25%|██▍       | 2507/10215 [01:00<03:09, 40.76it/s]\u001b[A\n",
            " 25%|██▍       | 2512/10215 [01:00<03:11, 40.23it/s]\u001b[A\n",
            " 25%|██▍       | 2517/10215 [01:01<03:12, 40.04it/s]\u001b[A\n",
            " 25%|██▍       | 2522/10215 [01:01<03:12, 39.98it/s]\u001b[A\n",
            " 25%|██▍       | 2527/10215 [01:01<03:10, 40.36it/s]\u001b[A\n",
            " 25%|██▍       | 2532/10215 [01:01<03:09, 40.61it/s]\u001b[A\n",
            " 25%|██▍       | 2537/10215 [01:01<03:11, 40.07it/s]\u001b[A\n",
            " 25%|██▍       | 2542/10215 [01:01<03:10, 40.34it/s]\u001b[A\n",
            " 25%|██▍       | 2547/10215 [01:01<03:09, 40.54it/s]\u001b[A\n",
            " 25%|██▍       | 2552/10215 [01:01<03:13, 39.50it/s]\u001b[A\n",
            " 25%|██▌       | 2556/10215 [01:02<03:16, 38.93it/s]\u001b[A\n",
            " 25%|██▌       | 2560/10215 [01:02<03:16, 39.02it/s]\u001b[A\n",
            " 25%|██▌       | 2564/10215 [01:02<03:17, 38.74it/s]\u001b[A\n",
            " 25%|██▌       | 2568/10215 [01:02<03:18, 38.60it/s]\u001b[A\n",
            " 25%|██▌       | 2572/10215 [01:02<03:17, 38.78it/s]\u001b[A\n",
            " 25%|██▌       | 2577/10215 [01:02<03:11, 39.89it/s]\u001b[A\n",
            " 25%|██▌       | 2581/10215 [01:02<03:12, 39.74it/s]\u001b[A\n",
            " 25%|██▌       | 2585/10215 [01:02<03:11, 39.78it/s]\u001b[A\n",
            " 25%|██▌       | 2589/10215 [01:02<03:12, 39.54it/s]\u001b[A\n",
            " 25%|██▌       | 2593/10215 [01:02<03:14, 39.12it/s]\u001b[A\n",
            " 25%|██▌       | 2597/10215 [01:03<03:13, 39.31it/s]\u001b[A\n",
            " 25%|██▌       | 2601/10215 [01:03<03:16, 38.74it/s]\u001b[A\n",
            " 26%|██▌       | 2605/10215 [01:03<03:14, 39.06it/s]\u001b[A\n",
            " 26%|██▌       | 2610/10215 [01:03<03:09, 40.06it/s]\u001b[A\n",
            " 26%|██▌       | 2615/10215 [01:03<03:07, 40.58it/s]\u001b[A\n",
            " 26%|██▌       | 2620/10215 [01:03<03:09, 40.15it/s]\u001b[A\n",
            " 26%|██▌       | 2625/10215 [01:03<03:08, 40.36it/s]\u001b[A\n",
            " 26%|██▌       | 2630/10215 [01:03<03:06, 40.69it/s]\u001b[A\n",
            " 26%|██▌       | 2635/10215 [01:03<03:04, 41.12it/s]\u001b[A\n",
            " 26%|██▌       | 2640/10215 [01:04<03:04, 41.00it/s]\u001b[A\n",
            " 26%|██▌       | 2645/10215 [01:04<03:08, 40.10it/s]\u001b[A\n",
            " 26%|██▌       | 2650/10215 [01:04<03:07, 40.32it/s]\u001b[A\n",
            " 26%|██▌       | 2655/10215 [01:04<03:06, 40.57it/s]\u001b[A\n",
            " 26%|██▌       | 2660/10215 [01:04<03:09, 39.82it/s]\u001b[A\n",
            " 26%|██▌       | 2665/10215 [01:04<03:08, 40.15it/s]\u001b[A\n",
            " 26%|██▌       | 2670/10215 [01:04<03:08, 39.95it/s]\u001b[A\n",
            " 26%|██▌       | 2674/10215 [01:04<03:08, 39.94it/s]\u001b[A\n",
            " 26%|██▌       | 2678/10215 [01:05<03:11, 39.44it/s]\u001b[A\n",
            " 26%|██▋       | 2682/10215 [01:05<03:14, 38.67it/s]\u001b[A\n",
            " 26%|██▋       | 2687/10215 [01:05<03:09, 39.63it/s]\u001b[A\n",
            " 26%|██▋       | 2692/10215 [01:05<03:07, 40.09it/s]\u001b[A\n",
            " 26%|██▋       | 2697/10215 [01:05<03:06, 40.34it/s]\u001b[A\n",
            " 26%|██▋       | 2702/10215 [01:05<03:06, 40.19it/s]\u001b[A\n",
            " 27%|██▋       | 2707/10215 [01:05<03:04, 40.74it/s]\u001b[A\n",
            " 27%|██▋       | 2712/10215 [01:05<03:03, 40.78it/s]\u001b[A\n",
            " 27%|██▋       | 2717/10215 [01:06<03:03, 40.85it/s]\u001b[A\n",
            " 27%|██▋       | 2722/10215 [01:06<03:03, 40.80it/s]\u001b[A\n",
            " 27%|██▋       | 2727/10215 [01:06<03:05, 40.38it/s]\u001b[A\n",
            " 27%|██▋       | 2732/10215 [01:06<03:05, 40.35it/s]\u001b[A\n",
            " 27%|██▋       | 2737/10215 [01:06<03:05, 40.21it/s]\u001b[A\n",
            " 27%|██▋       | 2742/10215 [01:06<03:04, 40.47it/s]\u001b[A\n",
            " 27%|██▋       | 2747/10215 [01:06<03:04, 40.40it/s]\u001b[A\n",
            " 27%|██▋       | 2752/10215 [01:06<03:04, 40.41it/s]\u001b[A\n",
            " 27%|██▋       | 2757/10215 [01:07<03:04, 40.36it/s]\u001b[A\n",
            " 27%|██▋       | 2762/10215 [01:07<03:02, 40.85it/s]\u001b[A\n",
            " 27%|██▋       | 2767/10215 [01:07<03:05, 40.22it/s]\u001b[A\n",
            " 27%|██▋       | 2772/10215 [01:07<03:05, 40.14it/s]\u001b[A\n",
            " 27%|██▋       | 2777/10215 [01:07<03:04, 40.42it/s]\u001b[A\n",
            " 27%|██▋       | 2782/10215 [01:07<03:06, 39.93it/s]\u001b[A\n",
            " 27%|██▋       | 2786/10215 [01:07<03:14, 38.22it/s]\u001b[A\n",
            " 27%|██▋       | 2790/10215 [01:07<03:13, 38.46it/s]\u001b[A\n",
            " 27%|██▋       | 2795/10215 [01:07<03:07, 39.48it/s]\u001b[A\n",
            " 27%|██▋       | 2799/10215 [01:08<03:09, 39.17it/s]\u001b[A\n",
            " 27%|██▋       | 2803/10215 [01:08<03:11, 38.71it/s]\u001b[A\n",
            " 27%|██▋       | 2807/10215 [01:08<03:11, 38.65it/s]\u001b[A\n",
            " 28%|██▊       | 2811/10215 [01:08<03:11, 38.57it/s]\u001b[A\n",
            " 28%|██▊       | 2815/10215 [01:08<03:12, 38.46it/s]\u001b[A\n",
            " 28%|██▊       | 2820/10215 [01:08<03:07, 39.54it/s]\u001b[A\n",
            " 28%|██▊       | 2824/10215 [01:08<03:08, 39.24it/s]\u001b[A\n",
            " 28%|██▊       | 2828/10215 [01:08<03:08, 39.09it/s]\u001b[A\n",
            " 28%|██▊       | 2833/10215 [01:08<03:05, 39.83it/s]\u001b[A\n",
            " 28%|██▊       | 2837/10215 [01:09<03:08, 39.08it/s]\u001b[A\n",
            " 28%|██▊       | 2841/10215 [01:09<03:07, 39.23it/s]\u001b[A\n",
            " 28%|██▊       | 2845/10215 [01:09<03:09, 38.83it/s]\u001b[A\n",
            " 28%|██▊       | 2850/10215 [01:09<03:06, 39.51it/s]\u001b[A\n",
            " 28%|██▊       | 2854/10215 [01:09<03:11, 38.51it/s]\u001b[A\n",
            " 28%|██▊       | 2858/10215 [01:09<03:11, 38.33it/s]\u001b[A\n",
            " 28%|██▊       | 2862/10215 [01:09<03:10, 38.52it/s]\u001b[A\n",
            " 28%|██▊       | 2866/10215 [01:09<03:12, 38.25it/s]\u001b[A\n",
            " 28%|██▊       | 2870/10215 [01:09<03:12, 38.21it/s]\u001b[A\n",
            " 28%|██▊       | 2875/10215 [01:10<03:07, 39.13it/s]\u001b[A\n",
            " 28%|██▊       | 2879/10215 [01:10<03:11, 38.34it/s]\u001b[A\n",
            " 28%|██▊       | 2883/10215 [01:10<03:16, 37.38it/s]\u001b[A\n",
            " 28%|██▊       | 2888/10215 [01:10<03:10, 38.48it/s]\u001b[A\n",
            " 28%|██▊       | 2893/10215 [01:10<03:05, 39.39it/s]\u001b[A\n",
            " 28%|██▊       | 2897/10215 [01:10<03:06, 39.27it/s]\u001b[A\n",
            " 28%|██▊       | 2901/10215 [01:10<03:06, 39.27it/s]\u001b[A\n",
            " 28%|██▊       | 2905/10215 [01:10<03:07, 38.99it/s]\u001b[A\n",
            " 28%|██▊       | 2909/10215 [01:10<03:11, 38.16it/s]\u001b[A\n",
            " 29%|██▊       | 2913/10215 [01:11<03:09, 38.63it/s]\u001b[A\n",
            " 29%|██▊       | 2918/10215 [01:11<03:04, 39.48it/s]\u001b[A\n",
            " 29%|██▊       | 2922/10215 [01:11<03:05, 39.40it/s]\u001b[A\n",
            " 29%|██▊       | 2926/10215 [01:11<03:08, 38.72it/s]\u001b[A\n",
            " 29%|██▊       | 2931/10215 [01:11<03:04, 39.43it/s]\u001b[A\n",
            " 29%|██▊       | 2935/10215 [01:11<03:05, 39.14it/s]\u001b[A\n",
            " 29%|██▉       | 2939/10215 [01:11<03:07, 38.75it/s]\u001b[A\n",
            " 29%|██▉       | 2943/10215 [01:11<03:06, 39.01it/s]\u001b[A\n",
            " 29%|██▉       | 2947/10215 [01:11<03:07, 38.77it/s]\u001b[A\n",
            " 29%|██▉       | 2951/10215 [01:11<03:05, 39.08it/s]\u001b[A\n",
            " 29%|██▉       | 2956/10215 [01:12<03:03, 39.49it/s]\u001b[A\n",
            " 29%|██▉       | 2961/10215 [01:12<03:01, 40.00it/s]\u001b[A\n",
            " 29%|██▉       | 2966/10215 [01:12<03:05, 39.09it/s]\u001b[A\n",
            " 29%|██▉       | 2970/10215 [01:12<03:05, 39.14it/s]\u001b[A\n",
            " 29%|██▉       | 2974/10215 [01:12<03:04, 39.24it/s]\u001b[A\n",
            " 29%|██▉       | 2978/10215 [01:12<03:08, 38.30it/s]\u001b[A\n",
            " 29%|██▉       | 2982/10215 [01:12<03:09, 38.18it/s]\u001b[A\n",
            " 29%|██▉       | 2987/10215 [01:12<03:05, 38.98it/s]\u001b[A\n",
            " 29%|██▉       | 2991/10215 [01:13<03:04, 39.11it/s]\u001b[A\n",
            " 29%|██▉       | 2995/10215 [01:13<03:05, 39.02it/s]\u001b[A\n",
            " 29%|██▉       | 2999/10215 [01:13<03:06, 38.66it/s]\u001b[A\n",
            " 29%|██▉       | 3003/10215 [01:13<03:07, 38.51it/s]\u001b[A\n",
            " 29%|██▉       | 3007/10215 [01:13<03:06, 38.66it/s]\u001b[A\n",
            " 29%|██▉       | 3011/10215 [01:13<03:05, 38.89it/s]\u001b[A\n",
            " 30%|██▉       | 3016/10215 [01:13<03:02, 39.52it/s]\u001b[A\n",
            " 30%|██▉       | 3020/10215 [01:13<03:01, 39.62it/s]\u001b[A\n",
            " 30%|██▉       | 3024/10215 [01:13<03:09, 37.88it/s]\u001b[A\n",
            " 30%|██▉       | 3028/10215 [01:13<03:07, 38.28it/s]\u001b[A\n",
            " 30%|██▉       | 3032/10215 [01:14<03:07, 38.38it/s]\u001b[A\n",
            " 30%|██▉       | 3036/10215 [01:14<03:06, 38.51it/s]\u001b[A\n",
            " 30%|██▉       | 3041/10215 [01:14<03:05, 38.76it/s]\u001b[A\n",
            " 30%|██▉       | 3045/10215 [01:14<03:07, 38.27it/s]\u001b[A\n",
            " 30%|██▉       | 3050/10215 [01:14<03:03, 39.14it/s]\u001b[A\n",
            " 30%|██▉       | 3055/10215 [01:14<02:59, 39.98it/s]\u001b[A\n",
            " 30%|██▉       | 3060/10215 [01:14<02:57, 40.40it/s]\u001b[A\n",
            " 30%|███       | 3065/10215 [01:14<02:58, 40.12it/s]\u001b[A\n",
            " 30%|███       | 3070/10215 [01:15<02:58, 39.95it/s]\u001b[A\n",
            " 30%|███       | 3075/10215 [01:15<02:56, 40.35it/s]\u001b[A\n",
            " 30%|███       | 3080/10215 [01:15<02:58, 39.91it/s]\u001b[A\n",
            " 30%|███       | 3084/10215 [01:15<03:00, 39.43it/s]\u001b[A\n",
            " 30%|███       | 3089/10215 [01:15<02:58, 39.86it/s]\u001b[A\n",
            " 30%|███       | 3093/10215 [01:15<03:02, 39.06it/s]\u001b[A\n",
            " 30%|███       | 3097/10215 [01:15<03:05, 38.46it/s]\u001b[A\n",
            " 30%|███       | 3102/10215 [01:15<03:00, 39.35it/s]\u001b[A\n",
            " 30%|███       | 3106/10215 [01:15<03:00, 39.33it/s]\u001b[A\n",
            " 30%|███       | 3110/10215 [01:16<03:01, 39.08it/s]\u001b[A\n",
            " 30%|███       | 3114/10215 [01:16<03:01, 39.08it/s]\u001b[A\n",
            " 31%|███       | 3118/10215 [01:16<03:01, 39.14it/s]\u001b[A\n",
            " 31%|███       | 3122/10215 [01:16<03:06, 37.99it/s]\u001b[A\n",
            " 31%|███       | 3126/10215 [01:16<03:04, 38.38it/s]\u001b[A\n",
            " 31%|███       | 3130/10215 [01:16<03:03, 38.56it/s]\u001b[A\n",
            " 31%|███       | 3134/10215 [01:16<03:05, 38.27it/s]\u001b[A\n",
            " 31%|███       | 3138/10215 [01:16<03:04, 38.26it/s]\u001b[A\n",
            " 31%|███       | 3142/10215 [01:16<03:05, 38.03it/s]\u001b[A\n",
            " 31%|███       | 3146/10215 [01:16<03:05, 38.12it/s]\u001b[A\n",
            " 31%|███       | 3150/10215 [01:17<03:06, 37.79it/s]\u001b[A\n",
            " 31%|███       | 3154/10215 [01:17<03:05, 38.03it/s]\u001b[A\n",
            " 31%|███       | 3158/10215 [01:17<03:04, 38.24it/s]\u001b[A\n",
            " 31%|███       | 3162/10215 [01:17<03:05, 37.99it/s]\u001b[A\n",
            " 31%|███       | 3166/10215 [01:17<03:03, 38.39it/s]\u001b[A\n",
            " 31%|███       | 3170/10215 [01:17<03:03, 38.40it/s]\u001b[A\n",
            " 31%|███       | 3174/10215 [01:17<03:03, 38.45it/s]\u001b[A\n",
            " 31%|███       | 3178/10215 [01:17<03:04, 38.19it/s]\u001b[A\n",
            " 31%|███       | 3182/10215 [01:17<03:03, 38.26it/s]\u001b[A\n",
            " 31%|███       | 3186/10215 [01:18<03:01, 38.76it/s]\u001b[A\n",
            " 31%|███       | 3190/10215 [01:18<03:01, 38.62it/s]\u001b[A\n",
            " 31%|███▏      | 3194/10215 [01:18<03:03, 38.22it/s]\u001b[A\n",
            " 31%|███▏      | 3198/10215 [01:18<03:07, 37.38it/s]\u001b[A\n",
            " 31%|███▏      | 3202/10215 [01:18<03:07, 37.35it/s]\u001b[A\n",
            " 31%|███▏      | 3206/10215 [01:18<03:05, 37.82it/s]\u001b[A\n",
            " 31%|███▏      | 3210/10215 [01:18<03:03, 38.18it/s]\u001b[A\n",
            " 31%|███▏      | 3214/10215 [01:18<03:03, 38.08it/s]\u001b[A\n",
            " 32%|███▏      | 3218/10215 [01:18<03:02, 38.43it/s]\u001b[A\n",
            " 32%|███▏      | 3222/10215 [01:18<03:01, 38.48it/s]\u001b[A\n",
            " 32%|███▏      | 3226/10215 [01:19<03:01, 38.54it/s]\u001b[A\n",
            " 32%|███▏      | 3230/10215 [01:19<03:02, 38.24it/s]\u001b[A\n",
            " 32%|███▏      | 3234/10215 [01:19<03:03, 38.13it/s]\u001b[A\n",
            " 32%|███▏      | 3238/10215 [01:19<03:05, 37.71it/s]\u001b[A\n",
            " 32%|███▏      | 3242/10215 [01:19<03:06, 37.32it/s]\u001b[A\n",
            " 32%|███▏      | 3246/10215 [01:19<03:06, 37.42it/s]\u001b[A\n",
            " 32%|███▏      | 3250/10215 [01:19<03:06, 37.30it/s]\u001b[A\n",
            " 32%|███▏      | 3254/10215 [01:19<03:04, 37.69it/s]\u001b[A\n",
            " 32%|███▏      | 3258/10215 [01:19<03:01, 38.27it/s]\u001b[A\n",
            " 32%|███▏      | 3262/10215 [01:20<03:02, 38.00it/s]\u001b[A\n",
            " 32%|███▏      | 3266/10215 [01:20<03:01, 38.30it/s]\u001b[A\n",
            " 32%|███▏      | 3270/10215 [01:20<03:02, 38.09it/s]\u001b[A\n",
            " 32%|███▏      | 3274/10215 [01:20<03:00, 38.51it/s]\u001b[A\n",
            " 32%|███▏      | 3278/10215 [01:20<03:01, 38.12it/s]\u001b[A\n",
            " 32%|███▏      | 3283/10215 [01:20<02:57, 39.06it/s]\u001b[A\n",
            " 32%|███▏      | 3287/10215 [01:20<02:56, 39.26it/s]\u001b[A\n",
            " 32%|███▏      | 3291/10215 [01:20<02:57, 39.07it/s]\u001b[A\n",
            " 32%|███▏      | 3296/10215 [01:20<02:54, 39.68it/s]\u001b[A\n",
            " 32%|███▏      | 3300/10215 [01:21<02:56, 39.09it/s]\u001b[A\n",
            " 32%|███▏      | 3304/10215 [01:21<02:57, 38.91it/s]\u001b[A\n",
            " 32%|███▏      | 3308/10215 [01:21<02:57, 38.86it/s]\u001b[A\n",
            " 32%|███▏      | 3312/10215 [01:21<02:57, 38.98it/s]\u001b[A\n",
            " 32%|███▏      | 3316/10215 [01:21<03:00, 38.18it/s]\u001b[A\n",
            " 33%|███▎      | 3320/10215 [01:21<02:59, 38.34it/s]\u001b[A\n",
            " 33%|███▎      | 3324/10215 [01:21<02:57, 38.75it/s]\u001b[A\n",
            " 33%|███▎      | 3328/10215 [01:21<02:57, 38.75it/s]\u001b[A\n",
            " 33%|███▎      | 3332/10215 [01:21<02:56, 39.00it/s]\u001b[A\n",
            " 33%|███▎      | 3336/10215 [01:21<02:57, 38.69it/s]\u001b[A\n",
            " 33%|███▎      | 3340/10215 [01:22<02:57, 38.78it/s]\u001b[A\n",
            " 33%|███▎      | 3344/10215 [01:22<02:56, 38.90it/s]\u001b[A\n",
            " 33%|███▎      | 3348/10215 [01:22<02:59, 38.28it/s]\u001b[A\n",
            " 33%|███▎      | 3352/10215 [01:22<03:03, 37.48it/s]\u001b[A\n",
            " 33%|███▎      | 3356/10215 [01:22<03:06, 36.77it/s]\u001b[A\n",
            " 33%|███▎      | 3361/10215 [01:22<03:00, 38.08it/s]\u001b[A\n",
            " 33%|███▎      | 3365/10215 [01:22<03:02, 37.55it/s]\u001b[A\n",
            " 33%|███▎      | 3369/10215 [01:22<02:59, 38.07it/s]\u001b[A\n",
            " 33%|███▎      | 3373/10215 [01:22<02:58, 38.40it/s]\u001b[A\n",
            " 33%|███▎      | 3377/10215 [01:23<02:57, 38.47it/s]\u001b[A\n",
            " 33%|███▎      | 3381/10215 [01:23<02:57, 38.55it/s]\u001b[A\n",
            " 33%|███▎      | 3385/10215 [01:23<02:56, 38.78it/s]\u001b[A\n",
            " 33%|███▎      | 3389/10215 [01:23<02:57, 38.45it/s]\u001b[A\n",
            " 33%|███▎      | 3393/10215 [01:23<02:57, 38.42it/s]\u001b[A\n",
            " 33%|███▎      | 3397/10215 [01:23<02:57, 38.45it/s]\u001b[A\n",
            " 33%|███▎      | 3401/10215 [01:23<02:57, 38.32it/s]\u001b[A\n",
            " 33%|███▎      | 3405/10215 [01:23<02:57, 38.47it/s]\u001b[A\n",
            " 33%|███▎      | 3409/10215 [01:23<02:56, 38.51it/s]\u001b[A\n",
            " 33%|███▎      | 3413/10215 [01:23<02:58, 38.11it/s]\u001b[A\n",
            " 33%|███▎      | 3417/10215 [01:24<02:58, 37.98it/s]\u001b[A\n",
            " 33%|███▎      | 3421/10215 [01:24<02:58, 38.06it/s]\u001b[A\n",
            " 34%|███▎      | 3425/10215 [01:24<02:57, 38.16it/s]\u001b[A\n",
            " 34%|███▎      | 3429/10215 [01:24<02:57, 38.28it/s]\u001b[A\n",
            " 34%|███▎      | 3433/10215 [01:24<02:59, 37.85it/s]\u001b[A\n",
            " 34%|███▎      | 3437/10215 [01:24<02:57, 38.10it/s]\u001b[A\n",
            " 34%|███▎      | 3441/10215 [01:24<02:58, 37.93it/s]\u001b[A\n",
            " 34%|███▎      | 3445/10215 [01:24<02:57, 38.19it/s]\u001b[A\n",
            " 34%|███▍      | 3450/10215 [01:24<02:52, 39.16it/s]\u001b[A\n",
            " 34%|███▍      | 3454/10215 [01:25<02:55, 38.52it/s]\u001b[A\n",
            " 34%|███▍      | 3459/10215 [01:25<02:52, 39.27it/s]\u001b[A\n",
            " 34%|███▍      | 3463/10215 [01:25<02:52, 39.13it/s]\u001b[A\n",
            " 34%|███▍      | 3467/10215 [01:25<02:56, 38.26it/s]\u001b[A\n",
            " 34%|███▍      | 3471/10215 [01:25<02:56, 38.18it/s]\u001b[A\n",
            " 34%|███▍      | 3475/10215 [01:25<02:59, 37.50it/s]\u001b[A\n",
            " 34%|███▍      | 3479/10215 [01:25<02:58, 37.64it/s]\u001b[A\n",
            " 34%|███▍      | 3483/10215 [01:25<02:57, 37.83it/s]\u001b[A\n",
            " 34%|███▍      | 3487/10215 [01:25<02:57, 37.97it/s]\u001b[A\n",
            " 34%|███▍      | 3492/10215 [01:26<02:52, 38.95it/s]\u001b[A\n",
            " 34%|███▍      | 3496/10215 [01:26<02:53, 38.75it/s]\u001b[A\n",
            " 34%|███▍      | 3500/10215 [01:26<02:54, 38.39it/s]\u001b[A\n",
            " 34%|███▍      | 3504/10215 [01:26<02:55, 38.31it/s]\u001b[A\n",
            " 34%|███▍      | 3508/10215 [01:26<02:55, 38.24it/s]\u001b[A\n",
            " 34%|███▍      | 3512/10215 [01:26<02:58, 37.61it/s]\u001b[A\n",
            " 34%|███▍      | 3516/10215 [01:26<02:55, 38.12it/s]\u001b[A\n",
            " 34%|███▍      | 3520/10215 [01:26<02:57, 37.69it/s]\u001b[A\n",
            " 34%|███▍      | 3524/10215 [01:26<02:54, 38.28it/s]\u001b[A\n",
            " 35%|███▍      | 3528/10215 [01:26<02:54, 38.42it/s]\u001b[A\n",
            " 35%|███▍      | 3532/10215 [01:27<02:55, 38.12it/s]\u001b[A\n",
            " 35%|███▍      | 3536/10215 [01:27<02:55, 38.07it/s]\u001b[A\n",
            " 35%|███▍      | 3540/10215 [01:27<02:57, 37.67it/s]\u001b[A\n",
            " 35%|███▍      | 3544/10215 [01:27<02:54, 38.14it/s]\u001b[A\n",
            " 35%|███▍      | 3548/10215 [01:27<02:59, 37.17it/s]\u001b[A\n",
            " 35%|███▍      | 3552/10215 [01:27<02:57, 37.51it/s]\u001b[A\n",
            " 35%|███▍      | 3556/10215 [01:27<02:54, 38.06it/s]\u001b[A\n",
            " 35%|███▍      | 3560/10215 [01:27<02:56, 37.62it/s]\u001b[A\n",
            " 35%|███▍      | 3564/10215 [01:27<02:56, 37.72it/s]\u001b[A\n",
            " 35%|███▍      | 3568/10215 [01:28<02:55, 37.80it/s]\u001b[A\n",
            " 35%|███▍      | 3572/10215 [01:28<02:55, 37.95it/s]\u001b[A\n",
            " 35%|███▌      | 3576/10215 [01:28<02:56, 37.69it/s]\u001b[A\n",
            " 35%|███▌      | 3580/10215 [01:28<02:53, 38.17it/s]\u001b[A\n",
            " 35%|███▌      | 3584/10215 [01:28<02:54, 38.10it/s]\u001b[A\n",
            " 35%|███▌      | 3588/10215 [01:28<02:56, 37.62it/s]\u001b[A\n",
            " 35%|███▌      | 3592/10215 [01:28<02:56, 37.62it/s]\u001b[A\n",
            " 35%|███▌      | 3596/10215 [01:28<02:54, 37.93it/s]\u001b[A\n",
            " 35%|███▌      | 3600/10215 [01:28<02:52, 38.34it/s]\u001b[A\n",
            " 35%|███▌      | 3604/10215 [01:28<02:53, 38.00it/s]\u001b[A\n",
            " 35%|███▌      | 3608/10215 [01:29<02:53, 38.13it/s]\u001b[A\n",
            " 35%|███▌      | 3612/10215 [01:29<03:01, 36.46it/s]\u001b[A\n",
            " 35%|███▌      | 3616/10215 [01:29<02:56, 37.31it/s]\u001b[A\n",
            " 35%|███▌      | 3620/10215 [01:29<02:57, 37.26it/s]\u001b[A\n",
            " 35%|███▌      | 3624/10215 [01:29<02:53, 37.98it/s]\u001b[A\n",
            " 36%|███▌      | 3628/10215 [01:29<02:53, 37.90it/s]\u001b[A\n",
            " 36%|███▌      | 3632/10215 [01:29<02:54, 37.66it/s]\u001b[A\n",
            " 36%|███▌      | 3636/10215 [01:29<02:52, 38.24it/s]\u001b[A\n",
            " 36%|███▌      | 3640/10215 [01:29<02:50, 38.58it/s]\u001b[A\n",
            " 36%|███▌      | 3644/10215 [01:30<02:52, 38.07it/s]\u001b[A\n",
            " 36%|███▌      | 3648/10215 [01:30<02:52, 38.12it/s]\u001b[A\n",
            " 36%|███▌      | 3652/10215 [01:30<02:49, 38.65it/s]\u001b[A\n",
            " 36%|███▌      | 3656/10215 [01:30<02:51, 38.29it/s]\u001b[A\n",
            " 36%|███▌      | 3660/10215 [01:30<02:49, 38.68it/s]\u001b[A\n",
            " 36%|███▌      | 3664/10215 [01:30<02:52, 37.99it/s]\u001b[A\n",
            " 36%|███▌      | 3668/10215 [01:30<02:50, 38.37it/s]\u001b[A\n",
            " 36%|███▌      | 3672/10215 [01:30<02:48, 38.76it/s]\u001b[A\n",
            " 36%|███▌      | 3677/10215 [01:30<02:45, 39.52it/s]\u001b[A\n",
            " 36%|███▌      | 3681/10215 [01:30<02:45, 39.59it/s]\u001b[A\n",
            " 36%|███▌      | 3685/10215 [01:31<02:47, 38.98it/s]\u001b[A\n",
            " 36%|███▌      | 3689/10215 [01:31<02:46, 39.16it/s]\u001b[A\n",
            " 36%|███▌      | 3693/10215 [01:31<02:47, 38.99it/s]\u001b[A\n",
            " 36%|███▌      | 3697/10215 [01:31<02:47, 38.99it/s]\u001b[A\n",
            " 36%|███▌      | 3701/10215 [01:31<02:47, 38.79it/s]\u001b[A\n",
            " 36%|███▋      | 3705/10215 [01:31<02:52, 37.82it/s]\u001b[A\n",
            " 36%|███▋      | 3709/10215 [01:31<02:51, 37.89it/s]\u001b[A\n",
            " 36%|███▋      | 3713/10215 [01:31<02:56, 36.90it/s]\u001b[A\n",
            " 36%|███▋      | 3717/10215 [01:31<02:56, 36.85it/s]\u001b[A\n",
            " 36%|███▋      | 3721/10215 [01:32<02:55, 36.93it/s]\u001b[A\n",
            " 36%|███▋      | 3725/10215 [01:32<03:00, 35.95it/s]\u001b[A\n",
            " 37%|███▋      | 3729/10215 [01:32<02:57, 36.50it/s]\u001b[A\n",
            " 37%|███▋      | 3733/10215 [01:32<02:56, 36.69it/s]\u001b[A\n",
            " 37%|███▋      | 3737/10215 [01:32<02:56, 36.78it/s]\u001b[A\n",
            " 37%|███▋      | 3741/10215 [01:32<02:57, 36.40it/s]\u001b[A\n",
            " 37%|███▋      | 3745/10215 [01:32<02:55, 36.80it/s]\u001b[A\n",
            " 37%|███▋      | 3749/10215 [01:32<02:53, 37.25it/s]\u001b[A\n",
            " 37%|███▋      | 3753/10215 [01:32<02:53, 37.25it/s]\u001b[A\n",
            " 37%|███▋      | 3757/10215 [01:33<02:53, 37.24it/s]\u001b[A\n",
            " 37%|███▋      | 3761/10215 [01:33<02:51, 37.61it/s]\u001b[A\n",
            " 37%|███▋      | 3765/10215 [01:33<02:49, 37.97it/s]\u001b[A\n",
            " 37%|███▋      | 3770/10215 [01:33<02:45, 38.99it/s]\u001b[A\n",
            " 37%|███▋      | 3774/10215 [01:33<02:47, 38.43it/s]\u001b[A\n",
            " 37%|███▋      | 3778/10215 [01:33<02:48, 38.23it/s]\u001b[A\n",
            " 37%|███▋      | 3782/10215 [01:33<02:52, 37.32it/s]\u001b[A\n",
            " 37%|███▋      | 3787/10215 [01:33<02:46, 38.49it/s]\u001b[A\n",
            " 37%|███▋      | 3791/10215 [01:33<02:45, 38.75it/s]\u001b[A\n",
            " 37%|███▋      | 3795/10215 [01:33<02:50, 37.74it/s]\u001b[A\n",
            " 37%|███▋      | 3799/10215 [01:34<02:48, 38.05it/s]\u001b[A\n",
            " 37%|███▋      | 3803/10215 [01:34<02:48, 37.97it/s]\u001b[A\n",
            " 37%|███▋      | 3807/10215 [01:34<02:49, 37.86it/s]\u001b[A\n",
            " 37%|███▋      | 3811/10215 [01:34<02:47, 38.15it/s]\u001b[A\n",
            " 37%|███▋      | 3815/10215 [01:34<02:47, 38.11it/s]\u001b[A\n",
            " 37%|███▋      | 3819/10215 [01:34<02:48, 37.99it/s]\u001b[A\n",
            " 37%|███▋      | 3823/10215 [01:34<02:50, 37.44it/s]\u001b[A\n",
            " 37%|███▋      | 3827/10215 [01:34<02:48, 37.93it/s]\u001b[A\n",
            " 38%|███▊      | 3831/10215 [01:34<02:47, 38.20it/s]\u001b[A\n",
            " 38%|███▊      | 3835/10215 [01:35<02:47, 38.20it/s]\u001b[A\n",
            " 38%|███▊      | 3839/10215 [01:35<02:46, 38.20it/s]\u001b[A\n",
            " 38%|███▊      | 3843/10215 [01:35<02:46, 38.23it/s]\u001b[A\n",
            " 38%|███▊      | 3847/10215 [01:35<02:45, 38.54it/s]\u001b[A\n",
            " 38%|███▊      | 3851/10215 [01:35<02:46, 38.14it/s]\u001b[A\n",
            " 38%|███▊      | 3855/10215 [01:35<02:47, 38.07it/s]\u001b[A\n",
            " 38%|███▊      | 3859/10215 [01:35<02:49, 37.55it/s]\u001b[A\n",
            " 38%|███▊      | 3863/10215 [01:35<02:49, 37.46it/s]\u001b[A\n",
            " 38%|███▊      | 3867/10215 [01:35<02:49, 37.53it/s]\u001b[A\n",
            " 38%|███▊      | 3871/10215 [01:36<02:48, 37.56it/s]\u001b[A\n",
            " 38%|███▊      | 3875/10215 [01:36<02:46, 38.18it/s]\u001b[A\n",
            " 38%|███▊      | 3879/10215 [01:36<02:53, 36.57it/s]\u001b[A\n",
            " 38%|███▊      | 3883/10215 [01:36<02:50, 37.09it/s]\u001b[A\n",
            " 38%|███▊      | 3887/10215 [01:36<02:48, 37.51it/s]\u001b[A\n",
            " 38%|███▊      | 3891/10215 [01:36<02:46, 37.92it/s]\u001b[A\n",
            " 38%|███▊      | 3895/10215 [01:36<02:48, 37.54it/s]\u001b[A\n",
            " 38%|███▊      | 3899/10215 [01:36<02:47, 37.79it/s]\u001b[A\n",
            " 38%|███▊      | 3903/10215 [01:36<02:45, 38.17it/s]\u001b[A\n",
            " 38%|███▊      | 3907/10215 [01:36<02:46, 38.00it/s]\u001b[A\n",
            " 38%|███▊      | 3912/10215 [01:37<02:41, 38.91it/s]\u001b[A\n",
            " 38%|███▊      | 3916/10215 [01:37<02:42, 38.67it/s]\u001b[A\n",
            " 38%|███▊      | 3920/10215 [01:37<02:41, 38.92it/s]\u001b[A\n",
            " 38%|███▊      | 3924/10215 [01:37<02:41, 38.85it/s]\u001b[A\n",
            " 38%|███▊      | 3928/10215 [01:37<02:40, 39.15it/s]\u001b[A\n",
            " 38%|███▊      | 3932/10215 [01:37<02:42, 38.70it/s]\u001b[A\n",
            " 39%|███▊      | 3936/10215 [01:37<02:47, 37.46it/s]\u001b[A\n",
            " 39%|███▊      | 3940/10215 [01:37<02:45, 37.91it/s]\u001b[A\n",
            " 39%|███▊      | 3944/10215 [01:37<02:45, 37.80it/s]\u001b[A\n",
            " 39%|███▊      | 3948/10215 [01:38<02:43, 38.35it/s]\u001b[A\n",
            " 39%|███▊      | 3952/10215 [01:38<02:43, 38.27it/s]\u001b[A\n",
            " 39%|███▊      | 3956/10215 [01:38<02:43, 38.35it/s]\u001b[A\n",
            " 39%|███▉      | 3960/10215 [01:38<02:42, 38.38it/s]\u001b[A\n",
            " 39%|███▉      | 3964/10215 [01:38<02:44, 38.10it/s]\u001b[A\n",
            " 39%|███▉      | 3968/10215 [01:38<02:43, 38.13it/s]\u001b[A\n",
            " 39%|███▉      | 3972/10215 [01:38<02:43, 38.09it/s]\u001b[A\n",
            " 39%|███▉      | 3976/10215 [01:38<02:42, 38.44it/s]\u001b[A\n",
            " 39%|███▉      | 3980/10215 [01:38<02:42, 38.47it/s]\u001b[A\n",
            " 39%|███▉      | 3984/10215 [01:38<02:42, 38.43it/s]\u001b[A\n",
            " 39%|███▉      | 3988/10215 [01:39<02:44, 37.96it/s]\u001b[A\n",
            " 39%|███▉      | 3992/10215 [01:39<02:43, 38.15it/s]\u001b[A\n",
            " 39%|███▉      | 3996/10215 [01:39<02:46, 37.26it/s]\u001b[A\n",
            " 39%|███▉      | 4000/10215 [01:39<02:44, 37.85it/s]\u001b[A\n",
            " 39%|███▉      | 4004/10215 [01:39<02:43, 38.07it/s]\u001b[A\n",
            " 39%|███▉      | 4008/10215 [01:39<02:41, 38.38it/s]\u001b[A\n",
            " 39%|███▉      | 4012/10215 [01:39<02:42, 38.13it/s]\u001b[A\n",
            " 39%|███▉      | 4016/10215 [01:39<02:49, 36.59it/s]\u001b[A\n",
            " 39%|███▉      | 4020/10215 [01:39<02:45, 37.42it/s]\u001b[A\n",
            " 39%|███▉      | 4024/10215 [01:40<02:47, 37.03it/s]\u001b[A\n",
            " 39%|███▉      | 4028/10215 [01:40<02:47, 36.95it/s]\u001b[A\n",
            " 39%|███▉      | 4032/10215 [01:40<02:46, 37.21it/s]\u001b[A\n",
            " 40%|███▉      | 4036/10215 [01:40<02:44, 37.67it/s]\u001b[A\n",
            " 40%|███▉      | 4040/10215 [01:40<02:43, 37.69it/s]\u001b[A\n",
            " 40%|███▉      | 4044/10215 [01:40<02:42, 37.88it/s]\u001b[A\n",
            " 40%|███▉      | 4048/10215 [01:40<02:41, 38.25it/s]\u001b[A\n",
            " 40%|███▉      | 4052/10215 [01:40<02:44, 37.54it/s]\u001b[A\n",
            " 40%|███▉      | 4056/10215 [01:40<02:44, 37.33it/s]\u001b[A\n",
            " 40%|███▉      | 4060/10215 [01:40<02:45, 37.15it/s]\u001b[A\n",
            " 40%|███▉      | 4064/10215 [01:41<02:44, 37.32it/s]\u001b[A\n",
            " 40%|███▉      | 4068/10215 [01:41<02:44, 37.45it/s]\u001b[A\n",
            " 40%|███▉      | 4072/10215 [01:41<02:42, 37.70it/s]\u001b[A\n",
            " 40%|███▉      | 4076/10215 [01:41<02:42, 37.67it/s]\u001b[A\n",
            " 40%|███▉      | 4080/10215 [01:41<02:43, 37.58it/s]\u001b[A\n",
            " 40%|███▉      | 4084/10215 [01:41<02:42, 37.85it/s]\u001b[A\n",
            " 40%|████      | 4088/10215 [01:41<02:46, 36.87it/s]\u001b[A\n",
            " 40%|████      | 4092/10215 [01:41<02:44, 37.14it/s]\u001b[A\n",
            " 40%|████      | 4096/10215 [01:41<02:43, 37.37it/s]\u001b[A\n",
            " 40%|████      | 4100/10215 [01:42<02:40, 38.01it/s]\u001b[A\n",
            " 40%|████      | 4104/10215 [01:42<02:40, 38.18it/s]\u001b[A\n",
            " 40%|████      | 4108/10215 [01:42<02:40, 38.00it/s]\u001b[A\n",
            " 40%|████      | 4112/10215 [01:42<02:40, 37.97it/s]\u001b[A\n",
            " 40%|████      | 4116/10215 [01:42<02:41, 37.85it/s]\u001b[A\n",
            " 40%|████      | 4120/10215 [01:42<02:41, 37.82it/s]\u001b[A\n",
            " 40%|████      | 4124/10215 [01:42<02:40, 37.91it/s]\u001b[A\n",
            " 40%|████      | 4128/10215 [01:42<02:43, 37.27it/s]\u001b[A\n",
            " 40%|████      | 4132/10215 [01:42<02:41, 37.56it/s]\u001b[A\n",
            " 40%|████      | 4136/10215 [01:43<02:39, 38.03it/s]\u001b[A\n",
            " 41%|████      | 4140/10215 [01:43<02:40, 37.87it/s]\u001b[A\n",
            " 41%|████      | 4144/10215 [01:43<02:41, 37.56it/s]\u001b[A\n",
            " 41%|████      | 4148/10215 [01:43<02:40, 37.75it/s]\u001b[A\n",
            " 41%|████      | 4152/10215 [01:43<02:41, 37.59it/s]\u001b[A\n",
            " 41%|████      | 4156/10215 [01:43<02:39, 38.10it/s]\u001b[A\n",
            " 41%|████      | 4160/10215 [01:43<02:37, 38.39it/s]\u001b[A\n",
            " 41%|████      | 4164/10215 [01:43<02:41, 37.48it/s]\u001b[A\n",
            " 41%|████      | 4168/10215 [01:43<02:38, 38.19it/s]\u001b[A\n",
            " 41%|████      | 4172/10215 [01:43<02:38, 38.07it/s]\u001b[A\n",
            " 41%|████      | 4176/10215 [01:44<02:39, 37.94it/s]\u001b[A\n",
            " 41%|████      | 4180/10215 [01:44<02:38, 37.97it/s]\u001b[A\n",
            " 41%|████      | 4184/10215 [01:44<02:40, 37.66it/s]\u001b[A\n",
            " 41%|████      | 4188/10215 [01:44<02:38, 37.97it/s]\u001b[A\n",
            " 41%|████      | 4192/10215 [01:44<02:37, 38.20it/s]\u001b[A\n",
            " 41%|████      | 4196/10215 [01:44<02:36, 38.55it/s]\u001b[A\n",
            " 41%|████      | 4200/10215 [01:44<02:38, 38.07it/s]\u001b[A\n",
            " 41%|████      | 4204/10215 [01:44<02:38, 37.81it/s]\u001b[A\n",
            " 41%|████      | 4208/10215 [01:44<02:39, 37.60it/s]\u001b[A\n",
            " 41%|████      | 4212/10215 [01:45<02:39, 37.63it/s]\u001b[A\n",
            " 41%|████▏     | 4216/10215 [01:45<02:37, 38.09it/s]\u001b[A\n",
            " 41%|████▏     | 4220/10215 [01:45<02:38, 37.94it/s]\u001b[A\n",
            " 41%|████▏     | 4224/10215 [01:45<02:36, 38.34it/s]\u001b[A\n",
            " 41%|████▏     | 4228/10215 [01:45<02:40, 37.39it/s]\u001b[A\n",
            " 41%|████▏     | 4232/10215 [01:45<02:38, 37.73it/s]\u001b[A\n",
            " 41%|████▏     | 4236/10215 [01:45<02:41, 37.13it/s]\u001b[A\n",
            " 42%|████▏     | 4240/10215 [01:45<02:42, 36.67it/s]\u001b[A\n",
            " 42%|████▏     | 4244/10215 [01:45<02:41, 37.00it/s]\u001b[A\n",
            " 42%|████▏     | 4248/10215 [01:45<02:39, 37.42it/s]\u001b[A\n",
            " 42%|████▏     | 4252/10215 [01:46<02:37, 37.93it/s]\u001b[A\n",
            " 42%|████▏     | 4256/10215 [01:46<02:37, 37.79it/s]\u001b[A\n",
            " 42%|████▏     | 4260/10215 [01:46<02:36, 37.94it/s]\u001b[A\n",
            " 42%|████▏     | 4264/10215 [01:46<02:36, 37.93it/s]\u001b[A\n",
            " 42%|████▏     | 4268/10215 [01:46<02:35, 38.17it/s]\u001b[A\n",
            " 42%|████▏     | 4272/10215 [01:46<02:35, 38.19it/s]\u001b[A\n",
            " 42%|████▏     | 4276/10215 [01:46<02:35, 38.20it/s]\u001b[A\n",
            " 42%|████▏     | 4280/10215 [01:46<02:39, 37.22it/s]\u001b[A\n",
            " 42%|████▏     | 4284/10215 [01:46<02:39, 37.27it/s]\u001b[A\n",
            " 42%|████▏     | 4288/10215 [01:47<02:38, 37.38it/s]\u001b[A\n",
            " 42%|████▏     | 4292/10215 [01:47<02:37, 37.53it/s]\u001b[A\n",
            " 42%|████▏     | 4296/10215 [01:47<02:37, 37.58it/s]\u001b[A\n",
            " 42%|████▏     | 4301/10215 [01:47<02:32, 38.71it/s]\u001b[A\n",
            " 42%|████▏     | 4305/10215 [01:47<02:31, 39.03it/s]\u001b[A\n",
            " 42%|████▏     | 4309/10215 [01:47<02:32, 38.68it/s]\u001b[A\n",
            " 42%|████▏     | 4313/10215 [01:47<02:33, 38.53it/s]\u001b[A\n",
            " 42%|████▏     | 4317/10215 [01:47<02:37, 37.43it/s]\u001b[A\n",
            " 42%|████▏     | 4321/10215 [01:47<02:36, 37.56it/s]\u001b[A\n",
            " 42%|████▏     | 4325/10215 [01:47<02:38, 37.14it/s]\u001b[A\n",
            " 42%|████▏     | 4329/10215 [01:48<02:36, 37.61it/s]\u001b[A\n",
            " 42%|████▏     | 4333/10215 [01:48<02:34, 38.00it/s]\u001b[A\n",
            " 42%|████▏     | 4337/10215 [01:48<02:35, 37.79it/s]\u001b[A\n",
            " 42%|████▏     | 4341/10215 [01:48<02:35, 37.81it/s]\u001b[A\n",
            " 43%|████▎     | 4345/10215 [01:48<02:33, 38.13it/s]\u001b[A\n",
            " 43%|████▎     | 4349/10215 [01:48<02:32, 38.37it/s]\u001b[A\n",
            " 43%|████▎     | 4353/10215 [01:48<02:35, 37.79it/s]\u001b[A\n",
            " 43%|████▎     | 4357/10215 [01:48<02:39, 36.78it/s]\u001b[A\n",
            " 43%|████▎     | 4361/10215 [01:48<02:37, 37.25it/s]\u001b[A\n",
            " 43%|████▎     | 4365/10215 [01:49<02:36, 37.44it/s]\u001b[A\n",
            " 43%|████▎     | 4369/10215 [01:49<02:35, 37.60it/s]\u001b[A\n",
            " 43%|████▎     | 4373/10215 [01:49<02:35, 37.58it/s]\u001b[A\n",
            " 43%|████▎     | 4377/10215 [01:49<02:32, 38.18it/s]\u001b[A\n",
            " 43%|████▎     | 4381/10215 [01:49<02:32, 38.27it/s]\u001b[A\n",
            " 43%|████▎     | 4385/10215 [01:49<02:33, 37.94it/s]\u001b[A\n",
            " 43%|████▎     | 4389/10215 [01:49<02:34, 37.80it/s]\u001b[A\n",
            " 43%|████▎     | 4393/10215 [01:49<02:33, 38.04it/s]\u001b[A\n",
            " 43%|████▎     | 4397/10215 [01:49<02:33, 37.87it/s]\u001b[A\n",
            " 43%|████▎     | 4401/10215 [01:50<02:32, 38.06it/s]\u001b[A\n",
            " 43%|████▎     | 4405/10215 [01:50<02:31, 38.28it/s]\u001b[A\n",
            " 43%|████▎     | 4409/10215 [01:50<02:31, 38.25it/s]\u001b[A\n",
            " 43%|████▎     | 4413/10215 [01:50<02:31, 38.32it/s]\u001b[A\n",
            " 43%|████▎     | 4417/10215 [01:50<02:34, 37.60it/s]\u001b[A\n",
            " 43%|████▎     | 4421/10215 [01:50<02:33, 37.82it/s]\u001b[A\n",
            " 43%|████▎     | 4425/10215 [01:50<02:41, 35.79it/s]\u001b[A\n",
            " 43%|████▎     | 4429/10215 [01:50<02:39, 36.21it/s]\u001b[A\n",
            " 43%|████▎     | 4433/10215 [01:50<02:39, 36.29it/s]\u001b[A\n",
            " 43%|████▎     | 4437/10215 [01:50<02:37, 36.65it/s]\u001b[A\n",
            " 43%|████▎     | 4441/10215 [01:51<02:35, 37.06it/s]\u001b[A\n",
            " 44%|████▎     | 4445/10215 [01:51<02:36, 36.97it/s]\u001b[A\n",
            " 44%|████▎     | 4449/10215 [01:51<02:34, 37.25it/s]\u001b[A\n",
            " 44%|████▎     | 4453/10215 [01:51<02:32, 37.76it/s]\u001b[A\n",
            " 44%|████▎     | 4457/10215 [01:51<02:30, 38.13it/s]\u001b[A\n",
            " 44%|████▎     | 4461/10215 [01:51<02:32, 37.70it/s]\u001b[A\n",
            " 44%|████▎     | 4465/10215 [01:51<02:32, 37.74it/s]\u001b[A\n",
            " 44%|████▎     | 4469/10215 [01:51<02:33, 37.33it/s]\u001b[A\n",
            " 44%|████▍     | 4473/10215 [01:51<02:33, 37.40it/s]\u001b[A\n",
            " 44%|████▍     | 4477/10215 [01:52<02:34, 37.20it/s]\u001b[A\n",
            " 44%|████▍     | 4481/10215 [01:52<02:32, 37.54it/s]\u001b[A\n",
            " 44%|████▍     | 4485/10215 [01:52<02:30, 38.13it/s]\u001b[A\n",
            " 44%|████▍     | 4489/10215 [01:52<02:30, 38.10it/s]\u001b[A\n",
            " 44%|████▍     | 4493/10215 [01:52<02:29, 38.38it/s]\u001b[A\n",
            " 44%|████▍     | 4497/10215 [01:52<02:28, 38.39it/s]\u001b[A\n",
            " 44%|████▍     | 4501/10215 [01:52<02:29, 38.24it/s]\u001b[A\n",
            " 44%|████▍     | 4505/10215 [01:52<02:31, 37.58it/s]\u001b[A\n",
            " 44%|████▍     | 4509/10215 [01:52<02:34, 37.03it/s]\u001b[A\n",
            " 44%|████▍     | 4513/10215 [01:52<02:34, 36.99it/s]\u001b[A\n",
            " 44%|████▍     | 4517/10215 [01:53<02:33, 37.15it/s]\u001b[A\n",
            " 44%|████▍     | 4521/10215 [01:53<02:32, 37.45it/s]\u001b[A\n",
            " 44%|████▍     | 4525/10215 [01:53<02:31, 37.58it/s]\u001b[A\n",
            " 44%|████▍     | 4529/10215 [01:53<02:29, 37.94it/s]\u001b[A\n",
            " 44%|████▍     | 4533/10215 [01:53<02:28, 38.34it/s]\u001b[A\n",
            " 44%|████▍     | 4537/10215 [01:53<02:29, 38.07it/s]\u001b[A\n",
            " 44%|████▍     | 4541/10215 [01:53<02:29, 38.03it/s]\u001b[A\n",
            " 44%|████▍     | 4545/10215 [01:53<02:29, 37.96it/s]\u001b[A\n",
            " 45%|████▍     | 4549/10215 [01:53<02:32, 37.27it/s]\u001b[A\n",
            " 45%|████▍     | 4553/10215 [01:54<02:30, 37.67it/s]\u001b[A\n",
            " 45%|████▍     | 4557/10215 [01:54<02:30, 37.57it/s]\u001b[A\n",
            " 45%|████▍     | 4561/10215 [01:54<02:29, 37.93it/s]\u001b[A\n",
            " 45%|████▍     | 4565/10215 [01:54<02:27, 38.32it/s]\u001b[A\n",
            " 45%|████▍     | 4569/10215 [01:54<02:29, 37.74it/s]\u001b[A\n",
            " 45%|████▍     | 4573/10215 [01:54<02:29, 37.67it/s]\u001b[A\n",
            " 45%|████▍     | 4577/10215 [01:54<02:28, 37.99it/s]\u001b[A\n",
            " 45%|████▍     | 4581/10215 [01:54<02:26, 38.45it/s]\u001b[A\n",
            " 45%|████▍     | 4585/10215 [01:54<02:28, 38.00it/s]\u001b[A\n",
            " 45%|████▍     | 4589/10215 [01:54<02:27, 38.17it/s]\u001b[A\n",
            " 45%|████▍     | 4593/10215 [01:55<02:28, 37.98it/s]\u001b[A\n",
            " 45%|████▌     | 4597/10215 [01:55<02:27, 37.99it/s]\u001b[A\n",
            " 45%|████▌     | 4601/10215 [01:55<02:28, 37.78it/s]\u001b[A\n",
            " 45%|████▌     | 4605/10215 [01:55<02:28, 37.74it/s]\u001b[A\n",
            " 45%|████▌     | 4609/10215 [01:55<02:27, 38.10it/s]\u001b[A\n",
            " 45%|████▌     | 4613/10215 [01:55<02:26, 38.36it/s]\u001b[A\n",
            " 45%|████▌     | 4617/10215 [01:55<02:24, 38.67it/s]\u001b[A\n",
            " 45%|████▌     | 4621/10215 [01:55<02:24, 38.65it/s]\u001b[A\n",
            " 45%|████▌     | 4625/10215 [01:55<02:27, 37.88it/s]\u001b[A\n",
            " 45%|████▌     | 4629/10215 [01:56<02:28, 37.74it/s]\u001b[A\n",
            " 45%|████▌     | 4633/10215 [01:56<02:27, 37.94it/s]\u001b[A\n",
            " 45%|████▌     | 4637/10215 [01:56<02:27, 37.87it/s]\u001b[A\n",
            " 45%|████▌     | 4641/10215 [01:56<02:26, 38.00it/s]\u001b[A\n",
            " 45%|████▌     | 4645/10215 [01:56<02:26, 38.02it/s]\u001b[A\n",
            " 46%|████▌     | 4649/10215 [01:56<02:25, 38.28it/s]\u001b[A\n",
            " 46%|████▌     | 4653/10215 [01:56<02:25, 38.15it/s]\u001b[A\n",
            " 46%|████▌     | 4657/10215 [01:56<02:24, 38.37it/s]\u001b[A\n",
            " 46%|████▌     | 4661/10215 [01:56<02:26, 37.95it/s]\u001b[A\n",
            " 46%|████▌     | 4665/10215 [01:57<02:29, 37.05it/s]\u001b[A\n",
            " 46%|████▌     | 4669/10215 [01:57<02:29, 36.98it/s]\u001b[A\n",
            " 46%|████▌     | 4673/10215 [01:57<02:28, 37.20it/s]\u001b[A\n",
            " 46%|████▌     | 4677/10215 [01:57<02:30, 36.83it/s]\u001b[A\n",
            " 46%|████▌     | 4681/10215 [01:57<02:28, 37.20it/s]\u001b[A\n",
            " 46%|████▌     | 4685/10215 [01:57<02:29, 37.00it/s]\u001b[A\n",
            " 46%|████▌     | 4689/10215 [01:57<02:29, 36.92it/s]\u001b[A\n",
            " 46%|████▌     | 4693/10215 [01:57<02:29, 37.06it/s]\u001b[A\n",
            " 46%|████▌     | 4697/10215 [01:57<02:28, 37.13it/s]\u001b[A\n",
            " 46%|████▌     | 4701/10215 [01:57<02:33, 35.96it/s]\u001b[A\n",
            " 46%|████▌     | 4705/10215 [01:58<02:30, 36.51it/s]\u001b[A\n",
            " 46%|████▌     | 4709/10215 [01:58<02:31, 36.25it/s]\u001b[A\n",
            " 46%|████▌     | 4713/10215 [01:58<02:31, 36.43it/s]\u001b[A\n",
            " 46%|████▌     | 4717/10215 [01:58<02:28, 36.98it/s]\u001b[A\n",
            " 46%|████▌     | 4721/10215 [01:58<02:29, 36.68it/s]\u001b[A\n",
            " 46%|████▋     | 4725/10215 [01:58<02:27, 37.18it/s]\u001b[A\n",
            " 46%|████▋     | 4729/10215 [01:58<02:26, 37.39it/s]\u001b[A\n",
            " 46%|████▋     | 4733/10215 [01:58<02:28, 36.85it/s]\u001b[A\n",
            " 46%|████▋     | 4737/10215 [01:58<02:31, 36.16it/s]\u001b[A\n",
            " 46%|████▋     | 4741/10215 [01:59<02:29, 36.71it/s]\u001b[A\n",
            " 46%|████▋     | 4745/10215 [01:59<02:27, 37.05it/s]\u001b[A\n",
            " 46%|████▋     | 4749/10215 [01:59<02:29, 36.57it/s]\u001b[A\n",
            " 47%|████▋     | 4753/10215 [01:59<02:26, 37.25it/s]\u001b[A\n",
            " 47%|████▋     | 4757/10215 [01:59<02:25, 37.44it/s]\u001b[A\n",
            " 47%|████▋     | 4761/10215 [01:59<02:23, 38.10it/s]\u001b[A\n",
            " 47%|████▋     | 4765/10215 [01:59<02:25, 37.42it/s]\u001b[A\n",
            " 47%|████▋     | 4769/10215 [01:59<02:26, 37.14it/s]\u001b[A\n",
            " 47%|████▋     | 4773/10215 [01:59<02:29, 36.42it/s]\u001b[A\n",
            " 47%|████▋     | 4777/10215 [02:00<02:31, 35.94it/s]\u001b[A\n",
            " 47%|████▋     | 4781/10215 [02:00<02:29, 36.42it/s]\u001b[A\n",
            " 47%|████▋     | 4785/10215 [02:00<02:28, 36.50it/s]\u001b[A\n",
            " 47%|████▋     | 4789/10215 [02:00<02:27, 36.83it/s]\u001b[A\n",
            " 47%|████▋     | 4793/10215 [02:00<02:25, 37.34it/s]\u001b[A\n",
            " 47%|████▋     | 4797/10215 [02:00<02:26, 36.88it/s]\u001b[A\n",
            " 47%|████▋     | 4801/10215 [02:00<02:25, 37.23it/s]\u001b[A\n",
            " 47%|████▋     | 4805/10215 [02:00<02:24, 37.39it/s]\u001b[A\n",
            " 47%|████▋     | 4809/10215 [02:00<02:23, 37.78it/s]\u001b[A\n",
            " 47%|████▋     | 4813/10215 [02:01<02:25, 37.17it/s]\u001b[A\n",
            " 47%|████▋     | 4817/10215 [02:01<02:25, 37.20it/s]\u001b[A\n",
            " 47%|████▋     | 4821/10215 [02:01<02:24, 37.25it/s]\u001b[A\n",
            " 47%|████▋     | 4825/10215 [02:01<02:22, 37.81it/s]\u001b[A\n",
            " 47%|████▋     | 4829/10215 [02:01<02:23, 37.45it/s]\u001b[A\n",
            " 47%|████▋     | 4833/10215 [02:01<02:23, 37.59it/s]\u001b[A\n",
            " 47%|████▋     | 4837/10215 [02:01<02:27, 36.48it/s]\u001b[A\n",
            " 47%|████▋     | 4841/10215 [02:01<02:30, 35.79it/s]\u001b[A\n",
            " 47%|████▋     | 4845/10215 [02:01<02:26, 36.66it/s]\u001b[A\n",
            " 47%|████▋     | 4849/10215 [02:01<02:28, 36.10it/s]\u001b[A\n",
            " 48%|████▊     | 4853/10215 [02:02<02:25, 36.89it/s]\u001b[A\n",
            " 48%|████▊     | 4857/10215 [02:02<02:24, 37.19it/s]\u001b[A\n",
            " 48%|████▊     | 4861/10215 [02:02<02:30, 35.49it/s]\u001b[A\n",
            " 48%|████▊     | 4865/10215 [02:02<02:28, 36.03it/s]\u001b[A\n",
            " 48%|████▊     | 4869/10215 [02:02<02:25, 36.62it/s]\u001b[A\n",
            " 48%|████▊     | 4873/10215 [02:02<02:24, 36.86it/s]\u001b[A\n",
            " 48%|████▊     | 4877/10215 [02:02<02:26, 36.45it/s]\u001b[A\n",
            " 48%|████▊     | 4881/10215 [02:02<02:24, 36.96it/s]\u001b[A\n",
            " 48%|████▊     | 4885/10215 [02:02<02:25, 36.73it/s]\u001b[A\n",
            " 48%|████▊     | 4889/10215 [02:03<02:28, 35.95it/s]\u001b[A\n",
            " 48%|████▊     | 4893/10215 [02:03<02:27, 36.14it/s]\u001b[A\n",
            " 48%|████▊     | 4897/10215 [02:03<02:24, 36.83it/s]\u001b[A\n",
            " 48%|████▊     | 4901/10215 [02:03<02:23, 37.10it/s]\u001b[A\n",
            " 48%|████▊     | 4905/10215 [02:03<02:22, 37.39it/s]\u001b[A\n",
            " 48%|████▊     | 4909/10215 [02:03<02:21, 37.52it/s]\u001b[A\n",
            " 48%|████▊     | 4913/10215 [02:03<02:22, 37.28it/s]\u001b[A\n",
            " 48%|████▊     | 4917/10215 [02:03<02:21, 37.33it/s]\u001b[A\n",
            " 48%|████▊     | 4921/10215 [02:03<02:22, 37.12it/s]\u001b[A\n",
            " 48%|████▊     | 4925/10215 [02:04<02:25, 36.34it/s]\u001b[A\n",
            " 48%|████▊     | 4929/10215 [02:04<02:22, 37.01it/s]\u001b[A\n",
            " 48%|████▊     | 4933/10215 [02:04<02:23, 36.90it/s]\u001b[A\n",
            " 48%|████▊     | 4937/10215 [02:04<02:22, 36.94it/s]\u001b[A\n",
            " 48%|████▊     | 4941/10215 [02:04<02:22, 37.06it/s]\u001b[A\n",
            " 48%|████▊     | 4945/10215 [02:04<02:22, 36.92it/s]\u001b[A\n",
            " 48%|████▊     | 4949/10215 [02:04<02:21, 37.27it/s]\u001b[A\n",
            " 48%|████▊     | 4953/10215 [02:04<02:23, 36.75it/s]\u001b[A\n",
            " 49%|████▊     | 4957/10215 [02:04<02:23, 36.56it/s]\u001b[A\n",
            " 49%|████▊     | 4961/10215 [02:05<02:24, 36.35it/s]\u001b[A\n",
            " 49%|████▊     | 4965/10215 [02:05<02:24, 36.30it/s]\u001b[A\n",
            " 49%|████▊     | 4969/10215 [02:05<02:23, 36.59it/s]\u001b[A\n",
            " 49%|████▊     | 4973/10215 [02:05<02:21, 37.14it/s]\u001b[A\n",
            " 49%|████▊     | 4977/10215 [02:05<02:20, 37.15it/s]\u001b[A\n",
            " 49%|████▉     | 4981/10215 [02:05<02:19, 37.57it/s]\u001b[A\n",
            " 49%|████▉     | 4985/10215 [02:05<02:19, 37.50it/s]\u001b[A\n",
            " 49%|████▉     | 4989/10215 [02:05<02:20, 37.14it/s]\u001b[A\n",
            " 49%|████▉     | 4993/10215 [02:05<02:19, 37.47it/s]\u001b[A\n",
            " 49%|████▉     | 4997/10215 [02:06<02:20, 37.11it/s]\u001b[A\n",
            " 49%|████▉     | 5001/10215 [02:06<02:22, 36.48it/s]\u001b[A\n",
            " 49%|████▉     | 5005/10215 [02:06<02:22, 36.52it/s]\u001b[A\n",
            " 49%|████▉     | 5009/10215 [02:06<02:21, 36.92it/s]\u001b[A\n",
            " 49%|████▉     | 5013/10215 [02:06<02:19, 37.18it/s]\u001b[A\n",
            " 49%|████▉     | 5017/10215 [02:06<02:22, 36.55it/s]\u001b[A\n",
            " 49%|████▉     | 5021/10215 [02:06<02:20, 36.95it/s]\u001b[A\n",
            " 49%|████▉     | 5025/10215 [02:06<02:22, 36.48it/s]\u001b[A\n",
            " 49%|████▉     | 5029/10215 [02:06<02:19, 37.24it/s]\u001b[A\n",
            " 49%|████▉     | 5033/10215 [02:06<02:18, 37.35it/s]\u001b[A\n",
            " 49%|████▉     | 5037/10215 [02:07<02:21, 36.60it/s]\u001b[A\n",
            " 49%|████▉     | 5041/10215 [02:07<02:20, 36.80it/s]\u001b[A\n",
            " 49%|████▉     | 5045/10215 [02:07<02:20, 36.76it/s]\u001b[A\n",
            " 49%|████▉     | 5049/10215 [02:07<02:19, 36.93it/s]\u001b[A\n",
            " 49%|████▉     | 5053/10215 [02:07<02:19, 37.08it/s]\u001b[A\n",
            " 50%|████▉     | 5057/10215 [02:07<02:21, 36.39it/s]\u001b[A\n",
            " 50%|████▉     | 5061/10215 [02:07<02:18, 37.15it/s]\u001b[A\n",
            " 50%|████▉     | 5065/10215 [02:07<02:19, 36.90it/s]\u001b[A\n",
            " 50%|████▉     | 5069/10215 [02:07<02:18, 37.04it/s]\u001b[A\n",
            " 50%|████▉     | 5073/10215 [02:08<02:19, 36.99it/s]\u001b[A\n",
            " 50%|████▉     | 5077/10215 [02:08<02:20, 36.55it/s]\u001b[A\n",
            " 50%|████▉     | 5081/10215 [02:08<02:19, 36.77it/s]\u001b[A\n",
            " 50%|████▉     | 5085/10215 [02:08<02:18, 37.00it/s]\u001b[A\n",
            " 50%|████▉     | 5089/10215 [02:08<02:19, 36.65it/s]\u001b[A\n",
            " 50%|████▉     | 5093/10215 [02:08<02:17, 37.29it/s]\u001b[A\n",
            " 50%|████▉     | 5097/10215 [02:08<02:17, 37.25it/s]\u001b[A\n",
            " 50%|████▉     | 5101/10215 [02:08<02:17, 37.19it/s]\u001b[A\n",
            " 50%|████▉     | 5105/10215 [02:08<02:16, 37.41it/s]\u001b[A\n",
            " 50%|█████     | 5109/10215 [02:09<02:19, 36.50it/s]\u001b[A\n",
            " 50%|█████     | 5113/10215 [02:09<02:20, 36.36it/s]\u001b[A\n",
            " 50%|█████     | 5117/10215 [02:09<02:18, 36.84it/s]\u001b[A\n",
            " 50%|█████     | 5121/10215 [02:09<02:19, 36.62it/s]\u001b[A\n",
            " 50%|█████     | 5125/10215 [02:09<02:16, 37.27it/s]\u001b[A\n",
            " 50%|█████     | 5129/10215 [02:09<02:16, 37.28it/s]\u001b[A\n",
            " 50%|█████     | 5133/10215 [02:09<02:15, 37.61it/s]\u001b[A\n",
            " 50%|█████     | 5137/10215 [02:09<02:15, 37.53it/s]\u001b[A\n",
            " 50%|█████     | 5141/10215 [02:09<02:14, 37.77it/s]\u001b[A\n",
            " 50%|█████     | 5145/10215 [02:10<02:15, 37.55it/s]\u001b[A\n",
            " 50%|█████     | 5149/10215 [02:10<02:18, 36.63it/s]\u001b[A\n",
            " 50%|█████     | 5153/10215 [02:10<02:17, 36.81it/s]\u001b[A\n",
            " 50%|█████     | 5157/10215 [02:10<02:16, 36.98it/s]\u001b[A\n",
            " 51%|█████     | 5161/10215 [02:10<02:16, 36.90it/s]\u001b[A\n",
            " 51%|█████     | 5165/10215 [02:10<02:15, 37.15it/s]\u001b[A\n",
            " 51%|█████     | 5169/10215 [02:10<02:14, 37.53it/s]\u001b[A\n",
            " 51%|█████     | 5173/10215 [02:10<02:14, 37.62it/s]\u001b[A\n",
            " 51%|█████     | 5177/10215 [02:10<02:13, 37.84it/s]\u001b[A\n",
            " 51%|█████     | 5181/10215 [02:10<02:14, 37.32it/s]\u001b[A\n",
            " 51%|█████     | 5185/10215 [02:11<02:12, 37.96it/s]\u001b[A\n",
            " 51%|█████     | 5189/10215 [02:11<02:16, 36.80it/s]\u001b[A\n",
            " 51%|█████     | 5193/10215 [02:11<02:15, 37.05it/s]\u001b[A\n",
            " 51%|█████     | 5197/10215 [02:11<02:14, 37.28it/s]\u001b[A\n",
            " 51%|█████     | 5201/10215 [02:11<02:13, 37.43it/s]\u001b[A\n",
            " 51%|█████     | 5205/10215 [02:11<02:14, 37.20it/s]\u001b[A\n",
            " 51%|█████     | 5209/10215 [02:11<02:14, 37.19it/s]\u001b[A\n",
            " 51%|█████     | 5213/10215 [02:11<02:14, 37.06it/s]\u001b[A\n",
            " 51%|█████     | 5217/10215 [02:11<02:14, 37.21it/s]\u001b[A\n",
            " 51%|█████     | 5221/10215 [02:12<02:16, 36.62it/s]\u001b[A\n",
            " 51%|█████     | 5225/10215 [02:12<02:18, 35.93it/s]\u001b[A\n",
            " 51%|█████     | 5229/10215 [02:12<02:17, 36.17it/s]\u001b[A\n",
            " 51%|█████     | 5233/10215 [02:12<02:16, 36.59it/s]\u001b[A\n",
            " 51%|█████▏    | 5237/10215 [02:12<02:21, 35.22it/s]\u001b[A\n",
            " 51%|█████▏    | 5241/10215 [02:12<02:18, 35.82it/s]\u001b[A\n",
            " 51%|█████▏    | 5245/10215 [02:12<02:18, 36.00it/s]\u001b[A\n",
            " 51%|█████▏    | 5249/10215 [02:12<02:16, 36.40it/s]\u001b[A\n",
            " 51%|█████▏    | 5253/10215 [02:12<02:17, 36.17it/s]\u001b[A\n",
            " 51%|█████▏    | 5257/10215 [02:13<02:17, 36.16it/s]\u001b[A\n",
            " 52%|█████▏    | 5261/10215 [02:13<02:18, 35.84it/s]\u001b[A\n",
            " 52%|█████▏    | 5265/10215 [02:13<02:17, 36.03it/s]\u001b[A\n",
            " 52%|█████▏    | 5269/10215 [02:13<02:16, 36.13it/s]\u001b[A\n",
            " 52%|█████▏    | 5273/10215 [02:13<02:19, 35.53it/s]\u001b[A\n",
            " 52%|█████▏    | 5277/10215 [02:13<02:20, 35.07it/s]\u001b[A\n",
            " 52%|█████▏    | 5281/10215 [02:13<02:17, 35.88it/s]\u001b[A\n",
            " 52%|█████▏    | 5285/10215 [02:13<02:16, 36.11it/s]\u001b[A\n",
            " 52%|█████▏    | 5289/10215 [02:13<02:15, 36.44it/s]\u001b[A\n",
            " 52%|█████▏    | 5293/10215 [02:14<02:16, 36.08it/s]\u001b[A\n",
            " 52%|█████▏    | 5297/10215 [02:14<02:17, 35.76it/s]\u001b[A\n",
            " 52%|█████▏    | 5301/10215 [02:14<02:16, 36.12it/s]\u001b[A\n",
            " 52%|█████▏    | 5305/10215 [02:14<02:13, 36.67it/s]\u001b[A\n",
            " 52%|█████▏    | 5309/10215 [02:14<02:13, 36.79it/s]\u001b[A\n",
            " 52%|█████▏    | 5313/10215 [02:14<02:12, 36.94it/s]\u001b[A\n",
            " 52%|█████▏    | 5317/10215 [02:14<02:14, 36.49it/s]\u001b[A\n",
            " 52%|█████▏    | 5321/10215 [02:14<02:13, 36.77it/s]\u001b[A\n",
            " 52%|█████▏    | 5325/10215 [02:14<02:14, 36.38it/s]\u001b[A\n",
            " 52%|█████▏    | 5329/10215 [02:15<02:14, 36.36it/s]\u001b[A\n",
            " 52%|█████▏    | 5333/10215 [02:15<02:13, 36.62it/s]\u001b[A\n",
            " 52%|█████▏    | 5337/10215 [02:15<02:15, 36.13it/s]\u001b[A\n",
            " 52%|█████▏    | 5341/10215 [02:15<02:13, 36.37it/s]\u001b[A\n",
            " 52%|█████▏    | 5345/10215 [02:15<02:13, 36.56it/s]\u001b[A\n",
            " 52%|█████▏    | 5349/10215 [02:15<02:14, 36.17it/s]\u001b[A\n",
            " 52%|█████▏    | 5353/10215 [02:15<02:15, 35.95it/s]\u001b[A\n",
            " 52%|█████▏    | 5357/10215 [02:15<02:14, 36.10it/s]\u001b[A\n",
            " 52%|█████▏    | 5361/10215 [02:15<02:15, 35.75it/s]\u001b[A\n",
            " 53%|█████▎    | 5365/10215 [02:16<02:15, 35.92it/s]\u001b[A\n",
            " 53%|█████▎    | 5369/10215 [02:16<02:14, 36.07it/s]\u001b[A\n",
            " 53%|█████▎    | 5373/10215 [02:16<02:16, 35.39it/s]\u001b[A\n",
            " 53%|█████▎    | 5377/10215 [02:16<02:14, 36.01it/s]\u001b[A\n",
            " 53%|█████▎    | 5381/10215 [02:16<02:14, 36.05it/s]\u001b[A\n",
            " 53%|█████▎    | 5385/10215 [02:16<02:13, 36.24it/s]\u001b[A\n",
            " 53%|█████▎    | 5389/10215 [02:16<02:13, 36.22it/s]\u001b[A\n",
            " 53%|█████▎    | 5393/10215 [02:16<02:14, 35.73it/s]\u001b[A\n",
            " 53%|█████▎    | 5397/10215 [02:16<02:15, 35.52it/s]\u001b[A\n",
            " 53%|█████▎    | 5401/10215 [02:17<02:14, 35.73it/s]\u001b[A\n",
            " 53%|█████▎    | 5405/10215 [02:17<02:12, 36.27it/s]\u001b[A\n",
            " 53%|█████▎    | 5409/10215 [02:17<02:13, 36.04it/s]\u001b[A\n",
            " 53%|█████▎    | 5413/10215 [02:17<02:12, 36.29it/s]\u001b[A\n",
            " 53%|█████▎    | 5417/10215 [02:17<02:13, 35.89it/s]\u001b[A\n",
            " 53%|█████▎    | 5421/10215 [02:17<02:13, 35.91it/s]\u001b[A\n",
            " 53%|█████▎    | 5425/10215 [02:17<02:15, 35.38it/s]\u001b[A\n",
            " 53%|█████▎    | 5429/10215 [02:17<02:17, 34.73it/s]\u001b[A\n",
            " 53%|█████▎    | 5433/10215 [02:17<02:15, 35.27it/s]\u001b[A\n",
            " 53%|█████▎    | 5437/10215 [02:18<02:14, 35.62it/s]\u001b[A\n",
            " 53%|█████▎    | 5441/10215 [02:18<02:12, 35.94it/s]\u001b[A\n",
            " 53%|█████▎    | 5445/10215 [02:18<02:14, 35.40it/s]\u001b[A\n",
            " 53%|█████▎    | 5449/10215 [02:18<02:13, 35.72it/s]\u001b[A\n",
            " 53%|█████▎    | 5453/10215 [02:18<02:12, 35.96it/s]\u001b[A\n",
            " 53%|█████▎    | 5457/10215 [02:18<02:13, 35.63it/s]\u001b[A\n",
            " 53%|█████▎    | 5461/10215 [02:18<02:12, 35.87it/s]\u001b[A\n",
            " 53%|█████▎    | 5465/10215 [02:18<02:17, 34.50it/s]\u001b[A\n",
            " 54%|█████▎    | 5469/10215 [02:18<02:15, 35.02it/s]\u001b[A\n",
            " 54%|█████▎    | 5473/10215 [02:19<02:14, 35.27it/s]\u001b[A\n",
            " 54%|█████▎    | 5477/10215 [02:19<02:12, 35.63it/s]\u001b[A\n",
            " 54%|█████▎    | 5481/10215 [02:19<02:12, 35.73it/s]\u001b[A\n",
            " 54%|█████▎    | 5485/10215 [02:19<02:12, 35.80it/s]\u001b[A\n",
            " 54%|█████▎    | 5489/10215 [02:19<02:13, 35.33it/s]\u001b[A\n",
            " 54%|█████▍    | 5493/10215 [02:19<02:12, 35.56it/s]\u001b[A\n",
            " 54%|█████▍    | 5497/10215 [02:19<02:11, 35.92it/s]\u001b[A\n",
            " 54%|█████▍    | 5501/10215 [02:19<02:10, 36.02it/s]\u001b[A\n",
            " 54%|█████▍    | 5505/10215 [02:19<02:11, 35.91it/s]\u001b[A\n",
            " 54%|█████▍    | 5509/10215 [02:20<02:10, 36.13it/s]\u001b[A\n",
            " 54%|█████▍    | 5513/10215 [02:20<02:10, 36.12it/s]\u001b[A\n",
            " 54%|█████▍    | 5517/10215 [02:20<02:11, 35.68it/s]\u001b[A\n",
            " 54%|█████▍    | 5521/10215 [02:20<02:11, 35.72it/s]\u001b[A\n",
            " 54%|█████▍    | 5525/10215 [02:20<02:09, 36.11it/s]\u001b[A\n",
            " 54%|█████▍    | 5529/10215 [02:20<02:08, 36.34it/s]\u001b[A\n",
            " 54%|█████▍    | 5533/10215 [02:20<02:07, 36.74it/s]\u001b[A\n",
            " 54%|█████▍    | 5537/10215 [02:20<02:07, 36.58it/s]\u001b[A\n",
            " 54%|█████▍    | 5541/10215 [02:20<02:09, 36.08it/s]\u001b[A\n",
            " 54%|█████▍    | 5545/10215 [02:21<02:09, 36.00it/s]\u001b[A\n",
            " 54%|█████▍    | 5549/10215 [02:21<02:09, 35.97it/s]\u001b[A\n",
            " 54%|█████▍    | 5553/10215 [02:21<02:09, 35.93it/s]\u001b[A\n",
            " 54%|█████▍    | 5557/10215 [02:21<02:08, 36.36it/s]\u001b[A\n",
            " 54%|█████▍    | 5561/10215 [02:21<02:07, 36.49it/s]\u001b[A\n",
            " 54%|█████▍    | 5565/10215 [02:21<02:06, 36.85it/s]\u001b[A\n",
            " 55%|█████▍    | 5569/10215 [02:21<02:06, 36.62it/s]\u001b[A\n",
            " 55%|█████▍    | 5573/10215 [02:21<02:05, 37.00it/s]\u001b[A\n",
            " 55%|█████▍    | 5577/10215 [02:21<02:05, 37.05it/s]\u001b[A\n",
            " 55%|█████▍    | 5581/10215 [02:22<02:07, 36.36it/s]\u001b[A\n",
            " 55%|█████▍    | 5585/10215 [02:22<02:07, 36.18it/s]\u001b[A\n",
            " 55%|█████▍    | 5589/10215 [02:22<02:10, 35.43it/s]\u001b[A\n",
            " 55%|█████▍    | 5593/10215 [02:22<02:08, 36.06it/s]\u001b[A\n",
            " 55%|█████▍    | 5597/10215 [02:22<02:08, 36.00it/s]\u001b[A\n",
            " 55%|█████▍    | 5601/10215 [02:22<02:07, 36.16it/s]\u001b[A\n",
            " 55%|█████▍    | 5605/10215 [02:22<02:05, 36.60it/s]\u001b[A\n",
            " 55%|█████▍    | 5609/10215 [02:22<02:07, 36.02it/s]\u001b[A\n",
            " 55%|█████▍    | 5613/10215 [02:22<02:07, 36.21it/s]\u001b[A\n",
            " 55%|█████▍    | 5617/10215 [02:23<02:06, 36.31it/s]\u001b[A\n",
            " 55%|█████▌    | 5621/10215 [02:23<02:06, 36.27it/s]\u001b[A\n",
            " 55%|█████▌    | 5625/10215 [02:23<02:09, 35.55it/s]\u001b[A\n",
            " 55%|█████▌    | 5629/10215 [02:23<02:07, 35.93it/s]\u001b[A\n",
            " 55%|█████▌    | 5633/10215 [02:23<02:06, 36.24it/s]\u001b[A\n",
            " 55%|█████▌    | 5637/10215 [02:23<02:06, 36.30it/s]\u001b[A\n",
            " 55%|█████▌    | 5641/10215 [02:23<02:10, 35.18it/s]\u001b[A\n",
            " 55%|█████▌    | 5645/10215 [02:23<02:08, 35.58it/s]\u001b[A\n",
            " 55%|█████▌    | 5649/10215 [02:23<02:08, 35.49it/s]\u001b[A\n",
            " 55%|█████▌    | 5653/10215 [02:24<02:08, 35.61it/s]\u001b[A\n",
            " 55%|█████▌    | 5657/10215 [02:24<02:07, 35.81it/s]\u001b[A\n",
            " 55%|█████▌    | 5661/10215 [02:24<02:10, 35.02it/s]\u001b[A\n",
            " 55%|█████▌    | 5665/10215 [02:24<02:08, 35.31it/s]\u001b[A\n",
            " 55%|█████▌    | 5669/10215 [02:24<02:06, 35.84it/s]\u001b[A\n",
            " 56%|█████▌    | 5673/10215 [02:24<02:06, 35.89it/s]\u001b[A\n",
            " 56%|█████▌    | 5677/10215 [02:24<02:06, 35.98it/s]\u001b[A\n",
            " 56%|█████▌    | 5681/10215 [02:24<02:05, 36.23it/s]\u001b[A\n",
            " 56%|█████▌    | 5685/10215 [02:24<02:05, 36.00it/s]\u001b[A\n",
            " 56%|█████▌    | 5689/10215 [02:25<02:04, 36.30it/s]\u001b[A\n",
            " 56%|█████▌    | 5693/10215 [02:25<02:06, 35.81it/s]\u001b[A\n",
            " 56%|█████▌    | 5697/10215 [02:25<02:05, 36.07it/s]\u001b[A\n",
            " 56%|█████▌    | 5701/10215 [02:25<02:07, 35.42it/s]\u001b[A\n",
            " 56%|█████▌    | 5705/10215 [02:25<02:06, 35.59it/s]\u001b[A\n",
            " 56%|█████▌    | 5709/10215 [02:25<02:04, 36.17it/s]\u001b[A\n",
            " 56%|█████▌    | 5713/10215 [02:25<02:04, 36.16it/s]\u001b[A\n",
            " 56%|█████▌    | 5717/10215 [02:25<02:04, 36.18it/s]\u001b[A\n",
            " 56%|█████▌    | 5721/10215 [02:25<02:04, 36.07it/s]\u001b[A\n",
            " 56%|█████▌    | 5725/10215 [02:26<02:04, 36.19it/s]\u001b[A\n",
            " 56%|█████▌    | 5729/10215 [02:26<02:04, 35.94it/s]\u001b[A\n",
            " 56%|█████▌    | 5733/10215 [02:26<02:03, 36.22it/s]\u001b[A\n",
            " 56%|█████▌    | 5737/10215 [02:26<02:05, 35.73it/s]\u001b[A\n",
            " 56%|█████▌    | 5741/10215 [02:26<02:05, 35.74it/s]\u001b[A\n",
            " 56%|█████▌    | 5745/10215 [02:26<02:04, 35.78it/s]\u001b[A\n",
            " 56%|█████▋    | 5749/10215 [02:26<02:04, 35.81it/s]\u001b[A\n",
            " 56%|█████▋    | 5753/10215 [02:26<02:04, 35.72it/s]\u001b[A\n",
            " 56%|█████▋    | 5757/10215 [02:26<02:03, 36.10it/s]\u001b[A\n",
            " 56%|█████▋    | 5761/10215 [02:27<02:02, 36.37it/s]\u001b[A\n",
            " 56%|█████▋    | 5765/10215 [02:27<02:05, 35.59it/s]\u001b[A\n",
            " 56%|█████▋    | 5769/10215 [02:27<02:03, 35.92it/s]\u001b[A\n",
            " 57%|█████▋    | 5773/10215 [02:27<02:05, 35.26it/s]\u001b[A\n",
            " 57%|█████▋    | 5777/10215 [02:27<02:04, 35.59it/s]\u001b[A\n",
            " 57%|█████▋    | 5781/10215 [02:27<02:05, 35.31it/s]\u001b[A\n",
            " 57%|█████▋    | 5785/10215 [02:27<02:05, 35.18it/s]\u001b[A\n",
            " 57%|█████▋    | 5789/10215 [02:27<02:05, 35.35it/s]\u001b[A\n",
            " 57%|█████▋    | 5793/10215 [02:27<02:05, 35.37it/s]\u001b[A\n",
            " 57%|█████▋    | 5797/10215 [02:28<02:04, 35.60it/s]\u001b[A\n",
            " 57%|█████▋    | 5801/10215 [02:28<02:05, 35.28it/s]\u001b[A\n",
            " 57%|█████▋    | 5805/10215 [02:28<02:05, 35.20it/s]\u001b[A\n",
            " 57%|█████▋    | 5809/10215 [02:28<02:06, 34.93it/s]\u001b[A\n",
            " 57%|█████▋    | 5813/10215 [02:28<02:05, 35.20it/s]\u001b[A\n",
            " 57%|█████▋    | 5817/10215 [02:28<02:05, 35.02it/s]\u001b[A\n",
            " 57%|█████▋    | 5821/10215 [02:28<02:04, 35.39it/s]\u001b[A\n",
            " 57%|█████▋    | 5825/10215 [02:28<02:04, 35.26it/s]\u001b[A\n",
            " 57%|█████▋    | 5829/10215 [02:28<02:04, 35.29it/s]\u001b[A\n",
            " 57%|█████▋    | 5833/10215 [02:29<02:03, 35.44it/s]\u001b[A\n",
            " 57%|█████▋    | 5837/10215 [02:29<02:04, 35.08it/s]\u001b[A\n",
            " 57%|█████▋    | 5841/10215 [02:29<02:06, 34.44it/s]\u001b[A\n",
            " 57%|█████▋    | 5845/10215 [02:29<02:06, 34.58it/s]\u001b[A\n",
            " 57%|█████▋    | 5849/10215 [02:29<02:05, 34.71it/s]\u001b[A\n",
            " 57%|█████▋    | 5853/10215 [02:29<02:03, 35.32it/s]\u001b[A\n",
            " 57%|█████▋    | 5857/10215 [02:29<02:04, 35.14it/s]\u001b[A\n",
            " 57%|█████▋    | 5861/10215 [02:29<02:02, 35.48it/s]\u001b[A\n",
            " 57%|█████▋    | 5865/10215 [02:30<02:02, 35.49it/s]\u001b[A\n",
            " 57%|█████▋    | 5869/10215 [02:30<02:03, 35.26it/s]\u001b[A\n",
            " 57%|█████▋    | 5873/10215 [02:30<02:04, 34.88it/s]\u001b[A\n",
            " 58%|█████▊    | 5877/10215 [02:30<02:04, 34.81it/s]\u001b[A\n",
            " 58%|█████▊    | 5881/10215 [02:30<02:07, 34.10it/s]\u001b[A\n",
            " 58%|█████▊    | 5885/10215 [02:30<02:05, 34.47it/s]\u001b[A\n",
            " 58%|█████▊    | 5889/10215 [02:30<02:04, 34.73it/s]\u001b[A\n",
            " 58%|█████▊    | 5893/10215 [02:30<02:04, 34.72it/s]\u001b[A\n",
            " 58%|█████▊    | 5897/10215 [02:30<02:04, 34.66it/s]\u001b[A\n",
            " 58%|█████▊    | 5901/10215 [02:31<02:03, 34.93it/s]\u001b[A\n",
            " 58%|█████▊    | 5905/10215 [02:31<02:04, 34.61it/s]\u001b[A\n",
            " 58%|█████▊    | 5909/10215 [02:31<02:03, 34.80it/s]\u001b[A\n",
            " 58%|█████▊    | 5913/10215 [02:31<02:04, 34.43it/s]\u001b[A\n",
            " 58%|█████▊    | 5917/10215 [02:31<02:02, 34.94it/s]\u001b[A\n",
            " 58%|█████▊    | 5921/10215 [02:31<02:02, 34.95it/s]\u001b[A\n",
            " 58%|█████▊    | 5925/10215 [02:31<02:03, 34.87it/s]\u001b[A\n",
            " 58%|█████▊    | 5929/10215 [02:31<02:03, 34.73it/s]\u001b[A\n",
            " 58%|█████▊    | 5933/10215 [02:31<02:04, 34.52it/s]\u001b[A\n",
            " 58%|█████▊    | 5937/10215 [02:32<02:03, 34.58it/s]\u001b[A\n",
            " 58%|█████▊    | 5941/10215 [02:32<02:05, 34.17it/s]\u001b[A\n",
            " 58%|█████▊    | 5945/10215 [02:32<02:05, 34.12it/s]\u001b[A\n",
            " 58%|█████▊    | 5949/10215 [02:32<02:06, 33.60it/s]\u001b[A\n",
            " 58%|█████▊    | 5953/10215 [02:32<02:07, 33.30it/s]\u001b[A\n",
            " 58%|█████▊    | 5957/10215 [02:32<02:05, 33.80it/s]\u001b[A\n",
            " 58%|█████▊    | 5961/10215 [02:32<02:04, 34.08it/s]\u001b[A\n",
            " 58%|█████▊    | 5965/10215 [02:32<02:03, 34.54it/s]\u001b[A\n",
            " 58%|█████▊    | 5969/10215 [02:33<02:02, 34.75it/s]\u001b[A\n",
            " 58%|█████▊    | 5973/10215 [02:33<02:00, 35.22it/s]\u001b[A\n",
            " 59%|█████▊    | 5977/10215 [02:33<02:00, 35.07it/s]\u001b[A\n",
            " 59%|█████▊    | 5981/10215 [02:33<02:00, 35.14it/s]\u001b[A\n",
            " 59%|█████▊    | 5985/10215 [02:33<02:00, 35.00it/s]\u001b[A\n",
            " 59%|█████▊    | 5989/10215 [02:33<02:00, 34.98it/s]\u001b[A\n",
            " 59%|█████▊    | 5993/10215 [02:33<01:58, 35.51it/s]\u001b[A\n",
            " 59%|█████▊    | 5997/10215 [02:33<01:57, 35.83it/s]\u001b[A\n",
            " 59%|█████▊    | 6001/10215 [02:33<01:57, 36.02it/s]\u001b[A\n",
            " 59%|█████▉    | 6005/10215 [02:34<01:56, 36.15it/s]\u001b[A\n",
            " 59%|█████▉    | 6009/10215 [02:34<01:58, 35.46it/s]\u001b[A\n",
            " 59%|█████▉    | 6013/10215 [02:34<01:58, 35.58it/s]\u001b[A\n",
            " 59%|█████▉    | 6017/10215 [02:34<01:59, 35.10it/s]\u001b[A\n",
            " 59%|█████▉    | 6021/10215 [02:34<02:06, 33.19it/s]\u001b[A\n",
            " 59%|█████▉    | 6025/10215 [02:34<02:03, 34.05it/s]\u001b[A\n",
            " 59%|█████▉    | 6029/10215 [02:34<02:00, 34.88it/s]\u001b[A\n",
            " 59%|█████▉    | 6033/10215 [02:34<02:03, 33.74it/s]\u001b[A\n",
            " 59%|█████▉    | 6037/10215 [02:34<02:01, 34.31it/s]\u001b[A\n",
            " 59%|█████▉    | 6041/10215 [02:35<02:00, 34.55it/s]\u001b[A\n",
            " 59%|█████▉    | 6045/10215 [02:35<01:59, 34.96it/s]\u001b[A\n",
            " 59%|█████▉    | 6049/10215 [02:35<01:57, 35.59it/s]\u001b[A\n",
            " 59%|█████▉    | 6053/10215 [02:35<01:56, 35.85it/s]\u001b[A\n",
            " 59%|█████▉    | 6057/10215 [02:35<01:56, 35.63it/s]\u001b[A\n",
            " 59%|█████▉    | 6061/10215 [02:35<01:56, 35.54it/s]\u001b[A\n",
            " 59%|█████▉    | 6065/10215 [02:35<01:57, 35.42it/s]\u001b[A\n",
            " 59%|█████▉    | 6069/10215 [02:35<01:58, 35.10it/s]\u001b[A\n",
            " 59%|█████▉    | 6073/10215 [02:36<01:57, 35.29it/s]\u001b[A\n",
            " 59%|█████▉    | 6077/10215 [02:36<01:57, 35.34it/s]\u001b[A\n",
            " 60%|█████▉    | 6081/10215 [02:36<01:56, 35.55it/s]\u001b[A\n",
            " 60%|█████▉    | 6085/10215 [02:36<01:55, 35.87it/s]\u001b[A\n",
            " 60%|█████▉    | 6089/10215 [02:36<01:54, 36.16it/s]\u001b[A\n",
            " 60%|█████▉    | 6093/10215 [02:36<01:56, 35.47it/s]\u001b[A\n",
            " 60%|█████▉    | 6097/10215 [02:36<01:54, 35.81it/s]\u001b[A\n",
            " 60%|█████▉    | 6101/10215 [02:36<01:54, 35.90it/s]\u001b[A\n",
            " 60%|█████▉    | 6105/10215 [02:36<01:55, 35.72it/s]\u001b[A\n",
            " 60%|█████▉    | 6109/10215 [02:37<01:54, 35.91it/s]\u001b[A\n",
            " 60%|█████▉    | 6113/10215 [02:37<01:54, 35.95it/s]\u001b[A\n",
            " 60%|█████▉    | 6117/10215 [02:37<01:54, 35.74it/s]\u001b[A\n",
            " 60%|█████▉    | 6121/10215 [02:37<01:54, 35.86it/s]\u001b[A\n",
            " 60%|█████▉    | 6125/10215 [02:37<01:53, 35.97it/s]\u001b[A\n",
            " 60%|██████    | 6129/10215 [02:37<01:55, 35.34it/s]\u001b[A\n",
            " 60%|██████    | 6133/10215 [02:37<01:56, 35.15it/s]\u001b[A\n",
            " 60%|██████    | 6137/10215 [02:37<01:54, 35.71it/s]\u001b[A\n",
            " 60%|██████    | 6141/10215 [02:37<01:54, 35.64it/s]\u001b[A\n",
            " 60%|██████    | 6145/10215 [02:38<01:53, 35.86it/s]\u001b[A\n",
            " 60%|██████    | 6149/10215 [02:38<01:53, 35.77it/s]\u001b[A\n",
            " 60%|██████    | 6153/10215 [02:38<01:54, 35.48it/s]\u001b[A\n",
            " 60%|██████    | 6157/10215 [02:38<01:53, 35.72it/s]\u001b[A\n",
            " 60%|██████    | 6161/10215 [02:38<01:53, 35.87it/s]\u001b[A\n",
            " 60%|██████    | 6165/10215 [02:38<01:53, 35.69it/s]\u001b[A\n",
            " 60%|██████    | 6169/10215 [02:38<01:52, 35.92it/s]\u001b[A\n",
            " 60%|██████    | 6173/10215 [02:38<01:52, 35.93it/s]\u001b[A\n",
            " 60%|██████    | 6177/10215 [02:38<01:51, 36.07it/s]\u001b[A\n",
            " 61%|██████    | 6181/10215 [02:39<01:53, 35.63it/s]\u001b[A\n",
            " 61%|██████    | 6185/10215 [02:39<01:52, 35.97it/s]\u001b[A\n",
            " 61%|██████    | 6189/10215 [02:39<01:51, 36.07it/s]\u001b[A\n",
            " 61%|██████    | 6193/10215 [02:39<01:52, 35.74it/s]\u001b[A\n",
            " 61%|██████    | 6197/10215 [02:39<01:52, 35.60it/s]\u001b[A\n",
            " 61%|██████    | 6201/10215 [02:39<01:55, 34.63it/s]\u001b[A\n",
            " 61%|██████    | 6205/10215 [02:39<01:54, 34.92it/s]\u001b[A\n",
            " 61%|██████    | 6209/10215 [02:39<01:53, 35.30it/s]\u001b[A\n",
            " 61%|██████    | 6213/10215 [02:39<01:53, 35.25it/s]\u001b[A\n",
            " 61%|██████    | 6217/10215 [02:40<01:52, 35.49it/s]\u001b[A\n",
            " 61%|██████    | 6221/10215 [02:40<01:51, 35.81it/s]\u001b[A\n",
            " 61%|██████    | 6225/10215 [02:40<01:51, 35.71it/s]\u001b[A\n",
            " 61%|██████    | 6229/10215 [02:40<01:50, 35.93it/s]\u001b[A\n",
            " 61%|██████    | 6233/10215 [02:40<01:50, 36.16it/s]\u001b[A\n",
            " 61%|██████    | 6237/10215 [02:40<01:52, 35.46it/s]\u001b[A\n",
            " 61%|██████    | 6241/10215 [02:40<01:51, 35.78it/s]\u001b[A\n",
            " 61%|██████    | 6245/10215 [02:40<01:50, 35.92it/s]\u001b[A\n",
            " 61%|██████    | 6249/10215 [02:40<01:49, 36.15it/s]\u001b[A\n",
            " 61%|██████    | 6253/10215 [02:41<01:51, 35.46it/s]\u001b[A\n",
            " 61%|██████▏   | 6257/10215 [02:41<01:50, 35.73it/s]\u001b[A\n",
            " 61%|██████▏   | 6261/10215 [02:41<01:50, 35.81it/s]\u001b[A\n",
            " 61%|██████▏   | 6265/10215 [02:41<01:50, 35.76it/s]\u001b[A\n",
            " 61%|██████▏   | 6269/10215 [02:41<01:50, 35.72it/s]\u001b[A\n",
            " 61%|██████▏   | 6273/10215 [02:41<01:52, 35.10it/s]\u001b[A\n",
            " 61%|██████▏   | 6277/10215 [02:41<01:50, 35.64it/s]\u001b[A\n",
            " 61%|██████▏   | 6281/10215 [02:41<01:50, 35.61it/s]\u001b[A\n",
            " 62%|██████▏   | 6285/10215 [02:41<01:50, 35.71it/s]\u001b[A\n",
            " 62%|██████▏   | 6289/10215 [02:42<01:50, 35.42it/s]\u001b[A\n",
            " 62%|██████▏   | 6293/10215 [02:42<01:50, 35.47it/s]\u001b[A\n",
            " 62%|██████▏   | 6297/10215 [02:42<01:50, 35.48it/s]\u001b[A\n",
            " 62%|██████▏   | 6301/10215 [02:42<01:50, 35.56it/s]\u001b[A\n",
            " 62%|██████▏   | 6305/10215 [02:42<01:50, 35.42it/s]\u001b[A\n",
            " 62%|██████▏   | 6309/10215 [02:42<01:52, 34.63it/s]\u001b[A\n",
            " 62%|██████▏   | 6313/10215 [02:42<01:52, 34.74it/s]\u001b[A\n",
            " 62%|██████▏   | 6317/10215 [02:42<01:51, 34.84it/s]\u001b[A\n",
            " 62%|██████▏   | 6321/10215 [02:42<01:51, 34.84it/s]\u001b[A\n",
            " 62%|██████▏   | 6325/10215 [02:43<01:51, 34.87it/s]\u001b[A\n",
            " 62%|██████▏   | 6329/10215 [02:43<01:52, 34.44it/s]\u001b[A\n",
            " 62%|██████▏   | 6333/10215 [02:43<01:50, 35.12it/s]\u001b[A\n",
            " 62%|██████▏   | 6337/10215 [02:43<01:49, 35.49it/s]\u001b[A\n",
            " 62%|██████▏   | 6341/10215 [02:43<01:47, 35.89it/s]\u001b[A\n",
            " 62%|██████▏   | 6345/10215 [02:43<01:49, 35.25it/s]\u001b[A\n",
            " 62%|██████▏   | 6349/10215 [02:43<01:48, 35.65it/s]\u001b[A\n",
            " 62%|██████▏   | 6353/10215 [02:43<01:47, 35.90it/s]\u001b[A\n",
            " 62%|██████▏   | 6357/10215 [02:43<01:47, 35.81it/s]\u001b[A\n",
            " 62%|██████▏   | 6361/10215 [02:44<01:47, 35.84it/s]\u001b[A\n",
            " 62%|██████▏   | 6365/10215 [02:44<01:48, 35.51it/s]\u001b[A\n",
            " 62%|██████▏   | 6369/10215 [02:44<01:47, 35.65it/s]\u001b[A\n",
            " 62%|██████▏   | 6373/10215 [02:44<01:47, 35.64it/s]\u001b[A\n",
            " 62%|██████▏   | 6377/10215 [02:44<01:47, 35.59it/s]\u001b[A\n",
            " 62%|██████▏   | 6381/10215 [02:44<01:49, 35.03it/s]\u001b[A\n",
            " 63%|██████▎   | 6385/10215 [02:44<01:48, 35.22it/s]\u001b[A\n",
            " 63%|██████▎   | 6389/10215 [02:44<01:49, 34.95it/s]\u001b[A\n",
            " 63%|██████▎   | 6393/10215 [02:45<01:47, 35.42it/s]\u001b[A\n",
            " 63%|██████▎   | 6397/10215 [02:45<01:48, 35.12it/s]\u001b[A\n",
            " 63%|██████▎   | 6401/10215 [02:45<01:47, 35.58it/s]\u001b[A\n",
            " 63%|██████▎   | 6405/10215 [02:45<01:46, 35.91it/s]\u001b[A\n",
            " 63%|██████▎   | 6409/10215 [02:45<01:46, 35.71it/s]\u001b[A\n",
            " 63%|██████▎   | 6413/10215 [02:45<01:46, 35.73it/s]\u001b[A\n",
            " 63%|██████▎   | 6417/10215 [02:45<01:51, 33.92it/s]\u001b[A\n",
            " 63%|██████▎   | 6421/10215 [02:45<01:50, 34.29it/s]\u001b[A\n",
            " 63%|██████▎   | 6425/10215 [02:45<01:49, 34.49it/s]\u001b[A\n",
            " 63%|██████▎   | 6429/10215 [02:46<01:50, 34.37it/s]\u001b[A\n",
            " 63%|██████▎   | 6433/10215 [02:46<01:49, 34.67it/s]\u001b[A\n",
            " 63%|██████▎   | 6437/10215 [02:46<01:48, 34.87it/s]\u001b[A\n",
            " 63%|██████▎   | 6441/10215 [02:46<01:47, 34.96it/s]\u001b[A\n",
            " 63%|██████▎   | 6445/10215 [02:46<01:48, 34.70it/s]\u001b[A\n",
            " 63%|██████▎   | 6449/10215 [02:46<01:49, 34.49it/s]\u001b[A\n",
            " 63%|██████▎   | 6453/10215 [02:46<01:50, 33.96it/s]\u001b[A\n",
            " 63%|██████▎   | 6457/10215 [02:46<01:50, 33.93it/s]\u001b[A\n",
            " 63%|██████▎   | 6461/10215 [02:46<01:48, 34.48it/s]\u001b[A\n",
            " 63%|██████▎   | 6465/10215 [02:47<01:47, 34.99it/s]\u001b[A\n",
            " 63%|██████▎   | 6469/10215 [02:47<01:46, 35.05it/s]\u001b[A\n",
            " 63%|██████▎   | 6473/10215 [02:47<01:45, 35.33it/s]\u001b[A\n",
            " 63%|██████▎   | 6477/10215 [02:47<01:46, 35.23it/s]\u001b[A\n",
            " 63%|██████▎   | 6481/10215 [02:47<01:45, 35.36it/s]\u001b[A\n",
            " 63%|██████▎   | 6485/10215 [02:47<01:47, 34.56it/s]\u001b[A\n",
            " 64%|██████▎   | 6489/10215 [02:47<01:46, 34.98it/s]\u001b[A\n",
            " 64%|██████▎   | 6493/10215 [02:47<01:47, 34.59it/s]\u001b[A\n",
            " 64%|██████▎   | 6497/10215 [02:48<01:50, 33.72it/s]\u001b[A\n",
            " 64%|██████▎   | 6501/10215 [02:48<01:46, 34.72it/s]\u001b[A\n",
            " 64%|██████▎   | 6505/10215 [02:48<01:45, 35.01it/s]\u001b[A\n",
            " 64%|██████▎   | 6509/10215 [02:48<01:44, 35.40it/s]\u001b[A\n",
            " 64%|██████▍   | 6513/10215 [02:48<01:44, 35.38it/s]\u001b[A\n",
            " 64%|██████▍   | 6517/10215 [02:48<01:45, 35.21it/s]\u001b[A\n",
            " 64%|██████▍   | 6521/10215 [02:48<01:45, 35.11it/s]\u001b[A\n",
            " 64%|██████▍   | 6525/10215 [02:48<01:45, 35.03it/s]\u001b[A\n",
            " 64%|██████▍   | 6529/10215 [02:48<01:46, 34.70it/s]\u001b[A\n",
            " 64%|██████▍   | 6533/10215 [02:49<01:46, 34.43it/s]\u001b[A\n",
            " 64%|██████▍   | 6537/10215 [02:49<01:45, 35.02it/s]\u001b[A\n",
            " 64%|██████▍   | 6541/10215 [02:49<01:44, 35.18it/s]\u001b[A\n",
            " 64%|██████▍   | 6545/10215 [02:49<01:43, 35.40it/s]\u001b[A\n",
            " 64%|██████▍   | 6549/10215 [02:49<01:43, 35.58it/s]\u001b[A\n",
            " 64%|██████▍   | 6553/10215 [02:49<01:42, 35.72it/s]\u001b[A\n",
            " 64%|██████▍   | 6557/10215 [02:49<01:43, 35.42it/s]\u001b[A\n",
            " 64%|██████▍   | 6561/10215 [02:49<01:42, 35.55it/s]\u001b[A\n",
            " 64%|██████▍   | 6565/10215 [02:49<01:42, 35.71it/s]\u001b[A\n",
            " 64%|██████▍   | 6569/10215 [02:50<01:43, 35.29it/s]\u001b[A\n",
            " 64%|██████▍   | 6573/10215 [02:50<01:43, 35.25it/s]\u001b[A\n",
            " 64%|██████▍   | 6577/10215 [02:50<01:43, 35.29it/s]\u001b[A\n",
            " 64%|██████▍   | 6581/10215 [02:50<01:42, 35.31it/s]\u001b[A\n",
            " 64%|██████▍   | 6585/10215 [02:50<01:42, 35.25it/s]\u001b[A\n",
            " 65%|██████▍   | 6589/10215 [02:50<01:41, 35.62it/s]\u001b[A\n",
            " 65%|██████▍   | 6593/10215 [02:50<01:43, 34.90it/s]\u001b[A\n",
            " 65%|██████▍   | 6597/10215 [02:50<01:44, 34.75it/s]\u001b[A\n",
            " 65%|██████▍   | 6601/10215 [02:50<01:44, 34.70it/s]\u001b[A\n",
            " 65%|██████▍   | 6605/10215 [02:51<01:43, 34.72it/s]\u001b[A\n",
            " 65%|██████▍   | 6609/10215 [02:51<01:43, 34.70it/s]\u001b[A\n",
            " 65%|██████▍   | 6613/10215 [02:51<01:43, 34.94it/s]\u001b[A\n",
            " 65%|██████▍   | 6617/10215 [02:51<01:42, 35.09it/s]\u001b[A\n",
            " 65%|██████▍   | 6621/10215 [02:51<01:40, 35.61it/s]\u001b[A\n",
            " 65%|██████▍   | 6625/10215 [02:51<01:40, 35.65it/s]\u001b[A\n",
            " 65%|██████▍   | 6629/10215 [02:51<01:41, 35.28it/s]\u001b[A\n",
            " 65%|██████▍   | 6633/10215 [02:51<01:40, 35.53it/s]\u001b[A\n",
            " 65%|██████▍   | 6637/10215 [02:51<01:39, 36.06it/s]\u001b[A\n",
            " 65%|██████▌   | 6641/10215 [02:52<01:39, 35.92it/s]\u001b[A\n",
            " 65%|██████▌   | 6645/10215 [02:52<01:39, 35.95it/s]\u001b[A\n",
            " 65%|██████▌   | 6649/10215 [02:52<01:39, 35.93it/s]\u001b[A\n",
            " 65%|██████▌   | 6653/10215 [02:52<01:39, 35.67it/s]\u001b[A\n",
            " 65%|██████▌   | 6657/10215 [02:52<01:39, 35.62it/s]\u001b[A\n",
            " 65%|██████▌   | 6661/10215 [02:52<01:38, 36.12it/s]\u001b[A\n",
            " 65%|██████▌   | 6665/10215 [02:52<01:41, 35.02it/s]\u001b[A\n",
            " 65%|██████▌   | 6669/10215 [02:52<01:41, 35.11it/s]\u001b[A\n",
            " 65%|██████▌   | 6673/10215 [02:52<01:40, 35.29it/s]\u001b[A\n",
            " 65%|██████▌   | 6677/10215 [02:53<01:40, 35.21it/s]\u001b[A\n",
            " 65%|██████▌   | 6681/10215 [02:53<01:41, 34.93it/s]\u001b[A\n",
            " 65%|██████▌   | 6685/10215 [02:53<01:39, 35.32it/s]\u001b[A\n",
            " 65%|██████▌   | 6689/10215 [02:53<01:39, 35.34it/s]\u001b[A\n",
            " 66%|██████▌   | 6693/10215 [02:53<01:39, 35.46it/s]\u001b[A\n",
            " 66%|██████▌   | 6697/10215 [02:53<01:41, 34.72it/s]\u001b[A\n",
            " 66%|██████▌   | 6701/10215 [02:53<01:42, 34.25it/s]\u001b[A\n",
            " 66%|██████▌   | 6705/10215 [02:53<01:42, 34.31it/s]\u001b[A\n",
            " 66%|██████▌   | 6709/10215 [02:54<01:40, 34.75it/s]\u001b[A\n",
            " 66%|██████▌   | 6713/10215 [02:54<01:39, 35.05it/s]\u001b[A\n",
            " 66%|██████▌   | 6717/10215 [02:54<01:39, 35.05it/s]\u001b[A\n",
            " 66%|██████▌   | 6721/10215 [02:54<01:38, 35.31it/s]\u001b[A\n",
            " 66%|██████▌   | 6725/10215 [02:54<01:38, 35.35it/s]\u001b[A\n",
            " 66%|██████▌   | 6729/10215 [02:54<01:38, 35.53it/s]\u001b[A\n",
            " 66%|██████▌   | 6733/10215 [02:54<01:38, 35.40it/s]\u001b[A\n",
            " 66%|██████▌   | 6737/10215 [02:54<01:38, 35.18it/s]\u001b[A\n",
            " 66%|██████▌   | 6741/10215 [02:54<01:38, 35.23it/s]\u001b[A\n",
            " 66%|██████▌   | 6745/10215 [02:55<01:37, 35.44it/s]\u001b[A\n",
            " 66%|██████▌   | 6749/10215 [02:55<01:37, 35.56it/s]\u001b[A\n",
            " 66%|██████▌   | 6753/10215 [02:55<01:37, 35.42it/s]\u001b[A\n",
            " 66%|██████▌   | 6757/10215 [02:55<01:37, 35.48it/s]\u001b[A\n",
            " 66%|██████▌   | 6761/10215 [02:55<01:36, 35.66it/s]\u001b[A\n",
            " 66%|██████▌   | 6765/10215 [02:55<01:36, 35.86it/s]\u001b[A\n",
            " 66%|██████▋   | 6769/10215 [02:55<01:35, 35.98it/s]\u001b[A\n",
            " 66%|██████▋   | 6773/10215 [02:55<01:37, 35.40it/s]\u001b[A\n",
            " 66%|██████▋   | 6777/10215 [02:55<01:36, 35.59it/s]\u001b[A\n",
            " 66%|██████▋   | 6781/10215 [02:56<01:35, 35.78it/s]\u001b[A\n",
            " 66%|██████▋   | 6785/10215 [02:56<01:36, 35.43it/s]\u001b[A\n",
            " 66%|██████▋   | 6789/10215 [02:56<01:36, 35.53it/s]\u001b[A\n",
            " 67%|██████▋   | 6793/10215 [02:56<01:36, 35.64it/s]\u001b[A\n",
            " 67%|██████▋   | 6797/10215 [02:56<01:35, 35.73it/s]\u001b[A\n",
            " 67%|██████▋   | 6801/10215 [02:56<01:39, 34.20it/s]\u001b[A\n",
            " 67%|██████▋   | 6805/10215 [02:56<01:37, 34.88it/s]\u001b[A\n",
            " 67%|██████▋   | 6809/10215 [02:56<01:37, 34.79it/s]\u001b[A\n",
            " 67%|██████▋   | 6813/10215 [02:56<01:36, 35.21it/s]\u001b[A\n",
            " 67%|██████▋   | 6817/10215 [02:57<01:36, 35.34it/s]\u001b[A\n",
            " 67%|██████▋   | 6821/10215 [02:57<01:36, 35.33it/s]\u001b[A\n",
            " 67%|██████▋   | 6825/10215 [02:57<01:36, 35.18it/s]\u001b[A\n",
            " 67%|██████▋   | 6829/10215 [02:57<01:35, 35.29it/s]\u001b[A\n",
            " 67%|██████▋   | 6833/10215 [02:57<01:36, 34.98it/s]\u001b[A\n",
            " 67%|██████▋   | 6837/10215 [02:57<01:36, 35.03it/s]\u001b[A\n",
            " 67%|██████▋   | 6841/10215 [02:57<01:37, 34.43it/s]\u001b[A\n",
            " 67%|██████▋   | 6845/10215 [02:57<01:38, 34.05it/s]\u001b[A\n",
            " 67%|██████▋   | 6849/10215 [02:57<01:39, 33.93it/s]\u001b[A\n",
            " 67%|██████▋   | 6853/10215 [02:58<01:39, 33.85it/s]\u001b[A\n",
            " 67%|██████▋   | 6857/10215 [02:58<01:37, 34.33it/s]\u001b[A\n",
            " 67%|██████▋   | 6861/10215 [02:58<01:35, 35.04it/s]\u001b[A\n",
            " 67%|██████▋   | 6865/10215 [02:58<01:34, 35.48it/s]\u001b[A\n",
            " 67%|██████▋   | 6869/10215 [02:58<01:34, 35.52it/s]\u001b[A\n",
            " 67%|██████▋   | 6873/10215 [02:58<01:33, 35.91it/s]\u001b[A\n",
            " 67%|██████▋   | 6877/10215 [02:58<01:37, 34.19it/s]\u001b[A\n",
            " 67%|██████▋   | 6881/10215 [02:58<01:38, 33.70it/s]\u001b[A\n",
            " 67%|██████▋   | 6885/10215 [02:59<01:37, 34.09it/s]\u001b[A\n",
            " 67%|██████▋   | 6889/10215 [02:59<01:36, 34.39it/s]\u001b[A\n",
            " 67%|██████▋   | 6893/10215 [02:59<01:35, 34.80it/s]\u001b[A\n",
            " 68%|██████▊   | 6897/10215 [02:59<01:34, 35.03it/s]\u001b[A\n",
            " 68%|██████▊   | 6901/10215 [02:59<01:34, 35.20it/s]\u001b[A\n",
            " 68%|██████▊   | 6905/10215 [02:59<01:34, 35.16it/s]\u001b[A\n",
            " 68%|██████▊   | 6909/10215 [02:59<01:33, 35.28it/s]\u001b[A\n",
            " 68%|██████▊   | 6913/10215 [02:59<01:36, 34.29it/s]\u001b[A\n",
            " 68%|██████▊   | 6917/10215 [02:59<01:35, 34.45it/s]\u001b[A\n",
            " 68%|██████▊   | 6921/10215 [03:00<01:34, 34.73it/s]\u001b[A\n",
            " 68%|██████▊   | 6925/10215 [03:00<01:33, 35.05it/s]\u001b[A\n",
            " 68%|██████▊   | 6929/10215 [03:00<01:33, 35.33it/s]\u001b[A\n",
            " 68%|██████▊   | 6933/10215 [03:00<01:33, 35.28it/s]\u001b[A\n",
            " 68%|██████▊   | 6937/10215 [03:00<01:32, 35.41it/s]\u001b[A\n",
            " 68%|██████▊   | 6941/10215 [03:00<01:32, 35.35it/s]\u001b[A\n",
            " 68%|██████▊   | 6945/10215 [03:00<01:33, 34.85it/s]\u001b[A\n",
            " 68%|██████▊   | 6949/10215 [03:00<01:35, 34.21it/s]\u001b[A\n",
            " 68%|██████▊   | 6953/10215 [03:00<01:34, 34.66it/s]\u001b[A\n",
            " 68%|██████▊   | 6957/10215 [03:01<01:33, 35.00it/s]\u001b[A\n",
            " 68%|██████▊   | 6961/10215 [03:01<01:33, 34.86it/s]\u001b[A\n",
            " 68%|██████▊   | 6965/10215 [03:01<01:32, 35.04it/s]\u001b[A\n",
            " 68%|██████▊   | 6969/10215 [03:01<01:32, 35.03it/s]\u001b[A\n",
            " 68%|██████▊   | 6973/10215 [03:01<01:32, 35.21it/s]\u001b[A\n",
            " 68%|██████▊   | 6977/10215 [03:01<01:33, 34.56it/s]\u001b[A\n",
            " 68%|██████▊   | 6981/10215 [03:01<01:32, 34.80it/s]\u001b[A\n",
            " 68%|██████▊   | 6985/10215 [03:01<01:34, 34.34it/s]\u001b[A\n",
            " 68%|██████▊   | 6989/10215 [03:02<01:33, 34.63it/s]\u001b[A\n",
            " 68%|██████▊   | 6993/10215 [03:02<01:32, 34.82it/s]\u001b[A\n",
            " 68%|██████▊   | 6997/10215 [03:02<01:32, 34.71it/s]\u001b[A\n",
            " 69%|██████▊   | 7001/10215 [03:02<01:32, 34.69it/s]\u001b[A\n",
            " 69%|██████▊   | 7005/10215 [03:02<01:31, 34.94it/s]\u001b[A\n",
            " 69%|██████▊   | 7009/10215 [03:02<01:31, 34.94it/s]\u001b[A\n",
            " 69%|██████▊   | 7013/10215 [03:02<01:34, 33.94it/s]\u001b[A\n",
            " 69%|██████▊   | 7017/10215 [03:02<01:33, 34.18it/s]\u001b[A\n",
            " 69%|██████▊   | 7021/10215 [03:02<01:34, 33.86it/s]\u001b[A\n",
            " 69%|██████▉   | 7025/10215 [03:03<01:34, 33.78it/s]\u001b[A\n",
            " 69%|██████▉   | 7029/10215 [03:03<01:33, 34.15it/s]\u001b[A\n",
            " 69%|██████▉   | 7033/10215 [03:03<01:32, 34.52it/s]\u001b[A\n",
            " 69%|██████▉   | 7037/10215 [03:03<01:32, 34.50it/s]\u001b[A\n",
            " 69%|██████▉   | 7041/10215 [03:03<01:30, 35.02it/s]\u001b[A\n",
            " 69%|██████▉   | 7045/10215 [03:03<01:31, 34.55it/s]\u001b[A\n",
            " 69%|██████▉   | 7049/10215 [03:03<01:31, 34.62it/s]\u001b[A\n",
            " 69%|██████▉   | 7053/10215 [03:03<01:31, 34.44it/s]\u001b[A\n",
            " 69%|██████▉   | 7057/10215 [03:03<01:33, 33.90it/s]\u001b[A\n",
            " 69%|██████▉   | 7061/10215 [03:04<01:33, 33.59it/s]\u001b[A\n",
            " 69%|██████▉   | 7065/10215 [03:04<01:33, 33.81it/s]\u001b[A\n",
            " 69%|██████▉   | 7069/10215 [03:04<01:31, 34.41it/s]\u001b[A\n",
            " 69%|██████▉   | 7073/10215 [03:04<01:31, 34.53it/s]\u001b[A\n",
            " 69%|██████▉   | 7077/10215 [03:04<01:29, 34.99it/s]\u001b[A\n",
            " 69%|██████▉   | 7081/10215 [03:04<01:29, 34.89it/s]\u001b[A\n",
            " 69%|██████▉   | 7085/10215 [03:04<01:30, 34.57it/s]\u001b[A\n",
            " 69%|██████▉   | 7089/10215 [03:04<01:30, 34.55it/s]\u001b[A\n",
            " 69%|██████▉   | 7093/10215 [03:05<01:29, 34.90it/s]\u001b[A\n",
            " 69%|██████▉   | 7097/10215 [03:05<01:30, 34.42it/s]\u001b[A\n",
            " 70%|██████▉   | 7101/10215 [03:05<01:30, 34.58it/s]\u001b[A\n",
            " 70%|██████▉   | 7105/10215 [03:05<01:28, 34.98it/s]\u001b[A\n",
            " 70%|██████▉   | 7109/10215 [03:05<01:28, 35.02it/s]\u001b[A\n",
            " 70%|██████▉   | 7113/10215 [03:05<01:27, 35.28it/s]\u001b[A\n",
            " 70%|██████▉   | 7117/10215 [03:05<01:27, 35.52it/s]\u001b[A\n",
            " 70%|██████▉   | 7121/10215 [03:05<01:26, 35.67it/s]\u001b[A\n",
            " 70%|██████▉   | 7125/10215 [03:05<01:28, 34.94it/s]\u001b[A\n",
            " 70%|██████▉   | 7129/10215 [03:06<01:27, 35.39it/s]\u001b[A\n",
            " 70%|██████▉   | 7133/10215 [03:06<01:27, 35.31it/s]\u001b[A\n",
            " 70%|██████▉   | 7137/10215 [03:06<01:27, 35.23it/s]\u001b[A\n",
            " 70%|██████▉   | 7141/10215 [03:06<01:27, 35.28it/s]\u001b[A\n",
            " 70%|██████▉   | 7145/10215 [03:06<01:26, 35.50it/s]\u001b[A\n",
            " 70%|██████▉   | 7149/10215 [03:06<01:26, 35.48it/s]\u001b[A\n",
            " 70%|███████   | 7153/10215 [03:06<01:26, 35.45it/s]\u001b[A\n",
            " 70%|███████   | 7157/10215 [03:06<01:26, 35.42it/s]\u001b[A\n",
            " 70%|███████   | 7161/10215 [03:06<01:29, 34.15it/s]\u001b[A\n",
            " 70%|███████   | 7165/10215 [03:07<01:28, 34.53it/s]\u001b[A\n",
            " 70%|███████   | 7169/10215 [03:07<01:26, 35.16it/s]\u001b[A\n",
            " 70%|███████   | 7173/10215 [03:07<01:25, 35.39it/s]\u001b[A\n",
            " 70%|███████   | 7177/10215 [03:07<01:26, 35.24it/s]\u001b[A\n",
            " 70%|███████   | 7181/10215 [03:07<01:26, 35.06it/s]\u001b[A\n",
            " 70%|███████   | 7185/10215 [03:07<01:27, 34.69it/s]\u001b[A\n",
            " 70%|███████   | 7189/10215 [03:07<01:27, 34.67it/s]\u001b[A\n",
            " 70%|███████   | 7193/10215 [03:07<01:26, 34.94it/s]\u001b[A\n",
            " 70%|███████   | 7197/10215 [03:07<01:27, 34.66it/s]\u001b[A\n",
            " 70%|███████   | 7201/10215 [03:08<01:26, 34.71it/s]\u001b[A\n",
            " 71%|███████   | 7205/10215 [03:08<01:26, 34.97it/s]\u001b[A\n",
            " 71%|███████   | 7209/10215 [03:08<01:25, 35.05it/s]\u001b[A\n",
            " 71%|███████   | 7213/10215 [03:08<01:25, 35.15it/s]\u001b[A\n",
            " 71%|███████   | 7217/10215 [03:08<01:26, 34.64it/s]\u001b[A\n",
            " 71%|███████   | 7221/10215 [03:08<01:25, 35.03it/s]\u001b[A\n",
            " 71%|███████   | 7225/10215 [03:08<01:27, 34.02it/s]\u001b[A\n",
            " 71%|███████   | 7229/10215 [03:08<01:27, 34.30it/s]\u001b[A\n",
            " 71%|███████   | 7233/10215 [03:09<01:27, 33.97it/s]\u001b[A\n",
            " 71%|███████   | 7237/10215 [03:09<01:27, 33.94it/s]\u001b[A\n",
            " 71%|███████   | 7241/10215 [03:09<01:26, 34.25it/s]\u001b[A\n",
            " 71%|███████   | 7245/10215 [03:09<01:25, 34.61it/s]\u001b[A\n",
            " 71%|███████   | 7249/10215 [03:09<01:25, 34.64it/s]\u001b[A\n",
            " 71%|███████   | 7253/10215 [03:09<01:24, 35.01it/s]\u001b[A\n",
            " 71%|███████   | 7257/10215 [03:09<01:24, 35.16it/s]\u001b[A\n",
            " 71%|███████   | 7261/10215 [03:09<01:23, 35.58it/s]\u001b[A\n",
            " 71%|███████   | 7265/10215 [03:09<01:23, 35.49it/s]\u001b[A\n",
            " 71%|███████   | 7269/10215 [03:10<01:24, 35.05it/s]\u001b[A\n",
            " 71%|███████   | 7273/10215 [03:10<01:24, 34.71it/s]\u001b[A\n",
            " 71%|███████   | 7277/10215 [03:10<01:24, 34.85it/s]\u001b[A\n",
            " 71%|███████▏  | 7281/10215 [03:10<01:24, 34.71it/s]\u001b[A\n",
            " 71%|███████▏  | 7285/10215 [03:10<01:23, 34.95it/s]\u001b[A\n",
            " 71%|███████▏  | 7289/10215 [03:10<01:23, 35.04it/s]\u001b[A\n",
            " 71%|███████▏  | 7293/10215 [03:10<01:23, 35.10it/s]\u001b[A\n",
            " 71%|███████▏  | 7297/10215 [03:10<01:23, 35.05it/s]\u001b[A\n",
            " 71%|███████▏  | 7301/10215 [03:10<01:24, 34.44it/s]\u001b[A\n",
            " 72%|███████▏  | 7305/10215 [03:11<01:23, 34.88it/s]\u001b[A\n",
            " 72%|███████▏  | 7309/10215 [03:11<01:22, 35.16it/s]\u001b[A\n",
            " 72%|███████▏  | 7313/10215 [03:11<01:21, 35.48it/s]\u001b[A\n",
            " 72%|███████▏  | 7317/10215 [03:11<01:21, 35.35it/s]\u001b[A\n",
            " 72%|███████▏  | 7321/10215 [03:11<01:23, 34.84it/s]\u001b[A\n",
            " 72%|███████▏  | 7325/10215 [03:11<01:22, 34.83it/s]\u001b[A\n",
            " 72%|███████▏  | 7329/10215 [03:11<01:23, 34.57it/s]\u001b[A\n",
            " 72%|███████▏  | 7333/10215 [03:11<01:23, 34.58it/s]\u001b[A\n",
            " 72%|███████▏  | 7337/10215 [03:12<01:23, 34.32it/s]\u001b[A\n",
            " 72%|███████▏  | 7341/10215 [03:12<01:22, 34.68it/s]\u001b[A\n",
            " 72%|███████▏  | 7345/10215 [03:12<01:23, 34.50it/s]\u001b[A\n",
            " 72%|███████▏  | 7349/10215 [03:12<01:22, 34.61it/s]\u001b[A\n",
            " 72%|███████▏  | 7353/10215 [03:12<01:21, 34.91it/s]\u001b[A\n",
            " 72%|███████▏  | 7357/10215 [03:12<01:21, 35.20it/s]\u001b[A\n",
            " 72%|███████▏  | 7361/10215 [03:12<01:21, 35.16it/s]\u001b[A\n",
            " 72%|███████▏  | 7365/10215 [03:12<01:21, 35.11it/s]\u001b[A\n",
            " 72%|███████▏  | 7369/10215 [03:12<01:20, 35.26it/s]\u001b[A\n",
            " 72%|███████▏  | 7373/10215 [03:13<01:21, 35.05it/s]\u001b[A\n",
            " 72%|███████▏  | 7377/10215 [03:13<01:22, 34.36it/s]\u001b[A\n",
            " 72%|███████▏  | 7381/10215 [03:13<01:22, 34.55it/s]\u001b[A\n",
            " 72%|███████▏  | 7385/10215 [03:13<01:22, 34.23it/s]\u001b[A\n",
            " 72%|███████▏  | 7389/10215 [03:13<01:22, 34.36it/s]\u001b[A\n",
            " 72%|███████▏  | 7393/10215 [03:13<01:23, 33.87it/s]\u001b[A\n",
            " 72%|███████▏  | 7397/10215 [03:13<01:22, 34.07it/s]\u001b[A\n",
            " 72%|███████▏  | 7401/10215 [03:13<01:22, 34.28it/s]\u001b[A\n",
            " 72%|███████▏  | 7405/10215 [03:13<01:21, 34.52it/s]\u001b[A\n",
            " 73%|███████▎  | 7409/10215 [03:14<01:22, 33.87it/s]\u001b[A\n",
            " 73%|███████▎  | 7413/10215 [03:14<01:21, 34.28it/s]\u001b[A\n",
            " 73%|███████▎  | 7417/10215 [03:14<01:20, 34.64it/s]\u001b[A\n",
            " 73%|███████▎  | 7421/10215 [03:14<01:20, 34.82it/s]\u001b[A\n",
            " 73%|███████▎  | 7425/10215 [03:14<01:20, 34.63it/s]\u001b[A\n",
            " 73%|███████▎  | 7429/10215 [03:14<01:20, 34.69it/s]\u001b[A\n",
            " 73%|███████▎  | 7433/10215 [03:14<01:20, 34.70it/s]\u001b[A\n",
            " 73%|███████▎  | 7437/10215 [03:14<01:19, 34.74it/s]\u001b[A\n",
            " 73%|███████▎  | 7441/10215 [03:15<01:19, 34.87it/s]\u001b[A\n",
            " 73%|███████▎  | 7445/10215 [03:15<01:20, 34.51it/s]\u001b[A\n",
            " 73%|███████▎  | 7449/10215 [03:15<01:19, 34.62it/s]\u001b[A\n",
            " 73%|███████▎  | 7453/10215 [03:15<01:20, 34.37it/s]\u001b[A\n",
            " 73%|███████▎  | 7457/10215 [03:15<01:19, 34.61it/s]\u001b[A\n",
            " 73%|███████▎  | 7461/10215 [03:15<01:19, 34.78it/s]\u001b[A\n",
            " 73%|███████▎  | 7465/10215 [03:15<01:18, 34.88it/s]\u001b[A\n",
            " 73%|███████▎  | 7469/10215 [03:15<01:19, 34.63it/s]\u001b[A\n",
            " 73%|███████▎  | 7473/10215 [03:15<01:18, 34.92it/s]\u001b[A\n",
            " 73%|███████▎  | 7477/10215 [03:16<01:19, 34.30it/s]\u001b[A\n",
            " 73%|███████▎  | 7481/10215 [03:16<01:19, 34.46it/s]\u001b[A\n",
            " 73%|███████▎  | 7485/10215 [03:16<01:19, 34.19it/s]\u001b[A\n",
            " 73%|███████▎  | 7489/10215 [03:16<01:19, 34.41it/s]\u001b[A\n",
            " 73%|███████▎  | 7493/10215 [03:16<01:18, 34.66it/s]\u001b[A\n",
            " 73%|███████▎  | 7497/10215 [03:16<01:18, 34.55it/s]\u001b[A\n",
            " 73%|███████▎  | 7501/10215 [03:16<01:18, 34.65it/s]\u001b[A\n",
            " 73%|███████▎  | 7505/10215 [03:16<01:18, 34.66it/s]\u001b[A\n",
            " 74%|███████▎  | 7509/10215 [03:16<01:17, 34.71it/s]\u001b[A\n",
            " 74%|███████▎  | 7513/10215 [03:17<01:18, 34.29it/s]\u001b[A\n",
            " 74%|███████▎  | 7517/10215 [03:17<01:18, 34.37it/s]\u001b[A\n",
            " 74%|███████▎  | 7521/10215 [03:17<01:17, 34.81it/s]\u001b[A\n",
            " 74%|███████▎  | 7525/10215 [03:17<01:17, 34.65it/s]\u001b[A\n",
            " 74%|███████▎  | 7529/10215 [03:17<01:17, 34.69it/s]\u001b[A\n",
            " 74%|███████▎  | 7533/10215 [03:17<01:16, 34.98it/s]\u001b[A\n",
            " 74%|███████▍  | 7537/10215 [03:17<01:16, 34.91it/s]\u001b[A\n",
            " 74%|███████▍  | 7541/10215 [03:17<01:16, 34.74it/s]\u001b[A\n",
            " 74%|███████▍  | 7545/10215 [03:18<01:16, 34.83it/s]\u001b[A\n",
            " 74%|███████▍  | 7549/10215 [03:18<01:18, 34.14it/s]\u001b[A\n",
            " 74%|███████▍  | 7553/10215 [03:18<01:16, 34.68it/s]\u001b[A\n",
            " 74%|███████▍  | 7557/10215 [03:18<01:15, 35.34it/s]\u001b[A\n",
            " 74%|███████▍  | 7561/10215 [03:18<01:14, 35.43it/s]\u001b[A\n",
            " 74%|███████▍  | 7565/10215 [03:18<01:15, 34.93it/s]\u001b[A\n",
            " 74%|███████▍  | 7569/10215 [03:18<01:15, 35.09it/s]\u001b[A\n",
            " 74%|███████▍  | 7573/10215 [03:18<01:15, 35.06it/s]\u001b[A\n",
            " 74%|███████▍  | 7577/10215 [03:18<01:15, 34.87it/s]\u001b[A\n",
            " 74%|███████▍  | 7581/10215 [03:19<01:16, 34.64it/s]\u001b[A\n",
            " 74%|███████▍  | 7585/10215 [03:19<01:16, 34.34it/s]\u001b[A\n",
            " 74%|███████▍  | 7589/10215 [03:19<01:16, 34.46it/s]\u001b[A\n",
            " 74%|███████▍  | 7593/10215 [03:19<01:15, 34.79it/s]\u001b[A\n",
            " 74%|███████▍  | 7597/10215 [03:19<01:14, 35.09it/s]\u001b[A\n",
            " 74%|███████▍  | 7601/10215 [03:19<01:14, 35.22it/s]\u001b[A\n",
            " 74%|███████▍  | 7605/10215 [03:19<01:15, 34.71it/s]\u001b[A\n",
            " 74%|███████▍  | 7609/10215 [03:19<01:14, 34.79it/s]\u001b[A\n",
            " 75%|███████▍  | 7613/10215 [03:19<01:14, 34.77it/s]\u001b[A\n",
            " 75%|███████▍  | 7617/10215 [03:20<01:14, 34.91it/s]\u001b[A\n",
            " 75%|███████▍  | 7621/10215 [03:20<01:15, 34.48it/s]\u001b[A\n",
            " 75%|███████▍  | 7625/10215 [03:20<01:15, 34.50it/s]\u001b[A\n",
            " 75%|███████▍  | 7629/10215 [03:20<01:15, 34.47it/s]\u001b[A\n",
            " 75%|███████▍  | 7633/10215 [03:20<01:15, 34.36it/s]\u001b[A\n",
            " 75%|███████▍  | 7637/10215 [03:20<01:15, 34.24it/s]\u001b[A\n",
            " 75%|███████▍  | 7641/10215 [03:20<01:15, 34.03it/s]\u001b[A\n",
            " 75%|███████▍  | 7645/10215 [03:20<01:15, 34.16it/s]\u001b[A\n",
            " 75%|███████▍  | 7649/10215 [03:21<01:16, 33.50it/s]\u001b[A\n",
            " 75%|███████▍  | 7653/10215 [03:21<01:18, 32.68it/s]\u001b[A\n",
            " 75%|███████▍  | 7657/10215 [03:21<01:17, 33.15it/s]\u001b[A\n",
            " 75%|███████▍  | 7661/10215 [03:21<01:16, 33.45it/s]\u001b[A\n",
            " 75%|███████▌  | 7665/10215 [03:21<01:14, 34.16it/s]\u001b[A\n",
            " 75%|███████▌  | 7669/10215 [03:21<01:13, 34.58it/s]\u001b[A\n",
            " 75%|███████▌  | 7673/10215 [03:21<01:12, 34.86it/s]\u001b[A\n",
            " 75%|███████▌  | 7677/10215 [03:21<01:13, 34.63it/s]\u001b[A\n",
            " 75%|███████▌  | 7681/10215 [03:21<01:12, 35.03it/s]\u001b[A\n",
            " 75%|███████▌  | 7685/10215 [03:22<01:12, 34.96it/s]\u001b[A\n",
            " 75%|███████▌  | 7689/10215 [03:22<01:13, 34.29it/s]\u001b[A\n",
            " 75%|███████▌  | 7693/10215 [03:22<01:13, 34.15it/s]\u001b[A\n",
            " 75%|███████▌  | 7697/10215 [03:22<01:13, 34.28it/s]\u001b[A\n",
            " 75%|███████▌  | 7701/10215 [03:22<01:13, 34.28it/s]\u001b[A\n",
            " 75%|███████▌  | 7705/10215 [03:22<01:13, 34.33it/s]\u001b[A\n",
            " 75%|███████▌  | 7709/10215 [03:22<01:12, 34.48it/s]\u001b[A\n",
            " 76%|███████▌  | 7713/10215 [03:22<01:11, 34.90it/s]\u001b[A\n",
            " 76%|███████▌  | 7717/10215 [03:23<01:11, 34.71it/s]\u001b[A\n",
            " 76%|███████▌  | 7721/10215 [03:23<01:12, 34.39it/s]\u001b[A\n",
            " 76%|███████▌  | 7725/10215 [03:23<01:13, 33.78it/s]\u001b[A\n",
            " 76%|███████▌  | 7729/10215 [03:23<01:12, 34.08it/s]\u001b[A\n",
            " 76%|███████▌  | 7733/10215 [03:23<01:12, 34.21it/s]\u001b[A\n",
            " 76%|███████▌  | 7737/10215 [03:23<01:12, 34.40it/s]\u001b[A\n",
            " 76%|███████▌  | 7741/10215 [03:23<01:11, 34.57it/s]\u001b[A\n",
            " 76%|███████▌  | 7745/10215 [03:23<01:11, 34.51it/s]\u001b[A\n",
            " 76%|███████▌  | 7749/10215 [03:23<01:13, 33.47it/s]\u001b[A\n",
            " 76%|███████▌  | 7753/10215 [03:24<01:12, 33.77it/s]\u001b[A\n",
            " 76%|███████▌  | 7757/10215 [03:24<01:14, 33.16it/s]\u001b[A\n",
            " 76%|███████▌  | 7761/10215 [03:24<01:13, 33.54it/s]\u001b[A\n",
            " 76%|███████▌  | 7765/10215 [03:24<01:13, 33.52it/s]\u001b[A\n",
            " 76%|███████▌  | 7769/10215 [03:24<01:12, 33.70it/s]\u001b[A\n",
            " 76%|███████▌  | 7773/10215 [03:24<01:12, 33.82it/s]\u001b[A\n",
            " 76%|███████▌  | 7777/10215 [03:24<01:11, 34.13it/s]\u001b[A\n",
            " 76%|███████▌  | 7781/10215 [03:24<01:11, 34.26it/s]\u001b[A\n",
            " 76%|███████▌  | 7785/10215 [03:25<01:10, 34.23it/s]\u001b[A\n",
            " 76%|███████▋  | 7789/10215 [03:25<01:11, 33.94it/s]\u001b[A\n",
            " 76%|███████▋  | 7793/10215 [03:25<01:12, 33.43it/s]\u001b[A\n",
            " 76%|███████▋  | 7797/10215 [03:25<01:11, 33.71it/s]\u001b[A\n",
            " 76%|███████▋  | 7801/10215 [03:25<01:10, 34.10it/s]\u001b[A\n",
            " 76%|███████▋  | 7805/10215 [03:25<01:09, 34.45it/s]\u001b[A\n",
            " 76%|███████▋  | 7809/10215 [03:25<01:09, 34.64it/s]\u001b[A\n",
            " 76%|███████▋  | 7813/10215 [03:25<01:08, 34.92it/s]\u001b[A\n",
            " 77%|███████▋  | 7817/10215 [03:25<01:09, 34.46it/s]\u001b[A\n",
            " 77%|███████▋  | 7821/10215 [03:26<01:09, 34.44it/s]\u001b[A\n",
            " 77%|███████▋  | 7825/10215 [03:26<01:09, 34.52it/s]\u001b[A\n",
            " 77%|███████▋  | 7829/10215 [03:26<01:09, 34.22it/s]\u001b[A\n",
            " 77%|███████▋  | 7833/10215 [03:26<01:09, 34.22it/s]\u001b[A\n",
            " 77%|███████▋  | 7837/10215 [03:26<01:09, 34.36it/s]\u001b[A\n",
            " 77%|███████▋  | 7841/10215 [03:26<01:08, 34.86it/s]\u001b[A\n",
            " 77%|███████▋  | 7845/10215 [03:26<01:08, 34.80it/s]\u001b[A\n",
            " 77%|███████▋  | 7849/10215 [03:26<01:07, 34.86it/s]\u001b[A\n",
            " 77%|███████▋  | 7853/10215 [03:26<01:07, 34.84it/s]\u001b[A\n",
            " 77%|███████▋  | 7857/10215 [03:27<01:08, 34.36it/s]\u001b[A\n",
            " 77%|███████▋  | 7861/10215 [03:27<01:09, 33.87it/s]\u001b[A\n",
            " 77%|███████▋  | 7865/10215 [03:27<01:09, 33.97it/s]\u001b[A\n",
            " 77%|███████▋  | 7869/10215 [03:27<01:08, 34.35it/s]\u001b[A\n",
            " 77%|███████▋  | 7873/10215 [03:27<01:08, 34.40it/s]\u001b[A\n",
            " 77%|███████▋  | 7877/10215 [03:27<01:08, 34.35it/s]\u001b[A\n",
            " 77%|███████▋  | 7881/10215 [03:27<01:07, 34.43it/s]\u001b[A\n",
            " 77%|███████▋  | 7885/10215 [03:27<01:07, 34.26it/s]\u001b[A\n",
            " 77%|███████▋  | 7889/10215 [03:28<01:07, 34.31it/s]\u001b[A\n",
            " 77%|███████▋  | 7893/10215 [03:28<01:07, 34.31it/s]\u001b[A\n",
            " 77%|███████▋  | 7897/10215 [03:28<01:08, 33.67it/s]\u001b[A\n",
            " 77%|███████▋  | 7901/10215 [03:28<01:07, 34.07it/s]\u001b[A\n",
            " 77%|███████▋  | 7905/10215 [03:28<01:06, 34.54it/s]\u001b[A\n",
            " 77%|███████▋  | 7909/10215 [03:28<01:07, 34.35it/s]\u001b[A\n",
            " 77%|███████▋  | 7913/10215 [03:28<01:07, 34.20it/s]\u001b[A\n",
            " 78%|███████▊  | 7917/10215 [03:28<01:07, 33.96it/s]\u001b[A\n",
            " 78%|███████▊  | 7921/10215 [03:28<01:07, 33.88it/s]\u001b[A\n",
            " 78%|███████▊  | 7925/10215 [03:29<01:06, 34.37it/s]\u001b[A\n",
            " 78%|███████▊  | 7929/10215 [03:29<01:06, 34.29it/s]\u001b[A\n",
            " 78%|███████▊  | 7933/10215 [03:29<01:08, 33.52it/s]\u001b[A\n",
            " 78%|███████▊  | 7937/10215 [03:29<01:08, 33.48it/s]\u001b[A\n",
            " 78%|███████▊  | 7941/10215 [03:29<01:08, 33.29it/s]\u001b[A\n",
            " 78%|███████▊  | 7945/10215 [03:29<01:07, 33.46it/s]\u001b[A\n",
            " 78%|███████▊  | 7949/10215 [03:29<01:06, 33.88it/s]\u001b[A\n",
            " 78%|███████▊  | 7953/10215 [03:29<01:06, 34.24it/s]\u001b[A\n",
            " 78%|███████▊  | 7957/10215 [03:30<01:06, 34.21it/s]\u001b[A\n",
            " 78%|███████▊  | 7961/10215 [03:30<01:05, 34.31it/s]\u001b[A\n",
            " 78%|███████▊  | 7965/10215 [03:30<01:06, 33.86it/s]\u001b[A\n",
            " 78%|███████▊  | 7969/10215 [03:30<01:06, 33.99it/s]\u001b[A\n",
            " 78%|███████▊  | 7973/10215 [03:30<01:05, 34.19it/s]\u001b[A\n",
            " 78%|███████▊  | 7977/10215 [03:30<01:05, 34.10it/s]\u001b[A\n",
            " 78%|███████▊  | 7981/10215 [03:30<01:04, 34.58it/s]\u001b[A\n",
            " 78%|███████▊  | 7985/10215 [03:30<01:03, 34.85it/s]\u001b[A\n",
            " 78%|███████▊  | 7989/10215 [03:30<01:04, 34.61it/s]\u001b[A\n",
            " 78%|███████▊  | 7993/10215 [03:31<01:04, 34.57it/s]\u001b[A\n",
            " 78%|███████▊  | 7997/10215 [03:31<01:04, 34.37it/s]\u001b[A\n",
            " 78%|███████▊  | 8001/10215 [03:31<01:06, 33.20it/s]\u001b[A\n",
            " 78%|███████▊  | 8005/10215 [03:31<01:06, 33.43it/s]\u001b[A\n",
            " 78%|███████▊  | 8009/10215 [03:31<01:05, 33.61it/s]\u001b[A\n",
            " 78%|███████▊  | 8013/10215 [03:31<01:05, 33.88it/s]\u001b[A\n",
            " 78%|███████▊  | 8017/10215 [03:31<01:04, 33.87it/s]\u001b[A\n",
            " 79%|███████▊  | 8021/10215 [03:31<01:04, 33.84it/s]\u001b[A\n",
            " 79%|███████▊  | 8025/10215 [03:32<01:04, 34.12it/s]\u001b[A\n",
            " 79%|███████▊  | 8029/10215 [03:32<01:04, 34.02it/s]\u001b[A\n",
            " 79%|███████▊  | 8033/10215 [03:32<01:03, 34.30it/s]\u001b[A\n",
            " 79%|███████▊  | 8037/10215 [03:32<01:05, 33.43it/s]\u001b[A\n",
            " 79%|███████▊  | 8041/10215 [03:32<01:04, 33.82it/s]\u001b[A\n",
            " 79%|███████▉  | 8045/10215 [03:32<01:03, 33.98it/s]\u001b[A\n",
            " 79%|███████▉  | 8049/10215 [03:32<01:04, 33.63it/s]\u001b[A\n",
            " 79%|███████▉  | 8053/10215 [03:32<01:05, 33.22it/s]\u001b[A\n",
            " 79%|███████▉  | 8057/10215 [03:32<01:03, 33.72it/s]\u001b[A\n",
            " 79%|███████▉  | 8061/10215 [03:33<01:04, 33.32it/s]\u001b[A\n",
            " 79%|███████▉  | 8065/10215 [03:33<01:04, 33.42it/s]\u001b[A\n",
            " 79%|███████▉  | 8069/10215 [03:33<01:05, 32.99it/s]\u001b[A\n",
            " 79%|███████▉  | 8073/10215 [03:33<01:05, 32.51it/s]\u001b[A\n",
            " 79%|███████▉  | 8077/10215 [03:33<01:06, 32.28it/s]\u001b[A\n",
            " 79%|███████▉  | 8081/10215 [03:33<01:04, 33.14it/s]\u001b[A\n",
            " 79%|███████▉  | 8085/10215 [03:33<01:03, 33.65it/s]\u001b[A\n",
            " 79%|███████▉  | 8089/10215 [03:33<01:02, 33.82it/s]\u001b[A\n",
            " 79%|███████▉  | 8093/10215 [03:34<01:02, 33.96it/s]\u001b[A\n",
            " 79%|███████▉  | 8097/10215 [03:34<01:02, 34.16it/s]\u001b[A\n",
            " 79%|███████▉  | 8101/10215 [03:34<01:01, 34.65it/s]\u001b[A\n",
            " 79%|███████▉  | 8105/10215 [03:34<01:01, 34.26it/s]\u001b[A\n",
            " 79%|███████▉  | 8109/10215 [03:34<01:00, 34.70it/s]\u001b[A\n",
            " 79%|███████▉  | 8113/10215 [03:34<01:00, 34.82it/s]\u001b[A\n",
            " 79%|███████▉  | 8117/10215 [03:34<00:59, 35.01it/s]\u001b[A\n",
            " 80%|███████▉  | 8121/10215 [03:34<00:59, 35.32it/s]\u001b[A\n",
            " 80%|███████▉  | 8125/10215 [03:34<00:59, 35.00it/s]\u001b[A\n",
            " 80%|███████▉  | 8129/10215 [03:35<00:59, 35.14it/s]\u001b[A\n",
            " 80%|███████▉  | 8133/10215 [03:35<00:59, 35.10it/s]\u001b[A\n",
            " 80%|███████▉  | 8137/10215 [03:35<01:00, 34.35it/s]\u001b[A\n",
            " 80%|███████▉  | 8141/10215 [03:35<01:00, 34.48it/s]\u001b[A\n",
            " 80%|███████▉  | 8145/10215 [03:35<00:59, 34.62it/s]\u001b[A\n",
            " 80%|███████▉  | 8149/10215 [03:35<00:59, 34.75it/s]\u001b[A\n",
            " 80%|███████▉  | 8153/10215 [03:35<00:59, 34.65it/s]\u001b[A\n",
            " 80%|███████▉  | 8157/10215 [03:35<00:59, 34.74it/s]\u001b[A\n",
            " 80%|███████▉  | 8161/10215 [03:36<00:59, 34.28it/s]\u001b[A\n",
            " 80%|███████▉  | 8165/10215 [03:36<00:59, 34.47it/s]\u001b[A\n",
            " 80%|███████▉  | 8169/10215 [03:36<00:59, 34.58it/s]\u001b[A\n",
            " 80%|████████  | 8173/10215 [03:36<01:00, 34.02it/s]\u001b[A\n",
            " 80%|████████  | 8177/10215 [03:36<00:59, 34.23it/s]\u001b[A\n",
            " 80%|████████  | 8181/10215 [03:36<00:58, 34.66it/s]\u001b[A\n",
            " 80%|████████  | 8185/10215 [03:36<00:59, 34.40it/s]\u001b[A\n",
            " 80%|████████  | 8189/10215 [03:36<00:58, 34.42it/s]\u001b[A\n",
            " 80%|████████  | 8193/10215 [03:36<00:58, 34.28it/s]\u001b[A\n",
            " 80%|████████  | 8197/10215 [03:37<00:58, 34.52it/s]\u001b[A\n",
            " 80%|████████  | 8201/10215 [03:37<00:58, 34.50it/s]\u001b[A\n",
            " 80%|████████  | 8205/10215 [03:37<00:58, 34.52it/s]\u001b[A\n",
            " 80%|████████  | 8209/10215 [03:37<00:58, 34.53it/s]\u001b[A\n",
            " 80%|████████  | 8213/10215 [03:37<00:57, 34.59it/s]\u001b[A\n",
            " 80%|████████  | 8217/10215 [03:37<00:57, 34.57it/s]\u001b[A\n",
            " 80%|████████  | 8221/10215 [03:37<00:57, 34.40it/s]\u001b[A\n",
            " 81%|████████  | 8225/10215 [03:37<00:57, 34.56it/s]\u001b[A\n",
            " 81%|████████  | 8229/10215 [03:37<00:57, 34.53it/s]\u001b[A\n",
            " 81%|████████  | 8233/10215 [03:38<00:57, 34.60it/s]\u001b[A\n",
            " 81%|████████  | 8237/10215 [03:38<00:57, 34.69it/s]\u001b[A\n",
            " 81%|████████  | 8241/10215 [03:38<00:56, 34.78it/s]\u001b[A\n",
            " 81%|████████  | 8245/10215 [03:38<00:57, 34.10it/s]\u001b[A\n",
            " 81%|████████  | 8249/10215 [03:38<00:57, 34.35it/s]\u001b[A\n",
            " 81%|████████  | 8253/10215 [03:38<00:57, 34.41it/s]\u001b[A\n",
            " 81%|████████  | 8257/10215 [03:38<00:56, 34.60it/s]\u001b[A\n",
            " 81%|████████  | 8261/10215 [03:38<00:56, 34.53it/s]\u001b[A\n",
            " 81%|████████  | 8265/10215 [03:39<00:56, 34.43it/s]\u001b[A\n",
            " 81%|████████  | 8269/10215 [03:39<00:56, 34.53it/s]\u001b[A\n",
            " 81%|████████  | 8273/10215 [03:39<00:56, 34.65it/s]\u001b[A\n",
            " 81%|████████  | 8277/10215 [03:39<00:56, 34.18it/s]\u001b[A\n",
            " 81%|████████  | 8281/10215 [03:39<00:56, 34.21it/s]\u001b[A\n",
            " 81%|████████  | 8285/10215 [03:39<00:56, 34.44it/s]\u001b[A\n",
            " 81%|████████  | 8289/10215 [03:39<00:55, 34.63it/s]\u001b[A\n",
            " 81%|████████  | 8293/10215 [03:39<00:55, 34.71it/s]\u001b[A\n",
            " 81%|████████  | 8297/10215 [03:39<00:54, 34.96it/s]\u001b[A\n",
            " 81%|████████▏ | 8301/10215 [03:40<00:54, 35.03it/s]\u001b[A\n",
            " 81%|████████▏ | 8305/10215 [03:40<00:54, 34.87it/s]\u001b[A\n",
            " 81%|████████▏ | 8309/10215 [03:40<00:54, 34.95it/s]\u001b[A\n",
            " 81%|████████▏ | 8313/10215 [03:40<00:55, 34.33it/s]\u001b[A\n",
            " 81%|████████▏ | 8317/10215 [03:40<00:54, 34.64it/s]\u001b[A\n",
            " 81%|████████▏ | 8321/10215 [03:40<00:54, 34.48it/s]\u001b[A\n",
            " 81%|████████▏ | 8325/10215 [03:40<00:54, 34.54it/s]\u001b[A\n",
            " 82%|████████▏ | 8329/10215 [03:40<00:54, 34.74it/s]\u001b[A\n",
            " 82%|████████▏ | 8333/10215 [03:41<00:54, 34.63it/s]\u001b[A\n",
            " 82%|████████▏ | 8337/10215 [03:41<00:53, 34.93it/s]\u001b[A\n",
            " 82%|████████▏ | 8341/10215 [03:41<00:53, 34.96it/s]\u001b[A\n",
            " 82%|████████▏ | 8345/10215 [03:41<00:52, 35.36it/s]\u001b[A\n",
            " 82%|████████▏ | 8349/10215 [03:41<00:53, 34.75it/s]\u001b[A\n",
            " 82%|████████▏ | 8353/10215 [03:41<00:53, 34.89it/s]\u001b[A\n",
            " 82%|████████▏ | 8357/10215 [03:41<00:52, 35.14it/s]\u001b[A\n",
            " 82%|████████▏ | 8361/10215 [03:41<00:52, 35.27it/s]\u001b[A\n",
            " 82%|████████▏ | 8365/10215 [03:41<00:53, 34.90it/s]\u001b[A\n",
            " 82%|████████▏ | 8369/10215 [03:42<00:52, 35.05it/s]\u001b[A\n",
            " 82%|████████▏ | 8373/10215 [03:42<00:52, 35.20it/s]\u001b[A\n",
            " 82%|████████▏ | 8377/10215 [03:42<00:52, 35.10it/s]\u001b[A\n",
            " 82%|████████▏ | 8381/10215 [03:42<00:52, 34.89it/s]\u001b[A\n",
            " 82%|████████▏ | 8385/10215 [03:42<00:53, 34.37it/s]\u001b[A\n",
            " 82%|████████▏ | 8389/10215 [03:42<00:52, 34.80it/s]\u001b[A\n",
            " 82%|████████▏ | 8393/10215 [03:42<00:51, 35.06it/s]\u001b[A\n",
            " 82%|████████▏ | 8397/10215 [03:42<00:52, 34.85it/s]\u001b[A\n",
            " 82%|████████▏ | 8401/10215 [03:42<00:52, 34.82it/s]\u001b[A\n",
            " 82%|████████▏ | 8405/10215 [03:43<00:52, 34.33it/s]\u001b[A\n",
            " 82%|████████▏ | 8409/10215 [03:43<00:52, 34.39it/s]\u001b[A\n",
            " 82%|████████▏ | 8413/10215 [03:43<00:52, 34.47it/s]\u001b[A\n",
            " 82%|████████▏ | 8417/10215 [03:43<00:51, 34.58it/s]\u001b[A\n",
            " 82%|████████▏ | 8421/10215 [03:43<00:52, 34.12it/s]\u001b[A\n",
            " 82%|████████▏ | 8425/10215 [03:43<00:52, 34.16it/s]\u001b[A\n",
            " 83%|████████▎ | 8429/10215 [03:43<00:51, 34.56it/s]\u001b[A\n",
            " 83%|████████▎ | 8433/10215 [03:43<00:51, 34.85it/s]\u001b[A\n",
            " 83%|████████▎ | 8437/10215 [03:43<00:51, 34.61it/s]\u001b[A\n",
            " 83%|████████▎ | 8441/10215 [03:44<00:51, 34.71it/s]\u001b[A\n",
            " 83%|████████▎ | 8445/10215 [03:44<00:50, 35.00it/s]\u001b[A\n",
            " 83%|████████▎ | 8449/10215 [03:44<00:50, 35.03it/s]\u001b[A\n",
            " 83%|████████▎ | 8453/10215 [03:44<00:51, 34.52it/s]\u001b[A\n",
            " 83%|████████▎ | 8457/10215 [03:44<00:51, 34.31it/s]\u001b[A\n",
            " 83%|████████▎ | 8461/10215 [03:44<00:50, 34.46it/s]\u001b[A\n",
            " 83%|████████▎ | 8465/10215 [03:44<00:50, 34.67it/s]\u001b[A\n",
            " 83%|████████▎ | 8469/10215 [03:44<00:50, 34.65it/s]\u001b[A\n",
            " 83%|████████▎ | 8473/10215 [03:45<00:49, 34.91it/s]\u001b[A\n",
            " 83%|████████▎ | 8477/10215 [03:45<00:50, 34.54it/s]\u001b[A\n",
            " 83%|████████▎ | 8481/10215 [03:45<00:50, 34.08it/s]\u001b[A\n",
            " 83%|████████▎ | 8485/10215 [03:45<00:50, 34.25it/s]\u001b[A\n",
            " 83%|████████▎ | 8489/10215 [03:45<00:50, 33.89it/s]\u001b[A\n",
            " 83%|████████▎ | 8493/10215 [03:45<00:50, 33.98it/s]\u001b[A\n",
            " 83%|████████▎ | 8497/10215 [03:45<00:49, 34.53it/s]\u001b[A\n",
            " 83%|████████▎ | 8501/10215 [03:45<00:49, 34.97it/s]\u001b[A\n",
            " 83%|████████▎ | 8505/10215 [03:45<00:49, 34.55it/s]\u001b[A\n",
            " 83%|████████▎ | 8509/10215 [03:46<00:48, 34.89it/s]\u001b[A\n",
            " 83%|████████▎ | 8513/10215 [03:46<00:49, 34.67it/s]\u001b[A\n",
            " 83%|████████▎ | 8517/10215 [03:46<00:48, 34.70it/s]\u001b[A\n",
            " 83%|████████▎ | 8521/10215 [03:46<00:48, 34.89it/s]\u001b[A\n",
            " 83%|████████▎ | 8525/10215 [03:46<00:49, 34.32it/s]\u001b[A\n",
            " 83%|████████▎ | 8529/10215 [03:46<00:48, 34.46it/s]\u001b[A\n",
            " 84%|████████▎ | 8533/10215 [03:46<00:48, 34.58it/s]\u001b[A\n",
            " 84%|████████▎ | 8537/10215 [03:46<00:48, 34.27it/s]\u001b[A\n",
            " 84%|████████▎ | 8541/10215 [03:47<00:49, 34.03it/s]\u001b[A\n",
            " 84%|████████▎ | 8545/10215 [03:47<00:48, 34.09it/s]\u001b[A\n",
            " 84%|████████▎ | 8549/10215 [03:47<00:48, 34.28it/s]\u001b[A\n",
            " 84%|████████▎ | 8553/10215 [03:47<00:48, 34.14it/s]\u001b[A\n",
            " 84%|████████▍ | 8557/10215 [03:47<00:48, 34.41it/s]\u001b[A\n",
            " 84%|████████▍ | 8561/10215 [03:47<00:49, 33.58it/s]\u001b[A\n",
            " 84%|████████▍ | 8565/10215 [03:47<00:49, 33.36it/s]\u001b[A\n",
            " 84%|████████▍ | 8569/10215 [03:47<00:48, 33.72it/s]\u001b[A\n",
            " 84%|████████▍ | 8573/10215 [03:47<00:48, 33.73it/s]\u001b[A\n",
            " 84%|████████▍ | 8577/10215 [03:48<00:47, 34.32it/s]\u001b[A\n",
            " 84%|████████▍ | 8581/10215 [03:48<00:47, 34.56it/s]\u001b[A\n",
            " 84%|████████▍ | 8585/10215 [03:48<00:47, 34.60it/s]\u001b[A\n",
            " 84%|████████▍ | 8589/10215 [03:48<00:47, 34.21it/s]\u001b[A\n",
            " 84%|████████▍ | 8593/10215 [03:48<00:48, 33.63it/s]\u001b[A\n",
            " 84%|████████▍ | 8597/10215 [03:48<00:47, 33.80it/s]\u001b[A\n",
            " 84%|████████▍ | 8601/10215 [03:48<00:47, 34.02it/s]\u001b[A\n",
            " 84%|████████▍ | 8605/10215 [03:48<00:47, 34.20it/s]\u001b[A\n",
            " 84%|████████▍ | 8609/10215 [03:49<00:47, 34.05it/s]\u001b[A\n",
            " 84%|████████▍ | 8613/10215 [03:49<00:47, 33.61it/s]\u001b[A\n",
            " 84%|████████▍ | 8617/10215 [03:49<00:47, 33.35it/s]\u001b[A\n",
            " 84%|████████▍ | 8621/10215 [03:49<00:47, 33.64it/s]\u001b[A\n",
            " 84%|████████▍ | 8625/10215 [03:49<00:46, 33.85it/s]\u001b[A\n",
            " 84%|████████▍ | 8629/10215 [03:49<00:47, 33.74it/s]\u001b[A\n",
            " 85%|████████▍ | 8633/10215 [03:49<00:46, 33.81it/s]\u001b[A\n",
            " 85%|████████▍ | 8637/10215 [03:49<00:46, 34.13it/s]\u001b[A\n",
            " 85%|████████▍ | 8641/10215 [03:49<00:46, 34.06it/s]\u001b[A\n",
            " 85%|████████▍ | 8645/10215 [03:50<00:45, 34.32it/s]\u001b[A\n",
            " 85%|████████▍ | 8649/10215 [03:50<00:45, 34.37it/s]\u001b[A\n",
            " 85%|████████▍ | 8653/10215 [03:50<00:45, 34.44it/s]\u001b[A\n",
            " 85%|████████▍ | 8657/10215 [03:50<00:45, 34.27it/s]\u001b[A\n",
            " 85%|████████▍ | 8661/10215 [03:50<00:44, 34.60it/s]\u001b[A\n",
            " 85%|████████▍ | 8665/10215 [03:50<00:45, 34.03it/s]\u001b[A\n",
            " 85%|████████▍ | 8669/10215 [03:50<00:45, 34.35it/s]\u001b[A\n",
            " 85%|████████▍ | 8673/10215 [03:50<00:44, 34.90it/s]\u001b[A\n",
            " 85%|████████▍ | 8677/10215 [03:51<00:44, 34.45it/s]\u001b[A\n",
            " 85%|████████▍ | 8681/10215 [03:51<00:44, 34.29it/s]\u001b[A\n",
            " 85%|████████▌ | 8685/10215 [03:51<00:44, 34.16it/s]\u001b[A\n",
            " 85%|████████▌ | 8689/10215 [03:51<00:44, 34.24it/s]\u001b[A\n",
            " 85%|████████▌ | 8693/10215 [03:51<00:44, 34.35it/s]\u001b[A\n",
            " 85%|████████▌ | 8697/10215 [03:51<00:44, 33.74it/s]\u001b[A\n",
            " 85%|████████▌ | 8701/10215 [03:51<00:44, 34.12it/s]\u001b[A\n",
            " 85%|████████▌ | 8705/10215 [03:51<00:44, 33.99it/s]\u001b[A\n",
            " 85%|████████▌ | 8709/10215 [03:51<00:43, 34.25it/s]\u001b[A\n",
            " 85%|████████▌ | 8713/10215 [03:52<00:44, 33.81it/s]\u001b[A\n",
            " 85%|████████▌ | 8717/10215 [03:52<00:44, 34.01it/s]\u001b[A\n",
            " 85%|████████▌ | 8721/10215 [03:52<00:43, 34.27it/s]\u001b[A\n",
            " 85%|████████▌ | 8725/10215 [03:52<00:43, 34.13it/s]\u001b[A\n",
            " 85%|████████▌ | 8729/10215 [03:52<00:42, 34.56it/s]\u001b[A\n",
            " 85%|████████▌ | 8733/10215 [03:52<00:43, 34.17it/s]\u001b[A\n",
            " 86%|████████▌ | 8737/10215 [03:52<00:43, 34.35it/s]\u001b[A\n",
            " 86%|████████▌ | 8741/10215 [03:52<00:43, 34.24it/s]\u001b[A\n",
            " 86%|████████▌ | 8745/10215 [03:52<00:43, 33.84it/s]\u001b[A\n",
            " 86%|████████▌ | 8749/10215 [03:53<00:43, 33.78it/s]\u001b[A\n",
            " 86%|████████▌ | 8753/10215 [03:53<00:43, 33.83it/s]\u001b[A\n",
            " 86%|████████▌ | 8757/10215 [03:53<00:42, 33.91it/s]\u001b[A\n",
            " 86%|████████▌ | 8761/10215 [03:53<00:42, 33.92it/s]\u001b[A\n",
            " 86%|████████▌ | 8765/10215 [03:53<00:42, 33.79it/s]\u001b[A\n",
            " 86%|████████▌ | 8769/10215 [03:53<00:42, 34.07it/s]\u001b[A\n",
            " 86%|████████▌ | 8773/10215 [03:53<00:42, 34.23it/s]\u001b[A\n",
            " 86%|████████▌ | 8777/10215 [03:53<00:42, 34.12it/s]\u001b[A\n",
            " 86%|████████▌ | 8781/10215 [03:54<00:41, 34.29it/s]\u001b[A\n",
            " 86%|████████▌ | 8785/10215 [03:54<00:41, 34.48it/s]\u001b[A\n",
            " 86%|████████▌ | 8789/10215 [03:54<00:41, 34.23it/s]\u001b[A\n",
            " 86%|████████▌ | 8793/10215 [03:54<00:41, 34.36it/s]\u001b[A\n",
            " 86%|████████▌ | 8797/10215 [03:54<00:41, 34.18it/s]\u001b[A\n",
            " 86%|████████▌ | 8801/10215 [03:54<00:41, 33.77it/s]\u001b[A\n",
            " 86%|████████▌ | 8805/10215 [03:54<00:40, 34.43it/s]\u001b[A\n",
            " 86%|████████▌ | 8809/10215 [03:54<00:40, 34.38it/s]\u001b[A\n",
            " 86%|████████▋ | 8813/10215 [03:54<00:40, 34.49it/s]\u001b[A\n",
            " 86%|████████▋ | 8817/10215 [03:55<00:40, 34.21it/s]\u001b[A\n",
            " 86%|████████▋ | 8821/10215 [03:55<00:40, 34.14it/s]\u001b[A\n",
            " 86%|████████▋ | 8825/10215 [03:55<00:40, 34.36it/s]\u001b[A\n",
            " 86%|████████▋ | 8829/10215 [03:55<00:39, 34.66it/s]\u001b[A\n",
            " 86%|████████▋ | 8833/10215 [03:55<00:39, 35.00it/s]\u001b[A\n",
            " 87%|████████▋ | 8837/10215 [03:55<00:40, 34.15it/s]\u001b[A\n",
            " 87%|████████▋ | 8841/10215 [03:55<00:40, 34.27it/s]\u001b[A\n",
            " 87%|████████▋ | 8845/10215 [03:55<00:39, 34.63it/s]\u001b[A\n",
            " 87%|████████▋ | 8849/10215 [03:56<00:39, 34.58it/s]\u001b[A\n",
            " 87%|████████▋ | 8853/10215 [03:56<00:39, 34.27it/s]\u001b[A\n",
            " 87%|████████▋ | 8857/10215 [03:56<00:39, 34.46it/s]\u001b[A\n",
            " 87%|████████▋ | 8861/10215 [03:56<00:39, 34.46it/s]\u001b[A\n",
            " 87%|████████▋ | 8865/10215 [03:56<00:39, 34.33it/s]\u001b[A\n",
            " 87%|████████▋ | 8869/10215 [03:56<00:39, 34.37it/s]\u001b[A\n",
            " 87%|████████▋ | 8873/10215 [03:56<00:39, 33.83it/s]\u001b[A\n",
            " 87%|████████▋ | 8877/10215 [03:56<00:39, 34.12it/s]\u001b[A\n",
            " 87%|████████▋ | 8881/10215 [03:56<00:39, 34.20it/s]\u001b[A\n",
            " 87%|████████▋ | 8885/10215 [03:57<00:38, 34.17it/s]\u001b[A\n",
            " 87%|████████▋ | 8889/10215 [03:57<00:38, 34.11it/s]\u001b[A\n",
            " 87%|████████▋ | 8893/10215 [03:57<00:38, 34.32it/s]\u001b[A\n",
            " 87%|████████▋ | 8897/10215 [03:57<00:38, 34.23it/s]\u001b[A\n",
            " 87%|████████▋ | 8901/10215 [03:57<00:38, 34.55it/s]\u001b[A\n",
            " 87%|████████▋ | 8905/10215 [03:57<00:38, 34.09it/s]\u001b[A\n",
            " 87%|████████▋ | 8909/10215 [03:57<00:37, 34.54it/s]\u001b[A\n",
            " 87%|████████▋ | 8913/10215 [03:57<00:37, 34.43it/s]\u001b[A\n",
            " 87%|████████▋ | 8917/10215 [03:58<00:37, 34.30it/s]\u001b[A\n",
            " 87%|████████▋ | 8921/10215 [03:58<00:37, 34.49it/s]\u001b[A\n",
            " 87%|████████▋ | 8925/10215 [03:58<00:37, 34.54it/s]\u001b[A\n",
            " 87%|████████▋ | 8929/10215 [03:58<00:37, 34.75it/s]\u001b[A\n",
            " 87%|████████▋ | 8933/10215 [03:58<00:36, 34.73it/s]\u001b[A\n",
            " 87%|████████▋ | 8937/10215 [03:58<00:36, 34.79it/s]\u001b[A\n",
            " 88%|████████▊ | 8941/10215 [03:58<00:37, 34.14it/s]\u001b[A\n",
            " 88%|████████▊ | 8945/10215 [03:58<00:37, 34.04it/s]\u001b[A\n",
            " 88%|████████▊ | 8949/10215 [03:58<00:37, 33.92it/s]\u001b[A\n",
            " 88%|████████▊ | 8953/10215 [03:59<00:37, 33.69it/s]\u001b[A\n",
            " 88%|████████▊ | 8957/10215 [03:59<00:37, 33.79it/s]\u001b[A\n",
            " 88%|████████▊ | 8961/10215 [03:59<00:37, 33.80it/s]\u001b[A\n",
            " 88%|████████▊ | 8965/10215 [03:59<00:36, 34.12it/s]\u001b[A\n",
            " 88%|████████▊ | 8969/10215 [03:59<00:36, 34.30it/s]\u001b[A\n",
            " 88%|████████▊ | 8973/10215 [03:59<00:36, 34.19it/s]\u001b[A\n",
            " 88%|████████▊ | 8977/10215 [03:59<00:36, 33.89it/s]\u001b[A\n",
            " 88%|████████▊ | 8981/10215 [03:59<00:36, 33.82it/s]\u001b[A\n",
            " 88%|████████▊ | 8985/10215 [04:00<00:36, 33.80it/s]\u001b[A\n",
            " 88%|████████▊ | 8989/10215 [04:00<00:36, 33.27it/s]\u001b[A\n",
            " 88%|████████▊ | 8993/10215 [04:00<00:36, 33.46it/s]\u001b[A\n",
            " 88%|████████▊ | 8997/10215 [04:00<00:36, 33.80it/s]\u001b[A\n",
            " 88%|████████▊ | 9001/10215 [04:00<00:35, 34.28it/s]\u001b[A\n",
            " 88%|████████▊ | 9005/10215 [04:00<00:35, 34.43it/s]\u001b[A\n",
            " 88%|████████▊ | 9009/10215 [04:00<00:35, 33.84it/s]\u001b[A\n",
            " 88%|████████▊ | 9013/10215 [04:00<00:35, 34.31it/s]\u001b[A\n",
            " 88%|████████▊ | 9017/10215 [04:00<00:35, 34.18it/s]\u001b[A\n",
            " 88%|████████▊ | 9021/10215 [04:01<00:34, 34.18it/s]\u001b[A\n",
            " 88%|████████▊ | 9025/10215 [04:01<00:34, 34.29it/s]\u001b[A\n",
            " 88%|████████▊ | 9029/10215 [04:01<00:34, 34.34it/s]\u001b[A\n",
            " 88%|████████▊ | 9033/10215 [04:01<00:34, 34.37it/s]\u001b[A\n",
            " 88%|████████▊ | 9037/10215 [04:01<00:34, 34.58it/s]\u001b[A\n",
            " 89%|████████▊ | 9041/10215 [04:01<00:33, 34.56it/s]\u001b[A\n",
            " 89%|████████▊ | 9045/10215 [04:01<00:33, 34.45it/s]\u001b[A\n",
            " 89%|████████▊ | 9049/10215 [04:01<00:33, 34.45it/s]\u001b[A\n",
            " 89%|████████▊ | 9053/10215 [04:01<00:33, 34.41it/s]\u001b[A\n",
            " 89%|████████▊ | 9057/10215 [04:02<00:33, 34.20it/s]\u001b[A\n",
            " 89%|████████▊ | 9061/10215 [04:02<00:33, 34.29it/s]\u001b[A\n",
            " 89%|████████▊ | 9065/10215 [04:02<00:33, 34.48it/s]\u001b[A\n",
            " 89%|████████▉ | 9069/10215 [04:02<00:33, 34.40it/s]\u001b[A\n",
            " 89%|████████▉ | 9073/10215 [04:02<00:33, 34.38it/s]\u001b[A\n",
            " 89%|████████▉ | 9077/10215 [04:02<00:33, 34.13it/s]\u001b[A\n",
            " 89%|████████▉ | 9081/10215 [04:02<00:33, 33.60it/s]\u001b[A\n",
            " 89%|████████▉ | 9085/10215 [04:02<00:33, 33.57it/s]\u001b[A\n",
            " 89%|████████▉ | 9089/10215 [04:03<00:34, 33.05it/s]\u001b[A\n",
            " 89%|████████▉ | 9093/10215 [04:03<00:33, 33.65it/s]\u001b[A\n",
            " 89%|████████▉ | 9097/10215 [04:03<00:32, 34.23it/s]\u001b[A\n",
            " 89%|████████▉ | 9101/10215 [04:03<00:32, 34.33it/s]\u001b[A\n",
            " 89%|████████▉ | 9105/10215 [04:03<00:32, 34.16it/s]\u001b[A\n",
            " 89%|████████▉ | 9109/10215 [04:03<00:32, 33.98it/s]\u001b[A\n",
            " 89%|████████▉ | 9113/10215 [04:03<00:32, 33.69it/s]\u001b[A\n",
            " 89%|████████▉ | 9117/10215 [04:03<00:32, 34.07it/s]\u001b[A\n",
            " 89%|████████▉ | 9121/10215 [04:03<00:31, 34.35it/s]\u001b[A\n",
            " 89%|████████▉ | 9125/10215 [04:04<00:31, 34.81it/s]\u001b[A\n",
            " 89%|████████▉ | 9129/10215 [04:04<00:31, 34.63it/s]\u001b[A\n",
            " 89%|████████▉ | 9133/10215 [04:04<00:31, 34.60it/s]\u001b[A\n",
            " 89%|████████▉ | 9137/10215 [04:04<00:30, 34.98it/s]\u001b[A\n",
            " 89%|████████▉ | 9141/10215 [04:04<00:30, 34.78it/s]\u001b[A\n",
            " 90%|████████▉ | 9145/10215 [04:04<00:30, 34.68it/s]\u001b[A\n",
            " 90%|████████▉ | 9149/10215 [04:04<00:31, 34.11it/s]\u001b[A\n",
            " 90%|████████▉ | 9153/10215 [04:04<00:30, 34.31it/s]\u001b[A\n",
            " 90%|████████▉ | 9157/10215 [04:05<00:30, 34.36it/s]\u001b[A\n",
            " 90%|████████▉ | 9161/10215 [04:05<00:30, 34.20it/s]\u001b[A\n",
            " 90%|████████▉ | 9165/10215 [04:05<00:30, 34.12it/s]\u001b[A\n",
            " 90%|████████▉ | 9169/10215 [04:05<00:30, 34.20it/s]\u001b[A\n",
            " 90%|████████▉ | 9173/10215 [04:05<00:30, 34.54it/s]\u001b[A\n",
            " 90%|████████▉ | 9177/10215 [04:05<00:30, 34.34it/s]\u001b[A\n",
            " 90%|████████▉ | 9181/10215 [04:05<00:30, 34.27it/s]\u001b[A\n",
            " 90%|████████▉ | 9185/10215 [04:05<00:30, 33.81it/s]\u001b[A\n",
            " 90%|████████▉ | 9189/10215 [04:05<00:29, 34.25it/s]\u001b[A\n",
            " 90%|████████▉ | 9193/10215 [04:06<00:30, 33.81it/s]\u001b[A\n",
            " 90%|█████████ | 9197/10215 [04:06<00:30, 33.87it/s]\u001b[A\n",
            " 90%|█████████ | 9201/10215 [04:06<00:29, 34.29it/s]\u001b[A\n",
            " 90%|█████████ | 9205/10215 [04:06<00:29, 33.75it/s]\u001b[A\n",
            " 90%|█████████ | 9209/10215 [04:06<00:29, 33.74it/s]\u001b[A\n",
            " 90%|█████████ | 9213/10215 [04:06<00:29, 33.90it/s]\u001b[A\n",
            " 90%|█████████ | 9217/10215 [04:06<00:29, 33.71it/s]\u001b[A\n",
            " 90%|█████████ | 9221/10215 [04:06<00:29, 34.07it/s]\u001b[A\n",
            " 90%|█████████ | 9225/10215 [04:07<00:29, 33.87it/s]\u001b[A\n",
            " 90%|█████████ | 9229/10215 [04:07<00:28, 34.12it/s]\u001b[A\n",
            " 90%|█████████ | 9233/10215 [04:07<00:28, 34.21it/s]\u001b[A\n",
            " 90%|█████████ | 9237/10215 [04:07<00:28, 34.34it/s]\u001b[A\n",
            " 90%|█████████ | 9241/10215 [04:07<00:28, 34.28it/s]\u001b[A\n",
            " 91%|█████████ | 9245/10215 [04:07<00:28, 34.31it/s]\u001b[A\n",
            " 91%|█████████ | 9249/10215 [04:07<00:27, 34.66it/s]\u001b[A\n",
            " 91%|█████████ | 9253/10215 [04:07<00:28, 34.08it/s]\u001b[A\n",
            " 91%|█████████ | 9257/10215 [04:07<00:27, 34.70it/s]\u001b[A\n",
            " 91%|█████████ | 9261/10215 [04:08<00:27, 34.38it/s]\u001b[A\n",
            " 91%|█████████ | 9265/10215 [04:08<00:27, 34.42it/s]\u001b[A\n",
            " 91%|█████████ | 9269/10215 [04:08<00:27, 34.44it/s]\u001b[A\n",
            " 91%|█████████ | 9273/10215 [04:08<00:27, 34.25it/s]\u001b[A\n",
            " 91%|█████████ | 9277/10215 [04:08<00:27, 34.47it/s]\u001b[A\n",
            " 91%|█████████ | 9281/10215 [04:08<00:27, 34.17it/s]\u001b[A\n",
            " 91%|█████████ | 9285/10215 [04:08<00:26, 34.56it/s]\u001b[A\n",
            " 91%|█████████ | 9289/10215 [04:08<00:27, 34.06it/s]\u001b[A\n",
            " 91%|█████████ | 9293/10215 [04:09<00:26, 34.15it/s]\u001b[A\n",
            " 91%|█████████ | 9297/10215 [04:09<00:26, 34.08it/s]\u001b[A\n",
            " 91%|█████████ | 9301/10215 [04:09<00:26, 34.12it/s]\u001b[A\n",
            " 91%|█████████ | 9305/10215 [04:09<00:26, 34.17it/s]\u001b[A\n",
            " 91%|█████████ | 9309/10215 [04:09<00:27, 33.49it/s]\u001b[A\n",
            " 91%|█████████ | 9313/10215 [04:09<00:26, 33.73it/s]\u001b[A\n",
            " 91%|█████████ | 9317/10215 [04:09<00:26, 33.78it/s]\u001b[A\n",
            " 91%|█████████ | 9321/10215 [04:09<00:26, 33.21it/s]\u001b[A\n",
            " 91%|█████████▏| 9325/10215 [04:09<00:26, 33.64it/s]\u001b[A\n",
            " 91%|█████████▏| 9329/10215 [04:10<00:26, 34.08it/s]\u001b[A\n",
            " 91%|█████████▏| 9333/10215 [04:10<00:25, 34.12it/s]\u001b[A\n",
            " 91%|█████████▏| 9337/10215 [04:10<00:25, 34.18it/s]\u001b[A\n",
            " 91%|█████████▏| 9341/10215 [04:10<00:25, 34.32it/s]\u001b[A\n",
            " 91%|█████████▏| 9345/10215 [04:10<00:25, 34.19it/s]\u001b[A\n",
            " 92%|█████████▏| 9349/10215 [04:10<00:25, 34.35it/s]\u001b[A\n",
            " 92%|█████████▏| 9353/10215 [04:10<00:25, 34.32it/s]\u001b[A\n",
            " 92%|█████████▏| 9357/10215 [04:10<00:25, 34.01it/s]\u001b[A\n",
            " 92%|█████████▏| 9361/10215 [04:11<00:25, 34.04it/s]\u001b[A\n",
            " 92%|█████████▏| 9365/10215 [04:11<00:24, 34.04it/s]\u001b[A\n",
            " 92%|█████████▏| 9369/10215 [04:11<00:24, 34.23it/s]\u001b[A\n",
            " 92%|█████████▏| 9373/10215 [04:11<00:24, 34.38it/s]\u001b[A\n",
            " 92%|█████████▏| 9377/10215 [04:11<00:24, 34.08it/s]\u001b[A\n",
            " 92%|█████████▏| 9381/10215 [04:11<00:24, 34.15it/s]\u001b[A\n",
            " 92%|█████████▏| 9385/10215 [04:11<00:23, 34.73it/s]\u001b[A\n",
            " 92%|█████████▏| 9389/10215 [04:11<00:23, 34.54it/s]\u001b[A\n",
            " 92%|█████████▏| 9393/10215 [04:11<00:24, 33.53it/s]\u001b[A\n",
            " 92%|█████████▏| 9397/10215 [04:12<00:24, 33.73it/s]\u001b[A\n",
            " 92%|█████████▏| 9401/10215 [04:12<00:23, 34.26it/s]\u001b[A\n",
            " 92%|█████████▏| 9405/10215 [04:12<00:23, 34.20it/s]\u001b[A\n",
            " 92%|█████████▏| 9409/10215 [04:12<00:23, 34.42it/s]\u001b[A\n",
            " 92%|█████████▏| 9413/10215 [04:12<00:23, 34.42it/s]\u001b[A\n",
            " 92%|█████████▏| 9417/10215 [04:12<00:23, 34.49it/s]\u001b[A\n",
            " 92%|█████████▏| 9421/10215 [04:12<00:22, 34.79it/s]\u001b[A\n",
            " 92%|█████████▏| 9425/10215 [04:12<00:23, 34.03it/s]\u001b[A\n",
            " 92%|█████████▏| 9429/10215 [04:13<00:23, 34.02it/s]\u001b[A\n",
            " 92%|█████████▏| 9433/10215 [04:13<00:23, 33.80it/s]\u001b[A\n",
            " 92%|█████████▏| 9437/10215 [04:13<00:23, 33.81it/s]\u001b[A\n",
            " 92%|█████████▏| 9441/10215 [04:13<00:22, 33.83it/s]\u001b[A\n",
            " 92%|█████████▏| 9445/10215 [04:13<00:22, 34.17it/s]\u001b[A\n",
            " 93%|█████████▎| 9449/10215 [04:13<00:22, 33.86it/s]\u001b[A\n",
            " 93%|█████████▎| 9453/10215 [04:13<00:22, 33.99it/s]\u001b[A\n",
            " 93%|█████████▎| 9457/10215 [04:13<00:22, 34.06it/s]\u001b[A\n",
            " 93%|█████████▎| 9461/10215 [04:13<00:22, 33.49it/s]\u001b[A\n",
            " 93%|█████████▎| 9465/10215 [04:14<00:22, 33.72it/s]\u001b[A\n",
            " 93%|█████████▎| 9469/10215 [04:14<00:22, 33.72it/s]\u001b[A\n",
            " 93%|█████████▎| 9473/10215 [04:14<00:21, 33.79it/s]\u001b[A\n",
            " 93%|█████████▎| 9477/10215 [04:14<00:21, 34.08it/s]\u001b[A\n",
            " 93%|█████████▎| 9481/10215 [04:14<00:21, 34.13it/s]\u001b[A\n",
            " 93%|█████████▎| 9485/10215 [04:14<00:21, 33.93it/s]\u001b[A\n",
            " 93%|█████████▎| 9489/10215 [04:14<00:21, 34.22it/s]\u001b[A\n",
            " 93%|█████████▎| 9493/10215 [04:14<00:21, 33.33it/s]\u001b[A\n",
            " 93%|█████████▎| 9497/10215 [04:15<00:21, 33.66it/s]\u001b[A\n",
            " 93%|█████████▎| 9501/10215 [04:15<00:21, 33.61it/s]\u001b[A\n",
            " 93%|█████████▎| 9505/10215 [04:15<00:20, 33.81it/s]\u001b[A\n",
            " 93%|█████████▎| 9509/10215 [04:15<00:20, 33.75it/s]\u001b[A\n",
            " 93%|█████████▎| 9513/10215 [04:15<00:20, 33.86it/s]\u001b[A\n",
            " 93%|█████████▎| 9517/10215 [04:15<00:20, 33.55it/s]\u001b[A\n",
            " 93%|█████████▎| 9521/10215 [04:15<00:20, 33.55it/s]\u001b[A\n",
            " 93%|█████████▎| 9525/10215 [04:15<00:20, 33.25it/s]\u001b[A\n",
            " 93%|█████████▎| 9529/10215 [04:15<00:20, 32.90it/s]\u001b[A\n",
            " 93%|█████████▎| 9533/10215 [04:16<00:20, 32.82it/s]\u001b[A\n",
            " 93%|█████████▎| 9537/10215 [04:16<00:20, 33.04it/s]\u001b[A\n",
            " 93%|█████████▎| 9541/10215 [04:16<00:20, 33.35it/s]\u001b[A\n",
            " 93%|█████████▎| 9545/10215 [04:16<00:19, 33.92it/s]\u001b[A\n",
            " 93%|█████████▎| 9549/10215 [04:16<00:19, 34.12it/s]\u001b[A\n",
            " 94%|█████████▎| 9553/10215 [04:16<00:19, 34.11it/s]\u001b[A\n",
            " 94%|█████████▎| 9557/10215 [04:16<00:19, 33.98it/s]\u001b[A\n",
            " 94%|█████████▎| 9561/10215 [04:16<00:19, 33.67it/s]\u001b[A\n",
            " 94%|█████████▎| 9565/10215 [04:17<00:19, 33.91it/s]\u001b[A\n",
            " 94%|█████████▎| 9569/10215 [04:17<00:18, 34.14it/s]\u001b[A\n",
            " 94%|█████████▎| 9573/10215 [04:17<00:18, 34.29it/s]\u001b[A\n",
            " 94%|█████████▍| 9577/10215 [04:17<00:18, 34.28it/s]\u001b[A\n",
            " 94%|█████████▍| 9581/10215 [04:17<00:18, 34.45it/s]\u001b[A\n",
            " 94%|█████████▍| 9585/10215 [04:17<00:18, 34.35it/s]\u001b[A\n",
            " 94%|█████████▍| 9589/10215 [04:17<00:18, 34.18it/s]\u001b[A\n",
            " 94%|█████████▍| 9593/10215 [04:17<00:18, 34.51it/s]\u001b[A\n",
            " 94%|█████████▍| 9597/10215 [04:17<00:18, 33.89it/s]\u001b[A\n",
            " 94%|█████████▍| 9601/10215 [04:18<00:18, 33.65it/s]\u001b[A\n",
            " 94%|█████████▍| 9605/10215 [04:18<00:18, 33.84it/s]\u001b[A\n",
            " 94%|█████████▍| 9609/10215 [04:18<00:18, 33.63it/s]\u001b[A\n",
            " 94%|█████████▍| 9613/10215 [04:18<00:17, 34.03it/s]\u001b[A\n",
            " 94%|█████████▍| 9617/10215 [04:18<00:17, 34.06it/s]\u001b[A\n",
            " 94%|█████████▍| 9621/10215 [04:18<00:17, 33.94it/s]\u001b[A\n",
            " 94%|█████████▍| 9625/10215 [04:18<00:17, 33.82it/s]\u001b[A\n",
            " 94%|█████████▍| 9629/10215 [04:18<00:17, 33.94it/s]\u001b[A\n",
            " 94%|█████████▍| 9633/10215 [04:19<00:17, 33.10it/s]\u001b[A\n",
            " 94%|█████████▍| 9637/10215 [04:19<00:17, 33.22it/s]\u001b[A\n",
            " 94%|█████████▍| 9641/10215 [04:19<00:17, 33.59it/s]\u001b[A\n",
            " 94%|█████████▍| 9645/10215 [04:19<00:16, 33.84it/s]\u001b[A\n",
            " 94%|█████████▍| 9649/10215 [04:19<00:16, 34.04it/s]\u001b[A\n",
            " 94%|█████████▍| 9653/10215 [04:19<00:16, 34.03it/s]\u001b[A\n",
            " 95%|█████████▍| 9657/10215 [04:19<00:16, 33.87it/s]\u001b[A\n",
            " 95%|█████████▍| 9661/10215 [04:19<00:16, 34.33it/s]\u001b[A\n",
            " 95%|█████████▍| 9665/10215 [04:19<00:16, 33.85it/s]\u001b[A\n",
            " 95%|█████████▍| 9669/10215 [04:20<00:16, 33.80it/s]\u001b[A\n",
            " 95%|█████████▍| 9673/10215 [04:20<00:16, 33.84it/s]\u001b[A\n",
            " 95%|█████████▍| 9677/10215 [04:20<00:15, 34.07it/s]\u001b[A\n",
            " 95%|█████████▍| 9681/10215 [04:20<00:15, 34.04it/s]\u001b[A\n",
            " 95%|█████████▍| 9685/10215 [04:20<00:15, 34.14it/s]\u001b[A\n",
            " 95%|█████████▍| 9689/10215 [04:20<00:15, 33.89it/s]\u001b[A\n",
            " 95%|█████████▍| 9693/10215 [04:20<00:15, 33.94it/s]\u001b[A\n",
            " 95%|█████████▍| 9697/10215 [04:20<00:15, 33.74it/s]\u001b[A\n",
            " 95%|█████████▍| 9701/10215 [04:21<00:15, 33.46it/s]\u001b[A\n",
            " 95%|█████████▌| 9705/10215 [04:21<00:15, 33.77it/s]\u001b[A\n",
            " 95%|█████████▌| 9709/10215 [04:21<00:14, 33.93it/s]\u001b[A\n",
            " 95%|█████████▌| 9713/10215 [04:21<00:14, 33.88it/s]\u001b[A\n",
            " 95%|█████████▌| 9717/10215 [04:21<00:14, 34.29it/s]\u001b[A\n",
            " 95%|█████████▌| 9721/10215 [04:21<00:14, 34.10it/s]\u001b[A\n",
            " 95%|█████████▌| 9725/10215 [04:21<00:14, 33.97it/s]\u001b[A\n",
            " 95%|█████████▌| 9729/10215 [04:21<00:14, 33.81it/s]\u001b[A\n",
            " 95%|█████████▌| 9733/10215 [04:21<00:14, 33.34it/s]\u001b[A\n",
            " 95%|█████████▌| 9737/10215 [04:22<00:14, 33.28it/s]\u001b[A\n",
            " 95%|█████████▌| 9741/10215 [04:22<00:14, 33.62it/s]\u001b[A\n",
            " 95%|█████████▌| 9745/10215 [04:22<00:13, 33.78it/s]\u001b[A\n",
            " 95%|█████████▌| 9749/10215 [04:22<00:13, 34.03it/s]\u001b[A\n",
            " 95%|█████████▌| 9753/10215 [04:22<00:13, 34.55it/s]\u001b[A\n",
            " 96%|█████████▌| 9757/10215 [04:22<00:13, 34.40it/s]\u001b[A\n",
            " 96%|█████████▌| 9761/10215 [04:22<00:13, 34.56it/s]\u001b[A\n",
            " 96%|█████████▌| 9765/10215 [04:22<00:13, 34.39it/s]\u001b[A\n",
            " 96%|█████████▌| 9769/10215 [04:23<00:13, 33.95it/s]\u001b[A\n",
            " 96%|█████████▌| 9773/10215 [04:23<00:13, 33.79it/s]\u001b[A\n",
            " 96%|█████████▌| 9777/10215 [04:23<00:12, 34.15it/s]\u001b[A\n",
            " 96%|█████████▌| 9781/10215 [04:23<00:12, 34.56it/s]\u001b[A\n",
            " 96%|█████████▌| 9785/10215 [04:23<00:12, 34.37it/s]\u001b[A\n",
            " 96%|█████████▌| 9789/10215 [04:23<00:12, 34.40it/s]\u001b[A\n",
            " 96%|█████████▌| 9793/10215 [04:23<00:12, 34.40it/s]\u001b[A\n",
            " 96%|█████████▌| 9797/10215 [04:23<00:12, 34.42it/s]\u001b[A\n",
            " 96%|█████████▌| 9801/10215 [04:23<00:12, 34.43it/s]\u001b[A\n",
            " 96%|█████████▌| 9805/10215 [04:24<00:12, 33.67it/s]\u001b[A\n",
            " 96%|█████████▌| 9809/10215 [04:24<00:12, 33.10it/s]\u001b[A\n",
            " 96%|█████████▌| 9813/10215 [04:24<00:11, 33.62it/s]\u001b[A\n",
            " 96%|█████████▌| 9817/10215 [04:24<00:11, 33.55it/s]\u001b[A\n",
            " 96%|█████████▌| 9821/10215 [04:24<00:11, 33.95it/s]\u001b[A\n",
            " 96%|█████████▌| 9825/10215 [04:24<00:11, 33.78it/s]\u001b[A\n",
            " 96%|█████████▌| 9829/10215 [04:24<00:11, 33.92it/s]\u001b[A\n",
            " 96%|█████████▋| 9833/10215 [04:24<00:11, 33.87it/s]\u001b[A\n",
            " 96%|█████████▋| 9837/10215 [04:25<00:11, 33.38it/s]\u001b[A\n",
            " 96%|█████████▋| 9841/10215 [04:25<00:11, 33.55it/s]\u001b[A\n",
            " 96%|█████████▋| 9845/10215 [04:25<00:11, 33.32it/s]\u001b[A\n",
            " 96%|█████████▋| 9849/10215 [04:25<00:10, 33.92it/s]\u001b[A\n",
            " 96%|█████████▋| 9853/10215 [04:25<00:10, 33.88it/s]\u001b[A\n",
            " 96%|█████████▋| 9857/10215 [04:25<00:10, 33.94it/s]\u001b[A\n",
            " 97%|█████████▋| 9861/10215 [04:25<00:10, 33.95it/s]\u001b[A\n",
            " 97%|█████████▋| 9865/10215 [04:25<00:10, 33.85it/s]\u001b[A\n",
            " 97%|█████████▋| 9869/10215 [04:25<00:10, 34.01it/s]\u001b[A\n",
            " 97%|█████████▋| 9873/10215 [04:26<00:10, 33.30it/s]\u001b[A\n",
            " 97%|█████████▋| 9877/10215 [04:26<00:09, 33.94it/s]\u001b[A\n",
            " 97%|█████████▋| 9881/10215 [04:26<00:09, 33.91it/s]\u001b[A\n",
            " 97%|█████████▋| 9885/10215 [04:26<00:09, 33.62it/s]\u001b[A\n",
            " 97%|█████████▋| 9889/10215 [04:26<00:09, 34.07it/s]\u001b[A\n",
            " 97%|█████████▋| 9893/10215 [04:26<00:09, 34.19it/s]\u001b[A\n",
            " 97%|█████████▋| 9897/10215 [04:26<00:09, 34.04it/s]\u001b[A\n",
            " 97%|█████████▋| 9901/10215 [04:26<00:09, 34.30it/s]\u001b[A\n",
            " 97%|█████████▋| 9905/10215 [04:27<00:09, 33.40it/s]\u001b[A\n",
            " 97%|█████████▋| 9909/10215 [04:27<00:09, 33.24it/s]\u001b[A\n",
            " 97%|█████████▋| 9913/10215 [04:27<00:09, 33.27it/s]\u001b[A\n",
            " 97%|█████████▋| 9917/10215 [04:27<00:08, 33.70it/s]\u001b[A\n",
            " 97%|█████████▋| 9921/10215 [04:27<00:08, 34.11it/s]\u001b[A\n",
            " 97%|█████████▋| 9925/10215 [04:27<00:08, 34.15it/s]\u001b[A\n",
            " 97%|█████████▋| 9929/10215 [04:27<00:08, 34.08it/s]\u001b[A\n",
            " 97%|█████████▋| 9933/10215 [04:27<00:08, 34.32it/s]\u001b[A\n",
            " 97%|█████████▋| 9937/10215 [04:27<00:08, 34.40it/s]\u001b[A\n",
            " 97%|█████████▋| 9941/10215 [04:28<00:08, 34.12it/s]\u001b[A\n",
            " 97%|█████████▋| 9945/10215 [04:28<00:07, 34.07it/s]\u001b[A\n",
            " 97%|█████████▋| 9949/10215 [04:28<00:07, 34.05it/s]\u001b[A\n",
            " 97%|█████████▋| 9953/10215 [04:28<00:07, 33.84it/s]\u001b[A\n",
            " 97%|█████████▋| 9957/10215 [04:28<00:07, 33.78it/s]\u001b[A\n",
            " 98%|█████████▊| 9961/10215 [04:28<00:07, 33.65it/s]\u001b[A\n",
            " 98%|█████████▊| 9965/10215 [04:28<00:07, 34.09it/s]\u001b[A\n",
            " 98%|█████████▊| 9969/10215 [04:28<00:07, 33.33it/s]\u001b[A\n",
            " 98%|█████████▊| 9973/10215 [04:29<00:07, 33.04it/s]\u001b[A\n",
            " 98%|█████████▊| 9977/10215 [04:29<00:07, 33.03it/s]\u001b[A\n",
            " 98%|█████████▊| 9981/10215 [04:29<00:07, 33.11it/s]\u001b[A\n",
            " 98%|█████████▊| 9985/10215 [04:29<00:06, 33.68it/s]\u001b[A\n",
            " 98%|█████████▊| 9989/10215 [04:29<00:06, 33.90it/s]\u001b[A\n",
            " 98%|█████████▊| 9993/10215 [04:29<00:06, 34.12it/s]\u001b[A\n",
            " 98%|█████████▊| 9997/10215 [04:29<00:06, 34.35it/s]\u001b[A\n",
            " 98%|█████████▊| 10001/10215 [04:29<00:06, 33.95it/s]\u001b[A\n",
            " 98%|█████████▊| 10005/10215 [04:30<00:06, 33.61it/s]\u001b[A\n",
            " 98%|█████████▊| 10009/10215 [04:30<00:06, 33.08it/s]\u001b[A\n",
            " 98%|█████████▊| 10013/10215 [04:30<00:06, 33.31it/s]\u001b[A\n",
            " 98%|█████████▊| 10017/10215 [04:30<00:05, 33.84it/s]\u001b[A\n",
            " 98%|█████████▊| 10021/10215 [04:30<00:05, 34.09it/s]\u001b[A\n",
            " 98%|█████████▊| 10025/10215 [04:30<00:05, 34.49it/s]\u001b[A\n",
            " 98%|█████████▊| 10029/10215 [04:30<00:05, 34.81it/s]\u001b[A\n",
            " 98%|█████████▊| 10033/10215 [04:30<00:05, 34.54it/s]\u001b[A\n",
            " 98%|█████████▊| 10037/10215 [04:30<00:05, 34.34it/s]\u001b[A\n",
            " 98%|█████████▊| 10041/10215 [04:31<00:05, 33.89it/s]\u001b[A\n",
            " 98%|█████████▊| 10045/10215 [04:31<00:05, 33.56it/s]\u001b[A\n",
            " 98%|█████████▊| 10049/10215 [04:31<00:04, 33.75it/s]\u001b[A\n",
            " 98%|█████████▊| 10053/10215 [04:31<00:04, 33.52it/s]\u001b[A\n",
            " 98%|█████████▊| 10057/10215 [04:31<00:04, 33.61it/s]\u001b[A\n",
            " 98%|█████████▊| 10061/10215 [04:31<00:04, 33.52it/s]\u001b[A\n",
            " 99%|█████████▊| 10065/10215 [04:31<00:04, 33.78it/s]\u001b[A\n",
            " 99%|█████████▊| 10069/10215 [04:31<00:04, 34.00it/s]\u001b[A\n",
            " 99%|█████████▊| 10073/10215 [04:32<00:04, 34.13it/s]\u001b[A\n",
            " 99%|█████████▊| 10077/10215 [04:32<00:04, 33.36it/s]\u001b[A\n",
            " 99%|█████████▊| 10081/10215 [04:32<00:03, 33.81it/s]\u001b[A\n",
            " 99%|█████████▊| 10085/10215 [04:32<00:03, 33.72it/s]\u001b[A\n",
            " 99%|█████████▉| 10089/10215 [04:32<00:03, 33.95it/s]\u001b[A\n",
            " 99%|█████████▉| 10093/10215 [04:32<00:03, 33.78it/s]\u001b[A\n",
            " 99%|█████████▉| 10097/10215 [04:32<00:03, 33.92it/s]\u001b[A\n",
            " 99%|█████████▉| 10101/10215 [04:32<00:03, 33.75it/s]\u001b[A\n",
            " 99%|█████████▉| 10105/10215 [04:32<00:03, 34.18it/s]\u001b[A\n",
            " 99%|█████████▉| 10109/10215 [04:33<00:03, 34.06it/s]\u001b[A\n",
            " 99%|█████████▉| 10113/10215 [04:33<00:03, 33.38it/s]\u001b[A\n",
            " 99%|█████████▉| 10117/10215 [04:33<00:03, 32.54it/s]\u001b[A\n",
            " 99%|█████████▉| 10121/10215 [04:33<00:02, 33.05it/s]\u001b[A\n",
            " 99%|█████████▉| 10125/10215 [04:33<00:02, 33.20it/s]\u001b[A\n",
            " 99%|█████████▉| 10129/10215 [04:33<00:02, 33.62it/s]\u001b[A\n",
            " 99%|█████████▉| 10133/10215 [04:33<00:02, 33.55it/s]\u001b[A\n",
            " 99%|█████████▉| 10137/10215 [04:33<00:02, 33.65it/s]\u001b[A\n",
            " 99%|█████████▉| 10141/10215 [04:34<00:02, 33.75it/s]\u001b[A\n",
            " 99%|█████████▉| 10145/10215 [04:34<00:02, 33.59it/s]\u001b[A\n",
            " 99%|█████████▉| 10149/10215 [04:34<00:01, 33.58it/s]\u001b[A\n",
            " 99%|█████████▉| 10153/10215 [04:34<00:01, 33.20it/s]\u001b[A\n",
            " 99%|█████████▉| 10157/10215 [04:34<00:01, 33.57it/s]\u001b[A\n",
            " 99%|█████████▉| 10161/10215 [04:34<00:01, 33.80it/s]\u001b[A\n",
            "100%|█████████▉| 10165/10215 [04:34<00:01, 33.89it/s]\u001b[A\n",
            "100%|█████████▉| 10169/10215 [04:34<00:01, 33.99it/s]\u001b[A\n",
            "100%|█████████▉| 10173/10215 [04:34<00:01, 33.71it/s]\u001b[A\n",
            "100%|█████████▉| 10177/10215 [04:35<00:01, 33.65it/s]\u001b[A\n",
            "100%|█████████▉| 10181/10215 [04:35<00:01, 33.03it/s]\u001b[A\n",
            "100%|█████████▉| 10185/10215 [04:35<00:00, 33.56it/s]\u001b[A\n",
            "100%|█████████▉| 10189/10215 [04:35<00:00, 33.39it/s]\u001b[A\n",
            "100%|█████████▉| 10193/10215 [04:35<00:00, 33.81it/s]\u001b[A\n",
            "100%|█████████▉| 10197/10215 [04:35<00:00, 34.18it/s]\u001b[A\n",
            "100%|█████████▉| 10201/10215 [04:35<00:00, 34.35it/s]\u001b[A\n",
            "100%|█████████▉| 10205/10215 [04:35<00:00, 34.72it/s]\u001b[A\n",
            "100%|█████████▉| 10209/10215 [04:36<00:00, 34.07it/s]\u001b[A\n",
            "100%|██████████| 10215/10215 [04:36<00:00, 36.98it/s]\n"
          ],
          "name": "stderr"
        }
      ]
    },
    {
      "cell_type": "markdown",
      "metadata": {
        "id": "zpdBO7pFvoaW"
      },
      "source": [
        "> We imputed the null values with customers with the average income from \r\n",
        "\r\n",
        "1.   List item\r\n",
        "2.   List item\r\n",
        "\r\n",
        "customers with a similar purpose of loan and within -1,+1 of the customers debt to income."
      ]
    },
    {
      "cell_type": "markdown",
      "metadata": {
        "id": "l8PB7Y1guSPC"
      },
      "source": [
        "**Deliquency**"
      ]
    },
    {
      "cell_type": "code",
      "metadata": {
        "colab": {
          "background_save": true,
          "base_uri": "https://localhost:8080/"
        },
        "id": "AJWoJXSbrm1A",
        "outputId": "0bf431dc-a57b-4c5f-c246-3ec1d99bd7fe"
      },
      "source": [
        "loans['Months_Since_Deliquency'].isna().sum()"
      ],
      "execution_count": null,
      "outputs": [
        {
          "output_type": "execute_result",
          "data": {
            "text/plain": [
              "88379"
            ]
          },
          "metadata": {
            "tags": []
          },
          "execution_count": 0
        }
      ]
    },
    {
      "cell_type": "code",
      "metadata": {
        "colab": {
          "background_save": true
        },
        "id": "TRysKWcUzkDp"
      },
      "source": [
        "# Creating the classifications of the customers from \n",
        "def status(x):\n",
        "  if x<=3.0:\n",
        "    return 'Normal'\n",
        "  elif ((x>3.0) & (x<=12.0)):\n",
        "    return 'Medium risk'\n",
        "  elif x>12.0:\n",
        "    return 'High risk'\n",
        "  else:\n",
        "    return 'Low risk'"
      ],
      "execution_count": null,
      "outputs": []
    },
    {
      "cell_type": "code",
      "metadata": {
        "colab": {
          "background_save": true
        },
        "id": "LK8Eh18hzblT"
      },
      "source": [
        "loans['deliquency_level']=loans.apply(lambda x: status(x['Months_Since_Deliquency']),axis=1)"
      ],
      "execution_count": null,
      "outputs": []
    },
    {
      "cell_type": "code",
      "metadata": {
        "colab": {
          "background_save": true,
          "base_uri": "https://localhost:8080/"
        },
        "id": "4mAWOMPJXX9f",
        "outputId": "bd349916-0b03-4e08-814b-746edc6ea75b"
      },
      "source": [
        "loans.drop('Months_Since_Deliquency',axis=1,inplace=True)\n",
        "loans['deliquency_level'].value_counts()"
      ],
      "execution_count": null,
      "outputs": [
        {
          "output_type": "execute_result",
          "data": {
            "text/plain": [
              "Low risk       88379\n",
              "High risk      61548\n",
              "Medium risk    12210\n",
              "Normal          2172\n",
              "Name: deliquency_level, dtype: int64"
            ]
          },
          "metadata": {
            "tags": []
          },
          "execution_count": 0
        }
      ]
    },
    {
      "cell_type": "code",
      "metadata": {
        "colab": {
          "background_save": true
        },
        "id": "jXi6fBWixLs-"
      },
      "source": [
        "loans.dropna(inplace=True)"
      ],
      "execution_count": null,
      "outputs": []
    },
    {
      "cell_type": "code",
      "metadata": {
        "colab": {
          "background_save": true,
          "base_uri": "https://localhost:8080/"
        },
        "id": "VYV43f0VufIU",
        "outputId": "693e3e12-1b7b-491b-a6c0-245406abc7b0"
      },
      "source": [
        "loans.isna().sum()"
      ],
      "execution_count": null,
      "outputs": [
        {
          "output_type": "execute_result",
          "data": {
            "text/plain": [
              "Loan_ID                  0\n",
              "Loan_Amount_Requested    0\n",
              "Length_Employed          0\n",
              "Home_Owner               0\n",
              "Annual_Income            0\n",
              "Income_Verified          0\n",
              "Purpose_Of_Loan          0\n",
              "Debt_To_Income           0\n",
              "Inquiries_Last_6Mo       0\n",
              "Number_Open_Accounts     0\n",
              "Total_Accounts           0\n",
              "Gender                   0\n",
              "Interest_Rate            0\n",
              "deliquency_level         0\n",
              "dtype: int64"
            ]
          },
          "metadata": {
            "tags": []
          },
          "execution_count": 0
        }
      ]
    },
    {
      "cell_type": "markdown",
      "metadata": {
        "id": "5leJWmYcJC8s"
      },
      "source": [
        "#### Checking for Outliers"
      ]
    },
    {
      "cell_type": "code",
      "metadata": {
        "colab": {
          "background_save": true
        },
        "id": "0yoTvr3SOyxY"
      },
      "source": [
        "sns.set(rc={'figure.figsize':(18,6)},style=\"white\")"
      ],
      "execution_count": null,
      "outputs": []
    },
    {
      "cell_type": "code",
      "metadata": {
        "colab": {
          "background_save": true,
          "base_uri": "https://localhost:8080/",
          "height": 394
        },
        "id": "NRdeDOYfCmgB",
        "outputId": "f14b9d64-0f12-42ee-a618-fce2e0da4fc0"
      },
      "source": [
        "sns.boxplot(x=loans['Loan_Amount_Requested'])\r\n",
        "sns.despine()"
      ],
      "execution_count": null,
      "outputs": [
        {
          "output_type": "error",
          "ename": "TypeError",
          "evalue": "ignored",
          "traceback": [
            "\u001b[0;31m---------------------------------------------------------------------------\u001b[0m",
            "\u001b[0;31mTypeError\u001b[0m                                 Traceback (most recent call last)",
            "\u001b[0;32m<ipython-input-27-19c5de536604>\u001b[0m in \u001b[0;36m<module>\u001b[0;34m()\u001b[0m\n\u001b[0;32m----> 1\u001b[0;31m \u001b[0msns\u001b[0m\u001b[0;34m.\u001b[0m\u001b[0mboxplot\u001b[0m\u001b[0;34m(\u001b[0m\u001b[0mx\u001b[0m\u001b[0;34m=\u001b[0m\u001b[0mloans\u001b[0m\u001b[0;34m[\u001b[0m\u001b[0;34m'Loan_Amount_Requested'\u001b[0m\u001b[0;34m]\u001b[0m\u001b[0;34m)\u001b[0m\u001b[0;34m\u001b[0m\u001b[0;34m\u001b[0m\u001b[0m\n\u001b[0m\u001b[1;32m      2\u001b[0m \u001b[0msns\u001b[0m\u001b[0;34m.\u001b[0m\u001b[0mdespine\u001b[0m\u001b[0;34m(\u001b[0m\u001b[0;34m)\u001b[0m\u001b[0;34m\u001b[0m\u001b[0;34m\u001b[0m\u001b[0m\n",
            "\u001b[0;32m/usr/local/lib/python3.6/dist-packages/seaborn/_decorators.py\u001b[0m in \u001b[0;36minner_f\u001b[0;34m(*args, **kwargs)\u001b[0m\n\u001b[1;32m     44\u001b[0m             )\n\u001b[1;32m     45\u001b[0m         \u001b[0mkwargs\u001b[0m\u001b[0;34m.\u001b[0m\u001b[0mupdate\u001b[0m\u001b[0;34m(\u001b[0m\u001b[0;34m{\u001b[0m\u001b[0mk\u001b[0m\u001b[0;34m:\u001b[0m \u001b[0marg\u001b[0m \u001b[0;32mfor\u001b[0m \u001b[0mk\u001b[0m\u001b[0;34m,\u001b[0m \u001b[0marg\u001b[0m \u001b[0;32min\u001b[0m \u001b[0mzip\u001b[0m\u001b[0;34m(\u001b[0m\u001b[0msig\u001b[0m\u001b[0;34m.\u001b[0m\u001b[0mparameters\u001b[0m\u001b[0;34m,\u001b[0m \u001b[0margs\u001b[0m\u001b[0;34m)\u001b[0m\u001b[0;34m}\u001b[0m\u001b[0;34m)\u001b[0m\u001b[0;34m\u001b[0m\u001b[0;34m\u001b[0m\u001b[0m\n\u001b[0;32m---> 46\u001b[0;31m         \u001b[0;32mreturn\u001b[0m \u001b[0mf\u001b[0m\u001b[0;34m(\u001b[0m\u001b[0;34m**\u001b[0m\u001b[0mkwargs\u001b[0m\u001b[0;34m)\u001b[0m\u001b[0;34m\u001b[0m\u001b[0;34m\u001b[0m\u001b[0m\n\u001b[0m\u001b[1;32m     47\u001b[0m     \u001b[0;32mreturn\u001b[0m \u001b[0minner_f\u001b[0m\u001b[0;34m\u001b[0m\u001b[0;34m\u001b[0m\u001b[0m\n\u001b[1;32m     48\u001b[0m \u001b[0;34m\u001b[0m\u001b[0m\n",
            "\u001b[0;32m/usr/local/lib/python3.6/dist-packages/seaborn/categorical.py\u001b[0m in \u001b[0;36mboxplot\u001b[0;34m(x, y, hue, data, order, hue_order, orient, color, palette, saturation, width, dodge, fliersize, linewidth, whis, ax, **kwargs)\u001b[0m\n\u001b[1;32m   2240\u001b[0m     plotter = _BoxPlotter(x, y, hue, data, order, hue_order,\n\u001b[1;32m   2241\u001b[0m                           \u001b[0morient\u001b[0m\u001b[0;34m,\u001b[0m \u001b[0mcolor\u001b[0m\u001b[0;34m,\u001b[0m \u001b[0mpalette\u001b[0m\u001b[0;34m,\u001b[0m \u001b[0msaturation\u001b[0m\u001b[0;34m,\u001b[0m\u001b[0;34m\u001b[0m\u001b[0;34m\u001b[0m\u001b[0m\n\u001b[0;32m-> 2242\u001b[0;31m                           width, dodge, fliersize, linewidth)\n\u001b[0m\u001b[1;32m   2243\u001b[0m \u001b[0;34m\u001b[0m\u001b[0m\n\u001b[1;32m   2244\u001b[0m     \u001b[0;32mif\u001b[0m \u001b[0max\u001b[0m \u001b[0;32mis\u001b[0m \u001b[0;32mNone\u001b[0m\u001b[0;34m:\u001b[0m\u001b[0;34m\u001b[0m\u001b[0;34m\u001b[0m\u001b[0m\n",
            "\u001b[0;32m/usr/local/lib/python3.6/dist-packages/seaborn/categorical.py\u001b[0m in \u001b[0;36m__init__\u001b[0;34m(self, x, y, hue, data, order, hue_order, orient, color, palette, saturation, width, dodge, fliersize, linewidth)\u001b[0m\n\u001b[1;32m    404\u001b[0m                  width, dodge, fliersize, linewidth):\n\u001b[1;32m    405\u001b[0m \u001b[0;34m\u001b[0m\u001b[0m\n\u001b[0;32m--> 406\u001b[0;31m         \u001b[0mself\u001b[0m\u001b[0;34m.\u001b[0m\u001b[0mestablish_variables\u001b[0m\u001b[0;34m(\u001b[0m\u001b[0mx\u001b[0m\u001b[0;34m,\u001b[0m \u001b[0my\u001b[0m\u001b[0;34m,\u001b[0m \u001b[0mhue\u001b[0m\u001b[0;34m,\u001b[0m \u001b[0mdata\u001b[0m\u001b[0;34m,\u001b[0m \u001b[0morient\u001b[0m\u001b[0;34m,\u001b[0m \u001b[0morder\u001b[0m\u001b[0;34m,\u001b[0m \u001b[0mhue_order\u001b[0m\u001b[0;34m)\u001b[0m\u001b[0;34m\u001b[0m\u001b[0;34m\u001b[0m\u001b[0m\n\u001b[0m\u001b[1;32m    407\u001b[0m         \u001b[0mself\u001b[0m\u001b[0;34m.\u001b[0m\u001b[0mestablish_colors\u001b[0m\u001b[0;34m(\u001b[0m\u001b[0mcolor\u001b[0m\u001b[0;34m,\u001b[0m \u001b[0mpalette\u001b[0m\u001b[0;34m,\u001b[0m \u001b[0msaturation\u001b[0m\u001b[0;34m)\u001b[0m\u001b[0;34m\u001b[0m\u001b[0;34m\u001b[0m\u001b[0m\n\u001b[1;32m    408\u001b[0m \u001b[0;34m\u001b[0m\u001b[0m\n",
            "\u001b[0;32m/usr/local/lib/python3.6/dist-packages/seaborn/categorical.py\u001b[0m in \u001b[0;36mestablish_variables\u001b[0;34m(self, x, y, hue, data, orient, order, hue_order, units)\u001b[0m\n\u001b[1;32m    155\u001b[0m             \u001b[0;31m# Figure out the plotting orientation\u001b[0m\u001b[0;34m\u001b[0m\u001b[0;34m\u001b[0m\u001b[0;34m\u001b[0m\u001b[0m\n\u001b[1;32m    156\u001b[0m             orient = infer_orient(\n\u001b[0;32m--> 157\u001b[0;31m                 \u001b[0mx\u001b[0m\u001b[0;34m,\u001b[0m \u001b[0my\u001b[0m\u001b[0;34m,\u001b[0m \u001b[0morient\u001b[0m\u001b[0;34m,\u001b[0m \u001b[0mrequire_numeric\u001b[0m\u001b[0;34m=\u001b[0m\u001b[0mself\u001b[0m\u001b[0;34m.\u001b[0m\u001b[0mrequire_numeric\u001b[0m\u001b[0;34m\u001b[0m\u001b[0;34m\u001b[0m\u001b[0m\n\u001b[0m\u001b[1;32m    158\u001b[0m             )\n\u001b[1;32m    159\u001b[0m \u001b[0;34m\u001b[0m\u001b[0m\n",
            "\u001b[0;32m/usr/local/lib/python3.6/dist-packages/seaborn/_core.py\u001b[0m in \u001b[0;36minfer_orient\u001b[0;34m(x, y, orient, require_numeric)\u001b[0m\n\u001b[1;32m   1319\u001b[0m             \u001b[0mwarnings\u001b[0m\u001b[0;34m.\u001b[0m\u001b[0mwarn\u001b[0m\u001b[0;34m(\u001b[0m\u001b[0msingle_var_warning\u001b[0m\u001b[0;34m.\u001b[0m\u001b[0mformat\u001b[0m\u001b[0;34m(\u001b[0m\u001b[0;34m\"Vertical\"\u001b[0m\u001b[0;34m,\u001b[0m \u001b[0;34m\"x\"\u001b[0m\u001b[0;34m)\u001b[0m\u001b[0;34m)\u001b[0m\u001b[0;34m\u001b[0m\u001b[0;34m\u001b[0m\u001b[0m\n\u001b[1;32m   1320\u001b[0m         \u001b[0;32mif\u001b[0m \u001b[0mrequire_numeric\u001b[0m \u001b[0;32mand\u001b[0m \u001b[0mx_type\u001b[0m \u001b[0;34m!=\u001b[0m \u001b[0;34m\"numeric\"\u001b[0m\u001b[0;34m:\u001b[0m\u001b[0;34m\u001b[0m\u001b[0;34m\u001b[0m\u001b[0m\n\u001b[0;32m-> 1321\u001b[0;31m             \u001b[0;32mraise\u001b[0m \u001b[0mTypeError\u001b[0m\u001b[0;34m(\u001b[0m\u001b[0mnonnumeric_dv_error\u001b[0m\u001b[0;34m.\u001b[0m\u001b[0mformat\u001b[0m\u001b[0;34m(\u001b[0m\u001b[0;34m\"Horizontal\"\u001b[0m\u001b[0;34m,\u001b[0m \u001b[0;34m\"x\"\u001b[0m\u001b[0;34m)\u001b[0m\u001b[0;34m)\u001b[0m\u001b[0;34m\u001b[0m\u001b[0;34m\u001b[0m\u001b[0m\n\u001b[0m\u001b[1;32m   1322\u001b[0m         \u001b[0;32mreturn\u001b[0m \u001b[0;34m\"h\"\u001b[0m\u001b[0;34m\u001b[0m\u001b[0;34m\u001b[0m\u001b[0m\n\u001b[1;32m   1323\u001b[0m \u001b[0;34m\u001b[0m\u001b[0m\n",
            "\u001b[0;31mTypeError\u001b[0m: Horizontal orientation requires numeric `x` variable."
          ]
        }
      ]
    },
    {
      "cell_type": "code",
      "metadata": {
        "colab": {
          "background_save": true
        },
        "id": "1_eDIHjqB_Tk"
      },
      "source": [
        "sns.boxplot(x=loans['Annual_Income'])\n",
        "sns.despine()"
      ],
      "execution_count": null,
      "outputs": []
    },
    {
      "cell_type": "code",
      "metadata": {
        "colab": {
          "background_save": true
        },
        "id": "dP8v_HitCnkj"
      },
      "source": [
        "sns.boxplot(x=loans['Number_Open_Accounts'])\r\n",
        "sns.despine()"
      ],
      "execution_count": null,
      "outputs": []
    },
    {
      "cell_type": "code",
      "metadata": {
        "colab": {
          "background_save": true
        },
        "id": "D2J4nf97Cmwe"
      },
      "source": [
        "sns.boxplot(x=loans['Total_Accounts'])\r\n",
        "sns.despine()"
      ],
      "execution_count": null,
      "outputs": []
    },
    {
      "cell_type": "markdown",
      "metadata": {
        "id": "6_SHXBLO7XKx"
      },
      "source": [
        "> In our interger columns we have outliers in all columns apart from loan amount requested"
      ]
    },
    {
      "cell_type": "markdown",
      "metadata": {
        "id": "FP_kRlFZJjnk"
      },
      "source": [
        "### <font color=”green”>Exploratory Analysis </font>"
      ]
    },
    {
      "cell_type": "markdown",
      "metadata": {
        "id": "bgd4d-KK5Ass"
      },
      "source": [
        "##### <font color=\"yellow\">Univariate Analysis  </font>"
      ]
    },
    {
      "cell_type": "code",
      "metadata": {
        "colab": {
          "background_save": true
        },
        "id": "GCtNXBZnuyBW"
      },
      "source": [
        "loans.head()"
      ],
      "execution_count": null,
      "outputs": []
    },
    {
      "cell_type": "code",
      "metadata": {
        "colab": {
          "background_save": true
        },
        "id": "0dN90HJU5gqb"
      },
      "source": [
        "# Frequency distribution table for purpose of loan attribute\r\n",
        "loans['Purpose_Of_Loan'].value_counts()"
      ],
      "execution_count": null,
      "outputs": []
    },
    {
      "cell_type": "markdown",
      "metadata": {
        "id": "SZTKIqlP5rlX"
      },
      "source": [
        "> From the value counts the loans were purposely for debt consolidation."
      ]
    },
    {
      "cell_type": "code",
      "metadata": {
        "colab": {
          "background_save": true
        },
        "id": "mANDo9vLmyAc"
      },
      "source": [
        "sns.countplot(x='Length_Employed',data=loans,palette='mako')\n",
        "sns.despine()"
      ],
      "execution_count": null,
      "outputs": []
    },
    {
      "cell_type": "markdown",
      "metadata": {
        "id": "uysUljjyVEbe"
      },
      "source": [
        "* 10+ years were the highest to request for a loan"
      ]
    },
    {
      "cell_type": "code",
      "metadata": {
        "colab": {
          "background_save": true
        },
        "id": "R3hGqG5gqHLw"
      },
      "source": [
        "# Plotting bar chart to show home ownership\n",
        "sns.countplot(x='Home_Owner',data=loans,palette='mako')\n",
        "sns.despine()"
      ],
      "execution_count": null,
      "outputs": []
    },
    {
      "cell_type": "markdown",
      "metadata": {
        "id": "owYiBc3WWmML"
      },
      "source": [
        "* The Mortgage home owners are the highest and owned home_owners lowest"
      ]
    },
    {
      "cell_type": "code",
      "metadata": {
        "colab": {
          "background_save": true
        },
        "id": "zqvWbU0lqYRx"
      },
      "source": [
        "# Plotting bar chart to show income verified \n",
        "sns.countplot(x='Income_Verified',data=loans,palette='mako')\n",
        "sns.despine()"
      ],
      "execution_count": null,
      "outputs": []
    },
    {
      "cell_type": "markdown",
      "metadata": {
        "id": "MF41D7oLW341"
      },
      "source": [
        " On verified income individuals the ones who have Verified income have the highest count and not verified lowest count."
      ]
    },
    {
      "cell_type": "code",
      "metadata": {
        "colab": {
          "background_save": true
        },
        "id": "0tRS14u9qgH4"
      },
      "source": [
        "# Plotting bar chart to show purpose of loan \n",
        "sns.countplot(y='Purpose_Of_Loan',data=loans,palette='mako')\n",
        "sns.despine()"
      ],
      "execution_count": null,
      "outputs": []
    },
    {
      "cell_type": "markdown",
      "metadata": {
        "id": "XAGcjy4IXsrf"
      },
      "source": [
        "Debt_consolidatiion had the highest count refering that loans taken were purposely for debt consolidation."
      ]
    },
    {
      "cell_type": "code",
      "metadata": {
        "colab": {
          "background_save": true
        },
        "id": "lpcFDWG5qjBH"
      },
      "source": [
        "# Plotting bar chart to show inquiries in last 6 months. \n",
        "sns.countplot(x='Inquiries_Last_6Mo',data=loans,palette='mako')\n",
        "sns.despine()"
      ],
      "execution_count": null,
      "outputs": []
    },
    {
      "cell_type": "markdown",
      "metadata": {
        "id": "oVHnzLuqX6To"
      },
      "source": [
        "Most of the enquiries are done during the initial months, decreasing towards the sixth month."
      ]
    },
    {
      "cell_type": "code",
      "metadata": {
        "colab": {
          "background_save": true
        },
        "id": "dYWDIBVfqmsn"
      },
      "source": [
        "sns.histplot(x='deliquency_level',data=loans,palette='mako')\n",
        "sns.despine()"
      ],
      "execution_count": null,
      "outputs": []
    },
    {
      "cell_type": "markdown",
      "metadata": {
        "id": "7aVpTX9C6rxs"
      },
      "source": [
        "> **description deliquency**<- In a financial sense, delinquency occurs as soon as a borrower misses a payment on a loan. In contrast, default occurs when a borrower fails to repay the loan as specified in the original contractMost are low risk clients are highest and normal client who do not default are lowest"
      ]
    },
    {
      "cell_type": "code",
      "metadata": {
        "colab": {
          "background_save": true
        },
        "id": "hqrA1ax9qpja"
      },
      "source": [
        "sns.histplot(x='Number_Open_Accounts',data=loans,palette='mako')\n",
        "sns.despine()"
      ],
      "execution_count": null,
      "outputs": []
    },
    {
      "cell_type": "markdown",
      "metadata": {
        "id": "oTaUVjHj7_tf"
      },
      "source": [
        "> Most clients have more than one accounts opened as we can see above its right-skewed.With most having more than 10."
      ]
    },
    {
      "cell_type": "code",
      "metadata": {
        "colab": {
          "background_save": true
        },
        "id": "1pvJj7eUqN2i"
      },
      "source": [
        "#Gender Distribution\n",
        "Gender = loans['Gender'].value_counts()\n",
        "labels = loans.Gender.unique()\n",
        "explode = (0.1, 0) \n",
        "plt.pie(Gender, labels = labels, explode = explode,autopct = '%1.1f%%', shadow = True, startangle = 140)\n",
        "plt.axis('equal')\n",
        "plt.title('Pie Chart of Gender')\n",
        "plt.show()"
      ],
      "execution_count": null,
      "outputs": []
    },
    {
      "cell_type": "markdown",
      "metadata": {
        "id": "ky2dU1gpYYSi"
      },
      "source": [
        "> Males have the highest percentage in loan applications with a 71 percent higher than females with percentage of 29 percent."
      ]
    },
    {
      "cell_type": "code",
      "metadata": {
        "colab": {
          "background_save": true
        },
        "id": "gLZ_l02FZ5He"
      },
      "source": [
        "# Plotting histogram for Total Accounts \n",
        "sns.histplot(loans['Total_Accounts'])\n",
        "sns.despine()"
      ],
      "execution_count": null,
      "outputs": []
    },
    {
      "cell_type": "code",
      "metadata": {
        "colab": {
          "background_save": true
        },
        "id": "hwz745zy_OH9"
      },
      "source": [
        "# Plotting bar chart to show Loan amount requested\n",
        "sns.histplot(x='Loan_Amount_Requested',data=loans,palette='mako',bins=30)\n",
        "sns.despine()"
      ],
      "execution_count": null,
      "outputs": []
    },
    {
      "cell_type": "markdown",
      "metadata": {
        "id": "adSrumgYYtvp"
      },
      "source": [
        "The most loan Amount value requested is 10000"
      ]
    },
    {
      "cell_type": "markdown",
      "metadata": {
        "id": "Gujz_N8FY2s8"
      },
      "source": [
        "##### <font color=\"yellow\">Measures of central Tendecy  </font>"
      ]
    },
    {
      "cell_type": "code",
      "metadata": {
        "colab": {
          "background_save": true
        },
        "id": "zkFLtWo5ZFH9"
      },
      "source": [
        "# mean, mode and median Annual income\n",
        "\n",
        "print('Mean Annual income is ' + str(loans.Annual_Income.mean()))\n",
        "print('Median Annual income is ' + str(loans.Annual_Income.median()))\n",
        "print('Mode Annual income is ' + str(loans.Annual_Income.mode()))"
      ],
      "execution_count": null,
      "outputs": []
    },
    {
      "cell_type": "code",
      "metadata": {
        "colab": {
          "background_save": true
        },
        "id": "3EmMVXuhZTyW"
      },
      "source": [
        "# mean, mode and median Total accounts\n",
        "\n",
        "print('Mean  Total accounts is ' + str(loans.Total_Accounts.mean()))\n",
        "print('Median Total accounts is ' + str(loans.Total_Accounts.median()))\n",
        "print('Mode  Total accounts is ' + str(loans.Total_Accounts.mode()))"
      ],
      "execution_count": null,
      "outputs": []
    },
    {
      "cell_type": "code",
      "metadata": {
        "colab": {
          "background_save": true
        },
        "id": "xYaJ1dslZZIx"
      },
      "source": [
        "#checking for measures of central tendency of relevant columns\n",
        "loans_ = loans[['Loan_Amount_Requested','Annual_Income','Inquiries_Last_6Mo','Number_Open_Accounts', 'Total_Accounts']]\n",
        "loans_.describe()"
      ],
      "execution_count": null,
      "outputs": []
    },
    {
      "cell_type": "markdown",
      "metadata": {
        "id": "VsMYOE4Q9Jtv"
      },
      "source": [
        "### <font color=”green”>Bivariate Analysis</font>>\r\n",
        "<font color=\"yellow\">Comparison Graphs </font>"
      ]
    },
    {
      "cell_type": "markdown",
      "metadata": {
        "id": "OevaYIll3EPO"
      },
      "source": [
        " **Ploting the bivariate summaries and recording observations**"
      ]
    },
    {
      "cell_type": "code",
      "metadata": {
        "colab": {
          "background_save": true
        },
        "id": "T8DglsXAri_S"
      },
      "source": [
        "sns.countplot(data=loans,x='Length_Employed',hue='Interest_Rate',palette='mako')\r\n",
        "sns.despine()"
      ],
      "execution_count": null,
      "outputs": []
    },
    {
      "cell_type": "markdown",
      "metadata": {
        "id": "gc1ceWAiywtM"
      },
      "source": [
        "The clients who have been employed for 10 years or longer were observed to have the medium to highest interest rate.\r\n",
        "Also the clients employed for less than one year also had high interest rate."
      ]
    },
    {
      "cell_type": "code",
      "metadata": {
        "colab": {
          "background_save": true
        },
        "id": "3Bz9sp6tlozo"
      },
      "source": [
        "sns.countplot(x='Income_Verified',data=loans,hue='Interest_Rate',palette='mako')\n",
        "sns.despine()"
      ],
      "execution_count": null,
      "outputs": []
    },
    {
      "cell_type": "markdown",
      "metadata": {
        "id": "jIJcGxtW9wP1"
      },
      "source": [
        "> * Clients without vefified sources of income dont have a very high interest rate \r\n",
        "> * Clients with verified sources of high have high interest rates \r\n",
        "> * clients with verified income source dont have a high interest rates"
      ]
    },
    {
      "cell_type": "code",
      "metadata": {
        "colab": {
          "background_save": true
        },
        "id": "KSYPkCqqpuMW"
      },
      "source": [
        "sns.countplot(x='Gender',data=loans,hue='Interest_Rate',palette='mako')\n",
        "sns.despine()"
      ],
      "execution_count": null,
      "outputs": []
    },
    {
      "cell_type": "markdown",
      "metadata": {
        "id": "aXIoDNFnFLCi"
      },
      "source": [
        "> * For all interes high,low,and medium male clients have the highest interest rates"
      ]
    },
    {
      "cell_type": "code",
      "metadata": {
        "colab": {
          "background_save": true
        },
        "id": "R3TXFy3kHgUo"
      },
      "source": [
        "sns.countplot(x='deliquency_level',data=loans,hue='Interest_Rate',palette='mako')\r\n",
        "sns.despine()"
      ],
      "execution_count": null,
      "outputs": []
    },
    {
      "cell_type": "markdown",
      "metadata": {
        "id": "3ccUaHiNL25C"
      },
      "source": [
        "> * low risk clients have the highest interest rate"
      ]
    },
    {
      "cell_type": "code",
      "metadata": {
        "colab": {
          "background_save": true
        },
        "id": "jkxZi9L7rwsD"
      },
      "source": [
        "sns.countplot(x='Home_Owner',data=loans,hue='Interest_Rate',palette='mako')\r\n",
        "sns.despine()"
      ],
      "execution_count": null,
      "outputs": []
    },
    {
      "cell_type": "markdown",
      "metadata": {
        "id": "JfM2AzIzr1cV"
      },
      "source": [
        "Clients with Mortage Loans have the highest interest rate followed by those who pay rent"
      ]
    },
    {
      "cell_type": "code",
      "metadata": {
        "colab": {
          "background_save": true
        },
        "id": "fknSsn16s8NG"
      },
      "source": [
        "sns.countplot(y='Purpose_Of_Loan',data=loans,hue='Interest_Rate',palette='mako')\r\n",
        "sns.despine()"
      ],
      "execution_count": null,
      "outputs": []
    },
    {
      "cell_type": "markdown",
      "metadata": {
        "id": "aqCGDsVFwDSS"
      },
      "source": [
        "Most loans were given for debt consolidation and were seen to have the highest interest rate"
      ]
    },
    {
      "cell_type": "code",
      "metadata": {
        "colab": {
          "background_save": true
        },
        "id": "WvU8ovPd4W9C"
      },
      "source": [
        "sns.countplot(x='Inquiries_Last_6Mo',data=loans,hue='Interest_Rate',palette='mako')\r\n",
        "sns.despine()"
      ],
      "execution_count": null,
      "outputs": []
    },
    {
      "cell_type": "code",
      "metadata": {
        "colab": {
          "background_save": true
        },
        "id": "peUTQ2-bsqwc"
      },
      "source": [
        "sns.scatterplot(x='Interest_Rate',y='Total_Accounts',data=loans,hue='Interest_Rate',palette='mako')\r\n",
        "sns.despine()"
      ],
      "execution_count": null,
      "outputs": []
    },
    {
      "cell_type": "markdown",
      "metadata": {
        "id": "zG2WrA6exOOK"
      },
      "source": [
        "No relationship was observed between the total number of accounts and the interest rate."
      ]
    },
    {
      "cell_type": "code",
      "metadata": {
        "colab": {
          "background_save": true
        },
        "id": "18OMnVpsSEX_"
      },
      "source": [
        "sns.scatterplot(x='Interest_Rate',y='Annual_Income',data=loans,hue='Interest_Rate',palette='mako')\r\n",
        "sns.despine()"
      ],
      "execution_count": null,
      "outputs": []
    },
    {
      "cell_type": "markdown",
      "metadata": {
        "id": "3UC_h6kDS3Tn"
      },
      "source": [
        "> * there is no relationship between the loan interest rate and annual income"
      ]
    },
    {
      "cell_type": "code",
      "metadata": {
        "colab": {
          "background_save": true
        },
        "id": "yI4Ub6V1xaCy"
      },
      "source": [
        "sns.scatterplot(x='Interest_Rate',y='Number_Open_Accounts',data=loans,hue='Interest_Rate',palette='mako')\r\n",
        "sns.despine()"
      ],
      "execution_count": null,
      "outputs": []
    },
    {
      "cell_type": "markdown",
      "metadata": {
        "id": "yx-gpn75yDDC"
      },
      "source": [
        "There is no relationship observed between the number of accounts open and the interest rate."
      ]
    },
    {
      "cell_type": "code",
      "metadata": {
        "colab": {
          "background_save": true
        },
        "id": "Fr3Gh-xgyYHQ"
      },
      "source": [
        "# Ploting the bivariate summaries and recording observations\r\n",
        "#\r\n",
        "sns.pairplot(loans)\r\n",
        "plt.show()"
      ],
      "execution_count": null,
      "outputs": []
    },
    {
      "cell_type": "code",
      "metadata": {
        "colab": {
          "background_save": true
        },
        "id": "-YsYCdvFMFoh"
      },
      "source": [
        "# Plotting the Pearson correlation coefficient among variables\r\n",
        "plt.figure(figsize=(20, 20))\r\n",
        "sns.heatmap(loans.corr(),annot=True)\r\n",
        "plt.show()"
      ],
      "execution_count": null,
      "outputs": []
    },
    {
      "cell_type": "markdown",
      "metadata": {
        "id": "Uujj8XTwQCjC"
      },
      "source": [
        "> * The columns total_accounts and number of open accounts are highly correalted with a coefficient of 0.68.\r\n",
        "\r\n",
        "> * Interest Rate is highly correlated with 6 month Inquiries with a coefficient of 0.19"
      ]
    },
    {
      "cell_type": "markdown",
      "metadata": {
        "id": "L4TO2AKGGRd2"
      },
      "source": [
        "### <font color=”green”>Multivariate Analysis</font>\n",
        "<background color='#fa005c--- that greenish cyan'>"
      ]
    },
    {
      "cell_type": "code",
      "metadata": {
        "colab": {
          "background_save": true
        },
        "id": "BOGKUPITMpDU"
      },
      "source": [
        "sns.barplot(data=loans,x='Length_Employed',y='Loan_Amount_Requested',hue='Interest_Rate',palette='mako')\n",
        "sns.despine()"
      ],
      "execution_count": null,
      "outputs": []
    },
    {
      "cell_type": "markdown",
      "metadata": {
        "id": "K_H2066h39w0"
      },
      "source": [
        "<font color='#00e6de'>Across the time customers are employed , interest rate 3 has the highest is characterised with high ammounts of loan requested, The average amount borrowed increases with time although its just a slight increase </font>\n",
        "<font color='#fa005c'>\n",
        "* interest rate 3 could be a high interest rate so that the bank can recover some of its money from those who pay and not get so much loss when customers default.\n",
        "* However Since banks reward their long time members or offer incentives to new members the bank here could have most of its members at a lower interest rate 3 hence why its prominent irregardless of the time employed.</font>\n",
        "\n",
        "<font color='#00e6de'>On 10+ years the least prominent category is interest rate 1 , based on the earlier assumption this could be the high end of the interest rates , since the bank would reward older members with lower interest rates (3) </font>"
      ]
    },
    {
      "cell_type": "code",
      "metadata": {
        "colab": {
          "background_save": true
        },
        "id": "BG0edZ3nMpik"
      },
      "source": [
        "sns.barplot(data=loans,x='Income_Verified',y='Loan_Amount_Requested',hue='Interest_Rate',palette='mako')\n",
        "sns.despine()"
      ],
      "execution_count": null,
      "outputs": []
    },
    {
      "cell_type": "markdown",
      "metadata": {
        "id": "LHwkTaS682T8"
      },
      "source": [
        "\n",
        "><font color='#fa005c'> This further confirms the hypothesis that interest rate 1 is the highest interest rate in the dataset, since normally banks would give a high interest rate to customers whose income is not verrified to discourage them from seeking the loan and give lower interest rates to customers who have verrified incomes. </font>\n",
        "\n",
        "><font color='#fa005c'> Those who also have no verrified income tend to seek low amounts of loans, while those with verrified incomes seek high ammounts of loans </font>\n",
        "\n",
        "<font color='#00e6de'>This is depicted in the above plot for users whose income is verified, interest rate 3 is the highest among them."
      ]
    },
    {
      "cell_type": "code",
      "metadata": {
        "colab": {
          "background_save": true
        },
        "id": "u0os-hmNcscs"
      },
      "source": [
        "sns.barplot(data=loans,x='Gender',y='Loan_Amount_Requested',hue='Interest_Rate',palette='mako')\n",
        "sns.despine()"
      ],
      "execution_count": null,
      "outputs": []
    },
    {
      "cell_type": "markdown",
      "metadata": {
        "id": "D5gHYRs0-5rw"
      },
      "source": [
        "><font color='#00e6de'> Gender does not have much of an impact on the interest rate or ammount borrowed since the patern from both genders does not change."
      ]
    },
    {
      "cell_type": "code",
      "metadata": {
        "colab": {
          "background_save": true
        },
        "id": "SWKBJ-TNMqE8"
      },
      "source": [
        "sns.barplot(data=loans,x='deliquency_level',y='Loan_Amount_Requested',hue='Interest_Rate',palette='mako')\n",
        "sns.despine()"
      ],
      "execution_count": null,
      "outputs": []
    },
    {
      "cell_type": "markdown",
      "metadata": {
        "id": "eIyjriS6An0M"
      },
      "source": [
        "<font color='#00e6de'>Deliquency level has an effect in the pattern of the interest rates, although there is not much difference in the average ammounts borrowed across the different deliquency levels.</font>\n",
        "* <font color='#fa005c'>For those with a low risk and a normal deliquency, interest rate 3 is the most prominent while interest rate 1 is the lowest, this could be the normal interest rate handed out to everyone, however this could be the lowest interest rate and since banks consider more than one factor when awarding the interest rate the high numbers with interst rate 1 could have not fulfiled some other conditions to get awarded a lower interest rate"
      ]
    },
    {
      "cell_type": "code",
      "metadata": {
        "colab": {
          "background_save": true
        },
        "id": "-3GOeBFRNQlA"
      },
      "source": [
        "sns.barplot(data=loans,x='Home_Owner',y='Loan_Amount_Requested',hue='Interest_Rate',palette='mako')\n",
        "sns.despine()"
      ],
      "execution_count": null,
      "outputs": []
    },
    {
      "cell_type": "markdown",
      "metadata": {
        "id": "w4xO4WSRG76s"
      },
      "source": [
        "<font color='#00e6de'> As expected those who have no houses borrow the least ammounts however they all exhibit the same pattern where the interest rate with the most customers is 3 while interest rate 1 has the least customers"
      ]
    },
    {
      "cell_type": "code",
      "metadata": {
        "colab": {
          "background_save": true
        },
        "id": "B3BkW8abcois"
      },
      "source": [
        "sns.barplot(data=loans,x='Inquiries_Last_6Mo',y='Loan_Amount_Requested',hue='Interest_Rate',palette='mako')\n",
        "sns.despine()"
      ],
      "execution_count": null,
      "outputs": []
    },
    {
      "cell_type": "markdown",
      "metadata": {
        "id": "OBycKo3pIcuA"
      },
      "source": [
        "<font color='#00e6de'> The average amount borrowed remains fairly the same for the first 5 months."
      ]
    },
    {
      "cell_type": "code",
      "metadata": {
        "colab": {
          "background_save": true
        },
        "id": "9ETjIXzDNPmg"
      },
      "source": [
        "sns.set(rc={'figure.figsize':(18,15)},style=\"white\")\n",
        "sns.barplot(data=loans,y='Purpose_Of_Loan',x='Loan_Amount_Requested',hue='Interest_Rate',palette='mako')\n",
        "sns.despine()"
      ],
      "execution_count": null,
      "outputs": []
    },
    {
      "cell_type": "markdown",
      "metadata": {
        "id": "3icWlm5iJWMI"
      },
      "source": [
        "<font color='#00e6de'>For most loans borrowed interest rate 3 is dominant while interest rate 1 is the least, however this changes when its a loan for vacation,medical reasons or education.\n",
        "* <font color='#fa005c'> This could be because the customers probably have a decently high chance to default as is the case with alot of education loanees(<font color='#00e6de'> Helbs defaulters</font>) </font>\n",
        "* <font color='#fa005c'>In medicine this could be because of an emergency and the plan to pay could not have been established before coming to get the loan, and therefore incase the loanees are start paying up the bank could have recovered a good portion if the loanee ends up defaulting."
      ]
    },
    {
      "cell_type": "markdown",
      "metadata": {
        "id": "Stbps5oBIh5Q"
      },
      "source": [
        "<font color='#00e6de'> How to get the dataset for the modeling?\n",
        "<font color='#fa005c'>\n",
        "* Reduction using lda ?\n",
        "* Reduction using feature selection ?\n",
        "* Label encoding ?\n",
        "* Getting dummies ?\n",
        "* ..........................\n",
        "</font>\n",
        "</font>"
      ]
    },
    {
      "cell_type": "markdown",
      "metadata": {
        "id": "xDmfJVbaGc7W"
      },
      "source": [
        "#### <font color=\"yellow\">3-D comparison plots </font>"
      ]
    },
    {
      "cell_type": "code",
      "metadata": {
        "colab": {
          "background_save": true
        },
        "id": "YWjK7HE73vO_"
      },
      "source": [
        "le = LabelEncoder()\r\n",
        "loans2['Income_Verified'] = le.fit_transform(loans2['Income_Verified'])\r\n",
        "\r\n",
        "loans2.head()"
      ],
      "execution_count": null,
      "outputs": []
    },
    {
      "cell_type": "markdown",
      "metadata": {
        "id": "GPzrEgdFzcTK"
      },
      "source": [
        "### <font color=”green”>Feature Engineering</font>"
      ]
    },
    {
      "cell_type": "code",
      "metadata": {
        "colab": {
          "background_save": true
        },
        "id": "Cjp_C9tvxkMQ"
      },
      "source": [
        "from sklearn.model_selection import train_test_split\n",
        "from sklearn.neighbors import KNeighborsClassifier\n",
        "from sklearn import metrics\n",
        "from sklearn.model_selection import GridSearchCV\n",
        "from sklearn.preprocessing import StandardScaler\n",
        "\n",
        "from sklearn.tree import DecisionTreeClassifier\n",
        "from sklearn.ensemble import RandomForestClassifier\n",
        "from sklearn.ensemble import GradientBoostingClassifier\n",
        "from sklearn.neighbors import KNeighborsClassifier"
      ],
      "execution_count": null,
      "outputs": []
    },
    {
      "cell_type": "code",
      "metadata": {
        "colab": {
          "background_save": true
        },
        "id": "OayM7jggZJs4"
      },
      "source": [
        "loans"
      ],
      "execution_count": null,
      "outputs": []
    },
    {
      "cell_type": "markdown",
      "metadata": {
        "id": "aNgZEB1XsWPc"
      },
      "source": [
        "* <font color='#00e6de'>Label encoding the string columns</font>"
      ]
    },
    {
      "cell_type": "code",
      "metadata": {
        "colab": {
          "background_save": true
        },
        "id": "rdaWnqsQZs7k"
      },
      "source": [
        "from sklearn.preprocessing import LabelEncoder\n",
        "loans['Interest_Rate'] = loans['Interest_Rate'].astype('category')\n",
        "for_model_lab_ = loans.drop('Loan_ID',axis=1)\n",
        "le = LabelEncoder()\n",
        "for name in ('Home_Owner','Gender','Income_Verified','Purpose_Of_Loan','deliquency_level','Gender'):\n",
        "  labeled = le.fit_transform(loans[name])\n",
        "  for_model_lab_[name] = labeled\n",
        "  for_model_lab_[name]=for_model_lab_[name].astype('category')\n",
        "  print(loans[name].value_counts())\n",
        "  print('^^^^^^^^^^^^^^^^^^^^^^^^^^^^^^^^^^^^^^^')\n",
        "  print(for_model_lab_[name].value_counts())\n",
        "  print('********************************************************')"
      ],
      "execution_count": null,
      "outputs": []
    },
    {
      "cell_type": "code",
      "metadata": {
        "colab": {
          "background_save": true
        },
        "id": "13h1UX2vjMLo"
      },
      "source": [
        "x=for_model_lab.drop(['Interest_Rate',],axis=1)\n",
        "y=for_model_lab['Interest_Rate']\n",
        "x_train,x_test,y_train,y_test=train_test_split(x,y)"
      ],
      "execution_count": null,
      "outputs": []
    },
    {
      "cell_type": "markdown",
      "metadata": {
        "id": "jp5xL4vY5RTT"
      },
      "source": [
        "**Checking for Multicollinearity**"
      ]
    },
    {
      "cell_type": "code",
      "metadata": {
        "colab": {
          "background_save": true
        },
        "id": "yruDlNuOc58m"
      },
      "source": [
        "correlations = for_model_lab.corr()\r\n",
        "correlations"
      ],
      "execution_count": null,
      "outputs": []
    },
    {
      "cell_type": "code",
      "metadata": {
        "id": "Xw11NY9N5C0Y"
      },
      "source": [
        ""
      ],
      "execution_count": null,
      "outputs": []
    },
    {
      "cell_type": "markdown",
      "metadata": {
        "id": "QIeNqxMzgYwD"
      },
      "source": [
        "**VIF Scores**"
      ]
    },
    {
      "cell_type": "code",
      "metadata": {
        "colab": {
          "background_save": true
        },
        "id": "sljBWE6EgV9z"
      },
      "source": [
        "# Use calculated correlations to compute the VIF score for each variable\r\n",
        "pd.DataFrame(np.linalg.inv(correlations.values), index = correlations.index, columns=correlations.columns)"
      ],
      "execution_count": null,
      "outputs": []
    },
    {
      "cell_type": "markdown",
      "metadata": {
        "id": "AMbqvjqx5KsV"
      },
      "source": [
        "The VIF score is found along the diagonal from top left to bottom right. Since all the VIF scores are below 5, we can say that there is no multicollinearity thus no alarming correlation between the independent variables."
      ]
    },
    {
      "cell_type": "code",
      "metadata": {
        "id": "RnaTli68Kp1w"
      },
      "source": [
        "from sklearn.discriminant_analysis import LinearDiscriminantAnalysis as LDA\n",
        "lda = LDA()\n",
        "x_train = lda.fit_transform(x_train, y_train)\n",
        "x_test = lda.transform(x_test)"
      ],
      "execution_count": null,
      "outputs": []
    },
    {
      "cell_type": "code",
      "metadata": {
        "colab": {
          "background_save": true
        },
        "id": "N1z0RCiyL5Qk"
      },
      "source": [
        "x_train.shape"
      ],
      "execution_count": null,
      "outputs": []
    },
    {
      "cell_type": "markdown",
      "metadata": {
        "id": "HhiNUuKYrdrI"
      },
      "source": [
        "<font color='#00e6de'>\n",
        "Lda ended up with a dataset with just 2 attributes, well it cant be helped. Therefore well be checking out feature importances using decision trees and see if there is a trend.\n",
        "</font>"
      ]
    },
    {
      "cell_type": "code",
      "metadata": {
        "colab": {
          "background_save": true
        },
        "id": "3avy0FUrqL6U"
      },
      "source": [
        "decision_classifier = DecisionTreeClassifier(max_depth=10)\n",
        "random_forest_classifier = RandomForestClassifier( max_depth=10)\n",
        "gbm_classifier = GradientBoostingClassifier( max_depth=10)\n",
        "\n",
        "decision_classifier.fit(x, y)\n",
        "random_forest_classifier.fit(x, y)\n",
        "gbm_classifier.fit(x, y)"
      ],
      "execution_count": null,
      "outputs": []
    },
    {
      "cell_type": "code",
      "metadata": {
        "colab": {
          "background_save": true
        },
        "id": "5mvaPnZEfNJw"
      },
      "source": [
        "pd.DataFrame({'importance' : decision_classifier.feature_importances_}, index=x.columns).sort_values(by='importance').plot(kind='barh')"
      ],
      "execution_count": null,
      "outputs": []
    },
    {
      "cell_type": "code",
      "metadata": {
        "colab": {
          "background_save": true
        },
        "id": "YmGU8RxqfN4o"
      },
      "source": [
        "pd.DataFrame({'importance' : random_forest_classifier.feature_importances_}, index=x.columns).sort_values(by='importance').plot(kind='barh')"
      ],
      "execution_count": null,
      "outputs": []
    },
    {
      "cell_type": "code",
      "metadata": {
        "colab": {
          "background_save": true
        },
        "id": "DdoHOvsEfOl8"
      },
      "source": [
        "pd.DataFrame({'importance' : gbm_classifier.feature_importances_}, index=x.columns).sort_values(by='importance').plot(kind='barh')"
      ],
      "execution_count": null,
      "outputs": []
    },
    {
      "cell_type": "markdown",
      "metadata": {
        "id": "IRyYxwb8qTuU"
      },
      "source": [
        "> <font color='#00e6de'></font>\n",
        "<font color='#fa005c'></font>\n",
        "<font color='#00e6de'>\n",
        "From all the feature importances: <font color='#fa005c'> Number_Open_Accounts ,Home_Owner ,Length_Employed and Gender </font> are the least important with less than 5% importance in the entire dataset they explain <font color='#fa005c'> 4.7543, 8.2875, 6.5168 </font> respectively\n",
        "</font>\n"
      ]
    },
    {
      "cell_type": "markdown",
      "metadata": {
        "id": "sKcmzYOcLnF4"
      },
      "source": [
        "### <font color='#00e6de'>Models 1</font>"
      ]
    },
    {
      "cell_type": "code",
      "metadata": {
        "colab": {
          "background_save": true
        },
        "id": "LxpNMlVdQkKk"
      },
      "source": [
        "loan_model = loans[['Loan_Amount_Requested','Debt_To_Income','Annual_Income','Income_Verified','Inquiries_Last_6Mo','Purpose_Of_Loan','Total_Accounts','deliquency_level','Interest_Rate']]\n",
        "loan_model.head()"
      ],
      "execution_count": null,
      "outputs": []
    },
    {
      "cell_type": "code",
      "metadata": {
        "colab": {
          "background_save": true
        },
        "id": "xA-iBMHL0R2U"
      },
      "source": [
        "from sklearn.preprocessing import LabelEncoder\n",
        "loan_model['Interest_Rate'] = loan_model['Interest_Rate'].astype('category')\n",
        "le = LabelEncoder()\n",
        "for name in ('Income_Verified','Purpose_Of_Loan','deliquency_level'):\n",
        "  labeled = le.fit_transform(loan_model[name])\n",
        "  loan_model[name] = labeled\n",
        "  #label encoding above ^\n",
        "  loan_model[name] = loan_model[name].astype('category')\n",
        "  # Changing to categorical\n",
        "  print(loans[name].value_counts())\n",
        "  print('^^^^^^^^^^^^^^^^^^^^^^^^^^^^^^^^^^^^^^^')\n",
        "  print(loan_model[name].value_counts())\n",
        "  print('********************************************************')"
      ],
      "execution_count": null,
      "outputs": []
    },
    {
      "cell_type": "code",
      "metadata": {
        "colab": {
          "background_save": true
        },
        "id": "lxD2tBpFHiai"
      },
      "source": [
        "x=loan_model.drop(['Interest_Rate',],axis=1)\n",
        "y=loan_model['Interest_Rate']\n",
        "x_train,x_test,y_train,y_test=train_test_split(x,y)"
      ],
      "execution_count": null,
      "outputs": []
    },
    {
      "cell_type": "code",
      "metadata": {
        "colab": {
          "background_save": true
        },
        "id": "Oyf8xYxgyrzo"
      },
      "source": [
        "#  Creating default models\n",
        "decision_classifier = DecisionTreeClassifier()\n",
        "random_forest_classifier = RandomForestClassifier()\n",
        "gbm_classifier = GradientBoostingClassifier()\n",
        "knn_classifier = KNeighborsClassifier()\n",
        "\n",
        "# training our models\n",
        "decision_classifier.fit(x_train, y_train)\n",
        "random_forest_classifier.fit(x_train, y_train)\n",
        "gbm_classifier.fit(x_train, y_train)\n",
        "\n",
        "# making predictions using the models\n",
        "decision_y_prediction = decision_classifier.predict(x_test) \n",
        "random_forest_y_pred = random_forest_classifier.predict(x_test)\n",
        "gbm_y_pred = gbm_classifier.predict(x_test)\n",
        "\n",
        "# evaluating the models\n",
        "print('Decision Tree')\n",
        "print(metrics.accuracy_score(decision_y_prediction, y_test))\n",
        "print(metrics.confusion_matrix(decision_y_prediction, y_test))\n",
        "print(metrics.classification_report(decision_y_prediction, y_test))\n",
        "\n",
        "\n",
        "print('Random Forest')\n",
        "print(metrics.accuracy_score(random_forest_y_pred, y_test))\n",
        "print(metrics.confusion_matrix(random_forest_y_pred, y_test))\n",
        "print(metrics.classification_report(random_forest_y_pred, y_test))\n",
        "\n",
        "print('Gradient Boosting')\n",
        "print(metrics.accuracy_score(gbm_y_pred, y_test))\n",
        "print(metrics.confusion_matrix(gbm_y_pred, y_test))\n",
        "print(metrics.classification_report(gbm_y_pred, y_test))\n"
      ],
      "execution_count": null,
      "outputs": []
    },
    {
      "cell_type": "markdown",
      "metadata": {
        "id": "gcmLsL45sOyP"
      },
      "source": [
        "###<font color=”green”>Hyparameter Tuning</font>"
      ]
    },
    {
      "cell_type": "markdown",
      "metadata": {
        "id": "uN4puylZLv7j"
      },
      "source": [
        "### Decision Tree c"
      ]
    },
    {
      "cell_type": "markdown",
      "metadata": {
        "id": "j721Bx7wTsWI"
      },
      "source": [
        "### Random forest classifier"
      ]
    },
    {
      "cell_type": "code",
      "metadata": {
        "id": "9vTm-f-3TshE"
      },
      "source": [
        "# x=for_model_lab_.drop(['Interest_Rate',],axis=1)\n",
        "# y=for_model_lab_['Interest_Rate']\n",
        "x=loan_model.drop(['Interest_Rate',],axis=1)\n",
        "y=loan_model['Interest_Rate']\n",
        "x_train,x_test,y_train,y_test=train_test_split(x,y)"
      ],
      "execution_count": null,
      "outputs": []
    },
    {
      "cell_type": "code",
      "metadata": {
        "id": "o3ZzxAY1HK3E",
        "colab": {
          "base_uri": "https://localhost:8080/"
        },
        "outputId": "519d1016-1bc6-472e-b3d2-99926d8f473d"
      },
      "source": [
        "rforest = RandomForestClassifier()\n",
        "rforest = rforest.fit(x_train, y_train)\n",
        "y_pred = rforest.predict(x_test) \n",
        "\n",
        "print(metrics.confusion_matrix(y_test, y_pred))\n",
        "print(metrics.classification_report(y_test, y_pred))"
      ],
      "execution_count": null,
      "outputs": [
        {
          "output_type": "stream",
          "text": [
            "[[ 2411  4546  1499]\n",
            " [ 2210 10144  5339]\n",
            " [  712  5907  8308]]\n",
            "              precision    recall  f1-score   support\n",
            "\n",
            "           1       0.45      0.29      0.35      8456\n",
            "           2       0.49      0.57      0.53     17693\n",
            "           3       0.55      0.56      0.55     14927\n",
            "\n",
            "    accuracy                           0.51     41076\n",
            "   macro avg       0.50      0.47      0.48     41076\n",
            "weighted avg       0.50      0.51      0.50     41076\n",
            "\n"
          ],
          "name": "stdout"
        }
      ]
    },
    {
      "cell_type": "markdown",
      "metadata": {
        "id": "EhAaHwTWLHsU"
      },
      "source": [
        "> The random forest did not have the same issue as the decision tree and was able to overcome the class imbalance.so far it has performed better than the default decision tree.\n",
        "\n",
        "IT performed poorly in the prediction of interest rate 1 since the f1 score is low compared to the others\n",
        "\n",
        "there was also poor performance in the interest rate 1 where there was a realy low recal since it misclassified most of interest rate 1, however for thos it classified as interest rate 1 most of them were correctly classified.\n",
        "\n",
        "However since it combines multiple trees it becomes, slow and worse for high dimensional data.\n"
      ]
    },
    {
      "cell_type": "markdown",
      "metadata": {
        "id": "eh5AVOt5Qd9A"
      },
      "source": [
        "> I decidet to upsamble to see if it would improve the models performance"
      ]
    },
    {
      "cell_type": "code",
      "metadata": {
        "colab": {
          "base_uri": "https://localhost:8080/"
        },
        "id": "LCeNzRtTeicw",
        "outputId": "f4b614da-3c1e-4310-dcdd-9cef6c7c27f4"
      },
      "source": [
        "from imblearn.over_sampling import RandomOverSampler\n",
        "from imblearn.under_sampling import RandomUnderSampler\n",
        "\n",
        "x_train,x_test,y_train,y_test=train_test_split(x,y)\n",
        "\n",
        "ros = RandomOverSampler(random_state=0)\n",
        "# ros.fit(x_train, y_train)\n",
        "# x_over_sampled, y_over_sampled = ros.fit_sample(x, y)\n",
        "\n",
        "rus = RandomUnderSampler(random_state=0)\n",
        "# rus.fit(x_train, y_train)\n",
        "# Creates higher accuracy cause its memorised\n",
        "# x_under_sampled, y_under_sampled = rus.fit_sample(x, y)\n",
        "# x_train, y_train = ros.fit_sample(x, y)\n",
        "\n",
        "x_train_over, y_train_over = ros.fit_sample(x_train, y_train)\n",
        "x_train_under, y_train_under = rus.fit_sample(x_train, y_train)\n",
        "# x_test , y_test = ros.fit_sample(x_test,y_test)\n",
        "# x_test, y_test = ros.fit_resample(x_test,y_test)\n",
        "# x_train,x_test,y_train,y_test=train_test_split(x_under_sampled, y_under_sampled,test_size=0.2)"
      ],
      "execution_count": null,
      "outputs": [
        {
          "output_type": "stream",
          "text": [
            "/usr/local/lib/python3.6/dist-packages/sklearn/utils/deprecation.py:87: FutureWarning:\n",
            "\n",
            "Function safe_indexing is deprecated; safe_indexing is deprecated in version 0.22 and will be removed in version 0.24.\n",
            "\n",
            "/usr/local/lib/python3.6/dist-packages/sklearn/utils/deprecation.py:87: FutureWarning:\n",
            "\n",
            "Function safe_indexing is deprecated; safe_indexing is deprecated in version 0.22 and will be removed in version 0.24.\n",
            "\n"
          ],
          "name": "stderr"
        }
      ]
    },
    {
      "cell_type": "code",
      "metadata": {
        "colab": {
          "base_uri": "https://localhost:8080/"
        },
        "id": "1d1IfChkQO8E",
        "outputId": "33b55797-2bea-4957-9606-1a848d6724f9"
      },
      "source": [
        "rforest = RandomForestClassifier()\n",
        "rforest = rforest.fit(x_train, y_train)\n",
        "y_pred = rforest.predict(x_test) \n",
        "\n",
        "print(metrics.classification_report(y_test, y_pred))"
      ],
      "execution_count": null,
      "outputs": [
        {
          "output_type": "stream",
          "text": [
            "              precision    recall  f1-score   support\n",
            "\n",
            "           1       0.44      0.29      0.35      8405\n",
            "           2       0.49      0.57      0.53     17779\n",
            "           3       0.55      0.56      0.55     14892\n",
            "\n",
            "    accuracy                           0.50     41076\n",
            "   macro avg       0.49      0.47      0.47     41076\n",
            "weighted avg       0.50      0.50      0.50     41076\n",
            "\n"
          ],
          "name": "stdout"
        }
      ]
    },
    {
      "cell_type": "markdown",
      "metadata": {
        "id": "97lKJ2qcQrKU"
      },
      "source": [
        "> The performance is similar in accuracy however the difference is visible where there was a improvement in the fi score of interest rate 1 from 0.35 to 0.39 although the f1 score of interest rate 2 droped.\n",
        "\n",
        "Since there isnt much improvement and since random forest is handling the class imbalance really well we wont be resampling the data."
      ]
    },
    {
      "cell_type": "markdown",
      "metadata": {
        "id": "sQpoTqk0EYOQ"
      },
      "source": [
        ">Finding the best parameters (criterion, maximum depth and minimum samples split)for the decision tree \n",
        "\n",
        "* maximum depth: Is a measure of how deep the decision tree goes, having a reaaly deep tree could lead to overfitting while a shallow tree could lead to underfitting hence its a good idea to get a balance in the tree.\n",
        "* n_estimators: Is how many trees will be used foor estimating the output of the random forest, Too high a value may not make the tree worce but will increase the amount of time the model runs for since it has to hinge on multiple trees."
      ]
    },
    {
      "cell_type": "code",
      "metadata": {
        "id": "lFsHrPzlHCDQ",
        "colab": {
          "base_uri": "https://localhost:8080/"
        },
        "outputId": "c5a0fd87-5b70-4588-9c4f-37a5bf6c8fc4"
      },
      "source": [
        "# Avoid running this if you dont need to 8+ hours so yeah try no to\n",
        "max=np.arange(1,10)\n",
        "est=np.arange(100,900,100)\n",
        "grid = GridSearchCV(estimator=RandomForestClassifier(),param_grid={'n_estimators':est,'max_depth':max},cv=5,verbose=1)\n",
        "grid.fit(x,y)\n",
        "print('The best parameters ',grid.best_params_)"
      ],
      "execution_count": null,
      "outputs": [
        {
          "output_type": "stream",
          "text": [
            "Fitting 5 folds for each of 72 candidates, totalling 360 fits\n"
          ],
          "name": "stdout"
        },
        {
          "output_type": "stream",
          "text": [
            "[Parallel(n_jobs=1)]: Using backend SequentialBackend with 1 concurrent workers.\n",
            "[Parallel(n_jobs=1)]: Done 360 out of 360 | elapsed: 209.0min finished\n"
          ],
          "name": "stderr"
        },
        {
          "output_type": "stream",
          "text": [
            "The best parameters  {'max_depth': 9, 'n_estimators': 300}\n"
          ],
          "name": "stdout"
        }
      ]
    },
    {
      "cell_type": "code",
      "metadata": {
        "colab": {
          "base_uri": "https://localhost:8080/"
        },
        "id": "2CEMOox_HhP4",
        "outputId": "fbd070b2-4cf7-464d-d2a4-fabd0279f979"
      },
      "source": [
        "rforest = RandomForestClassifier(max_depth= 9 ,n_estimators=300)\n",
        "rforest = rforest.fit(x_train, y_train)\n",
        "y_pred = rforest.predict(x_test) \n",
        "\n",
        "print(metrics.classification_report(y_test, y_pred))"
      ],
      "execution_count": null,
      "outputs": [
        {
          "output_type": "stream",
          "text": [
            "              precision    recall  f1-score   support\n",
            "\n",
            "           1       0.60      0.11      0.19      8405\n",
            "           2       0.49      0.69      0.58     17779\n",
            "           3       0.57      0.56      0.56     14892\n",
            "\n",
            "    accuracy                           0.53     41076\n",
            "   macro avg       0.56      0.45      0.44     41076\n",
            "weighted avg       0.54      0.53      0.49     41076\n",
            "\n"
          ],
          "name": "stdout"
        }
      ]
    },
    {
      "cell_type": "markdown",
      "metadata": {
        "id": "bJVqoVSXPLpk"
      },
      "source": [
        "> The model ended up outperforming the other models, it classification of interest rate 1 improved however the recal and fi score droped, it was really accurate at predicting interest rate 1, the other f1 scores also improved by a large margin\n",
        "\n",
        "* The tuned model ended up being the best performing random forest classifier"
      ]
    }
  ]
}