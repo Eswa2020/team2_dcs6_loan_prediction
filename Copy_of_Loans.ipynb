{
  "nbformat": 4,
  "nbformat_minor": 0,
  "metadata": {
    "colab": {
      "name": "Copy of Loans.ipynb",
      "provenance": [],
      "collapsed_sections": [],
      "toc_visible": true,
      "include_colab_link": true
    },
    "kernelspec": {
      "display_name": "Python 3",
      "name": "python3"
    }
  },
  "cells": [
    {
      "cell_type": "markdown",
      "metadata": {
        "id": "view-in-github",
        "colab_type": "text"
      },
      "source": [
        "<a href=\"https://colab.research.google.com/github/Eswa2020/team2_dcs6_loan_prediction/blob/main/Copy_of_Loans.ipynb\" target=\"_parent\"><img src=\"https://colab.research.google.com/assets/colab-badge.svg\" alt=\"Open In Colab\"/></a>"
      ]
    },
    {
      "cell_type": "markdown",
      "metadata": {
        "id": "BbUg6Gqi1bHg"
      },
      "source": [
        "## <font color=”green”> Importing libraries </font>"
      ]
    },
    {
      "cell_type": "code",
      "metadata": {
        "id": "GSBXXCRrXTPE"
      },
      "source": [
        "import pandas as pd\n",
        "import numpy as np\n",
        "import matplotlib.pyplot as plt\n",
        "import seaborn as sns\n",
        "import plotly.express as px\n",
        "\n",
        "import warnings\n",
        "from pandas.core.common import SettingWithCopyWarning\n",
        "warnings.simplefilter(action=\"ignore\", category=SettingWithCopyWarning)"
      ],
      "execution_count": 2,
      "outputs": []
    },
    {
      "cell_type": "markdown",
      "metadata": {
        "id": "4VCxQC8RYgps"
      },
      "source": [
        "## <font color=”green”> Loading dataset </font>"
      ]
    },
    {
      "cell_type": "code",
      "metadata": {
        "id": "zGPKdLkLYjgd"
      },
      "source": [
        "loans = pd.read_csv('/content/train_dataset.csv')\n",
        "# test = pd.read_csv('test_dataset.csv')"
      ],
      "execution_count": 4,
      "outputs": []
    },
    {
      "cell_type": "markdown",
      "metadata": {
        "id": "cWyirEeSZSfk"
      },
      "source": [
        "## <font color=”green”>Exploring our Dataset  </font>"
      ]
    },
    {
      "cell_type": "code",
      "metadata": {
        "colab": {
          "base_uri": "https://localhost:8080/",
          "height": 276
        },
        "id": "_s-W2SYKZUEC",
        "outputId": "6878fcd2-9b73-405d-b7a4-09ac42ec1830"
      },
      "source": [
        "loans.head()"
      ],
      "execution_count": 81,
      "outputs": [
        {
          "output_type": "execute_result",
          "data": {
            "text/html": [
              "<div>\n",
              "<style scoped>\n",
              "    .dataframe tbody tr th:only-of-type {\n",
              "        vertical-align: middle;\n",
              "    }\n",
              "\n",
              "    .dataframe tbody tr th {\n",
              "        vertical-align: top;\n",
              "    }\n",
              "\n",
              "    .dataframe thead th {\n",
              "        text-align: right;\n",
              "    }\n",
              "</style>\n",
              "<table border=\"1\" class=\"dataframe\">\n",
              "  <thead>\n",
              "    <tr style=\"text-align: right;\">\n",
              "      <th></th>\n",
              "      <th>Loan_ID</th>\n",
              "      <th>Loan_Amount_Requested</th>\n",
              "      <th>Length_Employed</th>\n",
              "      <th>Home_Owner</th>\n",
              "      <th>Annual_Income</th>\n",
              "      <th>Income_Verified</th>\n",
              "      <th>Purpose_Of_Loan</th>\n",
              "      <th>Debt_To_Income</th>\n",
              "      <th>Inquiries_Last_6Mo</th>\n",
              "      <th>Months_Since_Deliquency</th>\n",
              "      <th>Number_Open_Accounts</th>\n",
              "      <th>Total_Accounts</th>\n",
              "      <th>Gender</th>\n",
              "      <th>Interest_Rate</th>\n",
              "    </tr>\n",
              "  </thead>\n",
              "  <tbody>\n",
              "    <tr>\n",
              "      <th>0</th>\n",
              "      <td>10000001</td>\n",
              "      <td>7,000</td>\n",
              "      <td>&lt; 1 year</td>\n",
              "      <td>Rent</td>\n",
              "      <td>68000.0</td>\n",
              "      <td>not verified</td>\n",
              "      <td>car</td>\n",
              "      <td>18.37</td>\n",
              "      <td>0</td>\n",
              "      <td>NaN</td>\n",
              "      <td>9</td>\n",
              "      <td>14</td>\n",
              "      <td>Female</td>\n",
              "      <td>1</td>\n",
              "    </tr>\n",
              "    <tr>\n",
              "      <th>1</th>\n",
              "      <td>10000002</td>\n",
              "      <td>30,000</td>\n",
              "      <td>4 years</td>\n",
              "      <td>Mortgage</td>\n",
              "      <td>NaN</td>\n",
              "      <td>VERIFIED - income</td>\n",
              "      <td>debt_consolidation</td>\n",
              "      <td>14.93</td>\n",
              "      <td>0</td>\n",
              "      <td>17.0</td>\n",
              "      <td>12</td>\n",
              "      <td>24</td>\n",
              "      <td>Female</td>\n",
              "      <td>3</td>\n",
              "    </tr>\n",
              "    <tr>\n",
              "      <th>2</th>\n",
              "      <td>10000003</td>\n",
              "      <td>24,725</td>\n",
              "      <td>7 years</td>\n",
              "      <td>Mortgage</td>\n",
              "      <td>75566.4</td>\n",
              "      <td>VERIFIED - income source</td>\n",
              "      <td>debt_consolidation</td>\n",
              "      <td>15.88</td>\n",
              "      <td>0</td>\n",
              "      <td>NaN</td>\n",
              "      <td>12</td>\n",
              "      <td>16</td>\n",
              "      <td>Male</td>\n",
              "      <td>3</td>\n",
              "    </tr>\n",
              "    <tr>\n",
              "      <th>3</th>\n",
              "      <td>10000004</td>\n",
              "      <td>16,000</td>\n",
              "      <td>&lt; 1 year</td>\n",
              "      <td>NaN</td>\n",
              "      <td>56160.0</td>\n",
              "      <td>VERIFIED - income source</td>\n",
              "      <td>debt_consolidation</td>\n",
              "      <td>14.34</td>\n",
              "      <td>3</td>\n",
              "      <td>NaN</td>\n",
              "      <td>16</td>\n",
              "      <td>22</td>\n",
              "      <td>Male</td>\n",
              "      <td>3</td>\n",
              "    </tr>\n",
              "    <tr>\n",
              "      <th>4</th>\n",
              "      <td>10000005</td>\n",
              "      <td>17,000</td>\n",
              "      <td>8 years</td>\n",
              "      <td>Own</td>\n",
              "      <td>96000.0</td>\n",
              "      <td>VERIFIED - income source</td>\n",
              "      <td>debt_consolidation</td>\n",
              "      <td>22.17</td>\n",
              "      <td>1</td>\n",
              "      <td>NaN</td>\n",
              "      <td>19</td>\n",
              "      <td>30</td>\n",
              "      <td>Female</td>\n",
              "      <td>1</td>\n",
              "    </tr>\n",
              "  </tbody>\n",
              "</table>\n",
              "</div>"
            ],
            "text/plain": [
              "    Loan_ID Loan_Amount_Requested  ...  Gender Interest_Rate\n",
              "0  10000001                 7,000  ...  Female             1\n",
              "1  10000002                30,000  ...  Female             3\n",
              "2  10000003                24,725  ...    Male             3\n",
              "3  10000004                16,000  ...    Male             3\n",
              "4  10000005                17,000  ...  Female             1\n",
              "\n",
              "[5 rows x 14 columns]"
            ]
          },
          "metadata": {
            "tags": []
          },
          "execution_count": 81
        }
      ]
    },
    {
      "cell_type": "code",
      "metadata": {
        "colab": {
          "base_uri": "https://localhost:8080/",
          "height": 276
        },
        "id": "43Eq4iCh3ZM_",
        "outputId": "e749cbbd-11e9-42ae-bc18-8a4fec718405"
      },
      "source": [
        "loans.tail()"
      ],
      "execution_count": 82,
      "outputs": [
        {
          "output_type": "execute_result",
          "data": {
            "text/html": [
              "<div>\n",
              "<style scoped>\n",
              "    .dataframe tbody tr th:only-of-type {\n",
              "        vertical-align: middle;\n",
              "    }\n",
              "\n",
              "    .dataframe tbody tr th {\n",
              "        vertical-align: top;\n",
              "    }\n",
              "\n",
              "    .dataframe thead th {\n",
              "        text-align: right;\n",
              "    }\n",
              "</style>\n",
              "<table border=\"1\" class=\"dataframe\">\n",
              "  <thead>\n",
              "    <tr style=\"text-align: right;\">\n",
              "      <th></th>\n",
              "      <th>Loan_ID</th>\n",
              "      <th>Loan_Amount_Requested</th>\n",
              "      <th>Length_Employed</th>\n",
              "      <th>Home_Owner</th>\n",
              "      <th>Annual_Income</th>\n",
              "      <th>Income_Verified</th>\n",
              "      <th>Purpose_Of_Loan</th>\n",
              "      <th>Debt_To_Income</th>\n",
              "      <th>Inquiries_Last_6Mo</th>\n",
              "      <th>Months_Since_Deliquency</th>\n",
              "      <th>Number_Open_Accounts</th>\n",
              "      <th>Total_Accounts</th>\n",
              "      <th>Gender</th>\n",
              "      <th>Interest_Rate</th>\n",
              "    </tr>\n",
              "  </thead>\n",
              "  <tbody>\n",
              "    <tr>\n",
              "      <th>164304</th>\n",
              "      <td>10164305</td>\n",
              "      <td>20,725</td>\n",
              "      <td>10+ years</td>\n",
              "      <td>Rent</td>\n",
              "      <td>NaN</td>\n",
              "      <td>VERIFIED - income source</td>\n",
              "      <td>credit_card</td>\n",
              "      <td>13.56</td>\n",
              "      <td>0</td>\n",
              "      <td>NaN</td>\n",
              "      <td>13</td>\n",
              "      <td>16</td>\n",
              "      <td>Male</td>\n",
              "      <td>2</td>\n",
              "    </tr>\n",
              "    <tr>\n",
              "      <th>164305</th>\n",
              "      <td>10164306</td>\n",
              "      <td>6,000</td>\n",
              "      <td>8 years</td>\n",
              "      <td>Own</td>\n",
              "      <td>NaN</td>\n",
              "      <td>VERIFIED - income source</td>\n",
              "      <td>small_business</td>\n",
              "      <td>9.12</td>\n",
              "      <td>0</td>\n",
              "      <td>36.0</td>\n",
              "      <td>13</td>\n",
              "      <td>30</td>\n",
              "      <td>Male</td>\n",
              "      <td>2</td>\n",
              "    </tr>\n",
              "    <tr>\n",
              "      <th>164306</th>\n",
              "      <td>10164307</td>\n",
              "      <td>20,250</td>\n",
              "      <td>10+ years</td>\n",
              "      <td>Mortgage</td>\n",
              "      <td>NaN</td>\n",
              "      <td>VERIFIED - income</td>\n",
              "      <td>credit_card</td>\n",
              "      <td>18.17</td>\n",
              "      <td>1</td>\n",
              "      <td>NaN</td>\n",
              "      <td>17</td>\n",
              "      <td>30</td>\n",
              "      <td>Male</td>\n",
              "      <td>1</td>\n",
              "    </tr>\n",
              "    <tr>\n",
              "      <th>164307</th>\n",
              "      <td>10164308</td>\n",
              "      <td>10,000</td>\n",
              "      <td>4 years</td>\n",
              "      <td>Rent</td>\n",
              "      <td>NaN</td>\n",
              "      <td>not verified</td>\n",
              "      <td>major_purchase</td>\n",
              "      <td>18.75</td>\n",
              "      <td>1</td>\n",
              "      <td>48.0</td>\n",
              "      <td>16</td>\n",
              "      <td>62</td>\n",
              "      <td>Female</td>\n",
              "      <td>3</td>\n",
              "    </tr>\n",
              "    <tr>\n",
              "      <th>164308</th>\n",
              "      <td>10164309</td>\n",
              "      <td>9,250</td>\n",
              "      <td>10+ years</td>\n",
              "      <td>Rent</td>\n",
              "      <td>NaN</td>\n",
              "      <td>VERIFIED - income</td>\n",
              "      <td>credit_card</td>\n",
              "      <td>19.44</td>\n",
              "      <td>1</td>\n",
              "      <td>NaN</td>\n",
              "      <td>5</td>\n",
              "      <td>9</td>\n",
              "      <td>Female</td>\n",
              "      <td>2</td>\n",
              "    </tr>\n",
              "  </tbody>\n",
              "</table>\n",
              "</div>"
            ],
            "text/plain": [
              "         Loan_ID Loan_Amount_Requested  ...  Gender Interest_Rate\n",
              "164304  10164305                20,725  ...    Male             2\n",
              "164305  10164306                 6,000  ...    Male             2\n",
              "164306  10164307                20,250  ...    Male             1\n",
              "164307  10164308                10,000  ...  Female             3\n",
              "164308  10164309                 9,250  ...  Female             2\n",
              "\n",
              "[5 rows x 14 columns]"
            ]
          },
          "metadata": {
            "tags": []
          },
          "execution_count": 82
        }
      ]
    },
    {
      "cell_type": "code",
      "metadata": {
        "colab": {
          "base_uri": "https://localhost:8080/"
        },
        "id": "ihcfN7ZwZWnX",
        "outputId": "73073ad0-6b14-4a74-f367-ee80178468dc"
      },
      "source": [
        "loans.shape"
      ],
      "execution_count": 89,
      "outputs": [
        {
          "output_type": "execute_result",
          "data": {
            "text/plain": [
              "(164309, 14)"
            ]
          },
          "metadata": {
            "tags": []
          },
          "execution_count": 89
        }
      ]
    },
    {
      "cell_type": "code",
      "metadata": {
        "id": "a3TByIG664IG",
        "colab": {
          "base_uri": "https://localhost:8080/"
        },
        "outputId": "7ebfcbfc-402e-4ff1-d254-6688c37459e2"
      },
      "source": [
        "loans.duplicated().sum()"
      ],
      "execution_count": 90,
      "outputs": [
        {
          "output_type": "execute_result",
          "data": {
            "text/plain": [
              "0"
            ]
          },
          "metadata": {
            "tags": []
          },
          "execution_count": 90
        }
      ]
    },
    {
      "cell_type": "markdown",
      "metadata": {
        "id": "28c0UP6pisf3"
      },
      "source": [
        "> no duplicate values"
      ]
    },
    {
      "cell_type": "code",
      "metadata": {
        "colab": {
          "base_uri": "https://localhost:8080/"
        },
        "id": "_DrSw7FOZjQP",
        "outputId": "9ad3518f-10d1-4bec-b3af-7b105416c8ff"
      },
      "source": [
        "loans.isna().sum()"
      ],
      "execution_count": 91,
      "outputs": [
        {
          "output_type": "execute_result",
          "data": {
            "text/plain": [
              "Loan_ID                        0\n",
              "Loan_Amount_Requested          0\n",
              "Length_Employed             7371\n",
              "Home_Owner                 25349\n",
              "Annual_Income              25102\n",
              "Income_Verified                0\n",
              "Purpose_Of_Loan                0\n",
              "Debt_To_Income                 0\n",
              "Inquiries_Last_6Mo             0\n",
              "Months_Since_Deliquency    88379\n",
              "Number_Open_Accounts           0\n",
              "Total_Accounts                 0\n",
              "Gender                         0\n",
              "Interest_Rate                  0\n",
              "dtype: int64"
            ]
          },
          "metadata": {
            "tags": []
          },
          "execution_count": 91
        }
      ]
    },
    {
      "cell_type": "markdown",
      "metadata": {
        "id": "vBXONyIMZ8gV"
      },
      "source": [
        "> There is a lot of null values in the dataset but cannot be dropped.\n",
        "\n",
        "* Length employed <- Some borrowers may have not been previously employed, thats why there are null values\n",
        "* Home owner <- Others can be living with family and friends.\n",
        "* Annual Income <- Some borrowers may have not been previously employed or some may not have a ligitimate source of income or 😅 they are politicians ... etc\n",
        "* Months since deliquency <-  In a financial sense, delinquency occurs as soon as a borrower misses a payment on a loan. In contrast, default occurs when a borrower fails to repay the loan as specified in the original contract"
      ]
    },
    {
      "cell_type": "code",
      "metadata": {
        "colab": {
          "base_uri": "https://localhost:8080/"
        },
        "id": "YPMCNgBdD7ut",
        "outputId": "2179ec67-b4c3-4073-c40e-8980bea79771"
      },
      "source": [
        "loans.dtypes"
      ],
      "execution_count": 92,
      "outputs": [
        {
          "output_type": "execute_result",
          "data": {
            "text/plain": [
              "Loan_ID                      int64\n",
              "Loan_Amount_Requested       object\n",
              "Length_Employed             object\n",
              "Home_Owner                  object\n",
              "Annual_Income              float64\n",
              "Income_Verified             object\n",
              "Purpose_Of_Loan             object\n",
              "Debt_To_Income             float64\n",
              "Inquiries_Last_6Mo           int64\n",
              "Months_Since_Deliquency    float64\n",
              "Number_Open_Accounts         int64\n",
              "Total_Accounts               int64\n",
              "Gender                      object\n",
              "Interest_Rate                int64\n",
              "dtype: object"
            ]
          },
          "metadata": {
            "tags": []
          },
          "execution_count": 92
        }
      ]
    },
    {
      "cell_type": "markdown",
      "metadata": {
        "id": "IBOBHQKfkMn7"
      },
      "source": [
        "> our datatypes is comprised of both intergers and strings"
      ]
    },
    {
      "cell_type": "markdown",
      "metadata": {
        "id": "5leJWmYcJC8s"
      },
      "source": [
        "#### Checking for Outliers"
      ]
    },
    {
      "cell_type": "code",
      "metadata": {
        "colab": {
          "base_uri": "https://localhost:8080/",
          "height": 410
        },
        "id": "NRdeDOYfCmgB",
        "outputId": "ab57d784-63f1-4774-94f5-62f0ab7f4e02"
      },
      "source": [
        "sns.set(rc={'figure.figsize':(18,6)},style=\"white\")\r\n",
        "sns.boxplot(x=loans['Loan_Amount_Requested'])"
      ],
      "execution_count": 110,
      "outputs": [
        {
          "output_type": "execute_result",
          "data": {
            "text/plain": [
              "<matplotlib.axes._subplots.AxesSubplot at 0x7faa043f97b8>"
            ]
          },
          "metadata": {
            "tags": []
          },
          "execution_count": 110
        },
        {
          "output_type": "display_data",
          "data": {
            "image/png": "[encoded data removed]",
            "text/plain": [
              "<Figure size 1296x432 with 1 Axes>"
            ]
          },
          "metadata": {
            "tags": []
          }
        }
      ]
    },
    {
      "cell_type": "code",
      "metadata": {
        "colab": {
          "base_uri": "https://localhost:8080/",
          "height": 393
        },
        "id": "1_eDIHjqB_Tk",
        "outputId": "77d66e68-af26-4e96-8226-47da94f0ca9f"
      },
      "source": [
        "sns.set(rc={'figure.figsize':(18,6)},style=\"white\")\n",
        "sns.boxplot(x=loans['Annual_Income'])\n",
        "sns.despine()"
      ],
      "execution_count": 94,
      "outputs": [
        {
          "output_type": "display_data",
          "data": {
            "image/png": "[encoded data removed]",
            "text/plain": [
              "<Figure size 1296x432 with 1 Axes>"
            ]
          },
          "metadata": {
            "tags": []
          }
        }
      ]
    },
    {
      "cell_type": "code",
      "metadata": {
        "colab": {
          "base_uri": "https://localhost:8080/",
          "height": 410
        },
        "id": "QBSWIuMUCaDA",
        "outputId": "8dad9a1b-9bc4-486c-ae7a-c7d0e8b2a2a1"
      },
      "source": [
        "sns.set(rc={'figure.figsize':(18,6)},style=\"white\")\r\n",
        "sns.boxplot(x=loans['Months_Since_Deliquency'])"
      ],
      "execution_count": 95,
      "outputs": [
        {
          "output_type": "execute_result",
          "data": {
            "text/plain": [
              "<matplotlib.axes._subplots.AxesSubplot at 0x7fa9f9f97be0>"
            ]
          },
          "metadata": {
            "tags": []
          },
          "execution_count": 95
        },
        {
          "output_type": "display_data",
          "data": {
            "image/png": "[encoded data removed]",
            "text/plain": [
              "<Figure size 1296x432 with 1 Axes>"
            ]
          },
          "metadata": {
            "tags": []
          }
        }
      ]
    },
    {
      "cell_type": "code",
      "metadata": {
        "colab": {
          "base_uri": "https://localhost:8080/",
          "height": 410
        },
        "id": "dP8v_HitCnkj",
        "outputId": "4d3c446b-e7a1-4c6d-e7f0-ba57a9c7b28e"
      },
      "source": [
        "sns.set(rc={'figure.figsize':(18,6)},style=\"white\")\r\n",
        "sns.boxplot(x=loans['Number_Open_Accounts'])"
      ],
      "execution_count": 96,
      "outputs": [
        {
          "output_type": "execute_result",
          "data": {
            "text/plain": [
              "<matplotlib.axes._subplots.AxesSubplot at 0x7fa9fa08e3c8>"
            ]
          },
          "metadata": {
            "tags": []
          },
          "execution_count": 96
        },
        {
          "output_type": "display_data",
          "data": {
            "image/png": "[encoded data removed]",
            "text/plain": [
              "<Figure size 1296x432 with 1 Axes>"
            ]
          },
          "metadata": {
            "tags": []
          }
        }
      ]
    },
    {
      "cell_type": "code",
      "metadata": {
        "colab": {
          "base_uri": "https://localhost:8080/",
          "height": 410
        },
        "id": "D2J4nf97Cmwe",
        "outputId": "cd945dc5-6219-4990-dd68-2481b5302825"
      },
      "source": [
        "sns.set(rc={'figure.figsize':(18,6)},style=\"white\")\r\n",
        "sns.boxplot(x=loans['Total_Accounts'])"
      ],
      "execution_count": 97,
      "outputs": [
        {
          "output_type": "execute_result",
          "data": {
            "text/plain": [
              "<matplotlib.axes._subplots.AxesSubplot at 0x7fa9fac97748>"
            ]
          },
          "metadata": {
            "tags": []
          },
          "execution_count": 97
        },
        {
          "output_type": "display_data",
          "data": {
            "image/png": "[encoded data removed]",
            "text/plain": [
              "<Figure size 1296x432 with 1 Axes>"
            ]
          },
          "metadata": {
            "tags": []
          }
        }
      ]
    },
    {
      "cell_type": "markdown",
      "metadata": {
        "id": "6_SHXBLO7XKx"
      },
      "source": [
        "> In our interger columns we have outliers in all columns apart from loan amount requested"
      ]
    },
    {
      "cell_type": "markdown",
      "metadata": {
        "id": "eviLdi907xIQ"
      },
      "source": [
        "## <font color=”green”>Cleaning our Dataset  </font>"
      ]
    },
    {
      "cell_type": "markdown",
      "metadata": {
        "id": "rHX6MqGEkFI8"
      },
      "source": [
        "**Loan amount requested**"
      ]
    },
    {
      "cell_type": "code",
      "metadata": {
        "id": "YMRTWSqeGEZI"
      },
      "source": [
        "loans['Loan_Amount_Requested'] = loans['Loan_Amount_Requested'].str.replace(',', '')\n",
        "loans['Loan_Amount_Requested'] = loans['Loan_Amount_Requested'].astype('int')"
      ],
      "execution_count": 6,
      "outputs": []
    },
    {
      "cell_type": "markdown",
      "metadata": {
        "id": "Q24ZPmFKlN55"
      },
      "source": [
        "> Loan_Amount_Requested had commas and had to be replaced"
      ]
    },
    {
      "cell_type": "markdown",
      "metadata": {
        "id": "zD4FuNbiuggI"
      },
      "source": [
        "**Lenght employed**"
      ]
    },
    {
      "cell_type": "code",
      "metadata": {
        "id": "bROg0yIx61aL"
      },
      "source": [
        "le = loans['Length_Employed']"
      ],
      "execution_count": 7,
      "outputs": []
    },
    {
      "cell_type": "code",
      "metadata": {
        "colab": {
          "base_uri": "https://localhost:8080/"
        },
        "id": "gMPKF3TEOYlM",
        "outputId": "87485eee-4489-412c-b284-67e0ef4663a0"
      },
      "source": [
        "le.unique()"
      ],
      "execution_count": 8,
      "outputs": [
        {
          "output_type": "execute_result",
          "data": {
            "text/plain": [
              "array(['< 1 year', '4 years', '7 years', '8 years', '2 years',\n",
              "       '10+ years', '1 year', nan, '6 years', '9 years', '3 years',\n",
              "       '5 years'], dtype=object)"
            ]
          },
          "metadata": {
            "tags": []
          },
          "execution_count": 8
        }
      ]
    },
    {
      "cell_type": "code",
      "metadata": {
        "id": "JIsedNCwOnie"
      },
      "source": [
        "le[le=='< 1 year'] = '0 years'\n",
        "le.fillna('0 years', inplace=True)"
      ],
      "execution_count": 9,
      "outputs": []
    },
    {
      "cell_type": "markdown",
      "metadata": {
        "id": "IhnIZ2SoIegl"
      },
      "source": [
        "> We combined those who did not give their time employed and those who had 0 to 1 year of employment time"
      ]
    },
    {
      "cell_type": "code",
      "metadata": {
        "id": "4HY9YjC__aLi"
      },
      "source": [
        "lef = le.str.replace('years','').str.replace('year','').str.replace('<','').str.replace('+','').str.replace(' ','')"
      ],
      "execution_count": 10,
      "outputs": []
    },
    {
      "cell_type": "markdown",
      "metadata": {
        "id": "RtqP31yxnj1M"
      },
      "source": [
        "> We then removed the strings in the column leaving only the integers"
      ]
    },
    {
      "cell_type": "code",
      "metadata": {
        "id": "PJMTKQLzujjy"
      },
      "source": [
        "loans['Length_Employed']=lef.astype('int')"
      ],
      "execution_count": 11,
      "outputs": []
    },
    {
      "cell_type": "markdown",
      "metadata": {
        "id": "Jsoa652V57bM"
      },
      "source": [
        "**Home owner**"
      ]
    },
    {
      "cell_type": "code",
      "metadata": {
        "colab": {
          "base_uri": "https://localhost:8080/"
        },
        "id": "chB5Yy-o57bQ",
        "outputId": "5e43ea24-fb4c-493a-d103-2572bd1a5203"
      },
      "source": [
        "own = loans['Home_Owner']\n",
        "own.value_counts()"
      ],
      "execution_count": 12,
      "outputs": [
        {
          "output_type": "execute_result",
          "data": {
            "text/plain": [
              "Mortgage    70345\n",
              "Rent        56031\n",
              "Own         12525\n",
              "Other          49\n",
              "None           10\n",
              "Name: Home_Owner, dtype: int64"
            ]
          },
          "metadata": {
            "tags": []
          },
          "execution_count": 12
        }
      ]
    },
    {
      "cell_type": "code",
      "metadata": {
        "id": "X3aAhHOAqkGr"
      },
      "source": [
        "loans['Home_Owner']=own.fillna('Other')"
      ],
      "execution_count": 13,
      "outputs": []
    },
    {
      "cell_type": "markdown",
      "metadata": {
        "id": "V2C_6Ek357zA"
      },
      "source": [
        "**Annual_Income**"
      ]
    },
    {
      "cell_type": "code",
      "metadata": {
        "colab": {
          "base_uri": "https://localhost:8080/"
        },
        "id": "B-JwTLLclaoX",
        "outputId": "e115d2ed-27fa-4d2f-80ba-9ca4a7fffb27"
      },
      "source": [
        "loans['Annual_Income'].mean()"
      ],
      "execution_count": 14,
      "outputs": [
        {
          "output_type": "execute_result",
          "data": {
            "text/plain": [
              "73331.15943386468"
            ]
          },
          "metadata": {
            "tags": []
          },
          "execution_count": 14
        }
      ]
    },
    {
      "cell_type": "code",
      "metadata": {
        "id": "mD1Bg4XRa1xN"
      },
      "source": [
        "def fix(dfr):\n",
        "  na=dfr['Annual_Income'][dfr['Annual_Income'].isna()==True].index\n",
        "  # df=pd.concat([train,test])\n",
        "  for ind in na:\n",
        "    # ind=dfr['Age'].index\n",
        "    purpose     =dfr['Purpose_Of_Loan'].iloc[ind]\n",
        "    debt_income =dfr['Debt_To_Income'].iloc[ind]\n",
        "\n",
        "    mn=(dfr['Annual_Income'][(dfr['Purpose_Of_Loan']==purpose) & \n",
        "                             ((dfr['Debt_To_Income'] <= (debt_income+1))& \n",
        "                              (dfr['Debt_To_Income'] >= (debt_income-1)))\n",
        "                             ]).mean()\n",
        "    # print(mn)\n",
        "    dfr['Annual_Income'].iloc[ind]=mn\n",
        "fix(loans)"
      ],
      "execution_count": 15,
      "outputs": []
    },
    {
      "cell_type": "markdown",
      "metadata": {
        "id": "zpdBO7pFvoaW"
      },
      "source": [
        "> We imputed the null values with customers with the average income from customers with a similar purpose of loan and within -1,+1 of the customers debt to income."
      ]
    },
    {
      "cell_type": "markdown",
      "metadata": {
        "id": "l8PB7Y1guSPC"
      },
      "source": [
        "**Deliquency**"
      ]
    },
    {
      "cell_type": "code",
      "metadata": {
        "colab": {
          "base_uri": "https://localhost:8080/"
        },
        "id": "AJWoJXSbrm1A",
        "outputId": "f33e93ab-bbca-4338-9839-6fbafc1cf4ac"
      },
      "source": [
        "loans['Months_Since_Deliquency'].isna().sum()"
      ],
      "execution_count": 16,
      "outputs": [
        {
          "output_type": "execute_result",
          "data": {
            "text/plain": [
              "88379"
            ]
          },
          "metadata": {
            "tags": []
          },
          "execution_count": 16
        }
      ]
    },
    {
      "cell_type": "code",
      "metadata": {
        "id": "TRysKWcUzkDp"
      },
      "source": [
        "# Creating the classifications of the customers from \n",
        "def status(x):\n",
        "  if x<=3.0:\n",
        "    return 'Normal'\n",
        "  elif ((x>3.0) & (x<=12.0)):\n",
        "    return 'Medium risk'\n",
        "  elif x>12.0:\n",
        "    return 'High risk'\n",
        "  else:\n",
        "    return 'Low risk'"
      ],
      "execution_count": 17,
      "outputs": []
    },
    {
      "cell_type": "code",
      "metadata": {
        "id": "LK8Eh18hzblT"
      },
      "source": [
        "loans['deliquency_level']=loans.apply(lambda x: status(x['Months_Since_Deliquency']),axis=1)"
      ],
      "execution_count": 18,
      "outputs": []
    },
    {
      "cell_type": "code",
      "metadata": {
        "colab": {
          "base_uri": "https://localhost:8080/"
        },
        "id": "4mAWOMPJXX9f",
        "outputId": "739d5610-ebdc-4c03-9ba0-69f88730d910"
      },
      "source": [
        "loans.drop('Months_Since_Deliquency',axis=1,inplace=True)\n",
        "loans['deliquency_level'].value_counts()"
      ],
      "execution_count": 19,
      "outputs": [
        {
          "output_type": "execute_result",
          "data": {
            "text/plain": [
              "Low risk       88379\n",
              "High risk      61548\n",
              "Medium risk    12210\n",
              "Normal          2172\n",
              "Name: deliquency_level, dtype: int64"
            ]
          },
          "metadata": {
            "tags": []
          },
          "execution_count": 19
        }
      ]
    },
    {
      "cell_type": "code",
      "metadata": {
        "id": "jXi6fBWixLs-"
      },
      "source": [
        "loans.dropna(inplace=True)"
      ],
      "execution_count": 20,
      "outputs": []
    },
    {
      "cell_type": "code",
      "metadata": {
        "colab": {
          "base_uri": "https://localhost:8080/"
        },
        "id": "VYV43f0VufIU",
        "outputId": "d4548c2a-b347-448e-d4ac-5fdcc2e59ba1"
      },
      "source": [
        "loans.isna().sum()"
      ],
      "execution_count": 21,
      "outputs": [
        {
          "output_type": "execute_result",
          "data": {
            "text/plain": [
              "Loan_ID                  0\n",
              "Loan_Amount_Requested    0\n",
              "Length_Employed          0\n",
              "Home_Owner               0\n",
              "Annual_Income            0\n",
              "Income_Verified          0\n",
              "Purpose_Of_Loan          0\n",
              "Debt_To_Income           0\n",
              "Inquiries_Last_6Mo       0\n",
              "Number_Open_Accounts     0\n",
              "Total_Accounts           0\n",
              "Gender                   0\n",
              "Interest_Rate            0\n",
              "deliquency_level         0\n",
              "dtype: int64"
            ]
          },
          "metadata": {
            "tags": []
          },
          "execution_count": 21
        }
      ]
    },
    {
      "cell_type": "markdown",
      "metadata": {
        "id": "FP_kRlFZJjnk"
      },
      "source": [
        "#### <font color=”green”>Exploratory Analysis </font>"
      ]
    },
    {
      "cell_type": "markdown",
      "metadata": {
        "id": "bgd4d-KK5Ass"
      },
      "source": [
        "##### <font color=\"yellow\">Univariate Analysis  </font>"
      ]
    },
    {
      "cell_type": "code",
      "metadata": {
        "colab": {
          "base_uri": "https://localhost:8080/",
          "height": 276
        },
        "id": "GCtNXBZnuyBW",
        "outputId": "bdb204e7-7e8e-448f-c240-9aede295d2f9"
      },
      "source": [
        "loans.head()"
      ],
      "execution_count": 119,
      "outputs": [
        {
          "output_type": "execute_result",
          "data": {
            "text/html": [
              "<div>\n",
              "<style scoped>\n",
              "    .dataframe tbody tr th:only-of-type {\n",
              "        vertical-align: middle;\n",
              "    }\n",
              "\n",
              "    .dataframe tbody tr th {\n",
              "        vertical-align: top;\n",
              "    }\n",
              "\n",
              "    .dataframe thead th {\n",
              "        text-align: right;\n",
              "    }\n",
              "</style>\n",
              "<table border=\"1\" class=\"dataframe\">\n",
              "  <thead>\n",
              "    <tr style=\"text-align: right;\">\n",
              "      <th></th>\n",
              "      <th>Loan_ID</th>\n",
              "      <th>Loan_Amount_Requested</th>\n",
              "      <th>Length_Employed</th>\n",
              "      <th>Home_Owner</th>\n",
              "      <th>Annual_Income</th>\n",
              "      <th>Income_Verified</th>\n",
              "      <th>Purpose_Of_Loan</th>\n",
              "      <th>Debt_To_Income</th>\n",
              "      <th>Inquiries_Last_6Mo</th>\n",
              "      <th>Number_Open_Accounts</th>\n",
              "      <th>Total_Accounts</th>\n",
              "      <th>Gender</th>\n",
              "      <th>Interest_Rate</th>\n",
              "      <th>deliquency_level</th>\n",
              "    </tr>\n",
              "  </thead>\n",
              "  <tbody>\n",
              "    <tr>\n",
              "      <th>0</th>\n",
              "      <td>10000001</td>\n",
              "      <td>7000</td>\n",
              "      <td>0</td>\n",
              "      <td>Rent</td>\n",
              "      <td>68000.000000</td>\n",
              "      <td>not verified</td>\n",
              "      <td>car</td>\n",
              "      <td>18.37</td>\n",
              "      <td>0</td>\n",
              "      <td>9</td>\n",
              "      <td>14</td>\n",
              "      <td>Female</td>\n",
              "      <td>1</td>\n",
              "      <td>Low risk</td>\n",
              "    </tr>\n",
              "    <tr>\n",
              "      <th>1</th>\n",
              "      <td>10000002</td>\n",
              "      <td>30000</td>\n",
              "      <td>4</td>\n",
              "      <td>Mortgage</td>\n",
              "      <td>75909.659968</td>\n",
              "      <td>VERIFIED - income</td>\n",
              "      <td>debt_consolidation</td>\n",
              "      <td>14.93</td>\n",
              "      <td>0</td>\n",
              "      <td>12</td>\n",
              "      <td>24</td>\n",
              "      <td>Female</td>\n",
              "      <td>3</td>\n",
              "      <td>High risk</td>\n",
              "    </tr>\n",
              "    <tr>\n",
              "      <th>2</th>\n",
              "      <td>10000003</td>\n",
              "      <td>24725</td>\n",
              "      <td>7</td>\n",
              "      <td>Mortgage</td>\n",
              "      <td>75566.400000</td>\n",
              "      <td>VERIFIED - income source</td>\n",
              "      <td>debt_consolidation</td>\n",
              "      <td>15.88</td>\n",
              "      <td>0</td>\n",
              "      <td>12</td>\n",
              "      <td>16</td>\n",
              "      <td>Male</td>\n",
              "      <td>3</td>\n",
              "      <td>Low risk</td>\n",
              "    </tr>\n",
              "    <tr>\n",
              "      <th>3</th>\n",
              "      <td>10000004</td>\n",
              "      <td>16000</td>\n",
              "      <td>0</td>\n",
              "      <td>Other</td>\n",
              "      <td>56160.000000</td>\n",
              "      <td>VERIFIED - income source</td>\n",
              "      <td>debt_consolidation</td>\n",
              "      <td>14.34</td>\n",
              "      <td>3</td>\n",
              "      <td>16</td>\n",
              "      <td>22</td>\n",
              "      <td>Male</td>\n",
              "      <td>3</td>\n",
              "      <td>Low risk</td>\n",
              "    </tr>\n",
              "    <tr>\n",
              "      <th>4</th>\n",
              "      <td>10000005</td>\n",
              "      <td>17000</td>\n",
              "      <td>8</td>\n",
              "      <td>Own</td>\n",
              "      <td>96000.000000</td>\n",
              "      <td>VERIFIED - income source</td>\n",
              "      <td>debt_consolidation</td>\n",
              "      <td>22.17</td>\n",
              "      <td>1</td>\n",
              "      <td>19</td>\n",
              "      <td>30</td>\n",
              "      <td>Female</td>\n",
              "      <td>1</td>\n",
              "      <td>Low risk</td>\n",
              "    </tr>\n",
              "  </tbody>\n",
              "</table>\n",
              "</div>"
            ],
            "text/plain": [
              "    Loan_ID  Loan_Amount_Requested  ...  Interest_Rate deliquency_level\n",
              "0  10000001                   7000  ...              1         Low risk\n",
              "1  10000002                  30000  ...              3        High risk\n",
              "2  10000003                  24725  ...              3         Low risk\n",
              "3  10000004                  16000  ...              3         Low risk\n",
              "4  10000005                  17000  ...              1         Low risk\n",
              "\n",
              "[5 rows x 14 columns]"
            ]
          },
          "metadata": {
            "tags": []
          },
          "execution_count": 119
        }
      ]
    },
    {
      "cell_type": "code",
      "metadata": {
        "colab": {
          "base_uri": "https://localhost:8080/"
        },
        "id": "0dN90HJU5gqb",
        "outputId": "d3205f67-b176-4223-eac1-075939b29cdb"
      },
      "source": [
        "# Frequency distribution table for purpose of loan attribute\r\n",
        "loans['Purpose_Of_Loan'].value_counts()"
      ],
      "execution_count": 22,
      "outputs": [
        {
          "output_type": "execute_result",
          "data": {
            "text/plain": [
              "debt_consolidation    97101\n",
              "credit_card           36684\n",
              "home_improvement       9269\n",
              "other                  8346\n",
              "major_purchase         3435\n",
              "small_business         2392\n",
              "car                    1885\n",
              "medical                1541\n",
              "moving                  974\n",
              "vacation                835\n",
              "wedding                 828\n",
              "house                   773\n",
              "renewable_energy        122\n",
              "educational             121\n",
              "Name: Purpose_Of_Loan, dtype: int64"
            ]
          },
          "metadata": {
            "tags": []
          },
          "execution_count": 22
        }
      ]
    },
    {
      "cell_type": "markdown",
      "metadata": {
        "id": "SZTKIqlP5rlX"
      },
      "source": [
        "> From the value counts the loans were purposely for debt consolidation."
      ]
    },
    {
      "cell_type": "code",
      "metadata": {
        "colab": {
          "base_uri": "https://localhost:8080/",
          "height": 393
        },
        "id": "mANDo9vLmyAc",
        "outputId": "c6f27981-cb28-4877-dcf4-34551ef6e106"
      },
      "source": [
        "sns.set(rc={'figure.figsize':(18,6)},style=\"white\")\n",
        "sns.countplot(x='Length_Employed',data=loans,palette='mako')\n",
        "sns.despine()"
      ],
      "execution_count": 23,
      "outputs": [
        {
          "output_type": "display_data",
          "data": {
            "image/png": "[encoded data removed]",
            "text/plain": [
              "<Figure size 1296x432 with 1 Axes>"
            ]
          },
          "metadata": {
            "tags": []
          }
        }
      ]
    },
    {
      "cell_type": "markdown",
      "metadata": {
        "id": "uysUljjyVEbe"
      },
      "source": [
        "* 10+ years were the highest to request for a loan"
      ]
    },
    {
      "cell_type": "code",
      "metadata": {
        "colab": {
          "base_uri": "https://localhost:8080/",
          "height": 393
        },
        "id": "R3hGqG5gqHLw",
        "outputId": "99416719-54d0-429b-895a-5e6c780f2032"
      },
      "source": [
        "# Plotting bar chart to show home ownership\n",
        "sns.set(rc={'figure.figsize':(18,6)},style=\"white\")\n",
        "sns.countplot(x='Home_Owner',data=loans,palette='mako')\n",
        "sns.despine()"
      ],
      "execution_count": 122,
      "outputs": [
        {
          "output_type": "display_data",
          "data": {
            "image/png": "[encoded data removed]",
            "text/plain": [
              "<Figure size 1296x432 with 1 Axes>"
            ]
          },
          "metadata": {
            "tags": []
          }
        }
      ]
    },
    {
      "cell_type": "markdown",
      "metadata": {
        "id": "owYiBc3WWmML"
      },
      "source": [
        "* The Mortgage home owners are the highest and owned home_owners lowest"
      ]
    },
    {
      "cell_type": "code",
      "metadata": {
        "colab": {
          "base_uri": "https://localhost:8080/",
          "height": 393
        },
        "id": "zqvWbU0lqYRx",
        "outputId": "24c16b48-5d46-4a3e-aba4-be38c8847261"
      },
      "source": [
        "# Plotting bar chart to show income verified \n",
        "sns.set(rc={'figure.figsize':(18,6)},style=\"white\")\n",
        "sns.countplot(x='Income_Verified',data=loans,palette='mako')\n",
        "sns.despine()"
      ],
      "execution_count": 123,
      "outputs": [
        {
          "output_type": "display_data",
          "data": {
            "image/png": "[encoded data removed]",
            "text/plain": [
              "<Figure size 1296x432 with 1 Axes>"
            ]
          },
          "metadata": {
            "tags": []
          }
        }
      ]
    },
    {
      "cell_type": "markdown",
      "metadata": {
        "id": "MF41D7oLW341"
      },
      "source": [
        " On verified income individuals the ones who have Verified income have the highest count and not verified lowest count."
      ]
    },
    {
      "cell_type": "code",
      "metadata": {
        "colab": {
          "base_uri": "https://localhost:8080/",
          "height": 393
        },
        "id": "0tRS14u9qgH4",
        "outputId": "143592a6-ab1c-4d7e-f51a-3993f3879e43"
      },
      "source": [
        "# Plotting bar chart to show purpose of loan \n",
        "sns.set(rc={'figure.figsize':(18,6)},style=\"white\")\n",
        "sns.countplot(x='Purpose_Of_Loan',data=loans,palette='mako')\n",
        "sns.despine()"
      ],
      "execution_count": 124,
      "outputs": [
        {
          "output_type": "display_data",
          "data": {
            "image/png": "[encoded data removed]",
            "text/plain": [
              "<Figure size 1296x432 with 1 Axes>"
            ]
          },
          "metadata": {
            "tags": []
          }
        }
      ]
    },
    {
      "cell_type": "markdown",
      "metadata": {
        "id": "XAGcjy4IXsrf"
      },
      "source": [
        "Debt_consolidatiion had the highest count refering that loans taken were purposely for debt consolidation."
      ]
    },
    {
      "cell_type": "code",
      "metadata": {
        "colab": {
          "base_uri": "https://localhost:8080/",
          "height": 393
        },
        "id": "lpcFDWG5qjBH",
        "outputId": "d9c9e63c-2229-44c1-d6fe-0e397f4f07bb"
      },
      "source": [
        "# Plotting bar chart to show inquiries in last 6 months. \n",
        "sns.set(rc={'figure.figsize':(18,6)},style=\"white\")\n",
        "sns.countplot(x='Inquiries_Last_6Mo',data=loans,palette='mako')\n",
        "sns.despine()"
      ],
      "execution_count": 125,
      "outputs": [
        {
          "output_type": "display_data",
          "data": {
            "image/png": "[encoded data removed]",
            "text/plain": [
              "<Figure size 1296x432 with 1 Axes>"
            ]
          },
          "metadata": {
            "tags": []
          }
        }
      ]
    },
    {
      "cell_type": "markdown",
      "metadata": {
        "id": "oVHnzLuqX6To"
      },
      "source": [
        "Most of the enquiries are done during the initial months, decreasing towards the sixth month."
      ]
    },
    {
      "cell_type": "code",
      "metadata": {
        "colab": {
          "base_uri": "https://localhost:8080/",
          "height": 393
        },
        "id": "dYWDIBVfqmsn",
        "outputId": "456435a7-91b3-4a7c-97bc-e739d740bbfa"
      },
      "source": [
        "sns.histplot(x='deliquency_level',data=loans,palette='mako')\n",
        "sns.despine()"
      ],
      "execution_count": 126,
      "outputs": [
        {
          "output_type": "display_data",
          "data": {
            "image/png": "[encoded data removed]",
            "text/plain": [
              "<Figure size 1296x432 with 1 Axes>"
            ]
          },
          "metadata": {
            "tags": []
          }
        }
      ]
    },
    {
      "cell_type": "markdown",
      "metadata": {
        "id": "7aVpTX9C6rxs"
      },
      "source": [
        "> **description deliquency**<- In a financial sense, delinquency occurs as soon as a borrower misses a payment on a loan. In contrast, default occurs when a borrower fails to repay the loan as specified in the original contractMost are low risk clients are highest and normal client who do not default are lowest"
      ]
    },
    {
      "cell_type": "code",
      "metadata": {
        "colab": {
          "base_uri": "https://localhost:8080/",
          "height": 393
        },
        "id": "hqrA1ax9qpja",
        "outputId": "74f77b19-6a75-45fe-a593-6f48277d5a75"
      },
      "source": [
        "sns.histplot(x='Number_Open_Accounts',data=loans,palette='mako')\n",
        "sns.despine()"
      ],
      "execution_count": 127,
      "outputs": [
        {
          "output_type": "display_data",
          "data": {
            "image/png": "[encoded data removed]",
            "text/plain": [
              "<Figure size 1296x432 with 1 Axes>"
            ]
          },
          "metadata": {
            "tags": []
          }
        }
      ]
    },
    {
      "cell_type": "markdown",
      "metadata": {
        "id": "oTaUVjHj7_tf"
      },
      "source": [
        "> Most clients have more than one accounts opened as we can see above its right-skewed.With most having more than 10."
      ]
    },
    {
      "cell_type": "code",
      "metadata": {
        "colab": {
          "base_uri": "https://localhost:8080/",
          "height": 377
        },
        "id": "1pvJj7eUqN2i",
        "outputId": "32588758-196e-4339-8c9d-a754ca4e576f"
      },
      "source": [
        "#Gender Distribution\n",
        "Gender = loans['Gender'].value_counts()\n",
        "labels = loans.Gender.unique()\n",
        "explode = (0.1, 0) \n",
        "plt.pie(Gender, labels = labels, explode = explode,autopct = '%1.1f%%', shadow = True, startangle = 140)\n",
        "plt.axis('equal')\n",
        "plt.title('Pie Chart of Gender')\n",
        "plt.show()"
      ],
      "execution_count": 128,
      "outputs": [
        {
          "output_type": "display_data",
          "data": {
            "image/png": "[encoded data removed]",
            "text/plain": [
              "<Figure size 1296x432 with 1 Axes>"
            ]
          },
          "metadata": {
            "tags": []
          }
        }
      ]
    },
    {
      "cell_type": "markdown",
      "metadata": {
        "id": "ky2dU1gpYYSi"
      },
      "source": [
        "> Males have the highest percentage in loan applications with a 71 percent higher than females with percentage of 29 percent."
      ]
    },
    {
      "cell_type": "code",
      "metadata": {
        "id": "gLZ_l02FZ5He",
        "colab": {
          "base_uri": "https://localhost:8080/",
          "height": 410
        },
        "outputId": "1fb4d547-e248-4a28-b2dd-baa665682303"
      },
      "source": [
        "# Plotting histogram for Total Accounts \n",
        "sns.histplot(loans['Total_Accounts'])"
      ],
      "execution_count": 129,
      "outputs": [
        {
          "output_type": "execute_result",
          "data": {
            "text/plain": [
              "<matplotlib.axes._subplots.AxesSubplot at 0x7fa9fa4ba390>"
            ]
          },
          "metadata": {
            "tags": []
          },
          "execution_count": 129
        },
        {
          "output_type": "display_data",
          "data": {
            "image/png": "[encoded data removed]",
            "text/plain": [
              "<Figure size 1296x432 with 1 Axes>"
            ]
          },
          "metadata": {
            "tags": []
          }
        }
      ]
    },
    {
      "cell_type": "code",
      "metadata": {
        "id": "hwz745zy_OH9",
        "colab": {
          "base_uri": "https://localhost:8080/",
          "height": 393
        },
        "outputId": "8f0d6426-08a4-43ca-c3c0-153c074e536c"
      },
      "source": [
        "# Plotting bar chart to show Loan amount requested\n",
        "sns.histplot(x='Loan_Amount_Requested',data=loans,palette='mako',bins=30)\n",
        "sns.despine()"
      ],
      "execution_count": 131,
      "outputs": [
        {
          "output_type": "display_data",
          "data": {
            "image/png": "[encoded data removed]",
            "text/plain": [
              "<Figure size 1296x432 with 1 Axes>"
            ]
          },
          "metadata": {
            "tags": []
          }
        }
      ]
    },
    {
      "cell_type": "markdown",
      "metadata": {
        "id": "adSrumgYYtvp"
      },
      "source": [
        "The most loan Amount value requested is 10000"
      ]
    },
    {
      "cell_type": "markdown",
      "metadata": {
        "id": "Gujz_N8FY2s8"
      },
      "source": [
        "##### <font color=\"yellow\">Measures of central Tendecy  </font>"
      ]
    },
    {
      "cell_type": "code",
      "metadata": {
        "id": "zkFLtWo5ZFH9",
        "colab": {
          "base_uri": "https://localhost:8080/"
        },
        "outputId": "ba2bdca6-e38a-49f4-d15a-8612548a7297"
      },
      "source": [
        "# mean, mode and median Annual income\n",
        "\n",
        "print('Mean Annual income is ' + str(loans.Annual_Income.mean()))\n",
        "print('Median Annual income is ' + str(loans.Annual_Income.median()))\n",
        "print('Mode Annual income is ' + str(loans.Annual_Income.mode()))"
      ],
      "execution_count": 132,
      "outputs": [
        {
          "output_type": "stream",
          "text": [
            "Mean Annual income is 73323.47145556637\n",
            "Median Annual income is 65243.82725987755\n",
            "Mode Annual income is 0    60000.0\n",
            "dtype: float64\n"
          ],
          "name": "stdout"
        }
      ]
    },
    {
      "cell_type": "code",
      "metadata": {
        "id": "3EmMVXuhZTyW",
        "colab": {
          "base_uri": "https://localhost:8080/"
        },
        "outputId": "8d192be6-11e2-4f7e-f194-f819076de6cc"
      },
      "source": [
        "# mean, mode and median Total accounts\n",
        "\n",
        "print('Mean  Total accounts is ' + str(loans.Total_Accounts.mean()))\n",
        "print('Median Total accounts is ' + str(loans.Total_Accounts.median()))\n",
        "print('Mode  Total accounts is ' + str(loans.Total_Accounts.mode()))"
      ],
      "execution_count": 133,
      "outputs": [
        {
          "output_type": "stream",
          "text": [
            "Mean  Total accounts is 25.067648168660913\n",
            "Median Total accounts is 23.0\n",
            "Mode  Total accounts is 0    21\n",
            "dtype: int64\n"
          ],
          "name": "stdout"
        }
      ]
    },
    {
      "cell_type": "code",
      "metadata": {
        "id": "xYaJ1dslZZIx",
        "colab": {
          "base_uri": "https://localhost:8080/",
          "height": 277
        },
        "outputId": "2b345618-439a-4b72-f03e-be2b1751342a"
      },
      "source": [
        "#checking for measures of central tendency of relevant columns\n",
        "loans = loans[['Loan_Amount_Requested','Annual_Income','Inquiries_Last_6Mo','Number_Open_Accounts', 'Total_Accounts']]\n",
        "loans.describe()"
      ],
      "execution_count": 134,
      "outputs": [
        {
          "output_type": "execute_result",
          "data": {
            "text/html": [
              "<div>\n",
              "<style scoped>\n",
              "    .dataframe tbody tr th:only-of-type {\n",
              "        vertical-align: middle;\n",
              "    }\n",
              "\n",
              "    .dataframe tbody tr th {\n",
              "        vertical-align: top;\n",
              "    }\n",
              "\n",
              "    .dataframe thead th {\n",
              "        text-align: right;\n",
              "    }\n",
              "</style>\n",
              "<table border=\"1\" class=\"dataframe\">\n",
              "  <thead>\n",
              "    <tr style=\"text-align: right;\">\n",
              "      <th></th>\n",
              "      <th>Loan_Amount_Requested</th>\n",
              "      <th>Annual_Income</th>\n",
              "      <th>Inquiries_Last_6Mo</th>\n",
              "      <th>Number_Open_Accounts</th>\n",
              "      <th>Total_Accounts</th>\n",
              "    </tr>\n",
              "  </thead>\n",
              "  <tbody>\n",
              "    <tr>\n",
              "      <th>count</th>\n",
              "      <td>164306.000000</td>\n",
              "      <td>1.643060e+05</td>\n",
              "      <td>164306.000000</td>\n",
              "      <td>164306.000000</td>\n",
              "      <td>164306.000000</td>\n",
              "    </tr>\n",
              "    <tr>\n",
              "      <th>mean</th>\n",
              "      <td>14349.478412</td>\n",
              "      <td>7.332347e+04</td>\n",
              "      <td>0.781712</td>\n",
              "      <td>11.193827</td>\n",
              "      <td>25.067648</td>\n",
              "    </tr>\n",
              "    <tr>\n",
              "      <th>std</th>\n",
              "      <td>8281.866087</td>\n",
              "      <td>5.577796e+04</td>\n",
              "      <td>1.034751</td>\n",
              "      <td>4.991837</td>\n",
              "      <td>11.583161</td>\n",
              "    </tr>\n",
              "    <tr>\n",
              "      <th>min</th>\n",
              "      <td>500.000000</td>\n",
              "      <td>4.000000e+03</td>\n",
              "      <td>0.000000</td>\n",
              "      <td>0.000000</td>\n",
              "      <td>2.000000</td>\n",
              "    </tr>\n",
              "    <tr>\n",
              "      <th>25%</th>\n",
              "      <td>8000.000000</td>\n",
              "      <td>4.850000e+04</td>\n",
              "      <td>0.000000</td>\n",
              "      <td>8.000000</td>\n",
              "      <td>17.000000</td>\n",
              "    </tr>\n",
              "    <tr>\n",
              "      <th>50%</th>\n",
              "      <td>12075.000000</td>\n",
              "      <td>6.524383e+04</td>\n",
              "      <td>0.000000</td>\n",
              "      <td>10.000000</td>\n",
              "      <td>23.000000</td>\n",
              "    </tr>\n",
              "    <tr>\n",
              "      <th>75%</th>\n",
              "      <td>20000.000000</td>\n",
              "      <td>8.500000e+04</td>\n",
              "      <td>1.000000</td>\n",
              "      <td>14.000000</td>\n",
              "      <td>32.000000</td>\n",
              "    </tr>\n",
              "    <tr>\n",
              "      <th>max</th>\n",
              "      <td>35000.000000</td>\n",
              "      <td>7.500000e+06</td>\n",
              "      <td>8.000000</td>\n",
              "      <td>76.000000</td>\n",
              "      <td>156.000000</td>\n",
              "    </tr>\n",
              "  </tbody>\n",
              "</table>\n",
              "</div>"
            ],
            "text/plain": [
              "       Loan_Amount_Requested  ...  Total_Accounts\n",
              "count          164306.000000  ...   164306.000000\n",
              "mean            14349.478412  ...       25.067648\n",
              "std              8281.866087  ...       11.583161\n",
              "min               500.000000  ...        2.000000\n",
              "25%              8000.000000  ...       17.000000\n",
              "50%             12075.000000  ...       23.000000\n",
              "75%             20000.000000  ...       32.000000\n",
              "max             35000.000000  ...      156.000000\n",
              "\n",
              "[8 rows x 5 columns]"
            ]
          },
          "metadata": {
            "tags": []
          },
          "execution_count": 134
        }
      ]
    },
    {
      "cell_type": "markdown",
      "metadata": {
        "id": "VsMYOE4Q9Jtv"
      },
      "source": [
        "### <font color=”green”>Bivariate Analysis</font>>\r\n",
        "<font color=\"yellow\">Comparison Graphs </font>"
      ]
    },
    {
      "cell_type": "code",
      "metadata": {
        "id": "3Bz9sp6tlozo",
        "colab": {
          "base_uri": "https://localhost:8080/",
          "height": 393
        },
        "outputId": "2c55be48-b61f-4abf-87b4-b7d4d12a3edb"
      },
      "source": [
        "sns.countplot(x='Income_Verified',data=loans,hue='Interest_Rate',palette='mako')\n",
        "sns.despine()"
      ],
      "execution_count": 24,
      "outputs": [
        {
          "output_type": "display_data",
          "data": {
            "image/png": "[encoded data removed]",
            "text/plain": [
              "<Figure size 1296x432 with 1 Axes>"
            ]
          },
          "metadata": {
            "tags": []
          }
        }
      ]
    },
    {
      "cell_type": "markdown",
      "metadata": {
        "id": "jIJcGxtW9wP1"
      },
      "source": [
        "> * Clients without vefified sources of income dont have a very high interest rate \r\n",
        "> * Clients with verified sources of high have high interest rates \r\n",
        "> * clients with verified income source dont have a high interest rates"
      ]
    },
    {
      "cell_type": "code",
      "metadata": {
        "id": "KSYPkCqqpuMW",
        "colab": {
          "base_uri": "https://localhost:8080/",
          "height": 393
        },
        "outputId": "603bab68-e889-4e9d-b67b-14097b0155d2"
      },
      "source": [
        "sns.countplot(x='Gender',data=loans,hue='Interest_Rate',palette='mako')\n",
        "sns.despine()"
      ],
      "execution_count": 25,
      "outputs": [
        {
          "output_type": "display_data",
          "data": {
            "image/png": "[encoded data removed]",
            "text/plain": [
              "<Figure size 1296x432 with 1 Axes>"
            ]
          },
          "metadata": {
            "tags": []
          }
        }
      ]
    },
    {
      "cell_type": "markdown",
      "metadata": {
        "id": "aXIoDNFnFLCi"
      },
      "source": [
        "> * For all interes high,low,and medium male clients have the highest interest rates"
      ]
    },
    {
      "cell_type": "markdown",
      "metadata": {
        "id": "Gi4nZ385Fueg"
      },
      "source": [
        "> * "
      ]
    },
    {
      "cell_type": "code",
      "metadata": {
        "id": "R3TXFy3kHgUo"
      },
      "source": [
        "waaaa"
      ],
      "execution_count": null,
      "outputs": []
    },
    {
      "cell_type": "markdown",
      "metadata": {
        "id": "L4TO2AKGGRd2"
      },
      "source": [
        "### <font color=”green”>Multivariate Analysis</font>"
      ]
    },
    {
      "cell_type": "markdown",
      "metadata": {
        "id": "xDmfJVbaGc7W"
      },
      "source": [
        "#### <font color=\"yellow\">3-D comparison plots </font>"
      ]
    },
    {
      "cell_type": "code",
      "metadata": {
        "id": "vRrbdPLtGzfy"
      },
      "source": [
        ""
      ],
      "execution_count": null,
      "outputs": []
    },
    {
      "cell_type": "markdown",
      "metadata": {
        "id": "GPzrEgdFzcTK"
      },
      "source": [
        "## Feature engineering"
      ]
    },
    {
      "cell_type": "markdown",
      "metadata": {
        "id": "KyKoGrq61VU-"
      },
      "source": [
        "> Label enoding will bring a bad bias:\n"
      ]
    },
    {
      "cell_type": "code",
      "metadata": {
        "id": "GGUbUeqLzhgB"
      },
      "source": [
        "from sklearn.preprocessing import LabelEncoder\n",
        "le = LabelEncoder()"
      ],
      "execution_count": null,
      "outputs": []
    },
    {
      "cell_type": "code",
      "metadata": {
        "id": "8uQu03J-4ID6"
      },
      "source": [
        "def labels_(name):\n",
        "  x = loans[name]\n",
        "  xx = le.fit_transform(x)\n",
        "  y = pd.DataFrame({'org':x,'new':xx})\n",
        "  print(y.value_counts())\n",
        "  \n",
        "labels_('Income_Verified')"
      ],
      "execution_count": null,
      "outputs": []
    },
    {
      "cell_type": "markdown",
      "metadata": {
        "id": "PbVIJqFe4an_"
      },
      "source": [
        "> Label encoding would imply those not verified have the highest importance while those that have their income is verified.\n",
        "\n",
        "> Leaving the "
      ]
    },
    {
      "cell_type": "code",
      "metadata": {
        "id": "D7oDVYGr6-l9"
      },
      "source": [
        ""
      ],
      "execution_count": null,
      "outputs": []
    },
    {
      "cell_type": "code",
      "metadata": {
        "id": "odSHXHVrqiS0"
      },
      "source": [
        "# Ploting the bivariate summaries and recording observations\r\n",
        "#\r\n",
        "sns.pairplot(loans)\r\n",
        "plt.show()"
      ],
      "execution_count": null,
      "outputs": []
    },
    {
      "cell_type": "code",
      "metadata": {
        "id": "YwJXP8DwtB-V"
      },
      "source": [
        "# Plotting the Pearson correlation coefficient among variables\r\n",
        "plt.figure(figsize=(20, 20))\r\n",
        "sns.heatmap(loans.corr(),annot=True)\r\n",
        "plt.show()"
      ],
      "execution_count": null,
      "outputs": []
    },
    {
      "cell_type": "code",
      "metadata": {
        "id": "5nnRToniXGDK"
      },
      "source": [
        "\n",
        "# scatter plot to check correlation of Gender and Interest Rate\n",
        "#\n",
        "plt.figure(figsize = (14,6))\n",
        "sns.regplot(loans['Gender'],loans['Interest_Rate'])\n",
        "plt.ylabel('Gender')\n",
        "plt.xlabel('Interest_Rate')\n",
        "plt.title('Correlation between Interest Rate and Gender')\n",
        "plt.show()"
      ],
      "execution_count": null,
      "outputs": []
    },
    {
      "cell_type": "markdown",
      "metadata": {
        "id": "gcmLsL45sOyP"
      },
      "source": [
        "# Xtra"
      ]
    },
    {
      "cell_type": "code",
      "metadata": {
        "id": "At-e-Z8zsQRh"
      },
      "source": [
        "loans"
      ],
      "execution_count": null,
      "outputs": []
    }
  ]
}