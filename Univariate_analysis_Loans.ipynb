{
  "nbformat": 4,
  "nbformat_minor": 0,
  "metadata": {
    "colab": {
      "name": "Univariate analysis Loans.ipynb",
      "provenance": [],
      "collapsed_sections": [],
      "include_colab_link": true
    },
    "kernelspec": {
      "name": "python3",
      "display_name": "Python 3"
    }
  },
  "cells": [
    {
      "cell_type": "markdown",
      "metadata": {
        "id": "view-in-github",
        "colab_type": "text"
      },
      "source": [
        "<a href=\"https://colab.research.google.com/github/Josephnyingi/team2_dcs6_loan_prediction/blob/main/Univariate_analysis_Loans.ipynb\" target=\"_parent\"><img src=\"https://colab.research.google.com/assets/colab-badge.svg\" alt=\"Open In Colab\"/></a>"
      ]
    },
    {
      "cell_type": "code",
      "metadata": {
        "id": "GSBXXCRrXTPE"
      },
      "source": [
        "import pandas as pd\n",
        "import numpy as np\n",
        "import matplotlib.pyplot as plt\n",
        "import seaborn as sns\n",
        "import os"
      ],
      "execution_count": null,
      "outputs": []
    },
    {
      "cell_type": "markdown",
      "metadata": {
        "id": "4VCxQC8RYgps"
      },
      "source": [
        "> Load dataset"
      ]
    },
    {
      "cell_type": "code",
      "metadata": {
        "id": "zGPKdLkLYjgd"
      },
      "source": [
        "loans = pd.read_csv('/content/train_dataset - train_dataset.csv')\n",
        "#test = pd.read_csv('/content/test_dataset - test_dataset.csv')"
      ],
      "execution_count": null,
      "outputs": []
    },
    {
      "cell_type": "markdown",
      "metadata": {
        "id": "cWyirEeSZSfk"
      },
      "source": [
        "> Check size"
      ]
    },
    {
      "cell_type": "code",
      "metadata": {
        "colab": {
          "base_uri": "https://localhost:8080/",
          "height": 275
        },
        "id": "_s-W2SYKZUEC",
        "outputId": "425cc315-3b5e-40dc-cde8-9c01c0d3bed8"
      },
      "source": [
        "loans.head()"
      ],
      "execution_count": null,
      "outputs": [
        {
          "output_type": "execute_result",
          "data": {
            "text/html": [
              "<div>\n",
              "<style scoped>\n",
              "    .dataframe tbody tr th:only-of-type {\n",
              "        vertical-align: middle;\n",
              "    }\n",
              "\n",
              "    .dataframe tbody tr th {\n",
              "        vertical-align: top;\n",
              "    }\n",
              "\n",
              "    .dataframe thead th {\n",
              "        text-align: right;\n",
              "    }\n",
              "</style>\n",
              "<table border=\"1\" class=\"dataframe\">\n",
              "  <thead>\n",
              "    <tr style=\"text-align: right;\">\n",
              "      <th></th>\n",
              "      <th>Loan_ID</th>\n",
              "      <th>Loan_Amount_Requested</th>\n",
              "      <th>Length_Employed</th>\n",
              "      <th>Home_Owner</th>\n",
              "      <th>Annual_Income</th>\n",
              "      <th>Income_Verified</th>\n",
              "      <th>Purpose_Of_Loan</th>\n",
              "      <th>Debt_To_Income</th>\n",
              "      <th>Inquiries_Last_6Mo</th>\n",
              "      <th>Months_Since_Deliquency</th>\n",
              "      <th>Number_Open_Accounts</th>\n",
              "      <th>Total_Accounts</th>\n",
              "      <th>Gender</th>\n",
              "      <th>Interest_Rate</th>\n",
              "    </tr>\n",
              "  </thead>\n",
              "  <tbody>\n",
              "    <tr>\n",
              "      <th>0</th>\n",
              "      <td>10000001</td>\n",
              "      <td>7,000</td>\n",
              "      <td>&lt; 1 year</td>\n",
              "      <td>Rent</td>\n",
              "      <td>68000.0</td>\n",
              "      <td>not verified</td>\n",
              "      <td>car</td>\n",
              "      <td>18.37</td>\n",
              "      <td>0</td>\n",
              "      <td>NaN</td>\n",
              "      <td>9</td>\n",
              "      <td>14</td>\n",
              "      <td>Female</td>\n",
              "      <td>1</td>\n",
              "    </tr>\n",
              "    <tr>\n",
              "      <th>1</th>\n",
              "      <td>10000002</td>\n",
              "      <td>30,000</td>\n",
              "      <td>4 years</td>\n",
              "      <td>Mortgage</td>\n",
              "      <td>NaN</td>\n",
              "      <td>VERIFIED - income</td>\n",
              "      <td>debt_consolidation</td>\n",
              "      <td>14.93</td>\n",
              "      <td>0</td>\n",
              "      <td>17.0</td>\n",
              "      <td>12</td>\n",
              "      <td>24</td>\n",
              "      <td>Female</td>\n",
              "      <td>3</td>\n",
              "    </tr>\n",
              "    <tr>\n",
              "      <th>2</th>\n",
              "      <td>10000003</td>\n",
              "      <td>24,725</td>\n",
              "      <td>7 years</td>\n",
              "      <td>Mortgage</td>\n",
              "      <td>75566.4</td>\n",
              "      <td>VERIFIED - income source</td>\n",
              "      <td>debt_consolidation</td>\n",
              "      <td>15.88</td>\n",
              "      <td>0</td>\n",
              "      <td>NaN</td>\n",
              "      <td>12</td>\n",
              "      <td>16</td>\n",
              "      <td>Male</td>\n",
              "      <td>3</td>\n",
              "    </tr>\n",
              "    <tr>\n",
              "      <th>3</th>\n",
              "      <td>10000004</td>\n",
              "      <td>16,000</td>\n",
              "      <td>&lt; 1 year</td>\n",
              "      <td>NaN</td>\n",
              "      <td>56160.0</td>\n",
              "      <td>VERIFIED - income source</td>\n",
              "      <td>debt_consolidation</td>\n",
              "      <td>14.34</td>\n",
              "      <td>3</td>\n",
              "      <td>NaN</td>\n",
              "      <td>16</td>\n",
              "      <td>22</td>\n",
              "      <td>Male</td>\n",
              "      <td>3</td>\n",
              "    </tr>\n",
              "    <tr>\n",
              "      <th>4</th>\n",
              "      <td>10000005</td>\n",
              "      <td>17,000</td>\n",
              "      <td>8 years</td>\n",
              "      <td>Own</td>\n",
              "      <td>96000.0</td>\n",
              "      <td>VERIFIED - income source</td>\n",
              "      <td>debt_consolidation</td>\n",
              "      <td>22.17</td>\n",
              "      <td>1</td>\n",
              "      <td>NaN</td>\n",
              "      <td>19</td>\n",
              "      <td>30</td>\n",
              "      <td>Female</td>\n",
              "      <td>1</td>\n",
              "    </tr>\n",
              "  </tbody>\n",
              "</table>\n",
              "</div>"
            ],
            "text/plain": [
              "    Loan_ID Loan_Amount_Requested  ...  Gender Interest_Rate\n",
              "0  10000001                 7,000  ...  Female             1\n",
              "1  10000002                30,000  ...  Female             3\n",
              "2  10000003                24,725  ...    Male             3\n",
              "3  10000004                16,000  ...    Male             3\n",
              "4  10000005                17,000  ...  Female             1\n",
              "\n",
              "[5 rows x 14 columns]"
            ]
          },
          "metadata": {
            "tags": []
          },
          "execution_count": 54
        }
      ]
    },
    {
      "cell_type": "markdown",
      "metadata": {
        "id": "N8q30849cCYi"
      },
      "source": [
        "description \n",
        "deliwuency <- In a financial sense, delinquency occurs as soon as a borrower misses a payment on a loan. In contrast, default occurs when a borrower fails to repay the loan as specified in the original contract"
      ]
    },
    {
      "cell_type": "code",
      "metadata": {
        "colab": {
          "base_uri": "https://localhost:8080/"
        },
        "id": "ihcfN7ZwZWnX",
        "outputId": "874d22b6-b1a0-469d-9d1b-07b744e54d5f"
      },
      "source": [
        "loans.shape"
      ],
      "execution_count": null,
      "outputs": [
        {
          "output_type": "execute_result",
          "data": {
            "text/plain": [
              "(164309, 14)"
            ]
          },
          "metadata": {
            "tags": []
          },
          "execution_count": 55
        }
      ]
    },
    {
      "cell_type": "code",
      "metadata": {
        "colab": {
          "base_uri": "https://localhost:8080/"
        },
        "id": "_DrSw7FOZjQP",
        "outputId": "eda83fb4-107b-4638-add3-dde3d747c18e"
      },
      "source": [
        "loans.isna().sum()"
      ],
      "execution_count": null,
      "outputs": [
        {
          "output_type": "execute_result",
          "data": {
            "text/plain": [
              "Loan_ID                        0\n",
              "Loan_Amount_Requested          0\n",
              "Length_Employed             7371\n",
              "Home_Owner                 25349\n",
              "Annual_Income              25102\n",
              "Income_Verified                0\n",
              "Purpose_Of_Loan                0\n",
              "Debt_To_Income                 0\n",
              "Inquiries_Last_6Mo             0\n",
              "Months_Since_Deliquency    88379\n",
              "Number_Open_Accounts           0\n",
              "Total_Accounts                 0\n",
              "Gender                         0\n",
              "Interest_Rate                  0\n",
              "dtype: int64"
            ]
          },
          "metadata": {
            "tags": []
          },
          "execution_count": 56
        }
      ]
    },
    {
      "cell_type": "markdown",
      "metadata": {
        "id": "vBXONyIMZ8gV"
      },
      "source": [
        "> A lot of null but cant be removed.\n",
        "\n",
        "* Length employed <- Some borrowere may have not been previously employed\n",
        "* Home owner <-\n",
        "* Annual Income <- \n",
        "* Months since deliquency <- There are customers who are timely in their repayments hence their count could be empty since they havent while those at o months could be in a deliquent state but have not yet exceeded 1 month. It could be floored up to 0, however this would imply deliquent users and non deliquent users have the same level of deliquency. a bit problematic"
      ]
    },
    {
      "cell_type": "code",
      "metadata": {
        "colab": {
          "base_uri": "https://localhost:8080/"
        },
        "id": "oYmXCezSLjtM",
        "outputId": "04c8955b-e3ee-42a6-af73-4466253ce254"
      },
      "source": [
        "(loans['Months_Since_Deliquency']).mean()"
      ],
      "execution_count": null,
      "outputs": [
        {
          "output_type": "execute_result",
          "data": {
            "text/plain": [
              "34.22935598577637"
            ]
          },
          "metadata": {
            "tags": []
          },
          "execution_count": 57
        }
      ]
    },
    {
      "cell_type": "code",
      "metadata": {
        "colab": {
          "base_uri": "https://localhost:8080/"
        },
        "id": "fT26_ViiZpCA",
        "outputId": "898aa8f0-d9b7-4dc5-e46c-127267cd5f7d"
      },
      "source": [
        "loans.duplicated().sum()"
      ],
      "execution_count": null,
      "outputs": [
        {
          "output_type": "execute_result",
          "data": {
            "text/plain": [
              "0"
            ]
          },
          "metadata": {
            "tags": []
          },
          "execution_count": 58
        }
      ]
    },
    {
      "cell_type": "markdown",
      "metadata": {
        "id": "A_v_nNvfZ6cG"
      },
      "source": [
        "> No duplicates"
      ]
    },
    {
      "cell_type": "code",
      "metadata": {
        "colab": {
          "base_uri": "https://localhost:8080/"
        },
        "id": "YPMCNgBdD7ut",
        "outputId": "aeff7fc3-4529-4c8e-ac58-359461e5e967"
      },
      "source": [
        "loans.dtypes"
      ],
      "execution_count": null,
      "outputs": [
        {
          "output_type": "execute_result",
          "data": {
            "text/plain": [
              "Loan_ID                      int64\n",
              "Loan_Amount_Requested       object\n",
              "Length_Employed             object\n",
              "Home_Owner                  object\n",
              "Annual_Income              float64\n",
              "Income_Verified             object\n",
              "Purpose_Of_Loan             object\n",
              "Debt_To_Income             float64\n",
              "Inquiries_Last_6Mo           int64\n",
              "Months_Since_Deliquency    float64\n",
              "Number_Open_Accounts         int64\n",
              "Total_Accounts               int64\n",
              "Gender                      object\n",
              "Interest_Rate                int64\n",
              "dtype: object"
            ]
          },
          "metadata": {
            "tags": []
          },
          "execution_count": 59
        }
      ]
    },
    {
      "cell_type": "code",
      "metadata": {
        "id": "YMRTWSqeGEZI"
      },
      "source": [
        "loans['Loan_Amount_Requested'] = loans['Loan_Amount_Requested'].str.replace(',', '')\n",
        "loans['Loan_Amount_Requested'] = loans['Loan_Amount_Requested'].astype('int')"
      ],
      "execution_count": null,
      "outputs": []
    },
    {
      "cell_type": "markdown",
      "metadata": {
        "id": "nVqkp6zxDLhR"
      },
      "source": [
        "## Checking for annomalies"
      ]
    },
    {
      "cell_type": "markdown",
      "metadata": {
        "id": "3QnOqvagRN-L"
      },
      "source": [
        "## Cleaning up"
      ]
    },
    {
      "cell_type": "code",
      "metadata": {
        "colab": {
          "base_uri": "https://localhost:8080/"
        },
        "id": "xrXX2dw3Mg3h",
        "outputId": "dc14e23d-13b2-4579-c400-e8a5259ae0ab"
      },
      "source": [
        "loans['Months_Since_Deliquency'].value_counts().head(20)"
      ],
      "execution_count": null,
      "outputs": [
        {
          "output_type": "execute_result",
          "data": {
            "text/plain": [
              "9.0     1518\n",
              "10.0    1510\n",
              "14.0    1487\n",
              "12.0    1484\n",
              "8.0     1474\n",
              "6.0     1440\n",
              "13.0    1436\n",
              "15.0    1433\n",
              "7.0     1416\n",
              "18.0    1390\n",
              "16.0    1360\n",
              "20.0    1333\n",
              "11.0    1327\n",
              "19.0    1325\n",
              "17.0    1316\n",
              "21.0    1297\n",
              "27.0    1255\n",
              "23.0    1224\n",
              "26.0    1189\n",
              "25.0    1189\n",
              "Name: Months_Since_Deliquency, dtype: int64"
            ]
          },
          "metadata": {
            "tags": []
          },
          "execution_count": 61
        }
      ]
    },
    {
      "cell_type": "code",
      "metadata": {
        "colab": {
          "base_uri": "https://localhost:8080/"
        },
        "id": "9Vt6qttGOfDz",
        "outputId": "2a0d00b4-1f2e-40db-a9f4-fc6cc88acade"
      },
      "source": [
        "loans['Months_Since_Deliquency'].mode()"
      ],
      "execution_count": null,
      "outputs": [
        {
          "output_type": "execute_result",
          "data": {
            "text/plain": [
              "0    9.0\n",
              "dtype: float64"
            ]
          },
          "metadata": {
            "tags": []
          },
          "execution_count": 62
        }
      ]
    },
    {
      "cell_type": "code",
      "metadata": {
        "colab": {
          "base_uri": "https://localhost:8080/"
        },
        "id": "KXMOhXRKNfeX",
        "outputId": "80ea93b6-4351-47e0-d90b-6a5ec13602d1"
      },
      "source": [
        "loans['Months_Since_Deliquency'].min()"
      ],
      "execution_count": null,
      "outputs": [
        {
          "output_type": "execute_result",
          "data": {
            "text/plain": [
              "0.0"
            ]
          },
          "metadata": {
            "tags": []
          },
          "execution_count": 63
        }
      ]
    },
    {
      "cell_type": "code",
      "metadata": {
        "id": "TRysKWcUzkDp"
      },
      "source": [
        "# Creating the classifications of the customers from \n",
        "def status(x):\n",
        "  if x<=12.0:\n",
        "    return 'Medium low risk'\n",
        "  elif ((x>12.0) & (x<=30.0)):\n",
        "    return 'Medium risk'\n",
        "  elif ((x>30.0) & (x<=50.0)):\n",
        "    return 'Medium high risk'\n",
        "  elif ((x>50.0) & (x<=72.0)):\n",
        "    return 'High risk'\n",
        "  elif x>72.0:\n",
        "    return 'Highest risk'\n",
        "  else:\n",
        "    return 'Low risk'"
      ],
      "execution_count": null,
      "outputs": []
    },
    {
      "cell_type": "code",
      "metadata": {
        "id": "LK8Eh18hzblT"
      },
      "source": [
        "loans['Risk level']=loans.apply(lambda x: status(x['Months_Since_Deliquency']),axis=1)"
      ],
      "execution_count": null,
      "outputs": []
    },
    {
      "cell_type": "code",
      "metadata": {
        "colab": {
          "base_uri": "https://localhost:8080/"
        },
        "id": "AJWoJXSbrm1A",
        "outputId": "e8627fd0-5592-4d81-fc21-502057e0353b"
      },
      "source": [
        "loans['Months_Since_Deliquency'].isna().sum()"
      ],
      "execution_count": null,
      "outputs": [
        {
          "output_type": "execute_result",
          "data": {
            "text/plain": [
              "88379"
            ]
          },
          "metadata": {
            "tags": []
          },
          "execution_count": 66
        }
      ]
    },
    {
      "cell_type": "code",
      "metadata": {
        "id": "4mAWOMPJXX9f",
        "colab": {
          "base_uri": "https://localhost:8080/"
        },
        "outputId": "770114ee-640c-471f-dabb-85eb032beb74"
      },
      "source": [
        "loans['Loan_Amount_Requested'].value_counts()"
      ],
      "execution_count": null,
      "outputs": [
        {
          "output_type": "execute_result",
          "data": {
            "text/plain": [
              "10000    11622\n",
              "12000     9018\n",
              "15000     8459\n",
              "20000     7993\n",
              "35000     5844\n",
              "         ...  \n",
              "33100        1\n",
              "29650        1\n",
              "25425        1\n",
              "31925        1\n",
              "31675        1\n",
              "Name: Loan_Amount_Requested, Length: 1290, dtype: int64"
            ]
          },
          "metadata": {
            "tags": []
          },
          "execution_count": 67
        }
      ]
    },
    {
      "cell_type": "code",
      "metadata": {
        "id": "afwULFpqJjIW",
        "colab": {
          "base_uri": "https://localhost:8080/",
          "height": 585
        },
        "outputId": "fcc21077-f9d5-48a7-beaf-640747f495f3"
      },
      "source": [
        "#importing libraries\n",
        "import matplotlib.pyplot as plt\n",
        "import matplotlib.animation as animation\n",
        "\n",
        "\n",
        "fig = plt.figure()\n",
        "#creating a subplot \n",
        "ax1 = fig.add_subplot(1,1,1)\n",
        "\n",
        "def animate(i):\n",
        "    data = open('stock.txt','r').read()\n",
        "    lines = data.split('\\n')\n",
        "    xs = []\n",
        "    ys = []\n",
        "   \n",
        "    for line in lines:\n",
        "        x, y = line.split(',') # Delimiter is comma    \n",
        "        xs.append(float(x))\n",
        "        ys.append(float(y))\n",
        "   \n",
        "    ax1.clear()\n",
        "    ax1.plot(xs, ys)\n",
        "\n",
        "    plt.xlabel('Date')\n",
        "    plt.ylabel('Price')\n",
        "    plt.title('Live graph with matplotlib')\t\n",
        "\t\n",
        "    \n",
        "ani = animation.FuncAnimation(fig, animate, interval=1000) \n",
        "plt.show()"
      ],
      "execution_count": null,
      "outputs": [
        {
          "output_type": "stream",
          "text": [
            "Traceback (most recent call last):\n",
            "  File \"/usr/local/lib/python3.6/dist-packages/matplotlib/cbook/__init__.py\", line 196, in process\n",
            "    func(*args, **kwargs)\n",
            "  File \"/usr/local/lib/python3.6/dist-packages/matplotlib/animation.py\", line 951, in _start\n",
            "    self._init_draw()\n",
            "  File \"/usr/local/lib/python3.6/dist-packages/matplotlib/animation.py\", line 1743, in _init_draw\n",
            "    self._draw_frame(next(self.new_frame_seq()))\n",
            "  File \"/usr/local/lib/python3.6/dist-packages/matplotlib/animation.py\", line 1766, in _draw_frame\n",
            "    self._drawn_artists = self._func(framedata, *self._args)\n",
            "  File \"<ipython-input-68-7f0d6bc79ca7>\", line 11, in animate\n",
            "    data = open('stock.txt','r').read()\n",
            "FileNotFoundError: [Errno 2] No such file or directory: 'stock.txt'\n"
          ],
          "name": "stderr"
        },
        {
          "output_type": "display_data",
          "data": {
            "image/png": "[encoded data removed]",
            "text/plain": [
              "<Figure size 864x432 with 1 Axes>"
            ]
          },
          "metadata": {
            "tags": []
          }
        }
      ]
    },
    {
      "cell_type": "markdown",
      "metadata": {
        "id": "5leJWmYcJC8s"
      },
      "source": [
        "## Checking for Outliers"
      ]
    },
    {
      "cell_type": "code",
      "metadata": {
        "id": "NRdeDOYfCmgB",
        "colab": {
          "base_uri": "https://localhost:8080/",
          "height": 465
        },
        "outputId": "b45a84cd-5dc6-4ca6-f275-eb74d0228338"
      },
      "source": [
        "sns.boxplot(loans['Loan_Amount_Requested'])"
      ],
      "execution_count": null,
      "outputs": [
        {
          "output_type": "stream",
          "text": [
            "/usr/local/lib/python3.6/dist-packages/seaborn/_decorators.py:43: FutureWarning: Pass the following variable as a keyword arg: x. From version 0.12, the only valid positional argument will be `data`, and passing other arguments without an explicit keyword will result in an error or misinterpretation.\n",
            "  FutureWarning\n"
          ],
          "name": "stderr"
        },
        {
          "output_type": "execute_result",
          "data": {
            "text/plain": [
              "<matplotlib.axes._subplots.AxesSubplot at 0x7f1bec3ce320>"
            ]
          },
          "metadata": {
            "tags": []
          },
          "execution_count": 69
        },
        {
          "output_type": "display_data",
          "data": {
            "image/png": "[encoded data removed]",
            "text/plain": [
              "<Figure size 864x432 with 1 Axes>"
            ]
          },
          "metadata": {
            "tags": []
          }
        }
      ]
    },
    {
      "cell_type": "code",
      "metadata": {
        "id": "1_eDIHjqB_Tk",
        "colab": {
          "base_uri": "https://localhost:8080/",
          "height": 394
        },
        "outputId": "68d469c5-e285-45ae-d26c-42561a96eacc"
      },
      "source": [
        "sns.boxplot(x=loans['Annual_Income'])\n",
        "sns.despine()"
      ],
      "execution_count": null,
      "outputs": [
        {
          "output_type": "display_data",
          "data": {
            "image/png": "[encoded data removed]",
            "text/plain": [
              "<Figure size 864x432 with 1 Axes>"
            ]
          },
          "metadata": {
            "tags": []
          }
        }
      ]
    },
    {
      "cell_type": "code",
      "metadata": {
        "id": "QBSWIuMUCaDA",
        "colab": {
          "base_uri": "https://localhost:8080/",
          "height": 411
        },
        "outputId": "d18eae15-f6c4-4845-aae5-83c6ef30a0b4"
      },
      "source": [
        "sns.boxplot(x=loans['Months_Since_Deliquency'])"
      ],
      "execution_count": null,
      "outputs": [
        {
          "output_type": "execute_result",
          "data": {
            "text/plain": [
              "<matplotlib.axes._subplots.AxesSubplot at 0x7f1bec24fa90>"
            ]
          },
          "metadata": {
            "tags": []
          },
          "execution_count": 71
        },
        {
          "output_type": "display_data",
          "data": {
            "image/png": "[encoded data removed]",
            "text/plain": [
              "<Figure size 864x432 with 1 Axes>"
            ]
          },
          "metadata": {
            "tags": []
          }
        }
      ]
    },
    {
      "cell_type": "code",
      "metadata": {
        "id": "dP8v_HitCnkj",
        "colab": {
          "base_uri": "https://localhost:8080/",
          "height": 411
        },
        "outputId": "30071acd-6e4e-48f9-cb8d-a48d2300f081"
      },
      "source": [
        "sns.boxplot(x=loans['Number_Open_Accounts'])"
      ],
      "execution_count": null,
      "outputs": [
        {
          "output_type": "execute_result",
          "data": {
            "text/plain": [
              "<matplotlib.axes._subplots.AxesSubplot at 0x7f1bec35bcf8>"
            ]
          },
          "metadata": {
            "tags": []
          },
          "execution_count": 72
        },
        {
          "output_type": "display_data",
          "data": {
            "image/png": "[encoded data removed]",
            "text/plain": [
              "<Figure size 864x432 with 1 Axes>"
            ]
          },
          "metadata": {
            "tags": []
          }
        }
      ]
    },
    {
      "cell_type": "code",
      "metadata": {
        "id": "D2J4nf97Cmwe",
        "colab": {
          "base_uri": "https://localhost:8080/",
          "height": 411
        },
        "outputId": "e3478aed-288f-4add-b26d-113e31ed5126"
      },
      "source": [
        "sns.boxplot(x=loans['Total_Accounts'])"
      ],
      "execution_count": null,
      "outputs": [
        {
          "output_type": "execute_result",
          "data": {
            "text/plain": [
              "<matplotlib.axes._subplots.AxesSubplot at 0x7f1beaa49a58>"
            ]
          },
          "metadata": {
            "tags": []
          },
          "execution_count": 73
        },
        {
          "output_type": "display_data",
          "data": {
            "image/png": "[encoded data removed]",
            "text/plain": [
              "<Figure size 864x432 with 1 Axes>"
            ]
          },
          "metadata": {
            "tags": []
          }
        }
      ]
    },
    {
      "cell_type": "markdown",
      "metadata": {
        "id": "FP_kRlFZJjnk"
      },
      "source": [
        "#"
      ]
    },
    {
      "cell_type": "code",
      "metadata": {
        "id": "v3VZZvIkph5C"
      },
      "source": [
        "sns.set(rc={'figure.figsize':(12,6)},style=\"white\")"
      ],
      "execution_count": null,
      "outputs": []
    },
    {
      "cell_type": "markdown",
      "metadata": {
        "id": "pERD7rY8Vou2"
      },
      "source": [
        "## Exploratory Data Analysis"
      ]
    },
    {
      "cell_type": "markdown",
      "metadata": {
        "id": "EaCsJsxDVzTV"
      },
      "source": [
        "### Univariate Analysis"
      ]
    },
    {
      "cell_type": "code",
      "metadata": {
        "colab": {
          "base_uri": "https://localhost:8080/",
          "height": 326
        },
        "id": "bD7ImPDrjCzd",
        "outputId": "09530db2-0847-43ae-f68f-8dd527c95f2a"
      },
      "source": [
        "loans.head()"
      ],
      "execution_count": null,
      "outputs": [
        {
          "output_type": "execute_result",
          "data": {
            "text/html": [
              "<div>\n",
              "<style scoped>\n",
              "    .dataframe tbody tr th:only-of-type {\n",
              "        vertical-align: middle;\n",
              "    }\n",
              "\n",
              "    .dataframe tbody tr th {\n",
              "        vertical-align: top;\n",
              "    }\n",
              "\n",
              "    .dataframe thead th {\n",
              "        text-align: right;\n",
              "    }\n",
              "</style>\n",
              "<table border=\"1\" class=\"dataframe\">\n",
              "  <thead>\n",
              "    <tr style=\"text-align: right;\">\n",
              "      <th></th>\n",
              "      <th>Loan_ID</th>\n",
              "      <th>Loan_Amount_Requested</th>\n",
              "      <th>Length_Employed</th>\n",
              "      <th>Home_Owner</th>\n",
              "      <th>Annual_Income</th>\n",
              "      <th>Income_Verified</th>\n",
              "      <th>Purpose_Of_Loan</th>\n",
              "      <th>Debt_To_Income</th>\n",
              "      <th>Inquiries_Last_6Mo</th>\n",
              "      <th>Months_Since_Deliquency</th>\n",
              "      <th>Number_Open_Accounts</th>\n",
              "      <th>Total_Accounts</th>\n",
              "      <th>Gender</th>\n",
              "      <th>Interest_Rate</th>\n",
              "      <th>Risk level</th>\n",
              "    </tr>\n",
              "  </thead>\n",
              "  <tbody>\n",
              "    <tr>\n",
              "      <th>0</th>\n",
              "      <td>10000001</td>\n",
              "      <td>7000</td>\n",
              "      <td>&lt; 1 year</td>\n",
              "      <td>Rent</td>\n",
              "      <td>68000.0</td>\n",
              "      <td>not verified</td>\n",
              "      <td>car</td>\n",
              "      <td>18.37</td>\n",
              "      <td>0</td>\n",
              "      <td>NaN</td>\n",
              "      <td>9</td>\n",
              "      <td>14</td>\n",
              "      <td>Female</td>\n",
              "      <td>1</td>\n",
              "      <td>Low risk</td>\n",
              "    </tr>\n",
              "    <tr>\n",
              "      <th>1</th>\n",
              "      <td>10000002</td>\n",
              "      <td>30000</td>\n",
              "      <td>4 years</td>\n",
              "      <td>Mortgage</td>\n",
              "      <td>NaN</td>\n",
              "      <td>VERIFIED - income</td>\n",
              "      <td>debt_consolidation</td>\n",
              "      <td>14.93</td>\n",
              "      <td>0</td>\n",
              "      <td>17.0</td>\n",
              "      <td>12</td>\n",
              "      <td>24</td>\n",
              "      <td>Female</td>\n",
              "      <td>3</td>\n",
              "      <td>Medium risk</td>\n",
              "    </tr>\n",
              "    <tr>\n",
              "      <th>2</th>\n",
              "      <td>10000003</td>\n",
              "      <td>24725</td>\n",
              "      <td>7 years</td>\n",
              "      <td>Mortgage</td>\n",
              "      <td>75566.4</td>\n",
              "      <td>VERIFIED - income source</td>\n",
              "      <td>debt_consolidation</td>\n",
              "      <td>15.88</td>\n",
              "      <td>0</td>\n",
              "      <td>NaN</td>\n",
              "      <td>12</td>\n",
              "      <td>16</td>\n",
              "      <td>Male</td>\n",
              "      <td>3</td>\n",
              "      <td>Low risk</td>\n",
              "    </tr>\n",
              "    <tr>\n",
              "      <th>3</th>\n",
              "      <td>10000004</td>\n",
              "      <td>16000</td>\n",
              "      <td>&lt; 1 year</td>\n",
              "      <td>NaN</td>\n",
              "      <td>56160.0</td>\n",
              "      <td>VERIFIED - income source</td>\n",
              "      <td>debt_consolidation</td>\n",
              "      <td>14.34</td>\n",
              "      <td>3</td>\n",
              "      <td>NaN</td>\n",
              "      <td>16</td>\n",
              "      <td>22</td>\n",
              "      <td>Male</td>\n",
              "      <td>3</td>\n",
              "      <td>Low risk</td>\n",
              "    </tr>\n",
              "    <tr>\n",
              "      <th>4</th>\n",
              "      <td>10000005</td>\n",
              "      <td>17000</td>\n",
              "      <td>8 years</td>\n",
              "      <td>Own</td>\n",
              "      <td>96000.0</td>\n",
              "      <td>VERIFIED - income source</td>\n",
              "      <td>debt_consolidation</td>\n",
              "      <td>22.17</td>\n",
              "      <td>1</td>\n",
              "      <td>NaN</td>\n",
              "      <td>19</td>\n",
              "      <td>30</td>\n",
              "      <td>Female</td>\n",
              "      <td>1</td>\n",
              "      <td>Low risk</td>\n",
              "    </tr>\n",
              "  </tbody>\n",
              "</table>\n",
              "</div>"
            ],
            "text/plain": [
              "    Loan_ID  Loan_Amount_Requested  ... Interest_Rate   Risk level\n",
              "0  10000001                   7000  ...             1     Low risk\n",
              "1  10000002                  30000  ...             3  Medium risk\n",
              "2  10000003                  24725  ...             3     Low risk\n",
              "3  10000004                  16000  ...             3     Low risk\n",
              "4  10000005                  17000  ...             1     Low risk\n",
              "\n",
              "[5 rows x 15 columns]"
            ]
          },
          "metadata": {
            "tags": []
          },
          "execution_count": 75
        }
      ]
    },
    {
      "cell_type": "code",
      "metadata": {
        "id": "mANDo9vLmyAc",
        "colab": {
          "base_uri": "https://localhost:8080/",
          "height": 394
        },
        "outputId": "bbb65f43-68ce-41e1-a8ca-e5024615e141"
      },
      "source": [
        "# Plotting bar chart to show length employed\n",
        "sns.countplot(x='Length_Employed',data=loans,palette='mako')\n",
        "sns.despine()"
      ],
      "execution_count": null,
      "outputs": [
        {
          "output_type": "display_data",
          "data": {
            "image/png": "[encoded data removed]",
            "text/plain": [
              "<Figure size 864x432 with 1 Axes>"
            ]
          },
          "metadata": {
            "tags": []
          }
        }
      ]
    },
    {
      "cell_type": "markdown",
      "metadata": {
        "id": "nFfvoyjzbTdg"
      },
      "source": [
        "* 10+ years were the highest to request for a loan "
      ]
    },
    {
      "cell_type": "code",
      "metadata": {
        "id": "R3hGqG5gqHLw",
        "colab": {
          "base_uri": "https://localhost:8080/",
          "height": 394
        },
        "outputId": "1dc0e929-bdca-49a6-9a70-790e153184c8"
      },
      "source": [
        "# Plotting bar chart to show home ownership\n",
        "sns.countplot(x='Home_Owner',data=loans,palette='mako')\n",
        "sns.despine()"
      ],
      "execution_count": null,
      "outputs": [
        {
          "output_type": "display_data",
          "data": {
            "image/png": "[encoded data removed]",
            "text/plain": [
              "<Figure size 864x432 with 1 Axes>"
            ]
          },
          "metadata": {
            "tags": []
          }
        }
      ]
    },
    {
      "cell_type": "markdown",
      "metadata": {
        "id": "qYmwm3EObta1"
      },
      "source": [
        "* The Mortgage home owners are the highest and owned home_owners lowest"
      ]
    },
    {
      "cell_type": "code",
      "metadata": {
        "id": "zqvWbU0lqYRx",
        "colab": {
          "base_uri": "https://localhost:8080/",
          "height": 394
        },
        "outputId": "5380e76e-b764-40a4-de4c-f7169778cdee"
      },
      "source": [
        "# Plotting bar chart to show income verified \n",
        "sns.countplot(x='Income_Verified',data=loans,palette='mako')\n",
        "sns.despine()"
      ],
      "execution_count": null,
      "outputs": [
        {
          "output_type": "display_data",
          "data": {
            "image/png": "[encoded data removed]",
            "text/plain": [
              "<Figure size 864x432 with 1 Axes>"
            ]
          },
          "metadata": {
            "tags": []
          }
        }
      ]
    },
    {
      "cell_type": "markdown",
      "metadata": {
        "id": "Jjjkol_3cKq-"
      },
      "source": [
        "* On verified income individuals the ones who have Verified income have the highest count and not verified lowest count. "
      ]
    },
    {
      "cell_type": "code",
      "metadata": {
        "id": "U_AsOTjs9Jtq",
        "colab": {
          "base_uri": "https://localhost:8080/"
        },
        "outputId": "66ff26fb-4024-4514-a675-4130d7fa2c5c"
      },
      "source": [
        "# Frequency distribution table for purpose of loan attribute\n",
        "loans['Purpose_Of_Loan'].value_counts()"
      ],
      "execution_count": null,
      "outputs": [
        {
          "output_type": "execute_result",
          "data": {
            "text/plain": [
              "debt_consolidation    97101\n",
              "credit_card           36684\n",
              "home_improvement       9269\n",
              "other                  8346\n",
              "major_purchase         3435\n",
              "small_business         2392\n",
              "car                    1885\n",
              "medical                1541\n",
              "moving                  974\n",
              "vacation                837\n",
              "wedding                 828\n",
              "house                   773\n",
              "renewable_energy        123\n",
              "educational             121\n",
              "Name: Purpose_Of_Loan, dtype: int64"
            ]
          },
          "metadata": {
            "tags": []
          },
          "execution_count": 79
        }
      ]
    },
    {
      "cell_type": "markdown",
      "metadata": {
        "id": "Wr7iKv_lcsc9"
      },
      "source": [
        "* From the value counts the loans were purposely for debt consolidation. "
      ]
    },
    {
      "cell_type": "code",
      "metadata": {
        "id": "0tRS14u9qgH4",
        "colab": {
          "base_uri": "https://localhost:8080/",
          "height": 394
        },
        "outputId": "ada6c6c8-0467-4d43-b506-c1822a817bb7"
      },
      "source": [
        "# Plotting bar chart to show purpose of loan \n",
        "sns.countplot(x='Purpose_Of_Loan',data=loans,palette='mako')\n",
        "sns.despine()"
      ],
      "execution_count": null,
      "outputs": [
        {
          "output_type": "display_data",
          "data": {
            "image/png": "[encoded data removed]",
            "text/plain": [
              "<Figure size 864x432 with 1 Axes>"
            ]
          },
          "metadata": {
            "tags": []
          }
        }
      ]
    },
    {
      "cell_type": "markdown",
      "metadata": {
        "id": "ospDJtdBeMS0"
      },
      "source": [
        "* Debt_consolidatiion had the highest count refering that loans taken were purposely for debt consolidation. "
      ]
    },
    {
      "cell_type": "code",
      "metadata": {
        "id": "lpcFDWG5qjBH",
        "colab": {
          "base_uri": "https://localhost:8080/",
          "height": 394
        },
        "outputId": "d452c27b-5534-4fb6-b4f1-036a54eb9bb0"
      },
      "source": [
        "# Plotting bar chart to show inquiries in last 6 months. \n",
        "sns.countplot(x='Inquiries_Last_6Mo',data=loans,palette='mako')\n",
        "sns.despine()"
      ],
      "execution_count": null,
      "outputs": [
        {
          "output_type": "display_data",
          "data": {
            "image/png": "[encoded data removed]",
            "text/plain": [
              "<Figure size 864x432 with 1 Axes>"
            ]
          },
          "metadata": {
            "tags": []
          }
        }
      ]
    },
    {
      "cell_type": "markdown",
      "metadata": {
        "id": "k8HoW0enegnp"
      },
      "source": [
        "* Most of the enquiries are done during the initial months, decreasing towards the sixth month."
      ]
    },
    {
      "cell_type": "code",
      "metadata": {
        "colab": {
          "base_uri": "https://localhost:8080/",
          "height": 377
        },
        "id": "5aRIl2Nti16D",
        "outputId": "5d04a89f-062a-4736-b87b-696821c18476"
      },
      "source": [
        "#Pie chart showing percentage distribution of gender variable\n",
        "\n",
        "Gender = loans['Gender'].value_counts()\n",
        "labels = loans.Gender.unique()\n",
        "explode = (0.1, 0) \n",
        "plt.pie(Gender, labels = labels, explode = explode,autopct = '%1.1f%%', shadow = True, startangle = 140)\n",
        "plt.axis('equal')\n",
        "plt.title('Pie Chart of Gender')\n",
        "plt.show()"
      ],
      "execution_count": null,
      "outputs": [
        {
          "output_type": "display_data",
          "data": {
            "image/png": "[encoded data removed]",
            "text/plain": [
              "<Figure size 864x432 with 1 Axes>"
            ]
          },
          "metadata": {
            "tags": []
          }
        }
      ]
    },
    {
      "cell_type": "markdown",
      "metadata": {
        "id": "2ZxpWcdSfBIS"
      },
      "source": [
        "* Males have the highest percentage in loan applications with a 71 percent higher than females with percentage of 29 percent."
      ]
    },
    {
      "cell_type": "code",
      "metadata": {
        "id": "gLZ_l02FZ5He",
        "colab": {
          "base_uri": "https://localhost:8080/",
          "height": 411
        },
        "outputId": "165b70ad-dfc9-45bf-d885-59f76ae4df95"
      },
      "source": [
        "# Plotting histogram for Total Accounts \n",
        "sns.histplot(loans['Total_Accounts'])"
      ],
      "execution_count": null,
      "outputs": [
        {
          "output_type": "execute_result",
          "data": {
            "text/plain": [
              "<matplotlib.axes._subplots.AxesSubplot at 0x7f1bea853f60>"
            ]
          },
          "metadata": {
            "tags": []
          },
          "execution_count": 83
        },
        {
          "output_type": "display_data",
          "data": {
            "image/png": "[encoded data removed]",
            "text/plain": [
              "<Figure size 864x432 with 1 Axes>"
            ]
          },
          "metadata": {
            "tags": []
          }
        }
      ]
    },
    {
      "cell_type": "code",
      "metadata": {
        "id": "hwz745zy_OH9",
        "colab": {
          "base_uri": "https://localhost:8080/",
          "height": 394
        },
        "outputId": "5510030d-c398-4a2d-b87f-34b19ee1ae89"
      },
      "source": [
        "# Plotting bar chart to show Loan amount requested\n",
        "sns.histplot(x='Loan_Amount_Requested',data=loans,palette='mako',bins=30)\n",
        "sns.despine()"
      ],
      "execution_count": null,
      "outputs": [
        {
          "output_type": "display_data",
          "data": {
            "image/png": "[encoded data removed]",
            "text/plain": [
              "<Figure size 864x432 with 1 Axes>"
            ]
          },
          "metadata": {
            "tags": []
          }
        }
      ]
    },
    {
      "cell_type": "markdown",
      "metadata": {
        "id": "v6qGmU8SfQ_l"
      },
      "source": [
        "* The most loan Amount value requested is 10000. "
      ]
    },
    {
      "cell_type": "markdown",
      "metadata": {
        "id": "S1WKCaEsPlns"
      },
      "source": [
        "#####Measures of Central Tendency"
      ]
    },
    {
      "cell_type": "code",
      "metadata": {
        "colab": {
          "base_uri": "https://localhost:8080/"
        },
        "id": "QU6vN1mzPOG-",
        "outputId": "30ce0640-79f1-4788-b787-b29f301cc1b1"
      },
      "source": [
        "# mean, mode and median Annual income\n",
        "\n",
        "print('Mean Annual income is ' + str(loans.Annual_Income.mean()))\n",
        "print('Median Annual income is ' + str(loans.Annual_Income.median()))\n",
        "print('Mode Annual income is ' + str(loans.Annual_Income.mode()))"
      ],
      "execution_count": null,
      "outputs": [
        {
          "output_type": "stream",
          "text": [
            "Mean Annual income is 73331.15943386468\n",
            "Median Annual income is 63000.0\n",
            "Mode Annual income is 0    60000.0\n",
            "dtype: float64\n"
          ],
          "name": "stdout"
        }
      ]
    },
    {
      "cell_type": "code",
      "metadata": {
        "colab": {
          "base_uri": "https://localhost:8080/"
        },
        "id": "zU967d8qRyuL",
        "outputId": "9f2fee1b-28d1-4959-a31d-951ade63f79a"
      },
      "source": [
        "# mean, mode and median Total accounts\n",
        "\n",
        "print('Mean  Total accounts is ' + str(loans.Total_Accounts.mean()))\n",
        "print('Median Total accounts is ' + str(loans.Total_Accounts.median()))\n",
        "print('Mode  Total accounts is ' + str(loans.Total_Accounts.mode()))"
      ],
      "execution_count": null,
      "outputs": [
        {
          "output_type": "stream",
          "text": [
            "Mean  Total accounts is 25.06766519180325\n",
            "Median Total accounts is 23.0\n",
            "Mode  Total accounts is 0    21\n",
            "dtype: int64\n"
          ],
          "name": "stdout"
        }
      ]
    },
    {
      "cell_type": "code",
      "metadata": {
        "colab": {
          "base_uri": "https://localhost:8080/",
          "height": 297
        },
        "id": "14uFmJ0Yq1ON",
        "outputId": "add6cee5-4b6b-4c33-eda2-ed9436981747"
      },
      "source": [
        "#checking for measures of central tendency of relevant columns\n",
        "loans = loans[['Loan_Amount_Requested','Annual_Income','Inquiries_Last_6Mo','Number_Open_Accounts', 'Total_Accounts']]\n",
        "loans.describe()"
      ],
      "execution_count": null,
      "outputs": [
        {
          "output_type": "execute_result",
          "data": {
            "text/html": [
              "<div>\n",
              "<style scoped>\n",
              "    .dataframe tbody tr th:only-of-type {\n",
              "        vertical-align: middle;\n",
              "    }\n",
              "\n",
              "    .dataframe tbody tr th {\n",
              "        vertical-align: top;\n",
              "    }\n",
              "\n",
              "    .dataframe thead th {\n",
              "        text-align: right;\n",
              "    }\n",
              "</style>\n",
              "<table border=\"1\" class=\"dataframe\">\n",
              "  <thead>\n",
              "    <tr style=\"text-align: right;\">\n",
              "      <th></th>\n",
              "      <th>Loan_Amount_Requested</th>\n",
              "      <th>Annual_Income</th>\n",
              "      <th>Inquiries_Last_6Mo</th>\n",
              "      <th>Number_Open_Accounts</th>\n",
              "      <th>Total_Accounts</th>\n",
              "    </tr>\n",
              "  </thead>\n",
              "  <tbody>\n",
              "    <tr>\n",
              "      <th>count</th>\n",
              "      <td>164309.00000</td>\n",
              "      <td>1.392070e+05</td>\n",
              "      <td>164309.000000</td>\n",
              "      <td>164309.000000</td>\n",
              "      <td>164309.000000</td>\n",
              "    </tr>\n",
              "    <tr>\n",
              "      <th>mean</th>\n",
              "      <td>14349.33692</td>\n",
              "      <td>7.333116e+04</td>\n",
              "      <td>0.781698</td>\n",
              "      <td>11.193818</td>\n",
              "      <td>25.067665</td>\n",
              "    </tr>\n",
              "    <tr>\n",
              "      <th>std</th>\n",
              "      <td>8281.86870</td>\n",
              "      <td>6.037750e+04</td>\n",
              "      <td>1.034747</td>\n",
              "      <td>4.991813</td>\n",
              "      <td>11.583067</td>\n",
              "    </tr>\n",
              "    <tr>\n",
              "      <th>min</th>\n",
              "      <td>500.00000</td>\n",
              "      <td>4.000000e+03</td>\n",
              "      <td>0.000000</td>\n",
              "      <td>0.000000</td>\n",
              "      <td>2.000000</td>\n",
              "    </tr>\n",
              "    <tr>\n",
              "      <th>25%</th>\n",
              "      <td>8000.00000</td>\n",
              "      <td>4.500000e+04</td>\n",
              "      <td>0.000000</td>\n",
              "      <td>8.000000</td>\n",
              "      <td>17.000000</td>\n",
              "    </tr>\n",
              "    <tr>\n",
              "      <th>50%</th>\n",
              "      <td>12075.00000</td>\n",
              "      <td>6.300000e+04</td>\n",
              "      <td>0.000000</td>\n",
              "      <td>10.000000</td>\n",
              "      <td>23.000000</td>\n",
              "    </tr>\n",
              "    <tr>\n",
              "      <th>75%</th>\n",
              "      <td>20000.00000</td>\n",
              "      <td>8.869750e+04</td>\n",
              "      <td>1.000000</td>\n",
              "      <td>14.000000</td>\n",
              "      <td>32.000000</td>\n",
              "    </tr>\n",
              "    <tr>\n",
              "      <th>max</th>\n",
              "      <td>35000.00000</td>\n",
              "      <td>7.500000e+06</td>\n",
              "      <td>8.000000</td>\n",
              "      <td>76.000000</td>\n",
              "      <td>156.000000</td>\n",
              "    </tr>\n",
              "  </tbody>\n",
              "</table>\n",
              "</div>"
            ],
            "text/plain": [
              "       Loan_Amount_Requested  ...  Total_Accounts\n",
              "count           164309.00000  ...   164309.000000\n",
              "mean             14349.33692  ...       25.067665\n",
              "std               8281.86870  ...       11.583067\n",
              "min                500.00000  ...        2.000000\n",
              "25%               8000.00000  ...       17.000000\n",
              "50%              12075.00000  ...       23.000000\n",
              "75%              20000.00000  ...       32.000000\n",
              "max              35000.00000  ...      156.000000\n",
              "\n",
              "[8 rows x 5 columns]"
            ]
          },
          "metadata": {
            "tags": []
          },
          "execution_count": 87
        }
      ]
    }
  ]
}